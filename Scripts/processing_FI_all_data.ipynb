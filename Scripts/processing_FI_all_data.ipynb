{
 "cells": [
  {
   "cell_type": "markdown",
   "id": "d1814b74",
   "metadata": {},
   "source": [
    "# Combining all datasets into one single database\n",
    "\n",
    "### This notebook works with multiple datasets of FI (microthermometry, Raman, and LAICPMS)\n",
    "\n",
    "The datasets are processed by their respective scripts, and are here combined into one single database containing all the data for each FI"
   ]
  },
  {
   "cell_type": "code",
   "execution_count": 1,
   "id": "f674ada0",
   "metadata": {},
   "outputs": [],
   "source": [
    "# ---------------- processing FI data from raw data to combined database\n",
    "        \n",
    "# --- import modules\n",
    "import os\n",
    "import glob\n",
    "\n",
    "import pandas as pd\n",
    "import numpy as np # For data manipulation\n",
    "\n",
    "import matplotlib.pyplot as plt # For plotting\n",
    "import plotly.express as px #For plotting\n",
    "\n",
    "\n",
    "# --- set working directory\n",
    "os.chdir(\"..\") #move wd to one folder up of the script path\n",
    "\n",
    "root_dir = os.getcwd() #save the current workind directory (one folder up to the script) as root directory\n",
    "\n",
    "# set specific directories for each analytical dataset\n",
    "Termo_dir = root_dir + \"/Data/2-microthermometry/\"\n",
    "Raman_dir = root_dir + \"/Data/3-Raman/\"\n",
    "LA_dir = root_dir + \"/Data/4-LAICPMS/\""
   ]
  },
  {
   "cell_type": "markdown",
   "id": "912c5926",
   "metadata": {},
   "source": [
    "# Microthermometry data"
   ]
  },
  {
   "cell_type": "code",
   "execution_count": 3,
   "id": "fde56d51",
   "metadata": {},
   "outputs": [
    {
     "data": {
      "text/html": [
       "<div>\n",
       "<style scoped>\n",
       "    .dataframe tbody tr th:only-of-type {\n",
       "        vertical-align: middle;\n",
       "    }\n",
       "\n",
       "    .dataframe tbody tr th {\n",
       "        vertical-align: top;\n",
       "    }\n",
       "\n",
       "    .dataframe thead th {\n",
       "        text-align: right;\n",
       "    }\n",
       "</style>\n",
       "<table border=\"1\" class=\"dataframe\">\n",
       "  <thead>\n",
       "    <tr style=\"text-align: right;\">\n",
       "      <th></th>\n",
       "      <th>sample</th>\n",
       "      <th>piece</th>\n",
       "      <th>field</th>\n",
       "      <th>analysis</th>\n",
       "      <th>Host</th>\n",
       "      <th>Length</th>\n",
       "      <th>Width</th>\n",
       "      <th>Phases</th>\n",
       "      <th>VL (%)</th>\n",
       "      <th>VV (%)</th>\n",
       "      <th>Tm CO2</th>\n",
       "      <th>Te</th>\n",
       "      <th>Tm Hh</th>\n",
       "      <th>Tm H2O</th>\n",
       "      <th>Tm CL</th>\n",
       "      <th>Th CO2</th>\n",
       "      <th>Hmg Mode</th>\n",
       "      <th>salinity(NaCleq wt%)</th>\n",
       "      <th>salChen(NaCleq wt%)</th>\n",
       "      <th>salBod(NaCleq%)</th>\n",
       "    </tr>\n",
       "  </thead>\n",
       "  <tbody>\n",
       "    <tr>\n",
       "      <th>1</th>\n",
       "      <td>BU18FA22</td>\n",
       "      <td>A</td>\n",
       "      <td>ff1</td>\n",
       "      <td>fi01</td>\n",
       "      <td>quartz</td>\n",
       "      <td>9.1</td>\n",
       "      <td>7.4</td>\n",
       "      <td>L - V</td>\n",
       "      <td>75.0</td>\n",
       "      <td>25.0</td>\n",
       "      <td>-57.453042</td>\n",
       "      <td>-62.880406</td>\n",
       "      <td>NaN</td>\n",
       "      <td>NaN</td>\n",
       "      <td>NaN</td>\n",
       "      <td>NaN</td>\n",
       "      <td>NaN</td>\n",
       "      <td>NaN</td>\n",
       "      <td>NaN</td>\n",
       "      <td>NaN</td>\n",
       "    </tr>\n",
       "    <tr>\n",
       "      <th>2</th>\n",
       "      <td>BU18FA22</td>\n",
       "      <td>A</td>\n",
       "      <td>ff1</td>\n",
       "      <td>fi02</td>\n",
       "      <td>quartz</td>\n",
       "      <td>9.8</td>\n",
       "      <td>7.8</td>\n",
       "      <td>L - V</td>\n",
       "      <td>72.0</td>\n",
       "      <td>28.0</td>\n",
       "      <td>NaN</td>\n",
       "      <td>NaN</td>\n",
       "      <td>NaN</td>\n",
       "      <td>NaN</td>\n",
       "      <td>NaN</td>\n",
       "      <td>NaN</td>\n",
       "      <td>NaN</td>\n",
       "      <td>NaN</td>\n",
       "      <td>NaN</td>\n",
       "      <td>NaN</td>\n",
       "    </tr>\n",
       "    <tr>\n",
       "      <th>3</th>\n",
       "      <td>BU18FA22</td>\n",
       "      <td>A</td>\n",
       "      <td>ff2</td>\n",
       "      <td>fi01</td>\n",
       "      <td>quartz</td>\n",
       "      <td>24.8</td>\n",
       "      <td>13.3</td>\n",
       "      <td>L - V</td>\n",
       "      <td>73.0</td>\n",
       "      <td>27.0</td>\n",
       "      <td>-61.943362</td>\n",
       "      <td>-72.914963</td>\n",
       "      <td>-25.437852</td>\n",
       "      <td>-18.954633</td>\n",
       "      <td>0.794249</td>\n",
       "      <td>NaN</td>\n",
       "      <td>NaN</td>\n",
       "      <td>14.700080</td>\n",
       "      <td>14.690850</td>\n",
       "      <td>21.652316</td>\n",
       "    </tr>\n",
       "    <tr>\n",
       "      <th>4</th>\n",
       "      <td>BU18FA22</td>\n",
       "      <td>A</td>\n",
       "      <td>ff2</td>\n",
       "      <td>fi02</td>\n",
       "      <td>quartz</td>\n",
       "      <td>13.8</td>\n",
       "      <td>8.9</td>\n",
       "      <td>L - V</td>\n",
       "      <td>80.0</td>\n",
       "      <td>20.0</td>\n",
       "      <td>NaN</td>\n",
       "      <td>-24.592817</td>\n",
       "      <td>-24.592817</td>\n",
       "      <td>-16.007713</td>\n",
       "      <td>NaN</td>\n",
       "      <td>NaN</td>\n",
       "      <td>NaN</td>\n",
       "      <td>NaN</td>\n",
       "      <td>NaN</td>\n",
       "      <td>19.452391</td>\n",
       "    </tr>\n",
       "    <tr>\n",
       "      <th>5</th>\n",
       "      <td>BU18FA22</td>\n",
       "      <td>A</td>\n",
       "      <td>ff2</td>\n",
       "      <td>fi03</td>\n",
       "      <td>quartz</td>\n",
       "      <td>14.1</td>\n",
       "      <td>10.2</td>\n",
       "      <td>L - V</td>\n",
       "      <td>77.0</td>\n",
       "      <td>23.0</td>\n",
       "      <td>-57.650400</td>\n",
       "      <td>-26.665083</td>\n",
       "      <td>-26.665083</td>\n",
       "      <td>-16.698469</td>\n",
       "      <td>0.373059</td>\n",
       "      <td>NaN</td>\n",
       "      <td>NaN</td>\n",
       "      <td>15.187212</td>\n",
       "      <td>15.188781</td>\n",
       "      <td>19.992090</td>\n",
       "    </tr>\n",
       "    <tr>\n",
       "      <th>...</th>\n",
       "      <td>...</td>\n",
       "      <td>...</td>\n",
       "      <td>...</td>\n",
       "      <td>...</td>\n",
       "      <td>...</td>\n",
       "      <td>...</td>\n",
       "      <td>...</td>\n",
       "      <td>...</td>\n",
       "      <td>...</td>\n",
       "      <td>...</td>\n",
       "      <td>...</td>\n",
       "      <td>...</td>\n",
       "      <td>...</td>\n",
       "      <td>...</td>\n",
       "      <td>...</td>\n",
       "      <td>...</td>\n",
       "      <td>...</td>\n",
       "      <td>...</td>\n",
       "      <td>...</td>\n",
       "      <td>...</td>\n",
       "    </tr>\n",
       "    <tr>\n",
       "      <th>273</th>\n",
       "      <td>BU18FA19(2)</td>\n",
       "      <td>A</td>\n",
       "      <td>ff1</td>\n",
       "      <td>fi010</td>\n",
       "      <td>augelite</td>\n",
       "      <td>NaN</td>\n",
       "      <td>NaN</td>\n",
       "      <td>L - V</td>\n",
       "      <td>NaN</td>\n",
       "      <td>NaN</td>\n",
       "      <td>NaN</td>\n",
       "      <td>NaN</td>\n",
       "      <td>NaN</td>\n",
       "      <td>NaN</td>\n",
       "      <td>NaN</td>\n",
       "      <td>NaN</td>\n",
       "      <td>NaN</td>\n",
       "      <td>NaN</td>\n",
       "      <td>NaN</td>\n",
       "      <td>NaN</td>\n",
       "    </tr>\n",
       "    <tr>\n",
       "      <th>274</th>\n",
       "      <td>BU18FA04</td>\n",
       "      <td>C</td>\n",
       "      <td>ff8</td>\n",
       "      <td>fi01</td>\n",
       "      <td>trolleite</td>\n",
       "      <td>NaN</td>\n",
       "      <td>NaN</td>\n",
       "      <td>L - V</td>\n",
       "      <td>NaN</td>\n",
       "      <td>NaN</td>\n",
       "      <td>NaN</td>\n",
       "      <td>NaN</td>\n",
       "      <td>NaN</td>\n",
       "      <td>NaN</td>\n",
       "      <td>NaN</td>\n",
       "      <td>NaN</td>\n",
       "      <td>NaN</td>\n",
       "      <td>NaN</td>\n",
       "      <td>NaN</td>\n",
       "      <td>NaN</td>\n",
       "    </tr>\n",
       "    <tr>\n",
       "      <th>275</th>\n",
       "      <td>BU18FA04</td>\n",
       "      <td>C</td>\n",
       "      <td>ff8</td>\n",
       "      <td>fi03</td>\n",
       "      <td>trolleite</td>\n",
       "      <td>NaN</td>\n",
       "      <td>NaN</td>\n",
       "      <td>L - V</td>\n",
       "      <td>NaN</td>\n",
       "      <td>NaN</td>\n",
       "      <td>NaN</td>\n",
       "      <td>NaN</td>\n",
       "      <td>NaN</td>\n",
       "      <td>NaN</td>\n",
       "      <td>NaN</td>\n",
       "      <td>NaN</td>\n",
       "      <td>NaN</td>\n",
       "      <td>NaN</td>\n",
       "      <td>NaN</td>\n",
       "      <td>NaN</td>\n",
       "    </tr>\n",
       "    <tr>\n",
       "      <th>276</th>\n",
       "      <td>BU18FA04</td>\n",
       "      <td>C</td>\n",
       "      <td>ff8</td>\n",
       "      <td>fi04</td>\n",
       "      <td>trolleite</td>\n",
       "      <td>NaN</td>\n",
       "      <td>NaN</td>\n",
       "      <td>L - V - S</td>\n",
       "      <td>NaN</td>\n",
       "      <td>NaN</td>\n",
       "      <td>NaN</td>\n",
       "      <td>NaN</td>\n",
       "      <td>NaN</td>\n",
       "      <td>NaN</td>\n",
       "      <td>NaN</td>\n",
       "      <td>NaN</td>\n",
       "      <td>NaN</td>\n",
       "      <td>NaN</td>\n",
       "      <td>NaN</td>\n",
       "      <td>NaN</td>\n",
       "    </tr>\n",
       "    <tr>\n",
       "      <th>277</th>\n",
       "      <td>BU18FA04</td>\n",
       "      <td>C</td>\n",
       "      <td>ff8</td>\n",
       "      <td>fi05</td>\n",
       "      <td>trolleite</td>\n",
       "      <td>NaN</td>\n",
       "      <td>NaN</td>\n",
       "      <td>L - V</td>\n",
       "      <td>NaN</td>\n",
       "      <td>NaN</td>\n",
       "      <td>NaN</td>\n",
       "      <td>NaN</td>\n",
       "      <td>NaN</td>\n",
       "      <td>NaN</td>\n",
       "      <td>NaN</td>\n",
       "      <td>NaN</td>\n",
       "      <td>NaN</td>\n",
       "      <td>NaN</td>\n",
       "      <td>NaN</td>\n",
       "      <td>NaN</td>\n",
       "    </tr>\n",
       "  </tbody>\n",
       "</table>\n",
       "<p>272 rows × 20 columns</p>\n",
       "</div>"
      ],
      "text/plain": [
       "          sample piece field analysis       Host  Length  Width     Phases  \\\n",
       "1       BU18FA22     A   ff1     fi01     quartz     9.1    7.4      L - V   \n",
       "2       BU18FA22     A   ff1     fi02     quartz     9.8    7.8      L - V   \n",
       "3       BU18FA22     A   ff2     fi01     quartz    24.8   13.3      L - V   \n",
       "4       BU18FA22     A   ff2     fi02     quartz    13.8    8.9      L - V   \n",
       "5       BU18FA22     A   ff2     fi03     quartz    14.1   10.2      L - V   \n",
       "..           ...   ...   ...      ...        ...     ...    ...        ...   \n",
       "273  BU18FA19(2)     A   ff1    fi010   augelite     NaN    NaN      L - V   \n",
       "274     BU18FA04     C   ff8     fi01  trolleite     NaN    NaN      L - V   \n",
       "275     BU18FA04     C   ff8     fi03  trolleite     NaN    NaN      L - V   \n",
       "276     BU18FA04     C   ff8     fi04  trolleite     NaN    NaN  L - V - S   \n",
       "277     BU18FA04     C   ff8     fi05  trolleite     NaN    NaN      L - V   \n",
       "\n",
       "     VL (%)  VV (%)     Tm CO2         Te      Tm Hh     Tm H2O     Tm CL  \\\n",
       "1      75.0    25.0 -57.453042 -62.880406        NaN        NaN       NaN   \n",
       "2      72.0    28.0        NaN        NaN        NaN        NaN       NaN   \n",
       "3      73.0    27.0 -61.943362 -72.914963 -25.437852 -18.954633  0.794249   \n",
       "4      80.0    20.0        NaN -24.592817 -24.592817 -16.007713       NaN   \n",
       "5      77.0    23.0 -57.650400 -26.665083 -26.665083 -16.698469  0.373059   \n",
       "..      ...     ...        ...        ...        ...        ...       ...   \n",
       "273     NaN     NaN        NaN        NaN        NaN        NaN       NaN   \n",
       "274     NaN     NaN        NaN        NaN        NaN        NaN       NaN   \n",
       "275     NaN     NaN        NaN        NaN        NaN        NaN       NaN   \n",
       "276     NaN     NaN        NaN        NaN        NaN        NaN       NaN   \n",
       "277     NaN     NaN        NaN        NaN        NaN        NaN       NaN   \n",
       "\n",
       "     Th CO2 Hmg Mode  salinity(NaCleq wt%)  salChen(NaCleq wt%)  \\\n",
       "1       NaN      NaN                   NaN                  NaN   \n",
       "2       NaN      NaN                   NaN                  NaN   \n",
       "3       NaN      NaN             14.700080            14.690850   \n",
       "4       NaN      NaN                   NaN                  NaN   \n",
       "5       NaN      NaN             15.187212            15.188781   \n",
       "..      ...      ...                   ...                  ...   \n",
       "273     NaN      NaN                   NaN                  NaN   \n",
       "274     NaN      NaN                   NaN                  NaN   \n",
       "275     NaN      NaN                   NaN                  NaN   \n",
       "276     NaN      NaN                   NaN                  NaN   \n",
       "277     NaN      NaN                   NaN                  NaN   \n",
       "\n",
       "     salBod(NaCleq%)  \n",
       "1                NaN  \n",
       "2                NaN  \n",
       "3          21.652316  \n",
       "4          19.452391  \n",
       "5          19.992090  \n",
       "..               ...  \n",
       "273              NaN  \n",
       "274              NaN  \n",
       "275              NaN  \n",
       "276              NaN  \n",
       "277              NaN  \n",
       "\n",
       "[272 rows x 20 columns]"
      ]
     },
     "execution_count": 3,
     "metadata": {},
     "output_type": "execute_result"
    }
   ],
   "source": [
    "# --- create dataframe from csv file using pandas import command \n",
    "\n",
    "df_thermo = pd.read_csv(Termo_dir + 'Buranga_FI_microthermometry_processed.csv', \n",
    "                    encoding = \"ANSI\", \n",
    "                   index_col = 0)\n",
    "\n",
    "df_thermo = df_thermo.rename(columns={\"FI\": \"analysis\"})\n",
    "\n",
    "df_thermo['field'] = df_thermo['field'].astype(str).replace(('FF'),('ff'),regex=True)\n",
    "df_thermo['analysis'] = 'fi0' + df_thermo['analysis'].astype(str)\n",
    "\n",
    "df_thermo"
   ]
  },
  {
   "cell_type": "markdown",
   "id": "f298b96e",
   "metadata": {},
   "source": [
    "# Raman data"
   ]
  },
  {
   "cell_type": "code",
   "execution_count": 4,
   "id": "24a57c61",
   "metadata": {},
   "outputs": [
    {
     "name": "stdout",
     "output_type": "stream",
     "text": [
      "Index(['sample', 'piece', 'field', 'analysis', 'XCO2(mol%)', 'XN2(mol%)',\n",
      "       'XCH4(mol%)', 'area_CO2_v1', 'area_CO2_v2', 'area_N2', 'area_CH4',\n",
      "       'CO2_v1_mol', 'CO2_v2_mol', 'N2_mol', 'CH4_mol', 'laser', 'rest',\n",
      "       'cross_section_CO2_v1', 'cross_section_CO2_v2', 'cross_section_N2',\n",
      "       'cross_section_CH4'],\n",
      "      dtype='object')\n"
     ]
    },
    {
     "data": {
      "text/html": [
       "<div>\n",
       "<style scoped>\n",
       "    .dataframe tbody tr th:only-of-type {\n",
       "        vertical-align: middle;\n",
       "    }\n",
       "\n",
       "    .dataframe tbody tr th {\n",
       "        vertical-align: top;\n",
       "    }\n",
       "\n",
       "    .dataframe thead th {\n",
       "        text-align: right;\n",
       "    }\n",
       "</style>\n",
       "<table border=\"1\" class=\"dataframe\">\n",
       "  <thead>\n",
       "    <tr style=\"text-align: right;\">\n",
       "      <th></th>\n",
       "      <th>sample</th>\n",
       "      <th>piece</th>\n",
       "      <th>field</th>\n",
       "      <th>analysis</th>\n",
       "      <th>XCO2(mol%)</th>\n",
       "      <th>XN2(mol%)</th>\n",
       "      <th>XCH4(mol%)</th>\n",
       "    </tr>\n",
       "  </thead>\n",
       "  <tbody>\n",
       "    <tr>\n",
       "      <th>2</th>\n",
       "      <td>BU18FA02a</td>\n",
       "      <td>A</td>\n",
       "      <td>ff1</td>\n",
       "      <td>fi01</td>\n",
       "      <td>0.963</td>\n",
       "      <td>0.037</td>\n",
       "      <td>0.000</td>\n",
       "    </tr>\n",
       "    <tr>\n",
       "      <th>4</th>\n",
       "      <td>BU18FA02a</td>\n",
       "      <td>A</td>\n",
       "      <td>ff1</td>\n",
       "      <td>fi02</td>\n",
       "      <td>0.950</td>\n",
       "      <td>0.050</td>\n",
       "      <td>0.000</td>\n",
       "    </tr>\n",
       "    <tr>\n",
       "      <th>6</th>\n",
       "      <td>BU18FA02a</td>\n",
       "      <td>A</td>\n",
       "      <td>ff1</td>\n",
       "      <td>fi03</td>\n",
       "      <td>0.947</td>\n",
       "      <td>0.053</td>\n",
       "      <td>0.000</td>\n",
       "    </tr>\n",
       "    <tr>\n",
       "      <th>8</th>\n",
       "      <td>BU18FA02a</td>\n",
       "      <td>A</td>\n",
       "      <td>ff1</td>\n",
       "      <td>fi04</td>\n",
       "      <td>0.948</td>\n",
       "      <td>0.052</td>\n",
       "      <td>0.000</td>\n",
       "    </tr>\n",
       "    <tr>\n",
       "      <th>10</th>\n",
       "      <td>BU18FA02a</td>\n",
       "      <td>A</td>\n",
       "      <td>ff1</td>\n",
       "      <td>fi05</td>\n",
       "      <td>0.952</td>\n",
       "      <td>0.048</td>\n",
       "      <td>0.000</td>\n",
       "    </tr>\n",
       "    <tr>\n",
       "      <th>...</th>\n",
       "      <td>...</td>\n",
       "      <td>...</td>\n",
       "      <td>...</td>\n",
       "      <td>...</td>\n",
       "      <td>...</td>\n",
       "      <td>...</td>\n",
       "      <td>...</td>\n",
       "    </tr>\n",
       "    <tr>\n",
       "      <th>299</th>\n",
       "      <td>BU18FA32</td>\n",
       "      <td>C</td>\n",
       "      <td>ff1</td>\n",
       "      <td>fi06</td>\n",
       "      <td>0.864</td>\n",
       "      <td>0.135</td>\n",
       "      <td>0.001</td>\n",
       "    </tr>\n",
       "    <tr>\n",
       "      <th>300</th>\n",
       "      <td>BU18FA32</td>\n",
       "      <td>C</td>\n",
       "      <td>ff1</td>\n",
       "      <td>fi07</td>\n",
       "      <td>0.870</td>\n",
       "      <td>0.122</td>\n",
       "      <td>0.007</td>\n",
       "    </tr>\n",
       "    <tr>\n",
       "      <th>301</th>\n",
       "      <td>BU18FA32</td>\n",
       "      <td>C</td>\n",
       "      <td>ff1</td>\n",
       "      <td>fi08</td>\n",
       "      <td>0.885</td>\n",
       "      <td>0.113</td>\n",
       "      <td>0.002</td>\n",
       "    </tr>\n",
       "    <tr>\n",
       "      <th>302</th>\n",
       "      <td>BU18FA32</td>\n",
       "      <td>C</td>\n",
       "      <td>ff1</td>\n",
       "      <td>fi09</td>\n",
       "      <td>0.869</td>\n",
       "      <td>0.128</td>\n",
       "      <td>0.003</td>\n",
       "    </tr>\n",
       "    <tr>\n",
       "      <th>303</th>\n",
       "      <td>BU18FA32</td>\n",
       "      <td>C</td>\n",
       "      <td>ff1</td>\n",
       "      <td>fi010</td>\n",
       "      <td>0.864</td>\n",
       "      <td>0.135</td>\n",
       "      <td>0.002</td>\n",
       "    </tr>\n",
       "  </tbody>\n",
       "</table>\n",
       "<p>230 rows × 7 columns</p>\n",
       "</div>"
      ],
      "text/plain": [
       "        sample piece field analysis  XCO2(mol%)  XN2(mol%)  XCH4(mol%)\n",
       "2    BU18FA02a     A   ff1     fi01       0.963      0.037       0.000\n",
       "4    BU18FA02a     A   ff1     fi02       0.950      0.050       0.000\n",
       "6    BU18FA02a     A   ff1     fi03       0.947      0.053       0.000\n",
       "8    BU18FA02a     A   ff1     fi04       0.948      0.052       0.000\n",
       "10   BU18FA02a     A   ff1     fi05       0.952      0.048       0.000\n",
       "..         ...   ...   ...      ...         ...        ...         ...\n",
       "299   BU18FA32     C   ff1     fi06       0.864      0.135       0.001\n",
       "300   BU18FA32     C   ff1     fi07       0.870      0.122       0.007\n",
       "301   BU18FA32     C   ff1     fi08       0.885      0.113       0.002\n",
       "302   BU18FA32     C   ff1     fi09       0.869      0.128       0.003\n",
       "303   BU18FA32     C   ff1    fi010       0.864      0.135       0.002\n",
       "\n",
       "[230 rows x 7 columns]"
      ]
     },
     "execution_count": 4,
     "metadata": {},
     "output_type": "execute_result"
    }
   ],
   "source": [
    "# --- create dataframe from csv file using pandas import command \n",
    "\n",
    "df_Raman = pd.read_csv(Raman_dir + 'Buranga_FI_Raman_V_composition.csv', \n",
    "                    encoding = \"ANSI\")\n",
    "\n",
    "df_Raman.drop_duplicates(['sample','piece','field','analysis'], keep='last',inplace=True)\n",
    "\n",
    "df_Raman['field'] = df_Raman['field'].astype(str).replace(('07','ore1','ore2','trl','Trl','brt','qtz','scz'),\n",
    "                                                          ('7','ffore1','ffore2','ff','ff','ff','ff','ff'),\n",
    "                                                          regex=True)\n",
    "\n",
    "df_Raman = df_Raman.drop(columns=['area_CO2_v1','area_CO2_v2','area_N2','area_CH4', \n",
    "                                  'CO2_v1_mol', 'CO2_v2_mol', 'N2_mol', 'CH4_mol', 'laser', 'rest',\n",
    "       'cross_section_CO2_v1', 'cross_section_CO2_v2', 'cross_section_N2',\n",
    "       'cross_section_CH4'])\n",
    "\n",
    "df_Raman"
   ]
  },
  {
   "cell_type": "markdown",
   "id": "1592ff57",
   "metadata": {},
   "source": [
    "# LAICPMS data"
   ]
  },
  {
   "cell_type": "code",
   "execution_count": 6,
   "id": "d92d7422",
   "metadata": {},
   "outputs": [
    {
     "data": {
      "text/html": [
       "<div>\n",
       "<style scoped>\n",
       "    .dataframe tbody tr th:only-of-type {\n",
       "        vertical-align: middle;\n",
       "    }\n",
       "\n",
       "    .dataframe tbody tr th {\n",
       "        vertical-align: top;\n",
       "    }\n",
       "\n",
       "    .dataframe thead th {\n",
       "        text-align: right;\n",
       "    }\n",
       "</style>\n",
       "<table border=\"1\" class=\"dataframe\">\n",
       "  <thead>\n",
       "    <tr style=\"text-align: right;\">\n",
       "      <th></th>\n",
       "      <th>sample</th>\n",
       "      <th>piece</th>\n",
       "      <th>field</th>\n",
       "      <th>analysis</th>\n",
       "      <th>Host</th>\n",
       "      <th>Li</th>\n",
       "      <th>B</th>\n",
       "      <th>Na</th>\n",
       "      <th>Mg</th>\n",
       "      <th>Al</th>\n",
       "      <th>...</th>\n",
       "      <th>Li%</th>\n",
       "      <th>K%</th>\n",
       "      <th>Rb%</th>\n",
       "      <th>Cs%</th>\n",
       "      <th>B%</th>\n",
       "      <th>P%</th>\n",
       "      <th>diva</th>\n",
       "      <th>diva%</th>\n",
       "      <th>Alkalis</th>\n",
       "      <th>Alkalis%</th>\n",
       "    </tr>\n",
       "  </thead>\n",
       "  <tbody>\n",
       "    <tr>\n",
       "      <th>0</th>\n",
       "      <td>BU18FA20</td>\n",
       "      <td>B</td>\n",
       "      <td>ff4</td>\n",
       "      <td>fi01</td>\n",
       "      <td>bertossaite</td>\n",
       "      <td>NaN</td>\n",
       "      <td>407.021150</td>\n",
       "      <td>73748.329217</td>\n",
       "      <td>NaN</td>\n",
       "      <td>NaN</td>\n",
       "      <td>...</td>\n",
       "      <td>NaN</td>\n",
       "      <td>2.890657</td>\n",
       "      <td>0.133099</td>\n",
       "      <td>0.095272</td>\n",
       "      <td>0.040702</td>\n",
       "      <td>3.247818</td>\n",
       "      <td>2523.835823</td>\n",
       "      <td>0.252384</td>\n",
       "      <td>104938.611555</td>\n",
       "      <td>10.493861</td>\n",
       "    </tr>\n",
       "    <tr>\n",
       "      <th>1</th>\n",
       "      <td>BU18FA20</td>\n",
       "      <td>B</td>\n",
       "      <td>ff4</td>\n",
       "      <td>fi02</td>\n",
       "      <td>bertossaite</td>\n",
       "      <td>6268.782611</td>\n",
       "      <td>409.280683</td>\n",
       "      <td>58457.447454</td>\n",
       "      <td>NaN</td>\n",
       "      <td>NaN</td>\n",
       "      <td>...</td>\n",
       "      <td>0.626878</td>\n",
       "      <td>1.833952</td>\n",
       "      <td>0.110780</td>\n",
       "      <td>0.101552</td>\n",
       "      <td>0.040928</td>\n",
       "      <td>4.066315</td>\n",
       "      <td>193.345928</td>\n",
       "      <td>0.019335</td>\n",
       "      <td>85189.074025</td>\n",
       "      <td>8.518907</td>\n",
       "    </tr>\n",
       "    <tr>\n",
       "      <th>2</th>\n",
       "      <td>BU18FA20</td>\n",
       "      <td>B</td>\n",
       "      <td>ff4</td>\n",
       "      <td>fi03</td>\n",
       "      <td>bertossaite</td>\n",
       "      <td>8689.632681</td>\n",
       "      <td>319.732195</td>\n",
       "      <td>48341.835456</td>\n",
       "      <td>35.135155</td>\n",
       "      <td>NaN</td>\n",
       "      <td>...</td>\n",
       "      <td>0.868963</td>\n",
       "      <td>2.538475</td>\n",
       "      <td>0.100304</td>\n",
       "      <td>0.071961</td>\n",
       "      <td>0.031973</td>\n",
       "      <td>2.402430</td>\n",
       "      <td>12297.467809</td>\n",
       "      <td>1.229747</td>\n",
       "      <td>84138.873219</td>\n",
       "      <td>8.413887</td>\n",
       "    </tr>\n",
       "    <tr>\n",
       "      <th>3</th>\n",
       "      <td>BU18FA20</td>\n",
       "      <td>J</td>\n",
       "      <td>ff1</td>\n",
       "      <td>fi01</td>\n",
       "      <td>trolleite</td>\n",
       "      <td>372.494329</td>\n",
       "      <td>2452.315596</td>\n",
       "      <td>32403.549770</td>\n",
       "      <td>1280.520729</td>\n",
       "      <td>NaN</td>\n",
       "      <td>...</td>\n",
       "      <td>0.037249</td>\n",
       "      <td>2.739841</td>\n",
       "      <td>0.162818</td>\n",
       "      <td>0.097923</td>\n",
       "      <td>0.245232</td>\n",
       "      <td>1.646108</td>\n",
       "      <td>6400.889639</td>\n",
       "      <td>0.640089</td>\n",
       "      <td>62781.851869</td>\n",
       "      <td>6.278185</td>\n",
       "    </tr>\n",
       "    <tr>\n",
       "      <th>4</th>\n",
       "      <td>BU18FA20</td>\n",
       "      <td>J</td>\n",
       "      <td>ff1</td>\n",
       "      <td>fi02</td>\n",
       "      <td>trolleite</td>\n",
       "      <td>150.469589</td>\n",
       "      <td>1331.178712</td>\n",
       "      <td>31016.385052</td>\n",
       "      <td>173.647670</td>\n",
       "      <td>NaN</td>\n",
       "      <td>...</td>\n",
       "      <td>0.015047</td>\n",
       "      <td>3.073082</td>\n",
       "      <td>0.110642</td>\n",
       "      <td>0.046022</td>\n",
       "      <td>0.133118</td>\n",
       "      <td>NaN</td>\n",
       "      <td>375.911116</td>\n",
       "      <td>0.037591</td>\n",
       "      <td>63464.313539</td>\n",
       "      <td>6.346431</td>\n",
       "    </tr>\n",
       "    <tr>\n",
       "      <th>...</th>\n",
       "      <td>...</td>\n",
       "      <td>...</td>\n",
       "      <td>...</td>\n",
       "      <td>...</td>\n",
       "      <td>...</td>\n",
       "      <td>...</td>\n",
       "      <td>...</td>\n",
       "      <td>...</td>\n",
       "      <td>...</td>\n",
       "      <td>...</td>\n",
       "      <td>...</td>\n",
       "      <td>...</td>\n",
       "      <td>...</td>\n",
       "      <td>...</td>\n",
       "      <td>...</td>\n",
       "      <td>...</td>\n",
       "      <td>...</td>\n",
       "      <td>...</td>\n",
       "      <td>...</td>\n",
       "      <td>...</td>\n",
       "      <td>...</td>\n",
       "    </tr>\n",
       "    <tr>\n",
       "      <th>115</th>\n",
       "      <td>BU18FA04</td>\n",
       "      <td>C</td>\n",
       "      <td>ff8</td>\n",
       "      <td>fi03</td>\n",
       "      <td>trolleite</td>\n",
       "      <td>1402.599873</td>\n",
       "      <td>1400.851275</td>\n",
       "      <td>19672.841121</td>\n",
       "      <td>23.472581</td>\n",
       "      <td>NaN</td>\n",
       "      <td>...</td>\n",
       "      <td>0.140260</td>\n",
       "      <td>4.660214</td>\n",
       "      <td>0.204102</td>\n",
       "      <td>0.030185</td>\n",
       "      <td>0.140085</td>\n",
       "      <td>50.656876</td>\n",
       "      <td>577.125344</td>\n",
       "      <td>0.057713</td>\n",
       "      <td>70020.444397</td>\n",
       "      <td>7.002044</td>\n",
       "    </tr>\n",
       "    <tr>\n",
       "      <th>116</th>\n",
       "      <td>BU18FA19</td>\n",
       "      <td>E</td>\n",
       "      <td>ff11b</td>\n",
       "      <td>fi03</td>\n",
       "      <td>quartz</td>\n",
       "      <td>6671.636617</td>\n",
       "      <td>NaN</td>\n",
       "      <td>30244.154309</td>\n",
       "      <td>716.754942</td>\n",
       "      <td>74512.836127</td>\n",
       "      <td>...</td>\n",
       "      <td>0.667164</td>\n",
       "      <td>1.751252</td>\n",
       "      <td>0.106032</td>\n",
       "      <td>0.009149</td>\n",
       "      <td>NaN</td>\n",
       "      <td>5.103288</td>\n",
       "      <td>161688.057917</td>\n",
       "      <td>16.168806</td>\n",
       "      <td>55580.117231</td>\n",
       "      <td>5.558012</td>\n",
       "    </tr>\n",
       "    <tr>\n",
       "      <th>117</th>\n",
       "      <td>BU18FA19</td>\n",
       "      <td>E</td>\n",
       "      <td>ff11b</td>\n",
       "      <td>fi04</td>\n",
       "      <td>quartz</td>\n",
       "      <td>NaN</td>\n",
       "      <td>1745.418869</td>\n",
       "      <td>47119.494326</td>\n",
       "      <td>14135.332837</td>\n",
       "      <td>16182.059457</td>\n",
       "      <td>...</td>\n",
       "      <td>NaN</td>\n",
       "      <td>3.271962</td>\n",
       "      <td>0.173799</td>\n",
       "      <td>0.029880</td>\n",
       "      <td>0.174542</td>\n",
       "      <td>NaN</td>\n",
       "      <td>22356.813899</td>\n",
       "      <td>2.235681</td>\n",
       "      <td>81875.904250</td>\n",
       "      <td>8.187590</td>\n",
       "    </tr>\n",
       "    <tr>\n",
       "      <th>118</th>\n",
       "      <td>BU18FA04</td>\n",
       "      <td>C</td>\n",
       "      <td>ff8</td>\n",
       "      <td>fi04</td>\n",
       "      <td>trolleite</td>\n",
       "      <td>2377.498607</td>\n",
       "      <td>1092.725065</td>\n",
       "      <td>22106.383624</td>\n",
       "      <td>375.808408</td>\n",
       "      <td>NaN</td>\n",
       "      <td>...</td>\n",
       "      <td>0.237750</td>\n",
       "      <td>3.427477</td>\n",
       "      <td>0.204195</td>\n",
       "      <td>0.036742</td>\n",
       "      <td>0.109273</td>\n",
       "      <td>6.744493</td>\n",
       "      <td>1597.285216</td>\n",
       "      <td>0.159729</td>\n",
       "      <td>61168.018053</td>\n",
       "      <td>6.116802</td>\n",
       "    </tr>\n",
       "    <tr>\n",
       "      <th>119</th>\n",
       "      <td>BU18FA04</td>\n",
       "      <td>C</td>\n",
       "      <td>ff8</td>\n",
       "      <td>fi05</td>\n",
       "      <td>trolleite</td>\n",
       "      <td>94.889143</td>\n",
       "      <td>1501.630900</td>\n",
       "      <td>48343.525618</td>\n",
       "      <td>66.269604</td>\n",
       "      <td>NaN</td>\n",
       "      <td>...</td>\n",
       "      <td>0.009489</td>\n",
       "      <td>0.540492</td>\n",
       "      <td>0.161253</td>\n",
       "      <td>0.030026</td>\n",
       "      <td>0.150163</td>\n",
       "      <td>NaN</td>\n",
       "      <td>129.191713</td>\n",
       "      <td>0.012919</td>\n",
       "      <td>55756.116360</td>\n",
       "      <td>5.575612</td>\n",
       "    </tr>\n",
       "  </tbody>\n",
       "</table>\n",
       "<p>120 rows × 47 columns</p>\n",
       "</div>"
      ],
      "text/plain": [
       "       sample piece  field analysis         Host           Li            B  \\\n",
       "0    BU18FA20     B    ff4     fi01  bertossaite          NaN   407.021150   \n",
       "1    BU18FA20     B    ff4     fi02  bertossaite  6268.782611   409.280683   \n",
       "2    BU18FA20     B    ff4     fi03  bertossaite  8689.632681   319.732195   \n",
       "3    BU18FA20     J    ff1     fi01    trolleite   372.494329  2452.315596   \n",
       "4    BU18FA20     J    ff1     fi02    trolleite   150.469589  1331.178712   \n",
       "..        ...   ...    ...      ...          ...          ...          ...   \n",
       "115  BU18FA04     C    ff8     fi03    trolleite  1402.599873  1400.851275   \n",
       "116  BU18FA19     E  ff11b     fi03       quartz  6671.636617          NaN   \n",
       "117  BU18FA19     E  ff11b     fi04       quartz          NaN  1745.418869   \n",
       "118  BU18FA04     C    ff8     fi04    trolleite  2377.498607  1092.725065   \n",
       "119  BU18FA04     C    ff8     fi05    trolleite    94.889143  1501.630900   \n",
       "\n",
       "               Na            Mg            Al  ...       Li%        K%  \\\n",
       "0    73748.329217           NaN           NaN  ...       NaN  2.890657   \n",
       "1    58457.447454           NaN           NaN  ...  0.626878  1.833952   \n",
       "2    48341.835456     35.135155           NaN  ...  0.868963  2.538475   \n",
       "3    32403.549770   1280.520729           NaN  ...  0.037249  2.739841   \n",
       "4    31016.385052    173.647670           NaN  ...  0.015047  3.073082   \n",
       "..            ...           ...           ...  ...       ...       ...   \n",
       "115  19672.841121     23.472581           NaN  ...  0.140260  4.660214   \n",
       "116  30244.154309    716.754942  74512.836127  ...  0.667164  1.751252   \n",
       "117  47119.494326  14135.332837  16182.059457  ...       NaN  3.271962   \n",
       "118  22106.383624    375.808408           NaN  ...  0.237750  3.427477   \n",
       "119  48343.525618     66.269604           NaN  ...  0.009489  0.540492   \n",
       "\n",
       "          Rb%       Cs%        B%         P%           diva      diva%  \\\n",
       "0    0.133099  0.095272  0.040702   3.247818    2523.835823   0.252384   \n",
       "1    0.110780  0.101552  0.040928   4.066315     193.345928   0.019335   \n",
       "2    0.100304  0.071961  0.031973   2.402430   12297.467809   1.229747   \n",
       "3    0.162818  0.097923  0.245232   1.646108    6400.889639   0.640089   \n",
       "4    0.110642  0.046022  0.133118        NaN     375.911116   0.037591   \n",
       "..        ...       ...       ...        ...            ...        ...   \n",
       "115  0.204102  0.030185  0.140085  50.656876     577.125344   0.057713   \n",
       "116  0.106032  0.009149       NaN   5.103288  161688.057917  16.168806   \n",
       "117  0.173799  0.029880  0.174542        NaN   22356.813899   2.235681   \n",
       "118  0.204195  0.036742  0.109273   6.744493    1597.285216   0.159729   \n",
       "119  0.161253  0.030026  0.150163        NaN     129.191713   0.012919   \n",
       "\n",
       "           Alkalis   Alkalis%  \n",
       "0    104938.611555  10.493861  \n",
       "1     85189.074025   8.518907  \n",
       "2     84138.873219   8.413887  \n",
       "3     62781.851869   6.278185  \n",
       "4     63464.313539   6.346431  \n",
       "..             ...        ...  \n",
       "115   70020.444397   7.002044  \n",
       "116   55580.117231   5.558012  \n",
       "117   81875.904250   8.187590  \n",
       "118   61168.018053   6.116802  \n",
       "119   55756.116360   5.575612  \n",
       "\n",
       "[120 rows x 47 columns]"
      ]
     },
     "execution_count": 6,
     "metadata": {},
     "output_type": "execute_result"
    }
   ],
   "source": [
    "# --- create dataframe from csv file using pandas import command \n",
    "\n",
    "df_LA = pd.read_csv(LA_dir + 'Buranga_FI_LAICPMS_ppm.csv', \n",
    "                    encoding = \"ANSI\")\n",
    "\n",
    "df_LA = df_LA.drop(columns=['Info'])\n",
    "\n",
    "\n",
    "df_LA"
   ]
  },
  {
   "cell_type": "markdown",
   "id": "bbd4be32",
   "metadata": {},
   "source": [
    "# Merge all data into single dataframe"
   ]
  },
  {
   "cell_type": "code",
   "execution_count": 7,
   "id": "50f5c5be",
   "metadata": {},
   "outputs": [
    {
     "name": "stdout",
     "output_type": "stream",
     "text": [
      "Index(['sample', 'piece', 'field', 'analysis', 'Host', 'Length', 'Width',\n",
      "       'Phases', 'VL (%)', 'VV (%)', 'Tm CO2', 'Te', 'Tm Hh', 'Tm H2O',\n",
      "       'Tm CL', 'Th CO2', 'Hmg Mode', 'salinity(NaCleq wt%)',\n",
      "       'salChen(NaCleq wt%)', 'salBod(NaCleq%)', 'Li', 'B', 'Na', 'Mg', 'Al',\n",
      "       'Si', 'P', 'K', 'Ti', 'Mn', 'Rb', 'Sr', 'Nb', 'Sn', 'Cs', 'Ba', 'Ta',\n",
      "       'W', 'Ca', 'Fe', 'NbTa', 'Nb/Ta', 'Li/Na', 'K/Na', 'K/Cs', 'K/Rb',\n",
      "       'Cs/Na', 'Rb/Na', 'Rb/Cs', 'Ta#', 'Mn#', 'Na%', 'Li%', 'K%', 'Rb%',\n",
      "       'Cs%', 'B%', 'P%', 'diva', 'diva%', 'Alkalis', 'Alkalis%', 'XCO2(mol%)',\n",
      "       'XN2(mol%)', 'XCH4(mol%)'],\n",
      "      dtype='object')\n"
     ]
    },
    {
     "data": {
      "text/html": [
       "<div>\n",
       "<style scoped>\n",
       "    .dataframe tbody tr th:only-of-type {\n",
       "        vertical-align: middle;\n",
       "    }\n",
       "\n",
       "    .dataframe tbody tr th {\n",
       "        vertical-align: top;\n",
       "    }\n",
       "\n",
       "    .dataframe thead th {\n",
       "        text-align: right;\n",
       "    }\n",
       "</style>\n",
       "<table border=\"1\" class=\"dataframe\">\n",
       "  <thead>\n",
       "    <tr style=\"text-align: right;\">\n",
       "      <th></th>\n",
       "      <th>sample</th>\n",
       "      <th>piece</th>\n",
       "      <th>field</th>\n",
       "      <th>analysis</th>\n",
       "      <th>Host</th>\n",
       "      <th>Length</th>\n",
       "      <th>Width</th>\n",
       "      <th>Phases</th>\n",
       "      <th>VL (%)</th>\n",
       "      <th>VV (%)</th>\n",
       "      <th>...</th>\n",
       "      <th>Cs%</th>\n",
       "      <th>B%</th>\n",
       "      <th>P%</th>\n",
       "      <th>diva</th>\n",
       "      <th>diva%</th>\n",
       "      <th>Alkalis</th>\n",
       "      <th>Alkalis%</th>\n",
       "      <th>XCO2(mol%)</th>\n",
       "      <th>XN2(mol%)</th>\n",
       "      <th>XCH4(mol%)</th>\n",
       "    </tr>\n",
       "  </thead>\n",
       "  <tbody>\n",
       "    <tr>\n",
       "      <th>0</th>\n",
       "      <td>BU18FA22</td>\n",
       "      <td>A</td>\n",
       "      <td>ff1</td>\n",
       "      <td>fi01</td>\n",
       "      <td>quartz</td>\n",
       "      <td>9.1</td>\n",
       "      <td>7.4</td>\n",
       "      <td>L - V</td>\n",
       "      <td>75.0</td>\n",
       "      <td>25.0</td>\n",
       "      <td>...</td>\n",
       "      <td>NaN</td>\n",
       "      <td>NaN</td>\n",
       "      <td>NaN</td>\n",
       "      <td>NaN</td>\n",
       "      <td>NaN</td>\n",
       "      <td>NaN</td>\n",
       "      <td>NaN</td>\n",
       "      <td>0.959</td>\n",
       "      <td>0.041</td>\n",
       "      <td>0.000</td>\n",
       "    </tr>\n",
       "    <tr>\n",
       "      <th>1</th>\n",
       "      <td>BU18FA22</td>\n",
       "      <td>A</td>\n",
       "      <td>ff1</td>\n",
       "      <td>fi02</td>\n",
       "      <td>quartz</td>\n",
       "      <td>9.8</td>\n",
       "      <td>7.8</td>\n",
       "      <td>L - V</td>\n",
       "      <td>72.0</td>\n",
       "      <td>28.0</td>\n",
       "      <td>...</td>\n",
       "      <td>NaN</td>\n",
       "      <td>NaN</td>\n",
       "      <td>NaN</td>\n",
       "      <td>NaN</td>\n",
       "      <td>NaN</td>\n",
       "      <td>NaN</td>\n",
       "      <td>NaN</td>\n",
       "      <td>0.937</td>\n",
       "      <td>0.063</td>\n",
       "      <td>0.000</td>\n",
       "    </tr>\n",
       "    <tr>\n",
       "      <th>2</th>\n",
       "      <td>BU18FA22</td>\n",
       "      <td>A</td>\n",
       "      <td>ff2</td>\n",
       "      <td>fi01</td>\n",
       "      <td>quartz</td>\n",
       "      <td>24.8</td>\n",
       "      <td>13.3</td>\n",
       "      <td>L - V</td>\n",
       "      <td>73.0</td>\n",
       "      <td>27.0</td>\n",
       "      <td>...</td>\n",
       "      <td>0.063699</td>\n",
       "      <td>0.227851</td>\n",
       "      <td>NaN</td>\n",
       "      <td>5474.342668</td>\n",
       "      <td>0.547434</td>\n",
       "      <td>66623.328211</td>\n",
       "      <td>6.662333</td>\n",
       "      <td>0.908</td>\n",
       "      <td>0.092</td>\n",
       "      <td>0.000</td>\n",
       "    </tr>\n",
       "    <tr>\n",
       "      <th>3</th>\n",
       "      <td>BU18FA22</td>\n",
       "      <td>A</td>\n",
       "      <td>ff2</td>\n",
       "      <td>fi02</td>\n",
       "      <td>quartz</td>\n",
       "      <td>13.8</td>\n",
       "      <td>8.9</td>\n",
       "      <td>L - V</td>\n",
       "      <td>80.0</td>\n",
       "      <td>20.0</td>\n",
       "      <td>...</td>\n",
       "      <td>NaN</td>\n",
       "      <td>NaN</td>\n",
       "      <td>NaN</td>\n",
       "      <td>854.335922</td>\n",
       "      <td>0.085434</td>\n",
       "      <td>79029.483325</td>\n",
       "      <td>7.902948</td>\n",
       "      <td>0.860</td>\n",
       "      <td>0.140</td>\n",
       "      <td>0.000</td>\n",
       "    </tr>\n",
       "    <tr>\n",
       "      <th>4</th>\n",
       "      <td>BU18FA22</td>\n",
       "      <td>A</td>\n",
       "      <td>ff2</td>\n",
       "      <td>fi03</td>\n",
       "      <td>quartz</td>\n",
       "      <td>14.1</td>\n",
       "      <td>10.2</td>\n",
       "      <td>L - V</td>\n",
       "      <td>77.0</td>\n",
       "      <td>23.0</td>\n",
       "      <td>...</td>\n",
       "      <td>NaN</td>\n",
       "      <td>NaN</td>\n",
       "      <td>NaN</td>\n",
       "      <td>NaN</td>\n",
       "      <td>NaN</td>\n",
       "      <td>NaN</td>\n",
       "      <td>NaN</td>\n",
       "      <td>0.826</td>\n",
       "      <td>0.173</td>\n",
       "      <td>0.001</td>\n",
       "    </tr>\n",
       "    <tr>\n",
       "      <th>...</th>\n",
       "      <td>...</td>\n",
       "      <td>...</td>\n",
       "      <td>...</td>\n",
       "      <td>...</td>\n",
       "      <td>...</td>\n",
       "      <td>...</td>\n",
       "      <td>...</td>\n",
       "      <td>...</td>\n",
       "      <td>...</td>\n",
       "      <td>...</td>\n",
       "      <td>...</td>\n",
       "      <td>...</td>\n",
       "      <td>...</td>\n",
       "      <td>...</td>\n",
       "      <td>...</td>\n",
       "      <td>...</td>\n",
       "      <td>...</td>\n",
       "      <td>...</td>\n",
       "      <td>...</td>\n",
       "      <td>...</td>\n",
       "      <td>...</td>\n",
       "    </tr>\n",
       "    <tr>\n",
       "      <th>269</th>\n",
       "      <td>BU18FA19(2)</td>\n",
       "      <td>A</td>\n",
       "      <td>ff1</td>\n",
       "      <td>fi010</td>\n",
       "      <td>augelite</td>\n",
       "      <td>NaN</td>\n",
       "      <td>NaN</td>\n",
       "      <td>L - V</td>\n",
       "      <td>NaN</td>\n",
       "      <td>NaN</td>\n",
       "      <td>...</td>\n",
       "      <td>0.056746</td>\n",
       "      <td>0.181670</td>\n",
       "      <td>8.762810</td>\n",
       "      <td>NaN</td>\n",
       "      <td>NaN</td>\n",
       "      <td>73632.195509</td>\n",
       "      <td>7.363220</td>\n",
       "      <td>NaN</td>\n",
       "      <td>NaN</td>\n",
       "      <td>NaN</td>\n",
       "    </tr>\n",
       "    <tr>\n",
       "      <th>270</th>\n",
       "      <td>BU18FA04</td>\n",
       "      <td>C</td>\n",
       "      <td>ff8</td>\n",
       "      <td>fi01</td>\n",
       "      <td>trolleite</td>\n",
       "      <td>NaN</td>\n",
       "      <td>NaN</td>\n",
       "      <td>L - V</td>\n",
       "      <td>NaN</td>\n",
       "      <td>NaN</td>\n",
       "      <td>...</td>\n",
       "      <td>0.016442</td>\n",
       "      <td>0.061387</td>\n",
       "      <td>NaN</td>\n",
       "      <td>4283.034906</td>\n",
       "      <td>0.428303</td>\n",
       "      <td>70924.559440</td>\n",
       "      <td>7.092456</td>\n",
       "      <td>NaN</td>\n",
       "      <td>NaN</td>\n",
       "      <td>NaN</td>\n",
       "    </tr>\n",
       "    <tr>\n",
       "      <th>271</th>\n",
       "      <td>BU18FA04</td>\n",
       "      <td>C</td>\n",
       "      <td>ff8</td>\n",
       "      <td>fi03</td>\n",
       "      <td>trolleite</td>\n",
       "      <td>NaN</td>\n",
       "      <td>NaN</td>\n",
       "      <td>L - V</td>\n",
       "      <td>NaN</td>\n",
       "      <td>NaN</td>\n",
       "      <td>...</td>\n",
       "      <td>0.030185</td>\n",
       "      <td>0.140085</td>\n",
       "      <td>50.656876</td>\n",
       "      <td>577.125344</td>\n",
       "      <td>0.057713</td>\n",
       "      <td>70020.444397</td>\n",
       "      <td>7.002044</td>\n",
       "      <td>NaN</td>\n",
       "      <td>NaN</td>\n",
       "      <td>NaN</td>\n",
       "    </tr>\n",
       "    <tr>\n",
       "      <th>272</th>\n",
       "      <td>BU18FA04</td>\n",
       "      <td>C</td>\n",
       "      <td>ff8</td>\n",
       "      <td>fi04</td>\n",
       "      <td>trolleite</td>\n",
       "      <td>NaN</td>\n",
       "      <td>NaN</td>\n",
       "      <td>L - V - S</td>\n",
       "      <td>NaN</td>\n",
       "      <td>NaN</td>\n",
       "      <td>...</td>\n",
       "      <td>0.036742</td>\n",
       "      <td>0.109273</td>\n",
       "      <td>6.744493</td>\n",
       "      <td>1597.285216</td>\n",
       "      <td>0.159729</td>\n",
       "      <td>61168.018053</td>\n",
       "      <td>6.116802</td>\n",
       "      <td>NaN</td>\n",
       "      <td>NaN</td>\n",
       "      <td>NaN</td>\n",
       "    </tr>\n",
       "    <tr>\n",
       "      <th>273</th>\n",
       "      <td>BU18FA04</td>\n",
       "      <td>C</td>\n",
       "      <td>ff8</td>\n",
       "      <td>fi05</td>\n",
       "      <td>trolleite</td>\n",
       "      <td>NaN</td>\n",
       "      <td>NaN</td>\n",
       "      <td>L - V</td>\n",
       "      <td>NaN</td>\n",
       "      <td>NaN</td>\n",
       "      <td>...</td>\n",
       "      <td>0.030026</td>\n",
       "      <td>0.150163</td>\n",
       "      <td>NaN</td>\n",
       "      <td>129.191713</td>\n",
       "      <td>0.012919</td>\n",
       "      <td>55756.116360</td>\n",
       "      <td>5.575612</td>\n",
       "      <td>NaN</td>\n",
       "      <td>NaN</td>\n",
       "      <td>NaN</td>\n",
       "    </tr>\n",
       "  </tbody>\n",
       "</table>\n",
       "<p>274 rows × 65 columns</p>\n",
       "</div>"
      ],
      "text/plain": [
       "          sample piece field analysis       Host  Length  Width     Phases  \\\n",
       "0       BU18FA22     A   ff1     fi01     quartz     9.1    7.4      L - V   \n",
       "1       BU18FA22     A   ff1     fi02     quartz     9.8    7.8      L - V   \n",
       "2       BU18FA22     A   ff2     fi01     quartz    24.8   13.3      L - V   \n",
       "3       BU18FA22     A   ff2     fi02     quartz    13.8    8.9      L - V   \n",
       "4       BU18FA22     A   ff2     fi03     quartz    14.1   10.2      L - V   \n",
       "..           ...   ...   ...      ...        ...     ...    ...        ...   \n",
       "269  BU18FA19(2)     A   ff1    fi010   augelite     NaN    NaN      L - V   \n",
       "270     BU18FA04     C   ff8     fi01  trolleite     NaN    NaN      L - V   \n",
       "271     BU18FA04     C   ff8     fi03  trolleite     NaN    NaN      L - V   \n",
       "272     BU18FA04     C   ff8     fi04  trolleite     NaN    NaN  L - V - S   \n",
       "273     BU18FA04     C   ff8     fi05  trolleite     NaN    NaN      L - V   \n",
       "\n",
       "     VL (%)  VV (%)  ...       Cs%        B%         P%         diva  \\\n",
       "0      75.0    25.0  ...       NaN       NaN        NaN          NaN   \n",
       "1      72.0    28.0  ...       NaN       NaN        NaN          NaN   \n",
       "2      73.0    27.0  ...  0.063699  0.227851        NaN  5474.342668   \n",
       "3      80.0    20.0  ...       NaN       NaN        NaN   854.335922   \n",
       "4      77.0    23.0  ...       NaN       NaN        NaN          NaN   \n",
       "..      ...     ...  ...       ...       ...        ...          ...   \n",
       "269     NaN     NaN  ...  0.056746  0.181670   8.762810          NaN   \n",
       "270     NaN     NaN  ...  0.016442  0.061387        NaN  4283.034906   \n",
       "271     NaN     NaN  ...  0.030185  0.140085  50.656876   577.125344   \n",
       "272     NaN     NaN  ...  0.036742  0.109273   6.744493  1597.285216   \n",
       "273     NaN     NaN  ...  0.030026  0.150163        NaN   129.191713   \n",
       "\n",
       "        diva%       Alkalis  Alkalis%  XCO2(mol%)  XN2(mol%)  XCH4(mol%)  \n",
       "0         NaN           NaN       NaN       0.959      0.041       0.000  \n",
       "1         NaN           NaN       NaN       0.937      0.063       0.000  \n",
       "2    0.547434  66623.328211  6.662333       0.908      0.092       0.000  \n",
       "3    0.085434  79029.483325  7.902948       0.860      0.140       0.000  \n",
       "4         NaN           NaN       NaN       0.826      0.173       0.001  \n",
       "..        ...           ...       ...         ...        ...         ...  \n",
       "269       NaN  73632.195509  7.363220         NaN        NaN         NaN  \n",
       "270  0.428303  70924.559440  7.092456         NaN        NaN         NaN  \n",
       "271  0.057713  70020.444397  7.002044         NaN        NaN         NaN  \n",
       "272  0.159729  61168.018053  6.116802         NaN        NaN         NaN  \n",
       "273  0.012919  55756.116360  5.575612         NaN        NaN         NaN  \n",
       "\n",
       "[274 rows x 65 columns]"
      ]
     },
     "execution_count": 7,
     "metadata": {},
     "output_type": "execute_result"
    }
   ],
   "source": [
    "df_FI = df_thermo.merge(df_LA, \n",
    "                        on=['sample','piece','field','analysis','Host'],\n",
    "                        how='outer')\n",
    "\n",
    "df_FI = df_FI.merge(df_Raman,\n",
    "                    on=['sample','piece','field','analysis'],\n",
    "                    how='left') \n",
    "\n",
    "df_FI"
   ]
  },
  {
   "cell_type": "code",
   "execution_count": 9,
   "id": "1243de13",
   "metadata": {},
   "outputs": [
    {
     "name": "stdout",
     "output_type": "stream",
     "text": [
      "Index(['sample', 'piece', 'field', 'analysis', 'Host', 'Length', 'Width',\n",
      "       'Phases', 'VL (%)', 'VV (%)', 'Tm CO2', 'Te', 'Tm Hh', 'Tm H2O',\n",
      "       'Tm CL', 'Th CO2', 'Hmg Mode', 'salinity(NaCleq wt%)',\n",
      "       'salChen(NaCleq wt%)', 'salBod(NaCleq%)', 'Li', 'B', 'Na', 'Mg', 'Al',\n",
      "       'Si', 'P', 'K', 'Ti', 'Mn', 'Rb', 'Sr', 'Nb', 'Sn', 'Cs', 'Ba', 'Ta',\n",
      "       'W', 'Ca', 'Fe', 'NbTa', 'Nb/Ta', 'Li/Na', 'K/Na', 'K/Cs', 'K/Rb',\n",
      "       'Cs/Na', 'Rb/Na', 'Rb/Cs', 'Ta#', 'Mn#', 'Na%', 'Li%', 'K%', 'Rb%',\n",
      "       'Cs%', 'B%', 'P%', 'diva', 'diva%', 'Alkalis', 'Alkalis%', 'XCO2(mol%)',\n",
      "       'XN2(mol%)', 'XCH4(mol%)', 'Na/Li', 'Na/K', 'K/Li', 'Cs/Li', 'Rb/Li',\n",
      "       'Ca/Na', 'Fe/Na', 'Ca/Al', 'Fe/Al', 'FeMn', 'Al_idx', 'CO2', 'N2',\n",
      "       'CH4', 'N2/CO2', 'XKClmol', 'XKCl', 'salt(KNaCl%)', 'stage', 'type'],\n",
      "      dtype='object')\n"
     ]
    },
    {
     "data": {
      "text/html": [
       "<div>\n",
       "<style scoped>\n",
       "    .dataframe tbody tr th:only-of-type {\n",
       "        vertical-align: middle;\n",
       "    }\n",
       "\n",
       "    .dataframe tbody tr th {\n",
       "        vertical-align: top;\n",
       "    }\n",
       "\n",
       "    .dataframe thead th {\n",
       "        text-align: right;\n",
       "    }\n",
       "</style>\n",
       "<table border=\"1\" class=\"dataframe\">\n",
       "  <thead>\n",
       "    <tr style=\"text-align: right;\">\n",
       "      <th></th>\n",
       "      <th>sample</th>\n",
       "      <th>piece</th>\n",
       "      <th>field</th>\n",
       "      <th>analysis</th>\n",
       "      <th>Host</th>\n",
       "      <th>Length</th>\n",
       "      <th>Width</th>\n",
       "      <th>Phases</th>\n",
       "      <th>VL (%)</th>\n",
       "      <th>VV (%)</th>\n",
       "      <th>...</th>\n",
       "      <th>Al_idx</th>\n",
       "      <th>CO2</th>\n",
       "      <th>N2</th>\n",
       "      <th>CH4</th>\n",
       "      <th>N2/CO2</th>\n",
       "      <th>XKClmol</th>\n",
       "      <th>XKCl</th>\n",
       "      <th>salt(KNaCl%)</th>\n",
       "      <th>stage</th>\n",
       "      <th>type</th>\n",
       "    </tr>\n",
       "  </thead>\n",
       "  <tbody>\n",
       "    <tr>\n",
       "      <th>0</th>\n",
       "      <td>BU18FA22</td>\n",
       "      <td>A</td>\n",
       "      <td>ff1</td>\n",
       "      <td>fi01</td>\n",
       "      <td>quartz</td>\n",
       "      <td>9.1</td>\n",
       "      <td>7.4</td>\n",
       "      <td>L - V</td>\n",
       "      <td>75.0</td>\n",
       "      <td>25.0</td>\n",
       "      <td>...</td>\n",
       "      <td>NaN</td>\n",
       "      <td>95.9</td>\n",
       "      <td>4.1</td>\n",
       "      <td>0.0</td>\n",
       "      <td>0.042753</td>\n",
       "      <td>NaN</td>\n",
       "      <td>NaN</td>\n",
       "      <td>NaN</td>\n",
       "      <td>qtz</td>\n",
       "      <td>type2A</td>\n",
       "    </tr>\n",
       "    <tr>\n",
       "      <th>1</th>\n",
       "      <td>BU18FA22</td>\n",
       "      <td>A</td>\n",
       "      <td>ff1</td>\n",
       "      <td>fi02</td>\n",
       "      <td>quartz</td>\n",
       "      <td>9.8</td>\n",
       "      <td>7.8</td>\n",
       "      <td>L - V</td>\n",
       "      <td>72.0</td>\n",
       "      <td>28.0</td>\n",
       "      <td>...</td>\n",
       "      <td>NaN</td>\n",
       "      <td>93.7</td>\n",
       "      <td>6.3</td>\n",
       "      <td>0.0</td>\n",
       "      <td>0.067236</td>\n",
       "      <td>NaN</td>\n",
       "      <td>NaN</td>\n",
       "      <td>NaN</td>\n",
       "      <td>qtz</td>\n",
       "      <td>type2A</td>\n",
       "    </tr>\n",
       "    <tr>\n",
       "      <th>2</th>\n",
       "      <td>BU18FA22</td>\n",
       "      <td>A</td>\n",
       "      <td>ff2</td>\n",
       "      <td>fi01</td>\n",
       "      <td>quartz</td>\n",
       "      <td>24.8</td>\n",
       "      <td>13.3</td>\n",
       "      <td>L - V</td>\n",
       "      <td>73.0</td>\n",
       "      <td>27.0</td>\n",
       "      <td>...</td>\n",
       "      <td>0.009865</td>\n",
       "      <td>90.8</td>\n",
       "      <td>9.2</td>\n",
       "      <td>0.0</td>\n",
       "      <td>0.101322</td>\n",
       "      <td>0.290497</td>\n",
       "      <td>0.410489</td>\n",
       "      <td>16.342066</td>\n",
       "      <td>qtz</td>\n",
       "      <td>type2A</td>\n",
       "    </tr>\n",
       "    <tr>\n",
       "      <th>3</th>\n",
       "      <td>BU18FA22</td>\n",
       "      <td>A</td>\n",
       "      <td>ff2</td>\n",
       "      <td>fi02</td>\n",
       "      <td>quartz</td>\n",
       "      <td>13.8</td>\n",
       "      <td>8.9</td>\n",
       "      <td>L - V</td>\n",
       "      <td>80.0</td>\n",
       "      <td>20.0</td>\n",
       "      <td>...</td>\n",
       "      <td>NaN</td>\n",
       "      <td>86.0</td>\n",
       "      <td>14.0</td>\n",
       "      <td>0.0</td>\n",
       "      <td>0.162791</td>\n",
       "      <td>0.494024</td>\n",
       "      <td>0.624132</td>\n",
       "      <td>NaN</td>\n",
       "      <td>qtz</td>\n",
       "      <td>type2A</td>\n",
       "    </tr>\n",
       "    <tr>\n",
       "      <th>4</th>\n",
       "      <td>BU18FA22</td>\n",
       "      <td>A</td>\n",
       "      <td>ff2</td>\n",
       "      <td>fi03</td>\n",
       "      <td>quartz</td>\n",
       "      <td>14.1</td>\n",
       "      <td>10.2</td>\n",
       "      <td>L - V</td>\n",
       "      <td>77.0</td>\n",
       "      <td>23.0</td>\n",
       "      <td>...</td>\n",
       "      <td>NaN</td>\n",
       "      <td>82.6</td>\n",
       "      <td>17.3</td>\n",
       "      <td>0.1</td>\n",
       "      <td>0.209443</td>\n",
       "      <td>NaN</td>\n",
       "      <td>NaN</td>\n",
       "      <td>NaN</td>\n",
       "      <td>qtz</td>\n",
       "      <td>type2A</td>\n",
       "    </tr>\n",
       "    <tr>\n",
       "      <th>...</th>\n",
       "      <td>...</td>\n",
       "      <td>...</td>\n",
       "      <td>...</td>\n",
       "      <td>...</td>\n",
       "      <td>...</td>\n",
       "      <td>...</td>\n",
       "      <td>...</td>\n",
       "      <td>...</td>\n",
       "      <td>...</td>\n",
       "      <td>...</td>\n",
       "      <td>...</td>\n",
       "      <td>...</td>\n",
       "      <td>...</td>\n",
       "      <td>...</td>\n",
       "      <td>...</td>\n",
       "      <td>...</td>\n",
       "      <td>...</td>\n",
       "      <td>...</td>\n",
       "      <td>...</td>\n",
       "      <td>...</td>\n",
       "      <td>...</td>\n",
       "    </tr>\n",
       "    <tr>\n",
       "      <th>269</th>\n",
       "      <td>BU18FA19(2)</td>\n",
       "      <td>A</td>\n",
       "      <td>ff1</td>\n",
       "      <td>fi010</td>\n",
       "      <td>augelite</td>\n",
       "      <td>NaN</td>\n",
       "      <td>NaN</td>\n",
       "      <td>L - V</td>\n",
       "      <td>NaN</td>\n",
       "      <td>NaN</td>\n",
       "      <td>...</td>\n",
       "      <td>NaN</td>\n",
       "      <td>NaN</td>\n",
       "      <td>NaN</td>\n",
       "      <td>NaN</td>\n",
       "      <td>NaN</td>\n",
       "      <td>0.489855</td>\n",
       "      <td>0.620211</td>\n",
       "      <td>NaN</td>\n",
       "      <td>mag-hyd</td>\n",
       "      <td>type2A</td>\n",
       "    </tr>\n",
       "    <tr>\n",
       "      <th>270</th>\n",
       "      <td>BU18FA04</td>\n",
       "      <td>C</td>\n",
       "      <td>ff8</td>\n",
       "      <td>fi01</td>\n",
       "      <td>trolleite</td>\n",
       "      <td>NaN</td>\n",
       "      <td>NaN</td>\n",
       "      <td>L - V</td>\n",
       "      <td>NaN</td>\n",
       "      <td>NaN</td>\n",
       "      <td>...</td>\n",
       "      <td>NaN</td>\n",
       "      <td>NaN</td>\n",
       "      <td>NaN</td>\n",
       "      <td>NaN</td>\n",
       "      <td>NaN</td>\n",
       "      <td>0.629923</td>\n",
       "      <td>0.743247</td>\n",
       "      <td>NaN</td>\n",
       "      <td>mag</td>\n",
       "      <td>type2A</td>\n",
       "    </tr>\n",
       "    <tr>\n",
       "      <th>271</th>\n",
       "      <td>BU18FA04</td>\n",
       "      <td>C</td>\n",
       "      <td>ff8</td>\n",
       "      <td>fi03</td>\n",
       "      <td>trolleite</td>\n",
       "      <td>NaN</td>\n",
       "      <td>NaN</td>\n",
       "      <td>L - V</td>\n",
       "      <td>NaN</td>\n",
       "      <td>NaN</td>\n",
       "      <td>...</td>\n",
       "      <td>NaN</td>\n",
       "      <td>NaN</td>\n",
       "      <td>NaN</td>\n",
       "      <td>NaN</td>\n",
       "      <td>NaN</td>\n",
       "      <td>0.703163</td>\n",
       "      <td>0.801140</td>\n",
       "      <td>NaN</td>\n",
       "      <td>mag</td>\n",
       "      <td>type2A</td>\n",
       "    </tr>\n",
       "    <tr>\n",
       "      <th>272</th>\n",
       "      <td>BU18FA04</td>\n",
       "      <td>C</td>\n",
       "      <td>ff8</td>\n",
       "      <td>fi04</td>\n",
       "      <td>trolleite</td>\n",
       "      <td>NaN</td>\n",
       "      <td>NaN</td>\n",
       "      <td>L - V - S</td>\n",
       "      <td>NaN</td>\n",
       "      <td>NaN</td>\n",
       "      <td>...</td>\n",
       "      <td>NaN</td>\n",
       "      <td>NaN</td>\n",
       "      <td>NaN</td>\n",
       "      <td>NaN</td>\n",
       "      <td>NaN</td>\n",
       "      <td>0.607912</td>\n",
       "      <td>0.725034</td>\n",
       "      <td>NaN</td>\n",
       "      <td>mag</td>\n",
       "      <td>type1</td>\n",
       "    </tr>\n",
       "    <tr>\n",
       "      <th>273</th>\n",
       "      <td>BU18FA04</td>\n",
       "      <td>C</td>\n",
       "      <td>ff8</td>\n",
       "      <td>fi05</td>\n",
       "      <td>trolleite</td>\n",
       "      <td>NaN</td>\n",
       "      <td>NaN</td>\n",
       "      <td>L - V</td>\n",
       "      <td>NaN</td>\n",
       "      <td>NaN</td>\n",
       "      <td>...</td>\n",
       "      <td>NaN</td>\n",
       "      <td>NaN</td>\n",
       "      <td>NaN</td>\n",
       "      <td>NaN</td>\n",
       "      <td>NaN</td>\n",
       "      <td>0.100559</td>\n",
       "      <td>0.159763</td>\n",
       "      <td>NaN</td>\n",
       "      <td>mag</td>\n",
       "      <td>type2A</td>\n",
       "    </tr>\n",
       "  </tbody>\n",
       "</table>\n",
       "<p>274 rows × 85 columns</p>\n",
       "</div>"
      ],
      "text/plain": [
       "          sample piece field analysis       Host  Length  Width     Phases  \\\n",
       "0       BU18FA22     A   ff1     fi01     quartz     9.1    7.4      L - V   \n",
       "1       BU18FA22     A   ff1     fi02     quartz     9.8    7.8      L - V   \n",
       "2       BU18FA22     A   ff2     fi01     quartz    24.8   13.3      L - V   \n",
       "3       BU18FA22     A   ff2     fi02     quartz    13.8    8.9      L - V   \n",
       "4       BU18FA22     A   ff2     fi03     quartz    14.1   10.2      L - V   \n",
       "..           ...   ...   ...      ...        ...     ...    ...        ...   \n",
       "269  BU18FA19(2)     A   ff1    fi010   augelite     NaN    NaN      L - V   \n",
       "270     BU18FA04     C   ff8     fi01  trolleite     NaN    NaN      L - V   \n",
       "271     BU18FA04     C   ff8     fi03  trolleite     NaN    NaN      L - V   \n",
       "272     BU18FA04     C   ff8     fi04  trolleite     NaN    NaN  L - V - S   \n",
       "273     BU18FA04     C   ff8     fi05  trolleite     NaN    NaN      L - V   \n",
       "\n",
       "     VL (%)  VV (%)  ...    Al_idx   CO2    N2  CH4    N2/CO2   XKClmol  \\\n",
       "0      75.0    25.0  ...       NaN  95.9   4.1  0.0  0.042753       NaN   \n",
       "1      72.0    28.0  ...       NaN  93.7   6.3  0.0  0.067236       NaN   \n",
       "2      73.0    27.0  ...  0.009865  90.8   9.2  0.0  0.101322  0.290497   \n",
       "3      80.0    20.0  ...       NaN  86.0  14.0  0.0  0.162791  0.494024   \n",
       "4      77.0    23.0  ...       NaN  82.6  17.3  0.1  0.209443       NaN   \n",
       "..      ...     ...  ...       ...   ...   ...  ...       ...       ...   \n",
       "269     NaN     NaN  ...       NaN   NaN   NaN  NaN       NaN  0.489855   \n",
       "270     NaN     NaN  ...       NaN   NaN   NaN  NaN       NaN  0.629923   \n",
       "271     NaN     NaN  ...       NaN   NaN   NaN  NaN       NaN  0.703163   \n",
       "272     NaN     NaN  ...       NaN   NaN   NaN  NaN       NaN  0.607912   \n",
       "273     NaN     NaN  ...       NaN   NaN   NaN  NaN       NaN  0.100559   \n",
       "\n",
       "         XKCl  salt(KNaCl%)    stage    type  \n",
       "0         NaN           NaN      qtz  type2A  \n",
       "1         NaN           NaN      qtz  type2A  \n",
       "2    0.410489     16.342066      qtz  type2A  \n",
       "3    0.624132           NaN      qtz  type2A  \n",
       "4         NaN           NaN      qtz  type2A  \n",
       "..        ...           ...      ...     ...  \n",
       "269  0.620211           NaN  mag-hyd  type2A  \n",
       "270  0.743247           NaN      mag  type2A  \n",
       "271  0.801140           NaN      mag  type2A  \n",
       "272  0.725034           NaN      mag   type1  \n",
       "273  0.159763           NaN      mag  type2A  \n",
       "\n",
       "[274 rows x 85 columns]"
      ]
     },
     "execution_count": 9,
     "metadata": {},
     "output_type": "execute_result"
    }
   ],
   "source": [
    "# --- calculate ratios of columns in the dataframe\n",
    "\n",
    "df_FI[\"Na/Li\"] = df_FI['Na'] / df_FI['Li']\n",
    "df_FI[\"Na/K\"] = df_FI['Na'] / df_FI['K']\n",
    "\n",
    "df_FI[\"K/Cs\"] = df_FI['K'] / df_FI['Cs']\n",
    "df_FI[\"K/Rb\"] = df_FI['K'] / df_FI['Rb']\n",
    "df_FI[\"K/Li\"] = df_FI['K'] / df_FI['Li']\n",
    "\n",
    "df_FI[\"Cs/Li\"] = df_FI['Cs'] / df_FI['Li']\n",
    "df_FI[\"Rb/Li\"] = df_FI['Rb'] / df_FI['Li']\n",
    "\n",
    "df_FI[\"Rb/Cs\"] = df_FI['Rb'] / df_FI['Cs']\n",
    "\n",
    "df_FI[\"Cs/Na\"] = (df_FI['Cs'] / df_FI['Na'])\n",
    "df_FI[\"Rb/Na\"] = (df_FI['Rb'] / df_FI['Na'])\n",
    "\n",
    "df_FI[\"Ca/Na\"] = df_FI['Ca'] / df_FI['Na']\n",
    "df_FI[\"Fe/Na\"] = df_FI['Fe'] / df_FI['Na']\n",
    "df_FI[\"Ca/Al\"] = df_FI['Ca'] / df_FI['Al']\n",
    "df_FI[\"Fe/Al\"] = df_FI['Fe'] / df_FI['Al']\n",
    "\n",
    "df_FI[\"FeMn\"] = df_FI['Fe'] + df_FI['Mn']\n",
    "\n",
    "df_FI[\"CO2\"] = df_FI['XCO2(mol%)']*100\n",
    "df_FI[\"N2\"] = df_FI['XN2(mol%)']*100\n",
    "df_FI[\"CH4\"] = df_FI['XCH4(mol%)']*100\n",
    "df_FI[\"N2/CO2\"] = df_FI['XN2(mol%)']/ df_FI['XCO2(mol%)']\n",
    "\n",
    "\n",
    "# --- classify dataframe according to host phase\n",
    "\n",
    "MAG = ((df_FI['Host'] == ('trolleite'))| (df_FI['Host'] == ('wyllieite')))\n",
    "\n",
    "MH = ((df_FI['Host'] == ('bertossaite')) | (df_FI['Host'] == ('augelite')) | (df_FI['Host'] == ('scorzalite')))\n",
    "\n",
    "HYD = (df_FI['Host'] == ('brazilianite'))\n",
    "\n",
    "OUTRO = (df_FI['Host'] == ('quartz'))\n",
    "\n",
    "df_FI.loc[MAG, 'stage'] = 'mag'\n",
    "df_FI.loc[MH, 'stage'] = 'mag-hyd'\n",
    "df_FI.loc[HYD, 'stage'] = 'hyd'\n",
    "df_FI.loc[OUTRO, 'stage'] = 'qtz'\n",
    "\n",
    "# --- classify dataframe according to phases present in inclusion\n",
    "\n",
    "type1 = ((df_FI['Phases'] == ('L - V - S'))| (df_FI['Phases'] == ('S - L - V')))\n",
    "type2A = ((df_FI['Phases'] == ('L - V')))\n",
    "type2B = ((df_FI['Phases'] == ('V - L')))\n",
    "type3 = ((df_FI['Phases'] == ('L - L - V')))\n",
    "\n",
    "df_FI.loc[type1, 'type'] = 'type1'\n",
    "df_FI.loc[type2A, 'type'] = 'type2A'\n",
    "df_FI.loc[type2B, 'type'] = 'type2B'\n",
    "df_FI.loc[type3, 'type'] = 'type3'\n",
    "\n",
    "print(df_FI.columns)\n",
    "\n",
    "df_FI.to_csv(root_dir+'/Data/Buranga_FI_combined_datasets.csv',index=True)\n",
    "\n",
    "df_FI"
   ]
  },
  {
   "cell_type": "code",
   "execution_count": 10,
   "id": "a4482715",
   "metadata": {},
   "outputs": [],
   "source": [
    "# --- create color reference for observed minerals\n",
    "colors_map = {'augelite' : 'rgb(51,255,51)',\n",
    "          'bertossaite' : 'rgb(204,121,167)',\n",
    "          'brazilianite' : 'rgb(250,120,10)',\n",
    "          'quartz' : 'rgb(240,228,66)',\n",
    "          'scorzalite' : 'rgb(0,0,255)',\n",
    "          'trolleite' : 'rgb(0,158,115)',\n",
    "          'wyllieite' : 'rgb(0,170,250)',\n",
    "             'rosemaryite' : 'rgb(250,10,10)',\n",
    "             'montebrasite' : 'rgb(255,150,150)'}\n",
    "\n",
    "Host_list = [\"wyllieite\", \"trolleite\", \"bertossaite\",'scorzalite',\n",
    "             'augelite','brazilianite', 'quartz']\n",
    "\n",
    "# --- break the dataset in to subsets according to host mineral\n",
    "df_wyl = df_FI.query('Host == \"wyllieite\"')\n",
    "df_trl = df_FI.query('Host == \"trolleite\"')\n",
    "df_bts = df_FI.query('Host == \"bertossaite\"')\n",
    "df_aug = df_FI.query('Host == \"augelite\"')\n",
    "df_brz = df_FI.query('Host == \"brazilianite\"')\n",
    "df_scz = df_FI.query('Host == \"scorzalite\"')\n",
    "df_qtz = df_FI.query('Host == \"quartz\"')\n",
    "\n",
    "df_mag = pd.concat([df_wyl, df_trl])\n",
    "\n",
    "df_MH = pd.concat([df_bts, df_aug,df_scz])"
   ]
  },
  {
   "cell_type": "code",
   "execution_count": 13,
   "id": "fc5c620f",
   "metadata": {},
   "outputs": [
    {
     "data": {
      "text/html": [
       "<div>\n",
       "<style scoped>\n",
       "    .dataframe tbody tr th:only-of-type {\n",
       "        vertical-align: middle;\n",
       "    }\n",
       "\n",
       "    .dataframe tbody tr th {\n",
       "        vertical-align: top;\n",
       "    }\n",
       "\n",
       "    .dataframe thead th {\n",
       "        text-align: right;\n",
       "    }\n",
       "</style>\n",
       "<table border=\"1\" class=\"dataframe\">\n",
       "  <thead>\n",
       "    <tr style=\"text-align: right;\">\n",
       "      <th></th>\n",
       "      <th>CO2</th>\n",
       "      <th>N2</th>\n",
       "      <th>CH4</th>\n",
       "      <th>N2/CO2</th>\n",
       "    </tr>\n",
       "  </thead>\n",
       "  <tbody>\n",
       "    <tr>\n",
       "      <th>Count</th>\n",
       "      <td>37</td>\n",
       "      <td>37</td>\n",
       "      <td>37</td>\n",
       "      <td>37</td>\n",
       "    </tr>\n",
       "    <tr>\n",
       "      <th>Min</th>\n",
       "      <td>82.6</td>\n",
       "      <td>0.0</td>\n",
       "      <td>0.0</td>\n",
       "      <td>0.0</td>\n",
       "    </tr>\n",
       "    <tr>\n",
       "      <th>Max</th>\n",
       "      <td>100.0</td>\n",
       "      <td>17.3</td>\n",
       "      <td>0.5</td>\n",
       "      <td>0.209443</td>\n",
       "    </tr>\n",
       "    <tr>\n",
       "      <th>Median</th>\n",
       "      <td>93.6</td>\n",
       "      <td>6.4</td>\n",
       "      <td>0.0</td>\n",
       "      <td>0.068376</td>\n",
       "    </tr>\n",
       "    <tr>\n",
       "      <th>STD</th>\n",
       "      <td>5.118008</td>\n",
       "      <td>5.10025</td>\n",
       "      <td>0.084452</td>\n",
       "      <td>0.06137</td>\n",
       "    </tr>\n",
       "    <tr>\n",
       "      <th>Host</th>\n",
       "      <td>quartz</td>\n",
       "      <td>quartz</td>\n",
       "      <td>quartz</td>\n",
       "      <td>quartz</td>\n",
       "    </tr>\n",
       "    <tr>\n",
       "      <th>Phases</th>\n",
       "      <td>L - V</td>\n",
       "      <td>L - V</td>\n",
       "      <td>L - V</td>\n",
       "      <td>L - V</td>\n",
       "    </tr>\n",
       "  </tbody>\n",
       "</table>\n",
       "</div>"
      ],
      "text/plain": [
       "             CO2       N2       CH4    N2/CO2\n",
       "Count         37       37        37        37\n",
       "Min         82.6      0.0       0.0       0.0\n",
       "Max        100.0     17.3       0.5  0.209443\n",
       "Median      93.6      6.4       0.0  0.068376\n",
       "STD     5.118008  5.10025  0.084452   0.06137\n",
       "Host      quartz   quartz    quartz    quartz\n",
       "Phases     L - V    L - V     L - V     L - V"
      ]
     },
     "execution_count": 13,
     "metadata": {},
     "output_type": "execute_result"
    }
   ],
   "source": [
    "# --- statistical description of selected dataframes\n",
    "to_stat = df_qtz.query('type == \"type2A\"') #select the desired dataframe\n",
    "\n",
    "    # -- select the relevant columns to analyze - only numeric values\n",
    "to_stat = to_stat[['Length', 'Width','VL (%)', 'VV (%)', \n",
    "                   'Tm CO2', 'Te', 'Tm Hh', 'Tm H2O','Tm CL', 'Th CO2', \n",
    "                   'salinity(NaCleq wt%)','salChen(NaCleq wt%)', 'salBod(NaCleq%)', \n",
    "                   'CO2','N2', 'CH4', 'N2/CO2', \n",
    "                   'Li', 'B', 'Na', 'Mg', 'K', 'Ca','Ti', 'Mn', 'Fe', 'Rb', 'Sr', 'Nb', 'Sn', 'Cs', 'Ba', 'Ta','W',   \n",
    "                   'Nb/Ta', 'Li/Na', 'K/Na', 'K/Cs', 'K/Rb','Cs/Na', 'Rb/Na', 'Rb/Cs', 'Alkalis%',\n",
    "                   'Na/Li', 'Na/K', 'Ca/Na', 'Fe/Na', 'Ca/Al','Fe/Al', 'salt(KNaCl%)']]\n",
    "\n",
    "    # --- get statistical values from the dataframe\n",
    "stat_count = to_stat.count()\n",
    "stat_med = to_stat.median()\n",
    "stat_std = to_stat.std()\n",
    "stat_max = to_stat.max()\n",
    "stat_min = to_stat.min()\n",
    "\n",
    "\n",
    "stat_FI = pd.DataFrame() # create an empty dataframe to populate later\n",
    "\n",
    "lst = [to_stat.iloc[0]['Host'],to_stat.iloc[0]['Phases'],to_stat.iloc[0]['type']] #list with relevant data info \n",
    "\n",
    "    # --- populate an empty dataframe with the statistical calculations\n",
    "stat_FI['Count'] = stat_count\n",
    "stat_FI['Min'] = stat_min\n",
    "stat_FI['Max'] = stat_max\n",
    "stat_FI['Median'] = stat_med \n",
    "stat_FI['STD'] = stat_std\n",
    "stat_FI['Host'] = lst[0]\n",
    "stat_FI['Phases'] = lst[1]\n",
    "\n",
    "stat_FI = stat_FI.T\n",
    "\n",
    "# stat_FI.to_csv(data_dir+'Buranga_FI_stat_mol.csv',index=True)\n",
    "\n",
    "stat_FI[['CO2','N2','CH4','N2/CO2']]"
   ]
  },
  {
   "cell_type": "markdown",
   "id": "06ea372f",
   "metadata": {},
   "source": [
    "# Binary plots"
   ]
  },
  {
   "cell_type": "code",
   "execution_count": 17,
   "id": "bac31e30",
   "metadata": {},
   "outputs": [
    {
     "data": {
      "application/vnd.plotly.v1+json": {
       "config": {
        "plotlyServerURL": "https://plot.ly"
       },
       "data": [
        {
         "customdata": [
          [
           "BU18FA19",
           "D",
           "ffore2",
           "fi06",
           "V - L",
           "quartz"
          ]
         ],
         "hovertemplate": "Host=%{customdata[5]}<br>type=type2B<br>Cs/Li=%{x}<br>K/Li=%{y}<br>sample=%{customdata[0]}<br>piece=%{customdata[1]}<br>field=%{customdata[2]}<br>analysis=%{customdata[3]}<br>Phases=%{customdata[4]}<extra></extra>",
         "legendgroup": "quartz, type2B",
         "marker": {
          "color": "rgb(240,228,66)",
          "line": {
           "color": "DarkSlateGrey",
           "width": 0.8
          },
          "size": 10,
          "symbol": "x"
         },
         "mode": "markers",
         "name": "quartz, type2B",
         "opacity": 0.85,
         "orientation": "v",
         "showlegend": true,
         "type": "scatter",
         "x": [
          null
         ],
         "xaxis": "x",
         "y": [
          null
         ],
         "yaxis": "y"
        },
        {
         "customdata": [
          [
           "BU18FA22",
           "A",
           "ff1",
           "fi01",
           "L - V",
           "quartz"
          ],
          [
           "BU18FA22",
           "A",
           "ff1",
           "fi02",
           "L - V",
           "quartz"
          ],
          [
           "BU18FA22",
           "A",
           "ff2",
           "fi01",
           "L - V",
           "quartz"
          ],
          [
           "BU18FA22",
           "A",
           "ff2",
           "fi02",
           "L - V",
           "quartz"
          ],
          [
           "BU18FA22",
           "A",
           "ff2",
           "fi03",
           "L - V",
           "quartz"
          ],
          [
           "BU18FA22",
           "A",
           "ff2",
           "fi04",
           "L - V",
           "quartz"
          ],
          [
           "BU18FA22",
           "A",
           "ff2",
           "fi04",
           "L - V",
           "quartz"
          ],
          [
           "BU18FA22",
           "A",
           "ff2",
           "fi05",
           "L - V",
           "quartz"
          ],
          [
           "BU18FA22",
           "A",
           "ff3b",
           "fi01",
           "L - V",
           "quartz"
          ],
          [
           "BU18FA22",
           "A",
           "ff3b",
           "fi02",
           "L - V",
           "quartz"
          ],
          [
           "BU18FA22",
           "A",
           "ff3b",
           "fi03",
           "L - V",
           "quartz"
          ],
          [
           "BU18FA22",
           "A",
           "ff3b",
           "fi04",
           "L - V",
           "quartz"
          ],
          [
           "BU18FA22",
           "A",
           "ff3b",
           "fi05",
           "L - V",
           "quartz"
          ],
          [
           "BU18FA22",
           "A",
           "ff3a",
           "fi01",
           "L - V",
           "quartz"
          ],
          [
           "BU18FA22",
           "A",
           "ff3a",
           "fi02",
           "L - V",
           "quartz"
          ],
          [
           "BU18FA22",
           "A",
           "ff3a",
           "fi03",
           "L - V",
           "quartz"
          ],
          [
           "BU18FA22",
           "A",
           "ff3a",
           "fi04",
           "L - V",
           "quartz"
          ],
          [
           "BU18FA22",
           "A",
           "ff3a",
           "fi05",
           "L - V",
           "quartz"
          ],
          [
           "BU18FA22",
           "B",
           "ff1b",
           "fi01",
           "L - V",
           "quartz"
          ],
          [
           "BU18FA22",
           "B",
           "ff1b",
           "fi02",
           "L - V",
           "quartz"
          ],
          [
           "BU18FA22",
           "B",
           "ff1b",
           "fi03",
           "L - V",
           "quartz"
          ],
          [
           "BU18FA22",
           "B",
           "ff1b",
           "fi04",
           "L - V",
           "quartz"
          ],
          [
           "BU18FA22",
           "B",
           "ff1b",
           "fi05",
           "L - V",
           "quartz"
          ],
          [
           "BU18FA19",
           "D",
           "ffore2",
           "fi01",
           "L - V",
           "quartz"
          ],
          [
           "BU18FA19",
           "D",
           "ffore2",
           "fi02",
           "L - V",
           "quartz"
          ],
          [
           "BU18FA19",
           "D",
           "ffore2",
           "fi03",
           "L - V",
           "quartz"
          ],
          [
           "BU18FA19",
           "D",
           "ffore2",
           "fi04",
           "L - V",
           "quartz"
          ],
          [
           "BU18FA19",
           "D",
           "ffore2",
           "fi05",
           "L - V",
           "quartz"
          ],
          [
           "BU18FA19",
           "D",
           "ffore2",
           "fi07",
           "L - V",
           "quartz"
          ],
          [
           "BU18FA19",
           "D",
           "ffore2",
           "fi08",
           "L - V",
           "quartz"
          ],
          [
           "BU18FA19",
           "D",
           "ffore2",
           "fi09",
           "L - V",
           "quartz"
          ],
          [
           "BU18FA19",
           "D",
           "ffore2",
           "fi011",
           "L - V",
           "quartz"
          ],
          [
           "BU18FA19",
           "D",
           "ffore2",
           "fi012",
           "L - V",
           "quartz"
          ],
          [
           "BU18FA19",
           "D",
           "ffore2",
           "fi013",
           "L - V",
           "quartz"
          ],
          [
           "BU18FA19",
           "E",
           "ff11b",
           "fi01",
           "L - V",
           "quartz"
          ],
          [
           "BU18FA19",
           "E",
           "ff11b",
           "fi02",
           "L - V",
           "quartz"
          ],
          [
           "BU18FA19",
           "E",
           "ff11b",
           "fi03",
           "L - V",
           "quartz"
          ],
          [
           "BU18FA19",
           "E",
           "ff11b",
           "fi04",
           "L - V",
           "quartz"
          ],
          [
           "BU18FA19",
           "E",
           "ff11b",
           "fi05",
           "L - V",
           "quartz"
          ],
          [
           "BU18FA19",
           "E",
           "ff11b",
           "fi06",
           "L - V",
           "quartz"
          ],
          [
           "BU18FA19",
           "E",
           "ff11b",
           "fi07",
           "L - V",
           "quartz"
          ],
          [
           "BU18FA19",
           "E",
           "ff11b",
           "fi08",
           "L - V",
           "quartz"
          ],
          [
           "BU18FA19",
           "E",
           "ff11b",
           "fi09",
           "L - V",
           "quartz"
          ],
          [
           "BU18FA19",
           "E",
           "ff11b",
           "fi010",
           "L - V",
           "quartz"
          ]
         ],
         "hovertemplate": "Host=%{customdata[5]}<br>type=type2A<br>Cs/Li=%{x}<br>K/Li=%{y}<br>sample=%{customdata[0]}<br>piece=%{customdata[1]}<br>field=%{customdata[2]}<br>analysis=%{customdata[3]}<br>Phases=%{customdata[4]}<extra></extra>",
         "legendgroup": "quartz, type2A",
         "marker": {
          "color": "rgb(240,228,66)",
          "line": {
           "color": "DarkSlateGrey",
           "width": 0.8
          },
          "size": 10,
          "symbol": "circle"
         },
         "mode": "markers",
         "name": "quartz, type2A",
         "opacity": 0.85,
         "orientation": "v",
         "showlegend": true,
         "type": "scatter",
         "x": [
          null,
          null,
          2.3275135391045993,
          null,
          null,
          null,
          null,
          null,
          1.3158179881388865,
          null,
          null,
          null,
          null,
          0.3518982073226039,
          null,
          null,
          0.37989450291019133,
          null,
          0.5119189743656044,
          null,
          null,
          null,
          null,
          null,
          null,
          null,
          null,
          null,
          null,
          null,
          null,
          null,
          null,
          null,
          null,
          null,
          0.013712976083976055,
          null,
          null,
          null,
          null,
          null,
          null,
          null
         ],
         "xaxis": "x",
         "y": [
          null,
          null,
          67.95289755907035,
          null,
          null,
          null,
          null,
          null,
          84.21461466293874,
          null,
          null,
          null,
          null,
          26.340965511324974,
          null,
          null,
          31.370955322670472,
          null,
          35.43238808966689,
          null,
          null,
          null,
          null,
          null,
          null,
          null,
          null,
          null,
          null,
          null,
          null,
          null,
          null,
          null,
          null,
          null,
          2.624921019908223,
          null,
          null,
          null,
          null,
          null,
          null,
          null
         ],
         "yaxis": "y"
        },
        {
         "customdata": [
          [
           "BU18FA32",
           "A",
           "ff1",
           "fi02",
           "L - L - V",
           "brazilianite"
          ],
          [
           "BU18FA32",
           "A",
           "ff1",
           "fi03",
           "L - L - V",
           "brazilianite"
          ],
          [
           "BU18FA32",
           "A",
           "ff1",
           "fi04",
           "L - L - V",
           "brazilianite"
          ],
          [
           "BU18FA32",
           "C",
           "ff1",
           "fi03",
           "L - L - V",
           "brazilianite"
          ],
          [
           "BU18FA32",
           "C",
           "ff1",
           "fi04",
           "L - L - V",
           "brazilianite"
          ],
          [
           "BU18FA32",
           "C",
           "ff1",
           "fi05",
           "L - L - V",
           "brazilianite"
          ]
         ],
         "hovertemplate": "Host=%{customdata[5]}<br>type=type3<br>Cs/Li=%{x}<br>K/Li=%{y}<br>sample=%{customdata[0]}<br>piece=%{customdata[1]}<br>field=%{customdata[2]}<br>analysis=%{customdata[3]}<br>Phases=%{customdata[4]}<extra></extra>",
         "legendgroup": "brazilianite, type3",
         "marker": {
          "color": "rgb(250,120,10)",
          "line": {
           "color": "DarkSlateGrey",
           "width": 0.8
          },
          "size": 10,
          "symbol": "square"
         },
         "mode": "markers",
         "name": "brazilianite, type3",
         "opacity": 0.85,
         "orientation": "v",
         "showlegend": true,
         "type": "scatter",
         "x": [
          null,
          0.3617963157235029,
          null,
          null,
          null,
          null
         ],
         "xaxis": "x",
         "y": [
          null,
          10.45095551770833,
          null,
          null,
          null,
          null
         ],
         "yaxis": "y"
        },
        {
         "customdata": [
          [
           "BU18FA32",
           "A",
           "ff1",
           "fi01",
           "L - V - S",
           "brazilianite"
          ],
          [
           "BU18FA32",
           "B",
           "ff2",
           "fi01",
           "L - V - S",
           "brazilianite"
          ],
          [
           "BU18FA32",
           "B",
           "ff2",
           "fi03",
           "L - V - S",
           "brazilianite"
          ],
          [
           "BU18FA32",
           "B",
           "ff2",
           "fi05",
           "L - V - S",
           "brazilianite"
          ],
          [
           "BU18FA02a",
           "A",
           "ff1",
           "fi01",
           "L - V - S",
           "brazilianite"
          ],
          [
           "BU18FA02a",
           "A",
           "ff1",
           "fi04",
           "L - V - S",
           "brazilianite"
          ],
          [
           "BU18FA02a",
           "B",
           "ff4",
           "fi01",
           "L - V - S",
           "brazilianite"
          ]
         ],
         "hovertemplate": "Host=%{customdata[5]}<br>type=type1<br>Cs/Li=%{x}<br>K/Li=%{y}<br>sample=%{customdata[0]}<br>piece=%{customdata[1]}<br>field=%{customdata[2]}<br>analysis=%{customdata[3]}<br>Phases=%{customdata[4]}<extra></extra>",
         "legendgroup": "brazilianite, type1",
         "marker": {
          "color": "rgb(250,120,10)",
          "line": {
           "color": "DarkSlateGrey",
           "width": 0.8
          },
          "size": 10,
          "symbol": "diamond"
         },
         "mode": "markers",
         "name": "brazilianite, type1",
         "opacity": 0.85,
         "orientation": "v",
         "showlegend": true,
         "type": "scatter",
         "x": [
          0.2081713768327223,
          null,
          null,
          null,
          null,
          null,
          0.5507592859817299
         ],
         "xaxis": "x",
         "y": [
          13.479744348482573,
          null,
          null,
          null,
          null,
          null,
          79.6133250254401
         ],
         "yaxis": "y"
        },
        {
         "customdata": [
          [
           "BU18FA32",
           "A",
           "ff1",
           "fi05",
           "L - V",
           "brazilianite"
          ],
          [
           "BU18FA32",
           "A",
           "ff1",
           "fi06",
           "L - V",
           "brazilianite"
          ],
          [
           "BU18FA32",
           "A",
           "ff1",
           "fi07",
           "L - V",
           "brazilianite"
          ],
          [
           "BU18FA32",
           "A",
           "ff1",
           "fi08",
           "L - V",
           "brazilianite"
          ],
          [
           "BU18FA32",
           "A",
           "ff1",
           "fi09",
           "L - V",
           "brazilianite"
          ],
          [
           "BU18FA32",
           "A",
           "ff1",
           "fi010",
           "L - V",
           "brazilianite"
          ],
          [
           "BU18FA32",
           "C",
           "ff1",
           "fi01",
           "L - V",
           "brazilianite"
          ],
          [
           "BU18FA32",
           "C",
           "ff1",
           "fi02",
           "L - V",
           "brazilianite"
          ],
          [
           "BU18FA32",
           "C",
           "ff1",
           "fi06",
           "L - V",
           "brazilianite"
          ],
          [
           "BU18FA32",
           "C",
           "ff1",
           "fi07",
           "L - V",
           "brazilianite"
          ],
          [
           "BU18FA32",
           "C",
           "ff1",
           "fi08",
           "L - V",
           "brazilianite"
          ],
          [
           "BU18FA32",
           "C",
           "ff1",
           "fi09",
           "L - V",
           "brazilianite"
          ],
          [
           "BU18FA32",
           "C",
           "ff1",
           "fi010",
           "L - V",
           "brazilianite"
          ],
          [
           "BU18FA32",
           "B",
           "ff2",
           "fi02",
           "L - V",
           "brazilianite"
          ],
          [
           "BU18FA32",
           "B",
           "ff2",
           "fi04",
           "L - V",
           "brazilianite"
          ],
          [
           "BU18FA02a",
           "A",
           "ff1",
           "fi02",
           "L - V",
           "brazilianite"
          ],
          [
           "BU18FA02a",
           "A",
           "ff1",
           "fi03",
           "L - V",
           "brazilianite"
          ],
          [
           "BU18FA02a",
           "A",
           "ff1",
           "fi05",
           "L - V",
           "brazilianite"
          ],
          [
           "BU18FA32",
           "A",
           "ff1",
           "fi011",
           "L - V",
           "brazilianite"
          ],
          [
           "BU18FA02a",
           "B",
           "ff3",
           "fi01",
           "L - V",
           "brazilianite"
          ],
          [
           "BU18FA02a",
           "B",
           "ff3",
           "fi02",
           "L - V",
           "brazilianite"
          ],
          [
           "BU18FA02a",
           "B",
           "ff3",
           "fi03",
           "L - V",
           "brazilianite"
          ],
          [
           "BU18FA02a",
           "B",
           "ff3",
           "fi04",
           "L - V",
           "brazilianite"
          ],
          [
           "BU18FA02a",
           "B",
           "ff3",
           "fi05",
           "L - V",
           "brazilianite"
          ],
          [
           "BU18FA02a",
           "B",
           "ff3",
           "fi06",
           "L - V",
           "brazilianite"
          ],
          [
           "BU18FA32",
           "B",
           "ff1",
           "fi01",
           "L - V",
           "brazilianite"
          ],
          [
           "BU18FA32",
           "B",
           "ff1",
           "fi02",
           "L - V",
           "brazilianite"
          ],
          [
           "BU18FA32",
           "B",
           "ff1",
           "fi03",
           "L - V",
           "brazilianite"
          ],
          [
           "BU18FA32",
           "B",
           "ff1",
           "fi04",
           "L - V",
           "brazilianite"
          ],
          [
           "BU18FA32",
           "B",
           "ff1",
           "fi05",
           "L - V",
           "brazilianite"
          ],
          [
           "BU18FA32",
           "B",
           "ff1",
           "fi06",
           "L - V",
           "brazilianite"
          ],
          [
           "BU18FA32",
           "B",
           "ff2",
           "fi06",
           "L - V",
           "brazilianite"
          ],
          [
           "BU18FA32",
           "B",
           "ff2",
           "fi07",
           "L - V",
           "brazilianite"
          ],
          [
           "BU18FA32",
           "B",
           "ff2",
           "fi08",
           "L - V",
           "brazilianite"
          ],
          [
           "BU18FA32",
           "B",
           "ff2",
           "fi09",
           "L - V",
           "brazilianite"
          ]
         ],
         "hovertemplate": "Host=%{customdata[5]}<br>type=type2A<br>Cs/Li=%{x}<br>K/Li=%{y}<br>sample=%{customdata[0]}<br>piece=%{customdata[1]}<br>field=%{customdata[2]}<br>analysis=%{customdata[3]}<br>Phases=%{customdata[4]}<extra></extra>",
         "legendgroup": "brazilianite, type2A",
         "marker": {
          "color": "rgb(250,120,10)",
          "line": {
           "color": "DarkSlateGrey",
           "width": 0.8
          },
          "size": 10,
          "symbol": "circle"
         },
         "mode": "markers",
         "name": "brazilianite, type2A",
         "opacity": 0.85,
         "orientation": "v",
         "showlegend": true,
         "type": "scatter",
         "x": [
          null,
          0.17893550967210564,
          null,
          null,
          0.17066682918608406,
          null,
          null,
          null,
          null,
          null,
          null,
          null,
          null,
          null,
          null,
          null,
          null,
          null,
          null,
          0.3119574831005579,
          0.6681207708092718,
          0.5628351560978451,
          0.08140009204115824,
          null,
          null,
          0.18804703190914684,
          0.1773586460115385,
          null,
          null,
          null,
          0.15307613892415756,
          0.15198143665298833,
          0.17652684091730275,
          null,
          0.16299537046572946
         ],
         "xaxis": "x",
         "y": [
          null,
          11.146455898391512,
          null,
          null,
          9.29196272335849,
          null,
          null,
          null,
          null,
          null,
          null,
          null,
          null,
          null,
          null,
          null,
          null,
          null,
          null,
          68.6927233743315,
          87.99001640101488,
          78.9345998948993,
          2.2718214166046606,
          null,
          null,
          12.212497467429026,
          15.505176575128107,
          null,
          null,
          null,
          4.5346532024991095,
          10.50216820696169,
          14.684278767478514,
          null,
          9.71377727947132
         ],
         "yaxis": "y"
        },
        {
         "customdata": [
          [
           "BU18FA19(2)",
           "A",
           "ff1",
           "fi09",
           "V - L",
           "augelite"
          ]
         ],
         "hovertemplate": "Host=%{customdata[5]}<br>type=type2B<br>Cs/Li=%{x}<br>K/Li=%{y}<br>sample=%{customdata[0]}<br>piece=%{customdata[1]}<br>field=%{customdata[2]}<br>analysis=%{customdata[3]}<br>Phases=%{customdata[4]}<extra></extra>",
         "legendgroup": "augelite, type2B",
         "marker": {
          "color": "rgb(51,255,51)",
          "line": {
           "color": "DarkSlateGrey",
           "width": 0.8
          },
          "size": 10,
          "symbol": "x"
         },
         "mode": "markers",
         "name": "augelite, type2B",
         "opacity": 0.85,
         "orientation": "v",
         "showlegend": true,
         "type": "scatter",
         "x": [
          null
         ],
         "xaxis": "x",
         "y": [
          null
         ],
         "yaxis": "y"
        },
        {
         "customdata": [
          [
           "BU18FA19(2)",
           "A",
           "ff1b",
           "fi01",
           "L - L - V",
           "augelite"
          ],
          [
           "BU18FA19(2)",
           "A",
           "ff2b",
           "fi03",
           "L - L - V",
           "augelite"
          ],
          [
           "BU18FA19(2)",
           "A",
           "ff2b",
           "fi05",
           "L - L - V",
           "augelite"
          ]
         ],
         "hovertemplate": "Host=%{customdata[5]}<br>type=type3<br>Cs/Li=%{x}<br>K/Li=%{y}<br>sample=%{customdata[0]}<br>piece=%{customdata[1]}<br>field=%{customdata[2]}<br>analysis=%{customdata[3]}<br>Phases=%{customdata[4]}<extra></extra>",
         "legendgroup": "augelite, type3",
         "marker": {
          "color": "rgb(51,255,51)",
          "line": {
           "color": "DarkSlateGrey",
           "width": 0.8
          },
          "size": 10,
          "symbol": "square"
         },
         "mode": "markers",
         "name": "augelite, type3",
         "opacity": 0.85,
         "orientation": "v",
         "showlegend": true,
         "type": "scatter",
         "x": [
          null,
          null,
          null
         ],
         "xaxis": "x",
         "y": [
          null,
          null,
          null
         ],
         "yaxis": "y"
        },
        {
         "customdata": [
          [
           "BU18FA19(2)",
           "A",
           "ff1",
           "fi01",
           "L - V - S",
           "augelite"
          ]
         ],
         "hovertemplate": "Host=%{customdata[5]}<br>type=type1<br>Cs/Li=%{x}<br>K/Li=%{y}<br>sample=%{customdata[0]}<br>piece=%{customdata[1]}<br>field=%{customdata[2]}<br>analysis=%{customdata[3]}<br>Phases=%{customdata[4]}<extra></extra>",
         "legendgroup": "augelite, type1",
         "marker": {
          "color": "rgb(51,255,51)",
          "line": {
           "color": "DarkSlateGrey",
           "width": 0.8
          },
          "size": 10,
          "symbol": "diamond"
         },
         "mode": "markers",
         "name": "augelite, type1",
         "opacity": 0.85,
         "orientation": "v",
         "showlegend": true,
         "type": "scatter",
         "x": [
          1.076967157146463
         ],
         "xaxis": "x",
         "y": [
          94.34621177433556
         ],
         "yaxis": "y"
        },
        {
         "customdata": [
          [
           "BU18FA19(2)",
           "A",
           "ff1",
           "fi02",
           "L - V",
           "augelite"
          ],
          [
           "BU18FA19(2)",
           "A",
           "ff1",
           "fi03",
           "L - V",
           "augelite"
          ],
          [
           "BU18FA19(2)",
           "A",
           "ff1",
           "fi04",
           "L - V",
           "augelite"
          ],
          [
           "BU18FA19(2)",
           "A",
           "ff1",
           "fi05",
           "L - V",
           "augelite"
          ],
          [
           "BU18FA19(2)",
           "A",
           "ff1",
           "fi06",
           "L - V",
           "augelite"
          ],
          [
           "BU18FA19(2)",
           "A",
           "ff1",
           "fi07",
           "L - V",
           "augelite"
          ],
          [
           "BU18FA19(2)",
           "A",
           "ff1",
           "fi08",
           "L - V",
           "augelite"
          ],
          [
           "BU18FA19(2)",
           "A",
           "ff2",
           "fi01",
           "L - V",
           "augelite"
          ],
          [
           "BU18FA19(2)",
           "A",
           "ff2",
           "fi02",
           "L - V",
           "augelite"
          ],
          [
           "BU18FA19(2)",
           "A",
           "ff2",
           "fi03",
           "L - V",
           "augelite"
          ],
          [
           "BU18FA19(2)",
           "A",
           "ff2",
           "fi04",
           "L - V",
           "augelite"
          ],
          [
           "BU18FA19(2)",
           "A",
           "ff2",
           "fi05",
           "L - V",
           "augelite"
          ],
          [
           "BU18FA19(2)",
           "A",
           "ff2b",
           "fi01",
           "L - V",
           "augelite"
          ],
          [
           "BU18FA19(2)",
           "A",
           "ff2b",
           "fi02",
           "L - V",
           "augelite"
          ],
          [
           "BU18FA19(2)",
           "A",
           "ff2b",
           "fi04",
           "L - V",
           "augelite"
          ],
          [
           "BU18FA19(2)",
           "A",
           "ff2",
           "fi06",
           "L - V",
           "augelite"
          ],
          [
           "BU18FA19(2)",
           "A",
           "ff2",
           "fi07",
           "L - V",
           "augelite"
          ],
          [
           "BU18FA19(2)",
           "A",
           "ff1",
           "fi010",
           "L - V",
           "augelite"
          ]
         ],
         "hovertemplate": "Host=%{customdata[5]}<br>type=type2A<br>Cs/Li=%{x}<br>K/Li=%{y}<br>sample=%{customdata[0]}<br>piece=%{customdata[1]}<br>field=%{customdata[2]}<br>analysis=%{customdata[3]}<br>Phases=%{customdata[4]}<extra></extra>",
         "legendgroup": "augelite, type2A",
         "marker": {
          "color": "rgb(51,255,51)",
          "line": {
           "color": "DarkSlateGrey",
           "width": 0.8
          },
          "size": 10,
          "symbol": "circle"
         },
         "mode": "markers",
         "name": "augelite, type2A",
         "opacity": 0.85,
         "orientation": "v",
         "showlegend": true,
         "type": "scatter",
         "x": [
          null,
          null,
          null,
          null,
          null,
          0.3062472770840934,
          null,
          null,
          null,
          0.5949011496379266,
          null,
          0.424987753039022,
          0.706253031729742,
          null,
          null,
          null,
          null,
          null
         ],
         "xaxis": "x",
         "y": [
          null,
          null,
          null,
          null,
          null,
          39.910394442221666,
          null,
          null,
          null,
          61.265597677737375,
          null,
          38.35149142697447,
          51.62588478621197,
          null,
          null,
          null,
          null,
          null
         ],
         "yaxis": "y"
        },
        {
         "customdata": [
          [
           "BU18FA22",
           "B",
           "ff2",
           "fi01",
           "L - V",
           "scorzalite"
          ],
          [
           "BU18FA22",
           "B",
           "ff2",
           "fi02",
           "L - V",
           "scorzalite"
          ],
          [
           "BU18FA22",
           "B",
           "ff2",
           "fi03",
           "L - V",
           "scorzalite"
          ],
          [
           "BU18FA22",
           "B",
           "ff2",
           "fi04",
           "L - V",
           "scorzalite"
          ],
          [
           "BU18FA22",
           "B",
           "ff2",
           "fi05",
           "L - V",
           "scorzalite"
          ],
          [
           "BU18FA22",
           "B",
           "ff2",
           "fi06",
           "L - V",
           "scorzalite"
          ],
          [
           "BU18FA20",
           "A",
           "ff1",
           "fi01",
           "L - V",
           "scorzalite"
          ],
          [
           "BU18FA20",
           "A",
           "ff4",
           "fi01",
           "L - V",
           "scorzalite"
          ],
          [
           "BU18FA20",
           "I",
           "ff1",
           "fi01",
           "L - V",
           "scorzalite"
          ],
          [
           "BU18FA22",
           "D",
           "ff1",
           "fi01",
           "L - V",
           "scorzalite"
          ],
          [
           "BU18FA22",
           "D",
           "ff1",
           "fi02",
           "L - V",
           "scorzalite"
          ],
          [
           "BU18FA22",
           "D",
           "ff1",
           "fi03",
           "L - V",
           "scorzalite"
          ]
         ],
         "hovertemplate": "Host=%{customdata[5]}<br>type=type2A<br>Cs/Li=%{x}<br>K/Li=%{y}<br>sample=%{customdata[0]}<br>piece=%{customdata[1]}<br>field=%{customdata[2]}<br>analysis=%{customdata[3]}<br>Phases=%{customdata[4]}<extra></extra>",
         "legendgroup": "scorzalite, type2A",
         "marker": {
          "color": "rgb(0,0,255)",
          "line": {
           "color": "DarkSlateGrey",
           "width": 0.8
          },
          "size": 10,
          "symbol": "circle"
         },
         "mode": "markers",
         "name": "scorzalite, type2A",
         "opacity": 0.85,
         "orientation": "v",
         "showlegend": true,
         "type": "scatter",
         "x": [
          null,
          null,
          null,
          null,
          null,
          null,
          null,
          null,
          null,
          null,
          null,
          null
         ],
         "xaxis": "x",
         "y": [
          null,
          null,
          null,
          null,
          null,
          null,
          null,
          null,
          null,
          null,
          null,
          null
         ],
         "yaxis": "y"
        },
        {
         "customdata": [
          [
           "BU18FA20",
           "B",
           "ff2",
           "fi04",
           "V - L",
           "bertossaite"
          ],
          [
           "BU18FA04",
           "B",
           "ff7",
           "fi05",
           "V - L",
           "bertossaite"
          ]
         ],
         "hovertemplate": "Host=%{customdata[5]}<br>type=type2B<br>Cs/Li=%{x}<br>K/Li=%{y}<br>sample=%{customdata[0]}<br>piece=%{customdata[1]}<br>field=%{customdata[2]}<br>analysis=%{customdata[3]}<br>Phases=%{customdata[4]}<extra></extra>",
         "legendgroup": "bertossaite, type2B",
         "marker": {
          "color": "rgb(204,121,167)",
          "line": {
           "color": "DarkSlateGrey",
           "width": 0.8
          },
          "size": 10,
          "symbol": "x"
         },
         "mode": "markers",
         "name": "bertossaite, type2B",
         "opacity": 0.85,
         "orientation": "v",
         "showlegend": true,
         "type": "scatter",
         "x": [
          0.00506005050703705,
          null
         ],
         "xaxis": "x",
         "y": [
          0.21862126513614039,
          null
         ],
         "yaxis": "y"
        },
        {
         "customdata": [
          [
           "BU18FA20",
           "C",
           "ff1",
           "fi01",
           "L - L - V",
           "bertossaite"
          ],
          [
           "BU18FA20",
           "C",
           "ff1",
           "fi02",
           "L - L - V",
           "bertossaite"
          ],
          [
           "BU18FA20",
           "C",
           "ff1",
           "fi03",
           "L - L - V",
           "bertossaite"
          ],
          [
           "BU18FA20",
           "C",
           "ff1",
           "fi04",
           "L - L - V",
           "bertossaite"
          ],
          [
           "BU18FA20",
           "C",
           "ff1",
           "fi06",
           "L - L - V",
           "bertossaite"
          ],
          [
           "BU18FA20",
           "C",
           "ff1",
           "fi07",
           "L - L - V",
           "bertossaite"
          ],
          [
           "BU18FA20",
           "C",
           "ff1",
           "fi08",
           "L - L - V",
           "bertossaite"
          ],
          [
           "BU18FA20",
           "C",
           "ff1",
           "fi09",
           "L - L - V",
           "bertossaite"
          ],
          [
           "BU18FA20",
           "C",
           "ff1",
           "fi010",
           "L - L - V",
           "bertossaite"
          ],
          [
           "BU18FA20",
           "B",
           "ff4",
           "fi01",
           "L - L - V",
           "bertossaite"
          ],
          [
           "BU18FA20",
           "B",
           "ff4",
           "fi02",
           "L - L - V",
           "bertossaite"
          ],
          [
           "BU18FA20",
           "B",
           "ff4",
           "fi03",
           "L - L - V",
           "bertossaite"
          ],
          [
           "BU18FA20",
           "B",
           "ff4",
           "fi04",
           "L - L - V",
           "bertossaite"
          ],
          [
           "BU18FA04",
           "A",
           "ff3",
           "fi04",
           "L - L - V",
           "bertossaite"
          ]
         ],
         "hovertemplate": "Host=%{customdata[5]}<br>type=type3<br>Cs/Li=%{x}<br>K/Li=%{y}<br>sample=%{customdata[0]}<br>piece=%{customdata[1]}<br>field=%{customdata[2]}<br>analysis=%{customdata[3]}<br>Phases=%{customdata[4]}<extra></extra>",
         "legendgroup": "bertossaite, type3",
         "marker": {
          "color": "rgb(204,121,167)",
          "line": {
           "color": "DarkSlateGrey",
           "width": 0.8
          },
          "size": 10,
          "symbol": "square"
         },
         "mode": "markers",
         "name": "bertossaite, type3",
         "opacity": 0.85,
         "orientation": "v",
         "showlegend": true,
         "type": "scatter",
         "x": [
          0.16394852365022067,
          0.07572096400442464,
          null,
          0.39348401069814654,
          null,
          null,
          0.0803421230851874,
          null,
          null,
          null,
          0.16199614899149284,
          0.0828124838364051,
          null,
          0.029312005683024667
         ],
         "xaxis": "x",
         "y": [
          3.6561191126747272,
          1.178966246765517,
          null,
          3.1888196521336,
          null,
          null,
          1.0707158259198712,
          null,
          null,
          null,
          2.92553170710425,
          2.921269046644845,
          null,
          1.1996504579165856
         ],
         "yaxis": "y"
        },
        {
         "customdata": [
          [
           "BU18FA20",
           "F",
           "ff1",
           "fi05",
           "L - V - S",
           "bertossaite"
          ],
          [
           "BU18FA20",
           "B",
           "ff4",
           "fi05",
           "L - V - S",
           "bertossaite"
          ],
          [
           "BU18FA22",
           "C",
           "ff2",
           "fi02",
           "L - V - S",
           "bertossaite"
          ]
         ],
         "hovertemplate": "Host=%{customdata[5]}<br>type=type1<br>Cs/Li=%{x}<br>K/Li=%{y}<br>sample=%{customdata[0]}<br>piece=%{customdata[1]}<br>field=%{customdata[2]}<br>analysis=%{customdata[3]}<br>Phases=%{customdata[4]}<extra></extra>",
         "legendgroup": "bertossaite, type1",
         "marker": {
          "color": "rgb(204,121,167)",
          "line": {
           "color": "DarkSlateGrey",
           "width": 0.8
          },
          "size": 10,
          "symbol": "diamond"
         },
         "mode": "markers",
         "name": "bertossaite, type1",
         "opacity": 0.85,
         "orientation": "v",
         "showlegend": true,
         "type": "scatter",
         "x": [
          null,
          null,
          null
         ],
         "xaxis": "x",
         "y": [
          null,
          null,
          null
         ],
         "yaxis": "y"
        },
        {
         "customdata": [
          [
           "BU18FA20",
           "B",
           "ff2",
           "fi01",
           "L - V",
           "bertossaite"
          ],
          [
           "BU18FA20",
           "B",
           "ff2",
           "fi02",
           "L - V",
           "bertossaite"
          ],
          [
           "BU18FA20",
           "B",
           "ff2",
           "fi03",
           "L - V",
           "bertossaite"
          ],
          [
           "BU18FA22",
           "C",
           "ff1",
           "fi01",
           "L - V",
           "bertossaite"
          ],
          [
           "BU18FA22",
           "C",
           "ff1",
           "fi02",
           "L - V",
           "bertossaite"
          ],
          [
           "BU18FA22",
           "C",
           "ff1",
           "fi03",
           "L - V",
           "bertossaite"
          ],
          [
           "BU18FA22",
           "C",
           "ff1",
           "fi04",
           "L - V",
           "bertossaite"
          ],
          [
           "BU18FA20",
           "F",
           "ff1",
           "fi01",
           "L - V",
           "bertossaite"
          ],
          [
           "BU18FA20",
           "F",
           "ff1",
           "fi01",
           "L - V",
           "bertossaite"
          ],
          [
           "BU18FA20",
           "F",
           "ff1",
           "fi02",
           "L - V",
           "bertossaite"
          ],
          [
           "BU18FA20",
           "F",
           "ff1",
           "fi03",
           "L - V",
           "bertossaite"
          ],
          [
           "BU18FA20",
           "C",
           "ff1",
           "fi05",
           "L - V",
           "bertossaite"
          ],
          [
           "BU18FA20",
           "B",
           "ff2",
           "fi05",
           "L - V",
           "bertossaite"
          ],
          [
           "BU18FA20",
           "F",
           "ff1",
           "fi04",
           "L - V",
           "bertossaite"
          ],
          [
           "BU18FA19",
           "E",
           "ff11",
           "fi01",
           "L - V",
           "bertossaite"
          ],
          [
           "BU18FA19",
           "E",
           "ff11",
           "fi02",
           "L - V",
           "bertossaite"
          ],
          [
           "BU18FA19",
           "E",
           "ff11",
           "fi03",
           "L - V",
           "bertossaite"
          ],
          [
           "BU18FA19",
           "E",
           "ff11",
           "fi04",
           "L - V",
           "bertossaite"
          ],
          [
           "BU18FA19",
           "E",
           "ff11",
           "fi05",
           "L - V",
           "bertossaite"
          ],
          [
           "BU18FA19",
           "E",
           "ff11",
           "fi06",
           "L - V",
           "bertossaite"
          ],
          [
           "BU18FA19",
           "E",
           "ff11",
           "fi07",
           "L - V",
           "bertossaite"
          ],
          [
           "BU18FA19",
           "E",
           "ff11",
           "fi08",
           "L - V",
           "bertossaite"
          ],
          [
           "BU18FA19",
           "E",
           "ff11",
           "fi09",
           "L - V",
           "bertossaite"
          ],
          [
           "BU18FA19",
           "E",
           "ff11",
           "fi010",
           "L - V",
           "bertossaite"
          ],
          [
           "BU18FA04",
           "A",
           "ff3",
           "fi01",
           "L - V",
           "bertossaite"
          ],
          [
           "BU18FA04",
           "A",
           "ff3",
           "fi02",
           "L - V",
           "bertossaite"
          ],
          [
           "BU18FA04",
           "A",
           "ff3",
           "fi03",
           "L - V",
           "bertossaite"
          ],
          [
           "BU18FA04",
           "A",
           "ff3",
           "fi05",
           "L - V",
           "bertossaite"
          ],
          [
           "BU18FA04",
           "A",
           "ff3",
           "fi06",
           "L - V",
           "bertossaite"
          ],
          [
           "BU18FA04",
           "A",
           "ff3",
           "fi07",
           "L - V",
           "bertossaite"
          ],
          [
           "BU18FA04",
           "A",
           "ff3",
           "fi08",
           "L - V",
           "bertossaite"
          ],
          [
           "BU18FA04",
           "A",
           "ff3",
           "fi09",
           "L - V",
           "bertossaite"
          ],
          [
           "BU18FA04",
           "B",
           "ff6",
           "fi01",
           "L - V",
           "bertossaite"
          ],
          [
           "BU18FA04",
           "B",
           "ff6",
           "fi06",
           "L - V",
           "bertossaite"
          ],
          [
           "BU18FA04",
           "B",
           "ff6",
           "fi09",
           "L - V",
           "bertossaite"
          ],
          [
           "BU18FA04",
           "B",
           "ff7",
           "fi01",
           "L - V",
           "bertossaite"
          ],
          [
           "BU18FA04",
           "B",
           "ff7",
           "fi02",
           "L - V",
           "bertossaite"
          ],
          [
           "BU18FA04",
           "B",
           "ff7",
           "fi03",
           "L - V",
           "bertossaite"
          ],
          [
           "BU18FA20",
           "B",
           "ff2",
           "fi07",
           "L - V",
           "bertossaite"
          ],
          [
           "BU18FA20",
           "B",
           "ff4",
           "fi06",
           "L - V",
           "bertossaite"
          ],
          [
           "BU18FA20",
           "B",
           "ff4",
           "fi07",
           "L - V",
           "bertossaite"
          ],
          [
           "BU18FA20",
           "B",
           "ff4",
           "fi09",
           "L - V",
           "bertossaite"
          ],
          [
           "BU18FA22",
           "C",
           "ff2",
           "fi01",
           "L - V",
           "bertossaite"
          ],
          [
           "BU18FA22",
           "C",
           "ff2",
           "fi03",
           "L - V",
           "bertossaite"
          ]
         ],
         "hovertemplate": "Host=%{customdata[5]}<br>type=type2A<br>Cs/Li=%{x}<br>K/Li=%{y}<br>sample=%{customdata[0]}<br>piece=%{customdata[1]}<br>field=%{customdata[2]}<br>analysis=%{customdata[3]}<br>Phases=%{customdata[4]}<extra></extra>",
         "legendgroup": "bertossaite, type2A",
         "marker": {
          "color": "rgb(204,121,167)",
          "line": {
           "color": "DarkSlateGrey",
           "width": 0.8
          },
          "size": 10,
          "symbol": "circle"
         },
         "mode": "markers",
         "name": "bertossaite, type2A",
         "opacity": 0.85,
         "orientation": "v",
         "showlegend": true,
         "type": "scatter",
         "x": [
          null,
          null,
          0.04716043915633536,
          null,
          null,
          null,
          0.025223347217589707,
          null,
          null,
          null,
          null,
          null,
          null,
          null,
          null,
          null,
          null,
          null,
          null,
          null,
          null,
          null,
          0.01985644341220349,
          0.17610802770242784,
          0.02002012810215554,
          0.01811592487873828,
          0.025462725732004518,
          null,
          null,
          null,
          0.0033337861811303915,
          null,
          0.028238045686013208,
          0.12161452619369283,
          null,
          0.009334592797930434,
          null,
          0.001417320234668357,
          0.01681683812696049,
          0.08445640037633738,
          0.038143581275717216,
          null,
          0.057433887629048115,
          0.10911688998879035
         ],
         "xaxis": "x",
         "y": [
          null,
          1.7480193001520206,
          7.115841257187833,
          null,
          null,
          null,
          null,
          null,
          null,
          null,
          null,
          null,
          null,
          null,
          null,
          null,
          null,
          null,
          null,
          null,
          null,
          null,
          2.272907787573832,
          12.24997526128702,
          1.2152295253875498,
          2.340017559435239,
          6.924084057865704,
          0.12039171486562074,
          null,
          null,
          0.8443160626281999,
          null,
          7.297916430472721,
          16.327762090147253,
          null,
          1.1228994189113117,
          null,
          0.1689628567075185,
          3.0922991092181262,
          1.648948029051586,
          3.0669155984569363,
          null,
          1.4761652471388962,
          3.2123747418180453
         ],
         "yaxis": "y"
        },
        {
         "customdata": [
          [
           "BU18FA20",
           "E",
           "ff1",
           "fi01",
           "V - L",
           "trolleite"
          ],
          [
           "BU18FA20",
           "E",
           "ff1",
           "fi02",
           "V - L",
           "trolleite"
          ],
          [
           "BU18FA20",
           "G",
           "ff1",
           "fi04",
           "V - L",
           "trolleite"
          ]
         ],
         "hovertemplate": "Host=%{customdata[5]}<br>type=type2B<br>Cs/Li=%{x}<br>K/Li=%{y}<br>sample=%{customdata[0]}<br>piece=%{customdata[1]}<br>field=%{customdata[2]}<br>analysis=%{customdata[3]}<br>Phases=%{customdata[4]}<extra></extra>",
         "legendgroup": "trolleite, type2B",
         "marker": {
          "color": "rgb(0,158,115)",
          "line": {
           "color": "DarkSlateGrey",
           "width": 0.8
          },
          "size": 10,
          "symbol": "x"
         },
         "mode": "markers",
         "name": "trolleite, type2B",
         "opacity": 0.85,
         "orientation": "v",
         "showlegend": true,
         "type": "scatter",
         "x": [
          null,
          0.9159776013938478,
          null
         ],
         "xaxis": "x",
         "y": [
          null,
          19.728048704885527,
          null
         ],
         "yaxis": "y"
        },
        {
         "customdata": [
          [
           "BU18FA22",
           "B",
           "ff1",
           "fi05",
           "L - V - S",
           "trolleite"
          ],
          [
           "BU18FA20",
           "E",
           "ff1",
           "fi03",
           "L - V - S",
           "trolleite"
          ],
          [
           "BU18FA20",
           "E",
           "ff1",
           "fi05",
           "S - L - V",
           "trolleite"
          ],
          [
           "BU18FA20",
           "E",
           "ff1",
           "fi06",
           "L - V - S",
           "trolleite"
          ],
          [
           "BU18FA20",
           "G",
           "ff1",
           "fi01",
           "S - L - V",
           "trolleite"
          ],
          [
           "BU18FA20",
           "G",
           "ff1",
           "fi02",
           "L - V - S",
           "trolleite"
          ],
          [
           "BU18FA20",
           "G",
           "ff1",
           "fi03",
           "S - L - V",
           "trolleite"
          ],
          [
           "BU18FA20",
           "H",
           "ff1",
           "fi07",
           "L - V - S",
           "trolleite"
          ],
          [
           "BU18FA20",
           "J",
           "ff1",
           "fi01",
           "L - V - S",
           "trolleite"
          ],
          [
           "BU18FA20",
           "J",
           "ff1",
           "fi02",
           "L - V - S",
           "trolleite"
          ],
          [
           "BU18FA20",
           "J",
           "ff1",
           "fi03",
           "L - V - S",
           "trolleite"
          ],
          [
           "BU18FA19",
           "A",
           "ff7b",
           "fi03",
           "L - V - S",
           "trolleite"
          ],
          [
           "BU18FA19",
           "A",
           "ff7b",
           "fi04",
           "L - V - S",
           "trolleite"
          ],
          [
           "BU18FA19",
           "A",
           "ff7b",
           "fi05",
           "L - V - S",
           "trolleite"
          ],
          [
           "BU18FA19",
           "A",
           "ff7b",
           "fi06",
           "L - V - S",
           "trolleite"
          ],
          [
           "BU18FA19",
           "A",
           "ff7b",
           "fi07",
           "L - V - S",
           "trolleite"
          ],
          [
           "BU18FA19",
           "A",
           "ff7b",
           "fi08",
           "L - V - S",
           "trolleite"
          ],
          [
           "BU18FA19",
           "B",
           "ff1",
           "fi01",
           "S - L - V",
           "trolleite"
          ],
          [
           "BU18FA19",
           "B",
           "ff1",
           "fi02",
           "L - V - S",
           "trolleite"
          ],
          [
           "BU18FA19",
           "B",
           "ff1",
           "fi03",
           "L - V - S",
           "trolleite"
          ],
          [
           "BU18FA19",
           "B",
           "ff1",
           "fi04",
           "L - V - S",
           "trolleite"
          ],
          [
           "BU18FA19",
           "B",
           "ff1",
           "fi06",
           "L - V - S",
           "trolleite"
          ],
          [
           "BU18FA19",
           "B",
           "ff1",
           "fi07",
           "L - V - S",
           "trolleite"
          ],
          [
           "BU18FA19",
           "B",
           "ff1",
           "fi08",
           "S - L - V",
           "trolleite"
          ],
          [
           "BU18FA19",
           "B",
           "ff1",
           "fi09",
           "L - V - S",
           "trolleite"
          ],
          [
           "BU18FA19",
           "B",
           "ff1",
           "fi0MI",
           "S - L - V",
           "trolleite"
          ],
          [
           "BU18FA19",
           "C",
           "ffore1",
           "fi01",
           "L - V - S",
           "trolleite"
          ],
          [
           "BU18FA19",
           "C",
           "ffore1",
           "fi03",
           "L - V - S",
           "trolleite"
          ],
          [
           "BU18FA19",
           "C",
           "ffore1",
           "fi05",
           "L - V - S",
           "trolleite"
          ],
          [
           "BU18FA19",
           "C",
           "ffore1",
           "fi06",
           "L - V - S",
           "trolleite"
          ],
          [
           "BU18FA19",
           "D",
           "ff2",
           "fi01",
           "L - V - S",
           "trolleite"
          ],
          [
           "BU18FA19",
           "D",
           "ff2",
           "fi03",
           "L - V - S",
           "trolleite"
          ],
          [
           "BU18FA19",
           "D",
           "ff2",
           "fi04",
           "L - V - S",
           "trolleite"
          ],
          [
           "BU18FA04",
           "B",
           "ff5",
           "fi01",
           "L - V - S",
           "trolleite"
          ],
          [
           "BU18FA04",
           "C",
           "ff8",
           "fi04",
           "L - V - S",
           "trolleite"
          ]
         ],
         "hovertemplate": "Host=%{customdata[5]}<br>type=type1<br>Cs/Li=%{x}<br>K/Li=%{y}<br>sample=%{customdata[0]}<br>piece=%{customdata[1]}<br>field=%{customdata[2]}<br>analysis=%{customdata[3]}<br>Phases=%{customdata[4]}<extra></extra>",
         "legendgroup": "trolleite, type1",
         "marker": {
          "color": "rgb(0,158,115)",
          "line": {
           "color": "DarkSlateGrey",
           "width": 0.8
          },
          "size": 10,
          "symbol": "diamond"
         },
         "mode": "markers",
         "name": "trolleite, type1",
         "opacity": 0.85,
         "orientation": "v",
         "showlegend": true,
         "type": "scatter",
         "x": [
          null,
          0.4586808338297216,
          0.6599446786566019,
          null,
          null,
          null,
          null,
          null,
          2.6288371943543263,
          3.0585350012551795,
          1.6371179992958225,
          null,
          null,
          null,
          null,
          0.19947638511642143,
          0.3915867706258507,
          null,
          0.4337973914816093,
          0.5517216512303201,
          0.16475946814828665,
          0.37475892939894667,
          0.5352392693111271,
          null,
          null,
          null,
          null,
          null,
          null,
          null,
          null,
          null,
          null,
          null,
          0.15454115926791645
         ],
         "xaxis": "x",
         "y": [
          null,
          7.876538063533166,
          31.304073308518348,
          null,
          null,
          null,
          null,
          null,
          73.55388498331293,
          204.23276369711814,
          114.01108607318564,
          null,
          null,
          null,
          null,
          27.428410983098843,
          41.70871582386389,
          null,
          28.1195616688402,
          60.32540523092729,
          17.95924963281655,
          39.7045174688473,
          59.59537374524642,
          null,
          null,
          null,
          null,
          null,
          null,
          null,
          null,
          null,
          null,
          null,
          14.416314242978945
         ],
         "yaxis": "y"
        },
        {
         "customdata": [
          [
           "BU18FA22",
           "B",
           "ff1",
           "fi01",
           "L - V",
           "trolleite"
          ],
          [
           "BU18FA22",
           "B",
           "ff1",
           "fi02",
           "L - V",
           "trolleite"
          ],
          [
           "BU18FA22",
           "B",
           "ff1",
           "fi03",
           "L - V",
           "trolleite"
          ],
          [
           "BU18FA22",
           "B",
           "ff1",
           "fi04",
           "L - V",
           "trolleite"
          ],
          [
           "BU18FA20",
           "E",
           "ff1",
           "fi04",
           "L - V",
           "trolleite"
          ],
          [
           "BU18FA20",
           "A",
           "ff2",
           "fi01",
           "L - V",
           "trolleite"
          ],
          [
           "BU18FA20",
           "A",
           "ff2",
           "fi02",
           "L - V",
           "trolleite"
          ],
          [
           "BU18FA20",
           "A",
           "ff2",
           "fi03",
           "L - V",
           "trolleite"
          ],
          [
           "BU18FA20",
           "F",
           "ff2",
           "fi01",
           "L - V",
           "trolleite"
          ],
          [
           "BU18FA20",
           "E",
           "ff1",
           "fi07",
           "L - V",
           "trolleite"
          ],
          [
           "BU18FA20",
           "H",
           "ff1",
           "fi01",
           "L - V",
           "trolleite"
          ],
          [
           "BU18FA20",
           "H",
           "ff1",
           "fi02",
           "L - V",
           "trolleite"
          ],
          [
           "BU18FA20",
           "H",
           "ff1",
           "fi03",
           "L - V",
           "trolleite"
          ],
          [
           "BU18FA20",
           "H",
           "ff1",
           "fi04",
           "L - V",
           "trolleite"
          ],
          [
           "BU18FA20",
           "H",
           "ff1",
           "fi05",
           "L - V",
           "trolleite"
          ],
          [
           "BU18FA19",
           "A",
           "ff7b",
           "fi01",
           "L - V",
           "trolleite"
          ],
          [
           "BU18FA19",
           "A",
           "ff7b",
           "fi02",
           "L - V",
           "trolleite"
          ],
          [
           "BU18FA19",
           "A",
           "ff7b",
           "fi09",
           "L - V",
           "trolleite"
          ],
          [
           "BU18FA19",
           "A",
           "ff7b",
           "fi010",
           "L - V",
           "trolleite"
          ],
          [
           "BU18FA19",
           "B",
           "ff1",
           "fi05",
           "L - V",
           "trolleite"
          ],
          [
           "BU18FA19",
           "B",
           "ff1",
           "fi010",
           "L - V",
           "trolleite"
          ],
          [
           "BU18FA19",
           "C",
           "ffore1",
           "fi02",
           "L - V",
           "trolleite"
          ],
          [
           "BU18FA19",
           "C",
           "ffore1",
           "fi04",
           "L - V",
           "trolleite"
          ],
          [
           "BU18FA19",
           "C",
           "ffore1",
           "fi07",
           "L - V",
           "trolleite"
          ],
          [
           "BU18FA19",
           "D",
           "ff2",
           "fi02",
           "L - V",
           "trolleite"
          ],
          [
           "BU18FA19",
           "D",
           "ff2",
           "fi05",
           "L - V",
           "trolleite"
          ],
          [
           "BU18FA19",
           "D",
           "ff2",
           "fi06",
           "L - V",
           "trolleite"
          ],
          [
           "BU18FA19",
           "D",
           "ff2",
           "fi07",
           "L - V",
           "trolleite"
          ],
          [
           "BU18FA19",
           "D",
           "ff2",
           "fi08",
           "L - V",
           "trolleite"
          ],
          [
           "BU18FA19",
           "D",
           "ff2",
           "fi09",
           "L - V",
           "trolleite"
          ],
          [
           "BU18FA19",
           "D",
           "ff2",
           "fi010",
           "L - V",
           "trolleite"
          ],
          [
           "BU18FA19",
           "A",
           "ff7b",
           "fi011",
           "L - V",
           "trolleite"
          ],
          [
           "BU18FA19",
           "A",
           "ff7b",
           "fi012",
           "L - V",
           "trolleite"
          ],
          [
           "BU18FA20",
           "E",
           "ff1",
           "fi08",
           "L - V",
           "trolleite"
          ],
          [
           "BU18FA04",
           "C",
           "ff8",
           "fi01",
           "L - V",
           "trolleite"
          ],
          [
           "BU18FA04",
           "C",
           "ff8",
           "fi03",
           "L - V",
           "trolleite"
          ],
          [
           "BU18FA04",
           "C",
           "ff8",
           "fi05",
           "L - V",
           "trolleite"
          ]
         ],
         "hovertemplate": "Host=%{customdata[5]}<br>type=type2A<br>Cs/Li=%{x}<br>K/Li=%{y}<br>sample=%{customdata[0]}<br>piece=%{customdata[1]}<br>field=%{customdata[2]}<br>analysis=%{customdata[3]}<br>Phases=%{customdata[4]}<extra></extra>",
         "legendgroup": "trolleite, type2A",
         "marker": {
          "color": "rgb(0,158,115)",
          "line": {
           "color": "DarkSlateGrey",
           "width": 0.8
          },
          "size": 10,
          "symbol": "circle"
         },
         "mode": "markers",
         "name": "trolleite, type2A",
         "opacity": 0.85,
         "orientation": "v",
         "showlegend": true,
         "type": "scatter",
         "x": [
          null,
          null,
          null,
          null,
          2.5963568967595805,
          null,
          null,
          null,
          null,
          0.19240096238088977,
          null,
          null,
          null,
          null,
          null,
          0.6611477321349535,
          null,
          0.14037360313339559,
          null,
          0.5292634105085676,
          null,
          null,
          null,
          null,
          null,
          null,
          null,
          null,
          null,
          null,
          null,
          0.029388151717982355,
          0.23416879405624186,
          1.9184893973127684,
          0.6584011907509251,
          0.21520443717380822,
          3.164313527134098
         ],
         "xaxis": "x",
         "y": [
          null,
          null,
          null,
          null,
          105.59675152976702,
          null,
          null,
          null,
          null,
          8.198113220418971,
          null,
          null,
          null,
          null,
          null,
          76.1737096349156,
          null,
          19.6074149728637,
          null,
          29.305470008331703,
          null,
          null,
          null,
          null,
          null,
          null,
          null,
          null,
          null,
          null,
          null,
          3.3013785379002303,
          23.820130325002054,
          36.19011699368482,
          173.8818119990153,
          33.225542729815665,
          56.960310355865246
         ],
         "yaxis": "y"
        },
        {
         "customdata": [
          [
           "BU18FA32",
           "AII",
           "incC",
           "fi01",
           "L - V - S",
           "wyllieite"
          ],
          [
           "BU18FA32",
           "AII",
           "incC",
           "fi02",
           "L - V - S",
           "wyllieite"
          ],
          [
           "BU18FA32",
           "AII",
           "incC",
           "fi03",
           "L - V - S",
           "wyllieite"
          ],
          [
           "BU18FA32",
           "AII",
           "incC",
           "fi04",
           "L - V - S",
           "wyllieite"
          ],
          [
           "BU18FA32",
           "AII",
           "incC",
           "fi05",
           "L - V - S",
           "wyllieite"
          ],
          [
           "BU18FA32",
           "AII",
           "incC",
           "fi06",
           "L - V - S",
           "wyllieite"
          ],
          [
           "BU18FA32",
           "AII",
           "incC",
           "fi07",
           "L - V - S",
           "wyllieite"
          ],
          [
           "BU18FA32",
           "AII",
           "incC",
           "fi08",
           "L - V - S",
           "wyllieite"
          ]
         ],
         "hovertemplate": "Host=%{customdata[5]}<br>type=type1<br>Cs/Li=%{x}<br>K/Li=%{y}<br>sample=%{customdata[0]}<br>piece=%{customdata[1]}<br>field=%{customdata[2]}<br>analysis=%{customdata[3]}<br>Phases=%{customdata[4]}<extra></extra>",
         "legendgroup": "wyllieite, type1",
         "marker": {
          "color": "rgb(0,170,250)",
          "line": {
           "color": "DarkSlateGrey",
           "width": 0.8
          },
          "size": 10,
          "symbol": "diamond"
         },
         "mode": "markers",
         "name": "wyllieite, type1",
         "opacity": 0.85,
         "orientation": "v",
         "showlegend": true,
         "type": "scatter",
         "x": [
          0.058872802331297366,
          0.0432115322192956,
          null,
          0.05615263649930708,
          null,
          0.06878542969583086,
          0.06266488036716777,
          0.07176449559966469
         ],
         "xaxis": "x",
         "y": [
          3.135175532309802,
          2.937203875414234,
          null,
          3.35511307570377,
          0.1664381261061533,
          2.6825430011526423,
          4.599185905223875,
          3.3420746473202065
         ],
         "yaxis": "y"
        }
       ],
       "layout": {
        "height": 500,
        "legend": {
         "title": {
          "text": "Host, type"
         },
         "tracegroupgap": 0
        },
        "margin": {
         "t": 60
        },
        "template": {
         "data": {
          "bar": [
           {
            "error_x": {
             "color": "rgb(36,36,36)"
            },
            "error_y": {
             "color": "rgb(36,36,36)"
            },
            "marker": {
             "line": {
              "color": "white",
              "width": 0.5
             },
             "pattern": {
              "fillmode": "overlay",
              "size": 10,
              "solidity": 0.2
             }
            },
            "type": "bar"
           }
          ],
          "barpolar": [
           {
            "marker": {
             "line": {
              "color": "white",
              "width": 0.5
             },
             "pattern": {
              "fillmode": "overlay",
              "size": 10,
              "solidity": 0.2
             }
            },
            "type": "barpolar"
           }
          ],
          "carpet": [
           {
            "aaxis": {
             "endlinecolor": "rgb(36,36,36)",
             "gridcolor": "white",
             "linecolor": "white",
             "minorgridcolor": "white",
             "startlinecolor": "rgb(36,36,36)"
            },
            "baxis": {
             "endlinecolor": "rgb(36,36,36)",
             "gridcolor": "white",
             "linecolor": "white",
             "minorgridcolor": "white",
             "startlinecolor": "rgb(36,36,36)"
            },
            "type": "carpet"
           }
          ],
          "choropleth": [
           {
            "colorbar": {
             "outlinewidth": 1,
             "tickcolor": "rgb(36,36,36)",
             "ticks": "outside"
            },
            "type": "choropleth"
           }
          ],
          "contour": [
           {
            "colorbar": {
             "outlinewidth": 1,
             "tickcolor": "rgb(36,36,36)",
             "ticks": "outside"
            },
            "colorscale": [
             [
              0,
              "#440154"
             ],
             [
              0.1111111111111111,
              "#482878"
             ],
             [
              0.2222222222222222,
              "#3e4989"
             ],
             [
              0.3333333333333333,
              "#31688e"
             ],
             [
              0.4444444444444444,
              "#26828e"
             ],
             [
              0.5555555555555556,
              "#1f9e89"
             ],
             [
              0.6666666666666666,
              "#35b779"
             ],
             [
              0.7777777777777778,
              "#6ece58"
             ],
             [
              0.8888888888888888,
              "#b5de2b"
             ],
             [
              1,
              "#fde725"
             ]
            ],
            "type": "contour"
           }
          ],
          "contourcarpet": [
           {
            "colorbar": {
             "outlinewidth": 1,
             "tickcolor": "rgb(36,36,36)",
             "ticks": "outside"
            },
            "type": "contourcarpet"
           }
          ],
          "heatmap": [
           {
            "colorbar": {
             "outlinewidth": 1,
             "tickcolor": "rgb(36,36,36)",
             "ticks": "outside"
            },
            "colorscale": [
             [
              0,
              "#440154"
             ],
             [
              0.1111111111111111,
              "#482878"
             ],
             [
              0.2222222222222222,
              "#3e4989"
             ],
             [
              0.3333333333333333,
              "#31688e"
             ],
             [
              0.4444444444444444,
              "#26828e"
             ],
             [
              0.5555555555555556,
              "#1f9e89"
             ],
             [
              0.6666666666666666,
              "#35b779"
             ],
             [
              0.7777777777777778,
              "#6ece58"
             ],
             [
              0.8888888888888888,
              "#b5de2b"
             ],
             [
              1,
              "#fde725"
             ]
            ],
            "type": "heatmap"
           }
          ],
          "heatmapgl": [
           {
            "colorbar": {
             "outlinewidth": 1,
             "tickcolor": "rgb(36,36,36)",
             "ticks": "outside"
            },
            "colorscale": [
             [
              0,
              "#440154"
             ],
             [
              0.1111111111111111,
              "#482878"
             ],
             [
              0.2222222222222222,
              "#3e4989"
             ],
             [
              0.3333333333333333,
              "#31688e"
             ],
             [
              0.4444444444444444,
              "#26828e"
             ],
             [
              0.5555555555555556,
              "#1f9e89"
             ],
             [
              0.6666666666666666,
              "#35b779"
             ],
             [
              0.7777777777777778,
              "#6ece58"
             ],
             [
              0.8888888888888888,
              "#b5de2b"
             ],
             [
              1,
              "#fde725"
             ]
            ],
            "type": "heatmapgl"
           }
          ],
          "histogram": [
           {
            "marker": {
             "line": {
              "color": "white",
              "width": 0.6
             }
            },
            "type": "histogram"
           }
          ],
          "histogram2d": [
           {
            "colorbar": {
             "outlinewidth": 1,
             "tickcolor": "rgb(36,36,36)",
             "ticks": "outside"
            },
            "colorscale": [
             [
              0,
              "#440154"
             ],
             [
              0.1111111111111111,
              "#482878"
             ],
             [
              0.2222222222222222,
              "#3e4989"
             ],
             [
              0.3333333333333333,
              "#31688e"
             ],
             [
              0.4444444444444444,
              "#26828e"
             ],
             [
              0.5555555555555556,
              "#1f9e89"
             ],
             [
              0.6666666666666666,
              "#35b779"
             ],
             [
              0.7777777777777778,
              "#6ece58"
             ],
             [
              0.8888888888888888,
              "#b5de2b"
             ],
             [
              1,
              "#fde725"
             ]
            ],
            "type": "histogram2d"
           }
          ],
          "histogram2dcontour": [
           {
            "colorbar": {
             "outlinewidth": 1,
             "tickcolor": "rgb(36,36,36)",
             "ticks": "outside"
            },
            "colorscale": [
             [
              0,
              "#440154"
             ],
             [
              0.1111111111111111,
              "#482878"
             ],
             [
              0.2222222222222222,
              "#3e4989"
             ],
             [
              0.3333333333333333,
              "#31688e"
             ],
             [
              0.4444444444444444,
              "#26828e"
             ],
             [
              0.5555555555555556,
              "#1f9e89"
             ],
             [
              0.6666666666666666,
              "#35b779"
             ],
             [
              0.7777777777777778,
              "#6ece58"
             ],
             [
              0.8888888888888888,
              "#b5de2b"
             ],
             [
              1,
              "#fde725"
             ]
            ],
            "type": "histogram2dcontour"
           }
          ],
          "mesh3d": [
           {
            "colorbar": {
             "outlinewidth": 1,
             "tickcolor": "rgb(36,36,36)",
             "ticks": "outside"
            },
            "type": "mesh3d"
           }
          ],
          "parcoords": [
           {
            "line": {
             "colorbar": {
              "outlinewidth": 1,
              "tickcolor": "rgb(36,36,36)",
              "ticks": "outside"
             }
            },
            "type": "parcoords"
           }
          ],
          "pie": [
           {
            "automargin": true,
            "type": "pie"
           }
          ],
          "scatter": [
           {
            "marker": {
             "colorbar": {
              "outlinewidth": 1,
              "tickcolor": "rgb(36,36,36)",
              "ticks": "outside"
             }
            },
            "type": "scatter"
           }
          ],
          "scatter3d": [
           {
            "line": {
             "colorbar": {
              "outlinewidth": 1,
              "tickcolor": "rgb(36,36,36)",
              "ticks": "outside"
             }
            },
            "marker": {
             "colorbar": {
              "outlinewidth": 1,
              "tickcolor": "rgb(36,36,36)",
              "ticks": "outside"
             }
            },
            "type": "scatter3d"
           }
          ],
          "scattercarpet": [
           {
            "marker": {
             "colorbar": {
              "outlinewidth": 1,
              "tickcolor": "rgb(36,36,36)",
              "ticks": "outside"
             }
            },
            "type": "scattercarpet"
           }
          ],
          "scattergeo": [
           {
            "marker": {
             "colorbar": {
              "outlinewidth": 1,
              "tickcolor": "rgb(36,36,36)",
              "ticks": "outside"
             }
            },
            "type": "scattergeo"
           }
          ],
          "scattergl": [
           {
            "marker": {
             "colorbar": {
              "outlinewidth": 1,
              "tickcolor": "rgb(36,36,36)",
              "ticks": "outside"
             }
            },
            "type": "scattergl"
           }
          ],
          "scattermapbox": [
           {
            "marker": {
             "colorbar": {
              "outlinewidth": 1,
              "tickcolor": "rgb(36,36,36)",
              "ticks": "outside"
             }
            },
            "type": "scattermapbox"
           }
          ],
          "scatterpolar": [
           {
            "marker": {
             "colorbar": {
              "outlinewidth": 1,
              "tickcolor": "rgb(36,36,36)",
              "ticks": "outside"
             }
            },
            "type": "scatterpolar"
           }
          ],
          "scatterpolargl": [
           {
            "marker": {
             "colorbar": {
              "outlinewidth": 1,
              "tickcolor": "rgb(36,36,36)",
              "ticks": "outside"
             }
            },
            "type": "scatterpolargl"
           }
          ],
          "scatterternary": [
           {
            "marker": {
             "colorbar": {
              "outlinewidth": 1,
              "tickcolor": "rgb(36,36,36)",
              "ticks": "outside"
             }
            },
            "type": "scatterternary"
           }
          ],
          "surface": [
           {
            "colorbar": {
             "outlinewidth": 1,
             "tickcolor": "rgb(36,36,36)",
             "ticks": "outside"
            },
            "colorscale": [
             [
              0,
              "#440154"
             ],
             [
              0.1111111111111111,
              "#482878"
             ],
             [
              0.2222222222222222,
              "#3e4989"
             ],
             [
              0.3333333333333333,
              "#31688e"
             ],
             [
              0.4444444444444444,
              "#26828e"
             ],
             [
              0.5555555555555556,
              "#1f9e89"
             ],
             [
              0.6666666666666666,
              "#35b779"
             ],
             [
              0.7777777777777778,
              "#6ece58"
             ],
             [
              0.8888888888888888,
              "#b5de2b"
             ],
             [
              1,
              "#fde725"
             ]
            ],
            "type": "surface"
           }
          ],
          "table": [
           {
            "cells": {
             "fill": {
              "color": "rgb(237,237,237)"
             },
             "line": {
              "color": "white"
             }
            },
            "header": {
             "fill": {
              "color": "rgb(217,217,217)"
             },
             "line": {
              "color": "white"
             }
            },
            "type": "table"
           }
          ]
         },
         "layout": {
          "annotationdefaults": {
           "arrowhead": 0,
           "arrowwidth": 1
          },
          "autotypenumbers": "strict",
          "coloraxis": {
           "colorbar": {
            "outlinewidth": 1,
            "tickcolor": "rgb(36,36,36)",
            "ticks": "outside"
           }
          },
          "colorscale": {
           "diverging": [
            [
             0,
             "rgb(103,0,31)"
            ],
            [
             0.1,
             "rgb(178,24,43)"
            ],
            [
             0.2,
             "rgb(214,96,77)"
            ],
            [
             0.3,
             "rgb(244,165,130)"
            ],
            [
             0.4,
             "rgb(253,219,199)"
            ],
            [
             0.5,
             "rgb(247,247,247)"
            ],
            [
             0.6,
             "rgb(209,229,240)"
            ],
            [
             0.7,
             "rgb(146,197,222)"
            ],
            [
             0.8,
             "rgb(67,147,195)"
            ],
            [
             0.9,
             "rgb(33,102,172)"
            ],
            [
             1,
             "rgb(5,48,97)"
            ]
           ],
           "sequential": [
            [
             0,
             "#440154"
            ],
            [
             0.1111111111111111,
             "#482878"
            ],
            [
             0.2222222222222222,
             "#3e4989"
            ],
            [
             0.3333333333333333,
             "#31688e"
            ],
            [
             0.4444444444444444,
             "#26828e"
            ],
            [
             0.5555555555555556,
             "#1f9e89"
            ],
            [
             0.6666666666666666,
             "#35b779"
            ],
            [
             0.7777777777777778,
             "#6ece58"
            ],
            [
             0.8888888888888888,
             "#b5de2b"
            ],
            [
             1,
             "#fde725"
            ]
           ],
           "sequentialminus": [
            [
             0,
             "#440154"
            ],
            [
             0.1111111111111111,
             "#482878"
            ],
            [
             0.2222222222222222,
             "#3e4989"
            ],
            [
             0.3333333333333333,
             "#31688e"
            ],
            [
             0.4444444444444444,
             "#26828e"
            ],
            [
             0.5555555555555556,
             "#1f9e89"
            ],
            [
             0.6666666666666666,
             "#35b779"
            ],
            [
             0.7777777777777778,
             "#6ece58"
            ],
            [
             0.8888888888888888,
             "#b5de2b"
            ],
            [
             1,
             "#fde725"
            ]
           ]
          },
          "colorway": [
           "#1F77B4",
           "#FF7F0E",
           "#2CA02C",
           "#D62728",
           "#9467BD",
           "#8C564B",
           "#E377C2",
           "#7F7F7F",
           "#BCBD22",
           "#17BECF"
          ],
          "font": {
           "color": "rgb(36,36,36)"
          },
          "geo": {
           "bgcolor": "white",
           "lakecolor": "white",
           "landcolor": "white",
           "showlakes": true,
           "showland": true,
           "subunitcolor": "white"
          },
          "hoverlabel": {
           "align": "left"
          },
          "hovermode": "closest",
          "mapbox": {
           "style": "light"
          },
          "paper_bgcolor": "white",
          "plot_bgcolor": "white",
          "polar": {
           "angularaxis": {
            "gridcolor": "rgb(232,232,232)",
            "linecolor": "rgb(36,36,36)",
            "showgrid": false,
            "showline": true,
            "ticks": "outside"
           },
           "bgcolor": "white",
           "radialaxis": {
            "gridcolor": "rgb(232,232,232)",
            "linecolor": "rgb(36,36,36)",
            "showgrid": false,
            "showline": true,
            "ticks": "outside"
           }
          },
          "scene": {
           "xaxis": {
            "backgroundcolor": "white",
            "gridcolor": "rgb(232,232,232)",
            "gridwidth": 2,
            "linecolor": "rgb(36,36,36)",
            "showbackground": true,
            "showgrid": false,
            "showline": true,
            "ticks": "outside",
            "zeroline": false,
            "zerolinecolor": "rgb(36,36,36)"
           },
           "yaxis": {
            "backgroundcolor": "white",
            "gridcolor": "rgb(232,232,232)",
            "gridwidth": 2,
            "linecolor": "rgb(36,36,36)",
            "showbackground": true,
            "showgrid": false,
            "showline": true,
            "ticks": "outside",
            "zeroline": false,
            "zerolinecolor": "rgb(36,36,36)"
           },
           "zaxis": {
            "backgroundcolor": "white",
            "gridcolor": "rgb(232,232,232)",
            "gridwidth": 2,
            "linecolor": "rgb(36,36,36)",
            "showbackground": true,
            "showgrid": false,
            "showline": true,
            "ticks": "outside",
            "zeroline": false,
            "zerolinecolor": "rgb(36,36,36)"
           }
          },
          "shapedefaults": {
           "fillcolor": "black",
           "line": {
            "width": 0
           },
           "opacity": 0.3
          },
          "ternary": {
           "aaxis": {
            "gridcolor": "rgb(232,232,232)",
            "linecolor": "rgb(36,36,36)",
            "showgrid": false,
            "showline": true,
            "ticks": "outside"
           },
           "baxis": {
            "gridcolor": "rgb(232,232,232)",
            "linecolor": "rgb(36,36,36)",
            "showgrid": false,
            "showline": true,
            "ticks": "outside"
           },
           "bgcolor": "white",
           "caxis": {
            "gridcolor": "rgb(232,232,232)",
            "linecolor": "rgb(36,36,36)",
            "showgrid": false,
            "showline": true,
            "ticks": "outside"
           }
          },
          "title": {
           "x": 0.05
          },
          "xaxis": {
           "automargin": true,
           "gridcolor": "rgb(232,232,232)",
           "linecolor": "rgb(36,36,36)",
           "showgrid": false,
           "showline": true,
           "ticks": "outside",
           "title": {
            "standoff": 15
           },
           "zeroline": false,
           "zerolinecolor": "rgb(36,36,36)"
          },
          "yaxis": {
           "automargin": true,
           "gridcolor": "rgb(232,232,232)",
           "linecolor": "rgb(36,36,36)",
           "showgrid": false,
           "showline": true,
           "ticks": "outside",
           "title": {
            "standoff": 15
           },
           "zeroline": false,
           "zerolinecolor": "rgb(36,36,36)"
          }
         }
        },
        "width": 650,
        "xaxis": {
         "anchor": "y",
         "domain": [
          0,
          1
         ],
         "linecolor": "black",
         "mirror": "allticks",
         "showgrid": false,
         "ticks": "inside",
         "title": {
          "text": "Cs/Li"
         },
         "type": "log",
         "zeroline": false
        },
        "yaxis": {
         "anchor": "x",
         "domain": [
          0,
          1
         ],
         "linecolor": "black",
         "mirror": "allticks",
         "showgrid": false,
         "ticks": "inside",
         "title": {
          "text": "K/Li"
         },
         "type": "log",
         "zeroline": false
        }
       }
      },
      "text/html": [
       "<div>                            <div id=\"d045f38e-6dec-40ff-8b58-757c77c2e7dc\" class=\"plotly-graph-div\" style=\"height:500px; width:650px;\"></div>            <script type=\"text/javascript\">                require([\"plotly\"], function(Plotly) {                    window.PLOTLYENV=window.PLOTLYENV || {};                                    if (document.getElementById(\"d045f38e-6dec-40ff-8b58-757c77c2e7dc\")) {                    Plotly.newPlot(                        \"d045f38e-6dec-40ff-8b58-757c77c2e7dc\",                        [{\"customdata\":[[\"BU18FA19\",\"D\",\"ffore2\",\"fi06\",\"V - L\",\"quartz\"]],\"hovertemplate\":\"Host=%{customdata[5]}<br>type=type2B<br>Cs/Li=%{x}<br>K/Li=%{y}<br>sample=%{customdata[0]}<br>piece=%{customdata[1]}<br>field=%{customdata[2]}<br>analysis=%{customdata[3]}<br>Phases=%{customdata[4]}<extra></extra>\",\"legendgroup\":\"quartz, type2B\",\"marker\":{\"color\":\"rgb(240,228,66)\",\"symbol\":\"x\",\"line\":{\"color\":\"DarkSlateGrey\",\"width\":0.8},\"size\":10},\"mode\":\"markers\",\"name\":\"quartz, type2B\",\"orientation\":\"v\",\"showlegend\":true,\"x\":[null],\"xaxis\":\"x\",\"y\":[null],\"yaxis\":\"y\",\"type\":\"scatter\",\"opacity\":0.85},{\"customdata\":[[\"BU18FA22\",\"A\",\"ff1\",\"fi01\",\"L - V\",\"quartz\"],[\"BU18FA22\",\"A\",\"ff1\",\"fi02\",\"L - V\",\"quartz\"],[\"BU18FA22\",\"A\",\"ff2\",\"fi01\",\"L - V\",\"quartz\"],[\"BU18FA22\",\"A\",\"ff2\",\"fi02\",\"L - V\",\"quartz\"],[\"BU18FA22\",\"A\",\"ff2\",\"fi03\",\"L - V\",\"quartz\"],[\"BU18FA22\",\"A\",\"ff2\",\"fi04\",\"L - V\",\"quartz\"],[\"BU18FA22\",\"A\",\"ff2\",\"fi04\",\"L - V\",\"quartz\"],[\"BU18FA22\",\"A\",\"ff2\",\"fi05\",\"L - V\",\"quartz\"],[\"BU18FA22\",\"A\",\"ff3b\",\"fi01\",\"L - V\",\"quartz\"],[\"BU18FA22\",\"A\",\"ff3b\",\"fi02\",\"L - V\",\"quartz\"],[\"BU18FA22\",\"A\",\"ff3b\",\"fi03\",\"L - V\",\"quartz\"],[\"BU18FA22\",\"A\",\"ff3b\",\"fi04\",\"L - V\",\"quartz\"],[\"BU18FA22\",\"A\",\"ff3b\",\"fi05\",\"L - V\",\"quartz\"],[\"BU18FA22\",\"A\",\"ff3a\",\"fi01\",\"L - V\",\"quartz\"],[\"BU18FA22\",\"A\",\"ff3a\",\"fi02\",\"L - V\",\"quartz\"],[\"BU18FA22\",\"A\",\"ff3a\",\"fi03\",\"L - V\",\"quartz\"],[\"BU18FA22\",\"A\",\"ff3a\",\"fi04\",\"L - V\",\"quartz\"],[\"BU18FA22\",\"A\",\"ff3a\",\"fi05\",\"L - V\",\"quartz\"],[\"BU18FA22\",\"B\",\"ff1b\",\"fi01\",\"L - V\",\"quartz\"],[\"BU18FA22\",\"B\",\"ff1b\",\"fi02\",\"L - V\",\"quartz\"],[\"BU18FA22\",\"B\",\"ff1b\",\"fi03\",\"L - V\",\"quartz\"],[\"BU18FA22\",\"B\",\"ff1b\",\"fi04\",\"L - V\",\"quartz\"],[\"BU18FA22\",\"B\",\"ff1b\",\"fi05\",\"L - V\",\"quartz\"],[\"BU18FA19\",\"D\",\"ffore2\",\"fi01\",\"L - V\",\"quartz\"],[\"BU18FA19\",\"D\",\"ffore2\",\"fi02\",\"L - V\",\"quartz\"],[\"BU18FA19\",\"D\",\"ffore2\",\"fi03\",\"L - V\",\"quartz\"],[\"BU18FA19\",\"D\",\"ffore2\",\"fi04\",\"L - V\",\"quartz\"],[\"BU18FA19\",\"D\",\"ffore2\",\"fi05\",\"L - V\",\"quartz\"],[\"BU18FA19\",\"D\",\"ffore2\",\"fi07\",\"L - V\",\"quartz\"],[\"BU18FA19\",\"D\",\"ffore2\",\"fi08\",\"L - V\",\"quartz\"],[\"BU18FA19\",\"D\",\"ffore2\",\"fi09\",\"L - V\",\"quartz\"],[\"BU18FA19\",\"D\",\"ffore2\",\"fi011\",\"L - V\",\"quartz\"],[\"BU18FA19\",\"D\",\"ffore2\",\"fi012\",\"L - V\",\"quartz\"],[\"BU18FA19\",\"D\",\"ffore2\",\"fi013\",\"L - V\",\"quartz\"],[\"BU18FA19\",\"E\",\"ff11b\",\"fi01\",\"L - V\",\"quartz\"],[\"BU18FA19\",\"E\",\"ff11b\",\"fi02\",\"L - V\",\"quartz\"],[\"BU18FA19\",\"E\",\"ff11b\",\"fi03\",\"L - V\",\"quartz\"],[\"BU18FA19\",\"E\",\"ff11b\",\"fi04\",\"L - V\",\"quartz\"],[\"BU18FA19\",\"E\",\"ff11b\",\"fi05\",\"L - V\",\"quartz\"],[\"BU18FA19\",\"E\",\"ff11b\",\"fi06\",\"L - V\",\"quartz\"],[\"BU18FA19\",\"E\",\"ff11b\",\"fi07\",\"L - V\",\"quartz\"],[\"BU18FA19\",\"E\",\"ff11b\",\"fi08\",\"L - V\",\"quartz\"],[\"BU18FA19\",\"E\",\"ff11b\",\"fi09\",\"L - V\",\"quartz\"],[\"BU18FA19\",\"E\",\"ff11b\",\"fi010\",\"L - V\",\"quartz\"]],\"hovertemplate\":\"Host=%{customdata[5]}<br>type=type2A<br>Cs/Li=%{x}<br>K/Li=%{y}<br>sample=%{customdata[0]}<br>piece=%{customdata[1]}<br>field=%{customdata[2]}<br>analysis=%{customdata[3]}<br>Phases=%{customdata[4]}<extra></extra>\",\"legendgroup\":\"quartz, type2A\",\"marker\":{\"color\":\"rgb(240,228,66)\",\"symbol\":\"circle\",\"line\":{\"color\":\"DarkSlateGrey\",\"width\":0.8},\"size\":10},\"mode\":\"markers\",\"name\":\"quartz, type2A\",\"orientation\":\"v\",\"showlegend\":true,\"x\":[null,null,2.3275135391045993,null,null,null,null,null,1.3158179881388865,null,null,null,null,0.3518982073226039,null,null,0.37989450291019133,null,0.5119189743656044,null,null,null,null,null,null,null,null,null,null,null,null,null,null,null,null,null,0.013712976083976055,null,null,null,null,null,null,null],\"xaxis\":\"x\",\"y\":[null,null,67.95289755907035,null,null,null,null,null,84.21461466293874,null,null,null,null,26.340965511324974,null,null,31.370955322670472,null,35.43238808966689,null,null,null,null,null,null,null,null,null,null,null,null,null,null,null,null,null,2.624921019908223,null,null,null,null,null,null,null],\"yaxis\":\"y\",\"type\":\"scatter\",\"opacity\":0.85},{\"customdata\":[[\"BU18FA32\",\"A\",\"ff1\",\"fi02\",\"L - L - V\",\"brazilianite\"],[\"BU18FA32\",\"A\",\"ff1\",\"fi03\",\"L - L - V\",\"brazilianite\"],[\"BU18FA32\",\"A\",\"ff1\",\"fi04\",\"L - L - V\",\"brazilianite\"],[\"BU18FA32\",\"C\",\"ff1\",\"fi03\",\"L - L - V\",\"brazilianite\"],[\"BU18FA32\",\"C\",\"ff1\",\"fi04\",\"L - L - V\",\"brazilianite\"],[\"BU18FA32\",\"C\",\"ff1\",\"fi05\",\"L - L - V\",\"brazilianite\"]],\"hovertemplate\":\"Host=%{customdata[5]}<br>type=type3<br>Cs/Li=%{x}<br>K/Li=%{y}<br>sample=%{customdata[0]}<br>piece=%{customdata[1]}<br>field=%{customdata[2]}<br>analysis=%{customdata[3]}<br>Phases=%{customdata[4]}<extra></extra>\",\"legendgroup\":\"brazilianite, type3\",\"marker\":{\"color\":\"rgb(250,120,10)\",\"symbol\":\"square\",\"line\":{\"color\":\"DarkSlateGrey\",\"width\":0.8},\"size\":10},\"mode\":\"markers\",\"name\":\"brazilianite, type3\",\"orientation\":\"v\",\"showlegend\":true,\"x\":[null,0.3617963157235029,null,null,null,null],\"xaxis\":\"x\",\"y\":[null,10.45095551770833,null,null,null,null],\"yaxis\":\"y\",\"type\":\"scatter\",\"opacity\":0.85},{\"customdata\":[[\"BU18FA32\",\"A\",\"ff1\",\"fi01\",\"L - V - S\",\"brazilianite\"],[\"BU18FA32\",\"B\",\"ff2\",\"fi01\",\"L - V - S\",\"brazilianite\"],[\"BU18FA32\",\"B\",\"ff2\",\"fi03\",\"L - V - S\",\"brazilianite\"],[\"BU18FA32\",\"B\",\"ff2\",\"fi05\",\"L - V - S\",\"brazilianite\"],[\"BU18FA02a\",\"A\",\"ff1\",\"fi01\",\"L - V - S\",\"brazilianite\"],[\"BU18FA02a\",\"A\",\"ff1\",\"fi04\",\"L - V - S\",\"brazilianite\"],[\"BU18FA02a\",\"B\",\"ff4\",\"fi01\",\"L - V - S\",\"brazilianite\"]],\"hovertemplate\":\"Host=%{customdata[5]}<br>type=type1<br>Cs/Li=%{x}<br>K/Li=%{y}<br>sample=%{customdata[0]}<br>piece=%{customdata[1]}<br>field=%{customdata[2]}<br>analysis=%{customdata[3]}<br>Phases=%{customdata[4]}<extra></extra>\",\"legendgroup\":\"brazilianite, type1\",\"marker\":{\"color\":\"rgb(250,120,10)\",\"symbol\":\"diamond\",\"line\":{\"color\":\"DarkSlateGrey\",\"width\":0.8},\"size\":10},\"mode\":\"markers\",\"name\":\"brazilianite, type1\",\"orientation\":\"v\",\"showlegend\":true,\"x\":[0.2081713768327223,null,null,null,null,null,0.5507592859817299],\"xaxis\":\"x\",\"y\":[13.479744348482573,null,null,null,null,null,79.6133250254401],\"yaxis\":\"y\",\"type\":\"scatter\",\"opacity\":0.85},{\"customdata\":[[\"BU18FA32\",\"A\",\"ff1\",\"fi05\",\"L - V\",\"brazilianite\"],[\"BU18FA32\",\"A\",\"ff1\",\"fi06\",\"L - V\",\"brazilianite\"],[\"BU18FA32\",\"A\",\"ff1\",\"fi07\",\"L - V\",\"brazilianite\"],[\"BU18FA32\",\"A\",\"ff1\",\"fi08\",\"L - V\",\"brazilianite\"],[\"BU18FA32\",\"A\",\"ff1\",\"fi09\",\"L - V\",\"brazilianite\"],[\"BU18FA32\",\"A\",\"ff1\",\"fi010\",\"L - V\",\"brazilianite\"],[\"BU18FA32\",\"C\",\"ff1\",\"fi01\",\"L - V\",\"brazilianite\"],[\"BU18FA32\",\"C\",\"ff1\",\"fi02\",\"L - V\",\"brazilianite\"],[\"BU18FA32\",\"C\",\"ff1\",\"fi06\",\"L - V\",\"brazilianite\"],[\"BU18FA32\",\"C\",\"ff1\",\"fi07\",\"L - V\",\"brazilianite\"],[\"BU18FA32\",\"C\",\"ff1\",\"fi08\",\"L - V\",\"brazilianite\"],[\"BU18FA32\",\"C\",\"ff1\",\"fi09\",\"L - V\",\"brazilianite\"],[\"BU18FA32\",\"C\",\"ff1\",\"fi010\",\"L - V\",\"brazilianite\"],[\"BU18FA32\",\"B\",\"ff2\",\"fi02\",\"L - V\",\"brazilianite\"],[\"BU18FA32\",\"B\",\"ff2\",\"fi04\",\"L - V\",\"brazilianite\"],[\"BU18FA02a\",\"A\",\"ff1\",\"fi02\",\"L - V\",\"brazilianite\"],[\"BU18FA02a\",\"A\",\"ff1\",\"fi03\",\"L - V\",\"brazilianite\"],[\"BU18FA02a\",\"A\",\"ff1\",\"fi05\",\"L - V\",\"brazilianite\"],[\"BU18FA32\",\"A\",\"ff1\",\"fi011\",\"L - V\",\"brazilianite\"],[\"BU18FA02a\",\"B\",\"ff3\",\"fi01\",\"L - V\",\"brazilianite\"],[\"BU18FA02a\",\"B\",\"ff3\",\"fi02\",\"L - V\",\"brazilianite\"],[\"BU18FA02a\",\"B\",\"ff3\",\"fi03\",\"L - V\",\"brazilianite\"],[\"BU18FA02a\",\"B\",\"ff3\",\"fi04\",\"L - V\",\"brazilianite\"],[\"BU18FA02a\",\"B\",\"ff3\",\"fi05\",\"L - V\",\"brazilianite\"],[\"BU18FA02a\",\"B\",\"ff3\",\"fi06\",\"L - V\",\"brazilianite\"],[\"BU18FA32\",\"B\",\"ff1\",\"fi01\",\"L - V\",\"brazilianite\"],[\"BU18FA32\",\"B\",\"ff1\",\"fi02\",\"L - V\",\"brazilianite\"],[\"BU18FA32\",\"B\",\"ff1\",\"fi03\",\"L - V\",\"brazilianite\"],[\"BU18FA32\",\"B\",\"ff1\",\"fi04\",\"L - V\",\"brazilianite\"],[\"BU18FA32\",\"B\",\"ff1\",\"fi05\",\"L - V\",\"brazilianite\"],[\"BU18FA32\",\"B\",\"ff1\",\"fi06\",\"L - V\",\"brazilianite\"],[\"BU18FA32\",\"B\",\"ff2\",\"fi06\",\"L - V\",\"brazilianite\"],[\"BU18FA32\",\"B\",\"ff2\",\"fi07\",\"L - V\",\"brazilianite\"],[\"BU18FA32\",\"B\",\"ff2\",\"fi08\",\"L - V\",\"brazilianite\"],[\"BU18FA32\",\"B\",\"ff2\",\"fi09\",\"L - V\",\"brazilianite\"]],\"hovertemplate\":\"Host=%{customdata[5]}<br>type=type2A<br>Cs/Li=%{x}<br>K/Li=%{y}<br>sample=%{customdata[0]}<br>piece=%{customdata[1]}<br>field=%{customdata[2]}<br>analysis=%{customdata[3]}<br>Phases=%{customdata[4]}<extra></extra>\",\"legendgroup\":\"brazilianite, type2A\",\"marker\":{\"color\":\"rgb(250,120,10)\",\"symbol\":\"circle\",\"line\":{\"color\":\"DarkSlateGrey\",\"width\":0.8},\"size\":10},\"mode\":\"markers\",\"name\":\"brazilianite, type2A\",\"orientation\":\"v\",\"showlegend\":true,\"x\":[null,0.17893550967210564,null,null,0.17066682918608406,null,null,null,null,null,null,null,null,null,null,null,null,null,null,0.3119574831005579,0.6681207708092718,0.5628351560978451,0.08140009204115824,null,null,0.18804703190914684,0.1773586460115385,null,null,null,0.15307613892415756,0.15198143665298833,0.17652684091730275,null,0.16299537046572946],\"xaxis\":\"x\",\"y\":[null,11.146455898391512,null,null,9.29196272335849,null,null,null,null,null,null,null,null,null,null,null,null,null,null,68.6927233743315,87.99001640101488,78.9345998948993,2.2718214166046606,null,null,12.212497467429026,15.505176575128107,null,null,null,4.5346532024991095,10.50216820696169,14.684278767478514,null,9.71377727947132],\"yaxis\":\"y\",\"type\":\"scatter\",\"opacity\":0.85},{\"customdata\":[[\"BU18FA19(2)\",\"A\",\"ff1\",\"fi09\",\"V - L\",\"augelite\"]],\"hovertemplate\":\"Host=%{customdata[5]}<br>type=type2B<br>Cs/Li=%{x}<br>K/Li=%{y}<br>sample=%{customdata[0]}<br>piece=%{customdata[1]}<br>field=%{customdata[2]}<br>analysis=%{customdata[3]}<br>Phases=%{customdata[4]}<extra></extra>\",\"legendgroup\":\"augelite, type2B\",\"marker\":{\"color\":\"rgb(51,255,51)\",\"symbol\":\"x\",\"line\":{\"color\":\"DarkSlateGrey\",\"width\":0.8},\"size\":10},\"mode\":\"markers\",\"name\":\"augelite, type2B\",\"orientation\":\"v\",\"showlegend\":true,\"x\":[null],\"xaxis\":\"x\",\"y\":[null],\"yaxis\":\"y\",\"type\":\"scatter\",\"opacity\":0.85},{\"customdata\":[[\"BU18FA19(2)\",\"A\",\"ff1b\",\"fi01\",\"L - L - V\",\"augelite\"],[\"BU18FA19(2)\",\"A\",\"ff2b\",\"fi03\",\"L - L - V\",\"augelite\"],[\"BU18FA19(2)\",\"A\",\"ff2b\",\"fi05\",\"L - L - V\",\"augelite\"]],\"hovertemplate\":\"Host=%{customdata[5]}<br>type=type3<br>Cs/Li=%{x}<br>K/Li=%{y}<br>sample=%{customdata[0]}<br>piece=%{customdata[1]}<br>field=%{customdata[2]}<br>analysis=%{customdata[3]}<br>Phases=%{customdata[4]}<extra></extra>\",\"legendgroup\":\"augelite, type3\",\"marker\":{\"color\":\"rgb(51,255,51)\",\"symbol\":\"square\",\"line\":{\"color\":\"DarkSlateGrey\",\"width\":0.8},\"size\":10},\"mode\":\"markers\",\"name\":\"augelite, type3\",\"orientation\":\"v\",\"showlegend\":true,\"x\":[null,null,null],\"xaxis\":\"x\",\"y\":[null,null,null],\"yaxis\":\"y\",\"type\":\"scatter\",\"opacity\":0.85},{\"customdata\":[[\"BU18FA19(2)\",\"A\",\"ff1\",\"fi01\",\"L - V - S\",\"augelite\"]],\"hovertemplate\":\"Host=%{customdata[5]}<br>type=type1<br>Cs/Li=%{x}<br>K/Li=%{y}<br>sample=%{customdata[0]}<br>piece=%{customdata[1]}<br>field=%{customdata[2]}<br>analysis=%{customdata[3]}<br>Phases=%{customdata[4]}<extra></extra>\",\"legendgroup\":\"augelite, type1\",\"marker\":{\"color\":\"rgb(51,255,51)\",\"symbol\":\"diamond\",\"line\":{\"color\":\"DarkSlateGrey\",\"width\":0.8},\"size\":10},\"mode\":\"markers\",\"name\":\"augelite, type1\",\"orientation\":\"v\",\"showlegend\":true,\"x\":[1.076967157146463],\"xaxis\":\"x\",\"y\":[94.34621177433556],\"yaxis\":\"y\",\"type\":\"scatter\",\"opacity\":0.85},{\"customdata\":[[\"BU18FA19(2)\",\"A\",\"ff1\",\"fi02\",\"L - V\",\"augelite\"],[\"BU18FA19(2)\",\"A\",\"ff1\",\"fi03\",\"L - V\",\"augelite\"],[\"BU18FA19(2)\",\"A\",\"ff1\",\"fi04\",\"L - V\",\"augelite\"],[\"BU18FA19(2)\",\"A\",\"ff1\",\"fi05\",\"L - V\",\"augelite\"],[\"BU18FA19(2)\",\"A\",\"ff1\",\"fi06\",\"L - V\",\"augelite\"],[\"BU18FA19(2)\",\"A\",\"ff1\",\"fi07\",\"L - V\",\"augelite\"],[\"BU18FA19(2)\",\"A\",\"ff1\",\"fi08\",\"L - V\",\"augelite\"],[\"BU18FA19(2)\",\"A\",\"ff2\",\"fi01\",\"L - V\",\"augelite\"],[\"BU18FA19(2)\",\"A\",\"ff2\",\"fi02\",\"L - V\",\"augelite\"],[\"BU18FA19(2)\",\"A\",\"ff2\",\"fi03\",\"L - V\",\"augelite\"],[\"BU18FA19(2)\",\"A\",\"ff2\",\"fi04\",\"L - V\",\"augelite\"],[\"BU18FA19(2)\",\"A\",\"ff2\",\"fi05\",\"L - V\",\"augelite\"],[\"BU18FA19(2)\",\"A\",\"ff2b\",\"fi01\",\"L - V\",\"augelite\"],[\"BU18FA19(2)\",\"A\",\"ff2b\",\"fi02\",\"L - V\",\"augelite\"],[\"BU18FA19(2)\",\"A\",\"ff2b\",\"fi04\",\"L - V\",\"augelite\"],[\"BU18FA19(2)\",\"A\",\"ff2\",\"fi06\",\"L - V\",\"augelite\"],[\"BU18FA19(2)\",\"A\",\"ff2\",\"fi07\",\"L - V\",\"augelite\"],[\"BU18FA19(2)\",\"A\",\"ff1\",\"fi010\",\"L - V\",\"augelite\"]],\"hovertemplate\":\"Host=%{customdata[5]}<br>type=type2A<br>Cs/Li=%{x}<br>K/Li=%{y}<br>sample=%{customdata[0]}<br>piece=%{customdata[1]}<br>field=%{customdata[2]}<br>analysis=%{customdata[3]}<br>Phases=%{customdata[4]}<extra></extra>\",\"legendgroup\":\"augelite, type2A\",\"marker\":{\"color\":\"rgb(51,255,51)\",\"symbol\":\"circle\",\"line\":{\"color\":\"DarkSlateGrey\",\"width\":0.8},\"size\":10},\"mode\":\"markers\",\"name\":\"augelite, type2A\",\"orientation\":\"v\",\"showlegend\":true,\"x\":[null,null,null,null,null,0.3062472770840934,null,null,null,0.5949011496379266,null,0.424987753039022,0.706253031729742,null,null,null,null,null],\"xaxis\":\"x\",\"y\":[null,null,null,null,null,39.910394442221666,null,null,null,61.265597677737375,null,38.35149142697447,51.62588478621197,null,null,null,null,null],\"yaxis\":\"y\",\"type\":\"scatter\",\"opacity\":0.85},{\"customdata\":[[\"BU18FA22\",\"B\",\"ff2\",\"fi01\",\"L - V\",\"scorzalite\"],[\"BU18FA22\",\"B\",\"ff2\",\"fi02\",\"L - V\",\"scorzalite\"],[\"BU18FA22\",\"B\",\"ff2\",\"fi03\",\"L - V\",\"scorzalite\"],[\"BU18FA22\",\"B\",\"ff2\",\"fi04\",\"L - V\",\"scorzalite\"],[\"BU18FA22\",\"B\",\"ff2\",\"fi05\",\"L - V\",\"scorzalite\"],[\"BU18FA22\",\"B\",\"ff2\",\"fi06\",\"L - V\",\"scorzalite\"],[\"BU18FA20\",\"A\",\"ff1\",\"fi01\",\"L - V\",\"scorzalite\"],[\"BU18FA20\",\"A\",\"ff4\",\"fi01\",\"L - V\",\"scorzalite\"],[\"BU18FA20\",\"I\",\"ff1\",\"fi01\",\"L - V\",\"scorzalite\"],[\"BU18FA22\",\"D\",\"ff1\",\"fi01\",\"L - V\",\"scorzalite\"],[\"BU18FA22\",\"D\",\"ff1\",\"fi02\",\"L - V\",\"scorzalite\"],[\"BU18FA22\",\"D\",\"ff1\",\"fi03\",\"L - V\",\"scorzalite\"]],\"hovertemplate\":\"Host=%{customdata[5]}<br>type=type2A<br>Cs/Li=%{x}<br>K/Li=%{y}<br>sample=%{customdata[0]}<br>piece=%{customdata[1]}<br>field=%{customdata[2]}<br>analysis=%{customdata[3]}<br>Phases=%{customdata[4]}<extra></extra>\",\"legendgroup\":\"scorzalite, type2A\",\"marker\":{\"color\":\"rgb(0,0,255)\",\"symbol\":\"circle\",\"line\":{\"color\":\"DarkSlateGrey\",\"width\":0.8},\"size\":10},\"mode\":\"markers\",\"name\":\"scorzalite, type2A\",\"orientation\":\"v\",\"showlegend\":true,\"x\":[null,null,null,null,null,null,null,null,null,null,null,null],\"xaxis\":\"x\",\"y\":[null,null,null,null,null,null,null,null,null,null,null,null],\"yaxis\":\"y\",\"type\":\"scatter\",\"opacity\":0.85},{\"customdata\":[[\"BU18FA20\",\"B\",\"ff2\",\"fi04\",\"V - L\",\"bertossaite\"],[\"BU18FA04\",\"B\",\"ff7\",\"fi05\",\"V - L\",\"bertossaite\"]],\"hovertemplate\":\"Host=%{customdata[5]}<br>type=type2B<br>Cs/Li=%{x}<br>K/Li=%{y}<br>sample=%{customdata[0]}<br>piece=%{customdata[1]}<br>field=%{customdata[2]}<br>analysis=%{customdata[3]}<br>Phases=%{customdata[4]}<extra></extra>\",\"legendgroup\":\"bertossaite, type2B\",\"marker\":{\"color\":\"rgb(204,121,167)\",\"symbol\":\"x\",\"line\":{\"color\":\"DarkSlateGrey\",\"width\":0.8},\"size\":10},\"mode\":\"markers\",\"name\":\"bertossaite, type2B\",\"orientation\":\"v\",\"showlegend\":true,\"x\":[0.00506005050703705,null],\"xaxis\":\"x\",\"y\":[0.21862126513614039,null],\"yaxis\":\"y\",\"type\":\"scatter\",\"opacity\":0.85},{\"customdata\":[[\"BU18FA20\",\"C\",\"ff1\",\"fi01\",\"L - L - V\",\"bertossaite\"],[\"BU18FA20\",\"C\",\"ff1\",\"fi02\",\"L - L - V\",\"bertossaite\"],[\"BU18FA20\",\"C\",\"ff1\",\"fi03\",\"L - L - V\",\"bertossaite\"],[\"BU18FA20\",\"C\",\"ff1\",\"fi04\",\"L - L - V\",\"bertossaite\"],[\"BU18FA20\",\"C\",\"ff1\",\"fi06\",\"L - L - V\",\"bertossaite\"],[\"BU18FA20\",\"C\",\"ff1\",\"fi07\",\"L - L - V\",\"bertossaite\"],[\"BU18FA20\",\"C\",\"ff1\",\"fi08\",\"L - L - V\",\"bertossaite\"],[\"BU18FA20\",\"C\",\"ff1\",\"fi09\",\"L - L - V\",\"bertossaite\"],[\"BU18FA20\",\"C\",\"ff1\",\"fi010\",\"L - L - V\",\"bertossaite\"],[\"BU18FA20\",\"B\",\"ff4\",\"fi01\",\"L - L - V\",\"bertossaite\"],[\"BU18FA20\",\"B\",\"ff4\",\"fi02\",\"L - L - V\",\"bertossaite\"],[\"BU18FA20\",\"B\",\"ff4\",\"fi03\",\"L - L - V\",\"bertossaite\"],[\"BU18FA20\",\"B\",\"ff4\",\"fi04\",\"L - L - V\",\"bertossaite\"],[\"BU18FA04\",\"A\",\"ff3\",\"fi04\",\"L - L - V\",\"bertossaite\"]],\"hovertemplate\":\"Host=%{customdata[5]}<br>type=type3<br>Cs/Li=%{x}<br>K/Li=%{y}<br>sample=%{customdata[0]}<br>piece=%{customdata[1]}<br>field=%{customdata[2]}<br>analysis=%{customdata[3]}<br>Phases=%{customdata[4]}<extra></extra>\",\"legendgroup\":\"bertossaite, type3\",\"marker\":{\"color\":\"rgb(204,121,167)\",\"symbol\":\"square\",\"line\":{\"color\":\"DarkSlateGrey\",\"width\":0.8},\"size\":10},\"mode\":\"markers\",\"name\":\"bertossaite, type3\",\"orientation\":\"v\",\"showlegend\":true,\"x\":[0.16394852365022067,0.07572096400442464,null,0.39348401069814654,null,null,0.0803421230851874,null,null,null,0.16199614899149284,0.0828124838364051,null,0.029312005683024667],\"xaxis\":\"x\",\"y\":[3.6561191126747272,1.178966246765517,null,3.1888196521336,null,null,1.0707158259198712,null,null,null,2.92553170710425,2.921269046644845,null,1.1996504579165856],\"yaxis\":\"y\",\"type\":\"scatter\",\"opacity\":0.85},{\"customdata\":[[\"BU18FA20\",\"F\",\"ff1\",\"fi05\",\"L - V - S\",\"bertossaite\"],[\"BU18FA20\",\"B\",\"ff4\",\"fi05\",\"L - V - S\",\"bertossaite\"],[\"BU18FA22\",\"C\",\"ff2\",\"fi02\",\"L - V - S\",\"bertossaite\"]],\"hovertemplate\":\"Host=%{customdata[5]}<br>type=type1<br>Cs/Li=%{x}<br>K/Li=%{y}<br>sample=%{customdata[0]}<br>piece=%{customdata[1]}<br>field=%{customdata[2]}<br>analysis=%{customdata[3]}<br>Phases=%{customdata[4]}<extra></extra>\",\"legendgroup\":\"bertossaite, type1\",\"marker\":{\"color\":\"rgb(204,121,167)\",\"symbol\":\"diamond\",\"line\":{\"color\":\"DarkSlateGrey\",\"width\":0.8},\"size\":10},\"mode\":\"markers\",\"name\":\"bertossaite, type1\",\"orientation\":\"v\",\"showlegend\":true,\"x\":[null,null,null],\"xaxis\":\"x\",\"y\":[null,null,null],\"yaxis\":\"y\",\"type\":\"scatter\",\"opacity\":0.85},{\"customdata\":[[\"BU18FA20\",\"B\",\"ff2\",\"fi01\",\"L - V\",\"bertossaite\"],[\"BU18FA20\",\"B\",\"ff2\",\"fi02\",\"L - V\",\"bertossaite\"],[\"BU18FA20\",\"B\",\"ff2\",\"fi03\",\"L - V\",\"bertossaite\"],[\"BU18FA22\",\"C\",\"ff1\",\"fi01\",\"L - V\",\"bertossaite\"],[\"BU18FA22\",\"C\",\"ff1\",\"fi02\",\"L - V\",\"bertossaite\"],[\"BU18FA22\",\"C\",\"ff1\",\"fi03\",\"L - V\",\"bertossaite\"],[\"BU18FA22\",\"C\",\"ff1\",\"fi04\",\"L - V\",\"bertossaite\"],[\"BU18FA20\",\"F\",\"ff1\",\"fi01\",\"L - V\",\"bertossaite\"],[\"BU18FA20\",\"F\",\"ff1\",\"fi01\",\"L - V\",\"bertossaite\"],[\"BU18FA20\",\"F\",\"ff1\",\"fi02\",\"L - V\",\"bertossaite\"],[\"BU18FA20\",\"F\",\"ff1\",\"fi03\",\"L - V\",\"bertossaite\"],[\"BU18FA20\",\"C\",\"ff1\",\"fi05\",\"L - V\",\"bertossaite\"],[\"BU18FA20\",\"B\",\"ff2\",\"fi05\",\"L - V\",\"bertossaite\"],[\"BU18FA20\",\"F\",\"ff1\",\"fi04\",\"L - V\",\"bertossaite\"],[\"BU18FA19\",\"E\",\"ff11\",\"fi01\",\"L - V\",\"bertossaite\"],[\"BU18FA19\",\"E\",\"ff11\",\"fi02\",\"L - V\",\"bertossaite\"],[\"BU18FA19\",\"E\",\"ff11\",\"fi03\",\"L - V\",\"bertossaite\"],[\"BU18FA19\",\"E\",\"ff11\",\"fi04\",\"L - V\",\"bertossaite\"],[\"BU18FA19\",\"E\",\"ff11\",\"fi05\",\"L - V\",\"bertossaite\"],[\"BU18FA19\",\"E\",\"ff11\",\"fi06\",\"L - V\",\"bertossaite\"],[\"BU18FA19\",\"E\",\"ff11\",\"fi07\",\"L - V\",\"bertossaite\"],[\"BU18FA19\",\"E\",\"ff11\",\"fi08\",\"L - V\",\"bertossaite\"],[\"BU18FA19\",\"E\",\"ff11\",\"fi09\",\"L - V\",\"bertossaite\"],[\"BU18FA19\",\"E\",\"ff11\",\"fi010\",\"L - V\",\"bertossaite\"],[\"BU18FA04\",\"A\",\"ff3\",\"fi01\",\"L - V\",\"bertossaite\"],[\"BU18FA04\",\"A\",\"ff3\",\"fi02\",\"L - V\",\"bertossaite\"],[\"BU18FA04\",\"A\",\"ff3\",\"fi03\",\"L - V\",\"bertossaite\"],[\"BU18FA04\",\"A\",\"ff3\",\"fi05\",\"L - V\",\"bertossaite\"],[\"BU18FA04\",\"A\",\"ff3\",\"fi06\",\"L - V\",\"bertossaite\"],[\"BU18FA04\",\"A\",\"ff3\",\"fi07\",\"L - V\",\"bertossaite\"],[\"BU18FA04\",\"A\",\"ff3\",\"fi08\",\"L - V\",\"bertossaite\"],[\"BU18FA04\",\"A\",\"ff3\",\"fi09\",\"L - V\",\"bertossaite\"],[\"BU18FA04\",\"B\",\"ff6\",\"fi01\",\"L - V\",\"bertossaite\"],[\"BU18FA04\",\"B\",\"ff6\",\"fi06\",\"L - V\",\"bertossaite\"],[\"BU18FA04\",\"B\",\"ff6\",\"fi09\",\"L - V\",\"bertossaite\"],[\"BU18FA04\",\"B\",\"ff7\",\"fi01\",\"L - V\",\"bertossaite\"],[\"BU18FA04\",\"B\",\"ff7\",\"fi02\",\"L - V\",\"bertossaite\"],[\"BU18FA04\",\"B\",\"ff7\",\"fi03\",\"L - V\",\"bertossaite\"],[\"BU18FA20\",\"B\",\"ff2\",\"fi07\",\"L - V\",\"bertossaite\"],[\"BU18FA20\",\"B\",\"ff4\",\"fi06\",\"L - V\",\"bertossaite\"],[\"BU18FA20\",\"B\",\"ff4\",\"fi07\",\"L - V\",\"bertossaite\"],[\"BU18FA20\",\"B\",\"ff4\",\"fi09\",\"L - V\",\"bertossaite\"],[\"BU18FA22\",\"C\",\"ff2\",\"fi01\",\"L - V\",\"bertossaite\"],[\"BU18FA22\",\"C\",\"ff2\",\"fi03\",\"L - V\",\"bertossaite\"]],\"hovertemplate\":\"Host=%{customdata[5]}<br>type=type2A<br>Cs/Li=%{x}<br>K/Li=%{y}<br>sample=%{customdata[0]}<br>piece=%{customdata[1]}<br>field=%{customdata[2]}<br>analysis=%{customdata[3]}<br>Phases=%{customdata[4]}<extra></extra>\",\"legendgroup\":\"bertossaite, type2A\",\"marker\":{\"color\":\"rgb(204,121,167)\",\"symbol\":\"circle\",\"line\":{\"color\":\"DarkSlateGrey\",\"width\":0.8},\"size\":10},\"mode\":\"markers\",\"name\":\"bertossaite, type2A\",\"orientation\":\"v\",\"showlegend\":true,\"x\":[null,null,0.04716043915633536,null,null,null,0.025223347217589707,null,null,null,null,null,null,null,null,null,null,null,null,null,null,null,0.01985644341220349,0.17610802770242784,0.02002012810215554,0.01811592487873828,0.025462725732004518,null,null,null,0.0033337861811303915,null,0.028238045686013208,0.12161452619369283,null,0.009334592797930434,null,0.001417320234668357,0.01681683812696049,0.08445640037633738,0.038143581275717216,null,0.057433887629048115,0.10911688998879035],\"xaxis\":\"x\",\"y\":[null,1.7480193001520206,7.115841257187833,null,null,null,null,null,null,null,null,null,null,null,null,null,null,null,null,null,null,null,2.272907787573832,12.24997526128702,1.2152295253875498,2.340017559435239,6.924084057865704,0.12039171486562074,null,null,0.8443160626281999,null,7.297916430472721,16.327762090147253,null,1.1228994189113117,null,0.1689628567075185,3.0922991092181262,1.648948029051586,3.0669155984569363,null,1.4761652471388962,3.2123747418180453],\"yaxis\":\"y\",\"type\":\"scatter\",\"opacity\":0.85},{\"customdata\":[[\"BU18FA20\",\"E\",\"ff1\",\"fi01\",\"V - L\",\"trolleite\"],[\"BU18FA20\",\"E\",\"ff1\",\"fi02\",\"V - L\",\"trolleite\"],[\"BU18FA20\",\"G\",\"ff1\",\"fi04\",\"V - L\",\"trolleite\"]],\"hovertemplate\":\"Host=%{customdata[5]}<br>type=type2B<br>Cs/Li=%{x}<br>K/Li=%{y}<br>sample=%{customdata[0]}<br>piece=%{customdata[1]}<br>field=%{customdata[2]}<br>analysis=%{customdata[3]}<br>Phases=%{customdata[4]}<extra></extra>\",\"legendgroup\":\"trolleite, type2B\",\"marker\":{\"color\":\"rgb(0,158,115)\",\"symbol\":\"x\",\"line\":{\"color\":\"DarkSlateGrey\",\"width\":0.8},\"size\":10},\"mode\":\"markers\",\"name\":\"trolleite, type2B\",\"orientation\":\"v\",\"showlegend\":true,\"x\":[null,0.9159776013938478,null],\"xaxis\":\"x\",\"y\":[null,19.728048704885527,null],\"yaxis\":\"y\",\"type\":\"scatter\",\"opacity\":0.85},{\"customdata\":[[\"BU18FA22\",\"B\",\"ff1\",\"fi05\",\"L - V - S\",\"trolleite\"],[\"BU18FA20\",\"E\",\"ff1\",\"fi03\",\"L - V - S\",\"trolleite\"],[\"BU18FA20\",\"E\",\"ff1\",\"fi05\",\"S - L - V\",\"trolleite\"],[\"BU18FA20\",\"E\",\"ff1\",\"fi06\",\"L - V - S\",\"trolleite\"],[\"BU18FA20\",\"G\",\"ff1\",\"fi01\",\"S - L - V\",\"trolleite\"],[\"BU18FA20\",\"G\",\"ff1\",\"fi02\",\"L - V - S\",\"trolleite\"],[\"BU18FA20\",\"G\",\"ff1\",\"fi03\",\"S - L - V\",\"trolleite\"],[\"BU18FA20\",\"H\",\"ff1\",\"fi07\",\"L - V - S\",\"trolleite\"],[\"BU18FA20\",\"J\",\"ff1\",\"fi01\",\"L - V - S\",\"trolleite\"],[\"BU18FA20\",\"J\",\"ff1\",\"fi02\",\"L - V - S\",\"trolleite\"],[\"BU18FA20\",\"J\",\"ff1\",\"fi03\",\"L - V - S\",\"trolleite\"],[\"BU18FA19\",\"A\",\"ff7b\",\"fi03\",\"L - V - S\",\"trolleite\"],[\"BU18FA19\",\"A\",\"ff7b\",\"fi04\",\"L - V - S\",\"trolleite\"],[\"BU18FA19\",\"A\",\"ff7b\",\"fi05\",\"L - V - S\",\"trolleite\"],[\"BU18FA19\",\"A\",\"ff7b\",\"fi06\",\"L - V - S\",\"trolleite\"],[\"BU18FA19\",\"A\",\"ff7b\",\"fi07\",\"L - V - S\",\"trolleite\"],[\"BU18FA19\",\"A\",\"ff7b\",\"fi08\",\"L - V - S\",\"trolleite\"],[\"BU18FA19\",\"B\",\"ff1\",\"fi01\",\"S - L - V\",\"trolleite\"],[\"BU18FA19\",\"B\",\"ff1\",\"fi02\",\"L - V - S\",\"trolleite\"],[\"BU18FA19\",\"B\",\"ff1\",\"fi03\",\"L - V - S\",\"trolleite\"],[\"BU18FA19\",\"B\",\"ff1\",\"fi04\",\"L - V - S\",\"trolleite\"],[\"BU18FA19\",\"B\",\"ff1\",\"fi06\",\"L - V - S\",\"trolleite\"],[\"BU18FA19\",\"B\",\"ff1\",\"fi07\",\"L - V - S\",\"trolleite\"],[\"BU18FA19\",\"B\",\"ff1\",\"fi08\",\"S - L - V\",\"trolleite\"],[\"BU18FA19\",\"B\",\"ff1\",\"fi09\",\"L - V - S\",\"trolleite\"],[\"BU18FA19\",\"B\",\"ff1\",\"fi0MI\",\"S - L - V\",\"trolleite\"],[\"BU18FA19\",\"C\",\"ffore1\",\"fi01\",\"L - V - S\",\"trolleite\"],[\"BU18FA19\",\"C\",\"ffore1\",\"fi03\",\"L - V - S\",\"trolleite\"],[\"BU18FA19\",\"C\",\"ffore1\",\"fi05\",\"L - V - S\",\"trolleite\"],[\"BU18FA19\",\"C\",\"ffore1\",\"fi06\",\"L - V - S\",\"trolleite\"],[\"BU18FA19\",\"D\",\"ff2\",\"fi01\",\"L - V - S\",\"trolleite\"],[\"BU18FA19\",\"D\",\"ff2\",\"fi03\",\"L - V - S\",\"trolleite\"],[\"BU18FA19\",\"D\",\"ff2\",\"fi04\",\"L - V - S\",\"trolleite\"],[\"BU18FA04\",\"B\",\"ff5\",\"fi01\",\"L - V - S\",\"trolleite\"],[\"BU18FA04\",\"C\",\"ff8\",\"fi04\",\"L - V - S\",\"trolleite\"]],\"hovertemplate\":\"Host=%{customdata[5]}<br>type=type1<br>Cs/Li=%{x}<br>K/Li=%{y}<br>sample=%{customdata[0]}<br>piece=%{customdata[1]}<br>field=%{customdata[2]}<br>analysis=%{customdata[3]}<br>Phases=%{customdata[4]}<extra></extra>\",\"legendgroup\":\"trolleite, type1\",\"marker\":{\"color\":\"rgb(0,158,115)\",\"symbol\":\"diamond\",\"line\":{\"color\":\"DarkSlateGrey\",\"width\":0.8},\"size\":10},\"mode\":\"markers\",\"name\":\"trolleite, type1\",\"orientation\":\"v\",\"showlegend\":true,\"x\":[null,0.4586808338297216,0.6599446786566019,null,null,null,null,null,2.6288371943543263,3.0585350012551795,1.6371179992958225,null,null,null,null,0.19947638511642143,0.3915867706258507,null,0.4337973914816093,0.5517216512303201,0.16475946814828665,0.37475892939894667,0.5352392693111271,null,null,null,null,null,null,null,null,null,null,null,0.15454115926791645],\"xaxis\":\"x\",\"y\":[null,7.876538063533166,31.304073308518348,null,null,null,null,null,73.55388498331293,204.23276369711814,114.01108607318564,null,null,null,null,27.428410983098843,41.70871582386389,null,28.1195616688402,60.32540523092729,17.95924963281655,39.7045174688473,59.59537374524642,null,null,null,null,null,null,null,null,null,null,null,14.416314242978945],\"yaxis\":\"y\",\"type\":\"scatter\",\"opacity\":0.85},{\"customdata\":[[\"BU18FA22\",\"B\",\"ff1\",\"fi01\",\"L - V\",\"trolleite\"],[\"BU18FA22\",\"B\",\"ff1\",\"fi02\",\"L - V\",\"trolleite\"],[\"BU18FA22\",\"B\",\"ff1\",\"fi03\",\"L - V\",\"trolleite\"],[\"BU18FA22\",\"B\",\"ff1\",\"fi04\",\"L - V\",\"trolleite\"],[\"BU18FA20\",\"E\",\"ff1\",\"fi04\",\"L - V\",\"trolleite\"],[\"BU18FA20\",\"A\",\"ff2\",\"fi01\",\"L - V\",\"trolleite\"],[\"BU18FA20\",\"A\",\"ff2\",\"fi02\",\"L - V\",\"trolleite\"],[\"BU18FA20\",\"A\",\"ff2\",\"fi03\",\"L - V\",\"trolleite\"],[\"BU18FA20\",\"F\",\"ff2\",\"fi01\",\"L - V\",\"trolleite\"],[\"BU18FA20\",\"E\",\"ff1\",\"fi07\",\"L - V\",\"trolleite\"],[\"BU18FA20\",\"H\",\"ff1\",\"fi01\",\"L - V\",\"trolleite\"],[\"BU18FA20\",\"H\",\"ff1\",\"fi02\",\"L - V\",\"trolleite\"],[\"BU18FA20\",\"H\",\"ff1\",\"fi03\",\"L - V\",\"trolleite\"],[\"BU18FA20\",\"H\",\"ff1\",\"fi04\",\"L - V\",\"trolleite\"],[\"BU18FA20\",\"H\",\"ff1\",\"fi05\",\"L - V\",\"trolleite\"],[\"BU18FA19\",\"A\",\"ff7b\",\"fi01\",\"L - V\",\"trolleite\"],[\"BU18FA19\",\"A\",\"ff7b\",\"fi02\",\"L - V\",\"trolleite\"],[\"BU18FA19\",\"A\",\"ff7b\",\"fi09\",\"L - V\",\"trolleite\"],[\"BU18FA19\",\"A\",\"ff7b\",\"fi010\",\"L - V\",\"trolleite\"],[\"BU18FA19\",\"B\",\"ff1\",\"fi05\",\"L - V\",\"trolleite\"],[\"BU18FA19\",\"B\",\"ff1\",\"fi010\",\"L - V\",\"trolleite\"],[\"BU18FA19\",\"C\",\"ffore1\",\"fi02\",\"L - V\",\"trolleite\"],[\"BU18FA19\",\"C\",\"ffore1\",\"fi04\",\"L - V\",\"trolleite\"],[\"BU18FA19\",\"C\",\"ffore1\",\"fi07\",\"L - V\",\"trolleite\"],[\"BU18FA19\",\"D\",\"ff2\",\"fi02\",\"L - V\",\"trolleite\"],[\"BU18FA19\",\"D\",\"ff2\",\"fi05\",\"L - V\",\"trolleite\"],[\"BU18FA19\",\"D\",\"ff2\",\"fi06\",\"L - V\",\"trolleite\"],[\"BU18FA19\",\"D\",\"ff2\",\"fi07\",\"L - V\",\"trolleite\"],[\"BU18FA19\",\"D\",\"ff2\",\"fi08\",\"L - V\",\"trolleite\"],[\"BU18FA19\",\"D\",\"ff2\",\"fi09\",\"L - V\",\"trolleite\"],[\"BU18FA19\",\"D\",\"ff2\",\"fi010\",\"L - V\",\"trolleite\"],[\"BU18FA19\",\"A\",\"ff7b\",\"fi011\",\"L - V\",\"trolleite\"],[\"BU18FA19\",\"A\",\"ff7b\",\"fi012\",\"L - V\",\"trolleite\"],[\"BU18FA20\",\"E\",\"ff1\",\"fi08\",\"L - V\",\"trolleite\"],[\"BU18FA04\",\"C\",\"ff8\",\"fi01\",\"L - V\",\"trolleite\"],[\"BU18FA04\",\"C\",\"ff8\",\"fi03\",\"L - V\",\"trolleite\"],[\"BU18FA04\",\"C\",\"ff8\",\"fi05\",\"L - V\",\"trolleite\"]],\"hovertemplate\":\"Host=%{customdata[5]}<br>type=type2A<br>Cs/Li=%{x}<br>K/Li=%{y}<br>sample=%{customdata[0]}<br>piece=%{customdata[1]}<br>field=%{customdata[2]}<br>analysis=%{customdata[3]}<br>Phases=%{customdata[4]}<extra></extra>\",\"legendgroup\":\"trolleite, type2A\",\"marker\":{\"color\":\"rgb(0,158,115)\",\"symbol\":\"circle\",\"line\":{\"color\":\"DarkSlateGrey\",\"width\":0.8},\"size\":10},\"mode\":\"markers\",\"name\":\"trolleite, type2A\",\"orientation\":\"v\",\"showlegend\":true,\"x\":[null,null,null,null,2.5963568967595805,null,null,null,null,0.19240096238088977,null,null,null,null,null,0.6611477321349535,null,0.14037360313339559,null,0.5292634105085676,null,null,null,null,null,null,null,null,null,null,null,0.029388151717982355,0.23416879405624186,1.9184893973127684,0.6584011907509251,0.21520443717380822,3.164313527134098],\"xaxis\":\"x\",\"y\":[null,null,null,null,105.59675152976702,null,null,null,null,8.198113220418971,null,null,null,null,null,76.1737096349156,null,19.6074149728637,null,29.305470008331703,null,null,null,null,null,null,null,null,null,null,null,3.3013785379002303,23.820130325002054,36.19011699368482,173.8818119990153,33.225542729815665,56.960310355865246],\"yaxis\":\"y\",\"type\":\"scatter\",\"opacity\":0.85},{\"customdata\":[[\"BU18FA32\",\"AII\",\"incC\",\"fi01\",\"L - V - S\",\"wyllieite\"],[\"BU18FA32\",\"AII\",\"incC\",\"fi02\",\"L - V - S\",\"wyllieite\"],[\"BU18FA32\",\"AII\",\"incC\",\"fi03\",\"L - V - S\",\"wyllieite\"],[\"BU18FA32\",\"AII\",\"incC\",\"fi04\",\"L - V - S\",\"wyllieite\"],[\"BU18FA32\",\"AII\",\"incC\",\"fi05\",\"L - V - S\",\"wyllieite\"],[\"BU18FA32\",\"AII\",\"incC\",\"fi06\",\"L - V - S\",\"wyllieite\"],[\"BU18FA32\",\"AII\",\"incC\",\"fi07\",\"L - V - S\",\"wyllieite\"],[\"BU18FA32\",\"AII\",\"incC\",\"fi08\",\"L - V - S\",\"wyllieite\"]],\"hovertemplate\":\"Host=%{customdata[5]}<br>type=type1<br>Cs/Li=%{x}<br>K/Li=%{y}<br>sample=%{customdata[0]}<br>piece=%{customdata[1]}<br>field=%{customdata[2]}<br>analysis=%{customdata[3]}<br>Phases=%{customdata[4]}<extra></extra>\",\"legendgroup\":\"wyllieite, type1\",\"marker\":{\"color\":\"rgb(0,170,250)\",\"symbol\":\"diamond\",\"line\":{\"color\":\"DarkSlateGrey\",\"width\":0.8},\"size\":10},\"mode\":\"markers\",\"name\":\"wyllieite, type1\",\"orientation\":\"v\",\"showlegend\":true,\"x\":[0.058872802331297366,0.0432115322192956,null,0.05615263649930708,null,0.06878542969583086,0.06266488036716777,0.07176449559966469],\"xaxis\":\"x\",\"y\":[3.135175532309802,2.937203875414234,null,3.35511307570377,0.1664381261061533,2.6825430011526423,4.599185905223875,3.3420746473202065],\"yaxis\":\"y\",\"type\":\"scatter\",\"opacity\":0.85}],                        {\"template\":{\"data\":{\"barpolar\":[{\"marker\":{\"line\":{\"color\":\"white\",\"width\":0.5},\"pattern\":{\"fillmode\":\"overlay\",\"size\":10,\"solidity\":0.2}},\"type\":\"barpolar\"}],\"bar\":[{\"error_x\":{\"color\":\"rgb(36,36,36)\"},\"error_y\":{\"color\":\"rgb(36,36,36)\"},\"marker\":{\"line\":{\"color\":\"white\",\"width\":0.5},\"pattern\":{\"fillmode\":\"overlay\",\"size\":10,\"solidity\":0.2}},\"type\":\"bar\"}],\"carpet\":[{\"aaxis\":{\"endlinecolor\":\"rgb(36,36,36)\",\"gridcolor\":\"white\",\"linecolor\":\"white\",\"minorgridcolor\":\"white\",\"startlinecolor\":\"rgb(36,36,36)\"},\"baxis\":{\"endlinecolor\":\"rgb(36,36,36)\",\"gridcolor\":\"white\",\"linecolor\":\"white\",\"minorgridcolor\":\"white\",\"startlinecolor\":\"rgb(36,36,36)\"},\"type\":\"carpet\"}],\"choropleth\":[{\"colorbar\":{\"outlinewidth\":1,\"tickcolor\":\"rgb(36,36,36)\",\"ticks\":\"outside\"},\"type\":\"choropleth\"}],\"contourcarpet\":[{\"colorbar\":{\"outlinewidth\":1,\"tickcolor\":\"rgb(36,36,36)\",\"ticks\":\"outside\"},\"type\":\"contourcarpet\"}],\"contour\":[{\"colorbar\":{\"outlinewidth\":1,\"tickcolor\":\"rgb(36,36,36)\",\"ticks\":\"outside\"},\"colorscale\":[[0.0,\"#440154\"],[0.1111111111111111,\"#482878\"],[0.2222222222222222,\"#3e4989\"],[0.3333333333333333,\"#31688e\"],[0.4444444444444444,\"#26828e\"],[0.5555555555555556,\"#1f9e89\"],[0.6666666666666666,\"#35b779\"],[0.7777777777777778,\"#6ece58\"],[0.8888888888888888,\"#b5de2b\"],[1.0,\"#fde725\"]],\"type\":\"contour\"}],\"heatmapgl\":[{\"colorbar\":{\"outlinewidth\":1,\"tickcolor\":\"rgb(36,36,36)\",\"ticks\":\"outside\"},\"colorscale\":[[0.0,\"#440154\"],[0.1111111111111111,\"#482878\"],[0.2222222222222222,\"#3e4989\"],[0.3333333333333333,\"#31688e\"],[0.4444444444444444,\"#26828e\"],[0.5555555555555556,\"#1f9e89\"],[0.6666666666666666,\"#35b779\"],[0.7777777777777778,\"#6ece58\"],[0.8888888888888888,\"#b5de2b\"],[1.0,\"#fde725\"]],\"type\":\"heatmapgl\"}],\"heatmap\":[{\"colorbar\":{\"outlinewidth\":1,\"tickcolor\":\"rgb(36,36,36)\",\"ticks\":\"outside\"},\"colorscale\":[[0.0,\"#440154\"],[0.1111111111111111,\"#482878\"],[0.2222222222222222,\"#3e4989\"],[0.3333333333333333,\"#31688e\"],[0.4444444444444444,\"#26828e\"],[0.5555555555555556,\"#1f9e89\"],[0.6666666666666666,\"#35b779\"],[0.7777777777777778,\"#6ece58\"],[0.8888888888888888,\"#b5de2b\"],[1.0,\"#fde725\"]],\"type\":\"heatmap\"}],\"histogram2dcontour\":[{\"colorbar\":{\"outlinewidth\":1,\"tickcolor\":\"rgb(36,36,36)\",\"ticks\":\"outside\"},\"colorscale\":[[0.0,\"#440154\"],[0.1111111111111111,\"#482878\"],[0.2222222222222222,\"#3e4989\"],[0.3333333333333333,\"#31688e\"],[0.4444444444444444,\"#26828e\"],[0.5555555555555556,\"#1f9e89\"],[0.6666666666666666,\"#35b779\"],[0.7777777777777778,\"#6ece58\"],[0.8888888888888888,\"#b5de2b\"],[1.0,\"#fde725\"]],\"type\":\"histogram2dcontour\"}],\"histogram2d\":[{\"colorbar\":{\"outlinewidth\":1,\"tickcolor\":\"rgb(36,36,36)\",\"ticks\":\"outside\"},\"colorscale\":[[0.0,\"#440154\"],[0.1111111111111111,\"#482878\"],[0.2222222222222222,\"#3e4989\"],[0.3333333333333333,\"#31688e\"],[0.4444444444444444,\"#26828e\"],[0.5555555555555556,\"#1f9e89\"],[0.6666666666666666,\"#35b779\"],[0.7777777777777778,\"#6ece58\"],[0.8888888888888888,\"#b5de2b\"],[1.0,\"#fde725\"]],\"type\":\"histogram2d\"}],\"histogram\":[{\"marker\":{\"line\":{\"color\":\"white\",\"width\":0.6}},\"type\":\"histogram\"}],\"mesh3d\":[{\"colorbar\":{\"outlinewidth\":1,\"tickcolor\":\"rgb(36,36,36)\",\"ticks\":\"outside\"},\"type\":\"mesh3d\"}],\"parcoords\":[{\"line\":{\"colorbar\":{\"outlinewidth\":1,\"tickcolor\":\"rgb(36,36,36)\",\"ticks\":\"outside\"}},\"type\":\"parcoords\"}],\"pie\":[{\"automargin\":true,\"type\":\"pie\"}],\"scatter3d\":[{\"line\":{\"colorbar\":{\"outlinewidth\":1,\"tickcolor\":\"rgb(36,36,36)\",\"ticks\":\"outside\"}},\"marker\":{\"colorbar\":{\"outlinewidth\":1,\"tickcolor\":\"rgb(36,36,36)\",\"ticks\":\"outside\"}},\"type\":\"scatter3d\"}],\"scattercarpet\":[{\"marker\":{\"colorbar\":{\"outlinewidth\":1,\"tickcolor\":\"rgb(36,36,36)\",\"ticks\":\"outside\"}},\"type\":\"scattercarpet\"}],\"scattergeo\":[{\"marker\":{\"colorbar\":{\"outlinewidth\":1,\"tickcolor\":\"rgb(36,36,36)\",\"ticks\":\"outside\"}},\"type\":\"scattergeo\"}],\"scattergl\":[{\"marker\":{\"colorbar\":{\"outlinewidth\":1,\"tickcolor\":\"rgb(36,36,36)\",\"ticks\":\"outside\"}},\"type\":\"scattergl\"}],\"scattermapbox\":[{\"marker\":{\"colorbar\":{\"outlinewidth\":1,\"tickcolor\":\"rgb(36,36,36)\",\"ticks\":\"outside\"}},\"type\":\"scattermapbox\"}],\"scatterpolargl\":[{\"marker\":{\"colorbar\":{\"outlinewidth\":1,\"tickcolor\":\"rgb(36,36,36)\",\"ticks\":\"outside\"}},\"type\":\"scatterpolargl\"}],\"scatterpolar\":[{\"marker\":{\"colorbar\":{\"outlinewidth\":1,\"tickcolor\":\"rgb(36,36,36)\",\"ticks\":\"outside\"}},\"type\":\"scatterpolar\"}],\"scatter\":[{\"marker\":{\"colorbar\":{\"outlinewidth\":1,\"tickcolor\":\"rgb(36,36,36)\",\"ticks\":\"outside\"}},\"type\":\"scatter\"}],\"scatterternary\":[{\"marker\":{\"colorbar\":{\"outlinewidth\":1,\"tickcolor\":\"rgb(36,36,36)\",\"ticks\":\"outside\"}},\"type\":\"scatterternary\"}],\"surface\":[{\"colorbar\":{\"outlinewidth\":1,\"tickcolor\":\"rgb(36,36,36)\",\"ticks\":\"outside\"},\"colorscale\":[[0.0,\"#440154\"],[0.1111111111111111,\"#482878\"],[0.2222222222222222,\"#3e4989\"],[0.3333333333333333,\"#31688e\"],[0.4444444444444444,\"#26828e\"],[0.5555555555555556,\"#1f9e89\"],[0.6666666666666666,\"#35b779\"],[0.7777777777777778,\"#6ece58\"],[0.8888888888888888,\"#b5de2b\"],[1.0,\"#fde725\"]],\"type\":\"surface\"}],\"table\":[{\"cells\":{\"fill\":{\"color\":\"rgb(237,237,237)\"},\"line\":{\"color\":\"white\"}},\"header\":{\"fill\":{\"color\":\"rgb(217,217,217)\"},\"line\":{\"color\":\"white\"}},\"type\":\"table\"}]},\"layout\":{\"annotationdefaults\":{\"arrowhead\":0,\"arrowwidth\":1},\"autotypenumbers\":\"strict\",\"coloraxis\":{\"colorbar\":{\"outlinewidth\":1,\"tickcolor\":\"rgb(36,36,36)\",\"ticks\":\"outside\"}},\"colorscale\":{\"diverging\":[[0.0,\"rgb(103,0,31)\"],[0.1,\"rgb(178,24,43)\"],[0.2,\"rgb(214,96,77)\"],[0.3,\"rgb(244,165,130)\"],[0.4,\"rgb(253,219,199)\"],[0.5,\"rgb(247,247,247)\"],[0.6,\"rgb(209,229,240)\"],[0.7,\"rgb(146,197,222)\"],[0.8,\"rgb(67,147,195)\"],[0.9,\"rgb(33,102,172)\"],[1.0,\"rgb(5,48,97)\"]],\"sequential\":[[0.0,\"#440154\"],[0.1111111111111111,\"#482878\"],[0.2222222222222222,\"#3e4989\"],[0.3333333333333333,\"#31688e\"],[0.4444444444444444,\"#26828e\"],[0.5555555555555556,\"#1f9e89\"],[0.6666666666666666,\"#35b779\"],[0.7777777777777778,\"#6ece58\"],[0.8888888888888888,\"#b5de2b\"],[1.0,\"#fde725\"]],\"sequentialminus\":[[0.0,\"#440154\"],[0.1111111111111111,\"#482878\"],[0.2222222222222222,\"#3e4989\"],[0.3333333333333333,\"#31688e\"],[0.4444444444444444,\"#26828e\"],[0.5555555555555556,\"#1f9e89\"],[0.6666666666666666,\"#35b779\"],[0.7777777777777778,\"#6ece58\"],[0.8888888888888888,\"#b5de2b\"],[1.0,\"#fde725\"]]},\"colorway\":[\"#1F77B4\",\"#FF7F0E\",\"#2CA02C\",\"#D62728\",\"#9467BD\",\"#8C564B\",\"#E377C2\",\"#7F7F7F\",\"#BCBD22\",\"#17BECF\"],\"font\":{\"color\":\"rgb(36,36,36)\"},\"geo\":{\"bgcolor\":\"white\",\"lakecolor\":\"white\",\"landcolor\":\"white\",\"showlakes\":true,\"showland\":true,\"subunitcolor\":\"white\"},\"hoverlabel\":{\"align\":\"left\"},\"hovermode\":\"closest\",\"mapbox\":{\"style\":\"light\"},\"paper_bgcolor\":\"white\",\"plot_bgcolor\":\"white\",\"polar\":{\"angularaxis\":{\"gridcolor\":\"rgb(232,232,232)\",\"linecolor\":\"rgb(36,36,36)\",\"showgrid\":false,\"showline\":true,\"ticks\":\"outside\"},\"bgcolor\":\"white\",\"radialaxis\":{\"gridcolor\":\"rgb(232,232,232)\",\"linecolor\":\"rgb(36,36,36)\",\"showgrid\":false,\"showline\":true,\"ticks\":\"outside\"}},\"scene\":{\"xaxis\":{\"backgroundcolor\":\"white\",\"gridcolor\":\"rgb(232,232,232)\",\"gridwidth\":2,\"linecolor\":\"rgb(36,36,36)\",\"showbackground\":true,\"showgrid\":false,\"showline\":true,\"ticks\":\"outside\",\"zeroline\":false,\"zerolinecolor\":\"rgb(36,36,36)\"},\"yaxis\":{\"backgroundcolor\":\"white\",\"gridcolor\":\"rgb(232,232,232)\",\"gridwidth\":2,\"linecolor\":\"rgb(36,36,36)\",\"showbackground\":true,\"showgrid\":false,\"showline\":true,\"ticks\":\"outside\",\"zeroline\":false,\"zerolinecolor\":\"rgb(36,36,36)\"},\"zaxis\":{\"backgroundcolor\":\"white\",\"gridcolor\":\"rgb(232,232,232)\",\"gridwidth\":2,\"linecolor\":\"rgb(36,36,36)\",\"showbackground\":true,\"showgrid\":false,\"showline\":true,\"ticks\":\"outside\",\"zeroline\":false,\"zerolinecolor\":\"rgb(36,36,36)\"}},\"shapedefaults\":{\"fillcolor\":\"black\",\"line\":{\"width\":0},\"opacity\":0.3},\"ternary\":{\"aaxis\":{\"gridcolor\":\"rgb(232,232,232)\",\"linecolor\":\"rgb(36,36,36)\",\"showgrid\":false,\"showline\":true,\"ticks\":\"outside\"},\"baxis\":{\"gridcolor\":\"rgb(232,232,232)\",\"linecolor\":\"rgb(36,36,36)\",\"showgrid\":false,\"showline\":true,\"ticks\":\"outside\"},\"bgcolor\":\"white\",\"caxis\":{\"gridcolor\":\"rgb(232,232,232)\",\"linecolor\":\"rgb(36,36,36)\",\"showgrid\":false,\"showline\":true,\"ticks\":\"outside\"}},\"title\":{\"x\":0.05},\"xaxis\":{\"automargin\":true,\"gridcolor\":\"rgb(232,232,232)\",\"linecolor\":\"rgb(36,36,36)\",\"showgrid\":false,\"showline\":true,\"ticks\":\"outside\",\"title\":{\"standoff\":15},\"zeroline\":false,\"zerolinecolor\":\"rgb(36,36,36)\"},\"yaxis\":{\"automargin\":true,\"gridcolor\":\"rgb(232,232,232)\",\"linecolor\":\"rgb(36,36,36)\",\"showgrid\":false,\"showline\":true,\"ticks\":\"outside\",\"title\":{\"standoff\":15},\"zeroline\":false,\"zerolinecolor\":\"rgb(36,36,36)\"}}},\"xaxis\":{\"anchor\":\"y\",\"domain\":[0.0,1.0],\"title\":{\"text\":\"Cs/Li\"},\"type\":\"log\",\"ticks\":\"inside\",\"zeroline\":false,\"linecolor\":\"black\",\"showgrid\":false,\"mirror\":\"allticks\"},\"yaxis\":{\"anchor\":\"x\",\"domain\":[0.0,1.0],\"title\":{\"text\":\"K/Li\"},\"type\":\"log\",\"ticks\":\"inside\",\"zeroline\":false,\"linecolor\":\"black\",\"showgrid\":false,\"mirror\":\"allticks\"},\"legend\":{\"title\":{\"text\":\"Host, type\"},\"tracegroupgap\":0},\"margin\":{\"t\":60},\"height\":500,\"width\":650},                        {\"responsive\": true}                    ).then(function(){\n",
       "                            \n",
       "var gd = document.getElementById('d045f38e-6dec-40ff-8b58-757c77c2e7dc');\n",
       "var x = new MutationObserver(function (mutations, observer) {{\n",
       "        var display = window.getComputedStyle(gd).display;\n",
       "        if (!display || display === 'none') {{\n",
       "            console.log([gd, 'removed!']);\n",
       "            Plotly.purge(gd);\n",
       "            observer.disconnect();\n",
       "        }}\n",
       "}});\n",
       "\n",
       "// Listen for the removal of the full notebook cells\n",
       "var notebookContainer = gd.closest('#notebook-container');\n",
       "if (notebookContainer) {{\n",
       "    x.observe(notebookContainer, {childList: true});\n",
       "}}\n",
       "\n",
       "// Listen for the clearing of the current output cell\n",
       "var outputEl = gd.closest('.output');\n",
       "if (outputEl) {{\n",
       "    x.observe(outputEl, {childList: true});\n",
       "}}\n",
       "\n",
       "                        })                };                });            </script>        </div>"
      ]
     },
     "metadata": {},
     "output_type": "display_data"
    }
   ],
   "source": [
    "        # --- plot figures - binary diagrams\n",
    "\n",
    "to_plot = df_FI\n",
    "\n",
    "# to_plot = df_trl\n",
    "\n",
    "# to_plot = df_FI.query('(sample == \"BU18FA19\") & (field == \"ff7b\")')\n",
    "\n",
    "\n",
    "x = 'Cs/Li'\n",
    "y = 'K/Li'\n",
    "\n",
    "\n",
    "fig = px.scatter(to_plot, x=x, y=y,\n",
    "                 symbol = \"type\", \n",
    "                 color=\"Host\", \n",
    "                 hover_data=[\"sample\",'piece','field',\"analysis\",\"Phases\",\"Host\"],\n",
    "                 width=650, height=500,\n",
    "                 category_orders={\"Host\": [\"wyllieite\", 'montebrasite',\n",
    "                                           \"rosemaryite\", \"trolleite\", \n",
    "                                           \"bertossaite\",'scorzalite',\n",
    "                                          'augelite','brazilianite', 'quartz']},\n",
    "                 color_discrete_map=colors_map, # replaces default color mapping by value\n",
    "                log_x=True, log_y=True,\n",
    "                labels={x: x,# + \" [mol/kg]\",\n",
    "                        y: y}# + \" [mol/kg]\"}\n",
    "                )\n",
    "\n",
    "fig.update_layout(template=\"simple_white\")\n",
    "\n",
    "fig.update_traces(marker=dict(size=10, \n",
    "                              line=dict(width=0.8,\n",
    "                                        color='DarkSlateGrey')),\n",
    "                  selector=dict(mode='markers'),\n",
    "                  opacity=0.85)\n",
    "\n",
    "\n",
    "\n",
    "fig.update_xaxes(ticks='inside',zeroline=False,linecolor=\"black\",showgrid=False,mirror= \"allticks\")\n",
    "fig.update_yaxes(ticks='inside',zeroline=False,linecolor=\"black\",showgrid=False,mirror= \"allticks\")\n",
    "\n",
    "\n",
    "        # Add extra traces and annotations to the graph, e.g. legend for ratio lines\n",
    "\n",
    "# fig.add_traces(list(px.line(x=[0, 0.1], y=[0, 0.15]).select_traces())) #1:1.5 ratio\n",
    "# fig.add_traces(list(px.line(x=[0, 0.1], y=[0, 1.5]).select_traces())) #1:15 ratio\n",
    "\n",
    "# fig.add_traces(list(px.line(x=[0, 100], y=[0, 0.1]).select_traces())) #1:1000 ratio \n",
    "# fig.add_traces(list(px.line(x=[0, 100], y=[0, 2]).select_traces())) #1:50 ratio\n",
    "\n",
    "# fig.add_traces(list(px.line(x=[0, 10], y=[0, 10]).select_traces())) #1:1 ratio\n",
    "\n",
    "# annotations = [\n",
    "#     dict(xref='paper', yref='paper', x=0.7, y=0.99,\n",
    "#                               text='1:50<br>ratio',\n",
    "#                               font=dict(family='Arial',\n",
    "#                                         size=14,\n",
    "#                                         color='rgb(100,100,100)'),\n",
    "#                               showarrow=False),\n",
    "               \n",
    "#               dict(xref='paper', yref='paper', x=0.99, y=0.65,\n",
    "#                               text='1:1000<br>ratio',\n",
    "#                               font=dict(family='Arial',\n",
    "#                                         size=14,\n",
    "#                                         color='rgb(100,100,100)'),\n",
    "#                               showarrow=False)\n",
    "               \n",
    "#                dict(xref='paper', yref='paper', x=0.55, y=0.98,\n",
    "#                               text='1:10<br>ratio',\n",
    "#                               font=dict(family='Arial',\n",
    "#                                         size=14,\n",
    "#                                         color='rgba(0,0,255,0.5)'),\n",
    "#                               showarrow=False),\n",
    "               \n",
    "#                dict(xref='paper', yref='paper', x=0.99, y=0.76,\n",
    "#                               text='1:2<br>ratio',\n",
    "#                               font=dict(family='Arial',\n",
    "#                                         size=14,\n",
    "#                                         color='rgba(100,100,100,1)'),\n",
    "#                               showarrow=False)\n",
    "#               ]\n",
    "\n",
    "# fig.update_layout(annotations=annotations)\n",
    "\n",
    "# fig.data[-1].line.color = 'rgba(0,0,0,0.3)'\n",
    "# fig.data[-2].line.color = 'rgba(0,0,0,0.3)'\n",
    "\n",
    "# fig.data[-3].line.color = 'rgba(0,0,255,0.3)'\n",
    "# fig.data[-4].line.color = 'rgba(0,0,255,0.3)'\n",
    "\n",
    "fig.data = fig.data[::-1] #reverse order of plotting\n",
    "\n",
    "\n",
    "# fig.update_xaxes(tickvals=[0,0.25,0.5,0.75,1,1.25,1.5])\n",
    "# fig.update_yaxes(tickvals=[0,0.25,0.5,0.75,1,1.25,1.5])\n",
    "\n",
    "# fig.update_xaxes(range=(-1.7,1.7))\n",
    "# fig.update_yaxes(range=(-4.31,-0.68))\n",
    "\n",
    "# fig.write_image(data_dir+\"figures/plot_binary-mRb_mCs_log.pdf\");\n",
    "fig.show()"
   ]
  },
  {
   "cell_type": "markdown",
   "id": "17e559bf",
   "metadata": {},
   "source": [
    "# Ternary plot"
   ]
  },
  {
   "cell_type": "code",
   "execution_count": 20,
   "id": "b70c9083",
   "metadata": {},
   "outputs": [
    {
     "data": {
      "application/vnd.plotly.v1+json": {
       "config": {
        "plotlyServerURL": "https://plot.ly"
       },
       "data": [
        {
         "a": [
          null,
          null,
          45421.87384235462,
          39987.01996064383,
          null,
          null,
          null,
          null,
          55484.415414939416,
          68387.40184167911,
          null,
          null,
          null,
          42742.61303486873,
          null,
          null,
          50872.93568908897,
          42103.81649748016,
          54459.768288466665,
          null,
          null,
          null,
          null,
          null,
          null,
          null,
          null,
          null,
          null,
          null,
          null,
          null,
          null,
          null,
          null,
          29104.57115343444,
          30244.154308925004,
          47119.49432641707,
          null,
          null,
          null,
          null,
          null,
          null
         ],
         "b": [
          null,
          null,
          18597.376943428742,
          39042.46336446092,
          null,
          null,
          null,
          null,
          11635.377435291291,
          null,
          null,
          null,
          null,
          33088.35170750849,
          null,
          null,
          17135.4048902086,
          50128.35876199015,
          28997.16852877294,
          null,
          null,
          null,
          null,
          null,
          null,
          null,
          null,
          null,
          null,
          null,
          null,
          null,
          null,
          null,
          null,
          52977.738869734254,
          17512.519194139284,
          32719.616440325768,
          null,
          null,
          null,
          null,
          null,
          null
         ],
         "c": [
          null,
          null,
          273.6804111592496,
          null,
          null,
          null,
          null,
          null,
          138.16339933229904,
          null,
          null,
          null,
          null,
          1256.1556140864525,
          null,
          null,
          546.218778292211,
          null,
          818.3803037884809,
          null,
          null,
          null,
          null,
          null,
          null,
          null,
          null,
          null,
          null,
          null,
          null,
          null,
          null,
          null,
          null,
          null,
          6671.636617375858,
          null,
          null,
          null,
          null,
          null,
          null,
          null
         ],
         "customdata": [
          [
           "BU18FA22",
           "A",
           "ff1",
           "fi01",
           0
          ],
          [
           "BU18FA22",
           "A",
           "ff1",
           "fi02",
           1
          ],
          [
           "BU18FA22",
           "A",
           "ff2",
           "fi01",
           2
          ],
          [
           "BU18FA22",
           "A",
           "ff2",
           "fi02",
           3
          ],
          [
           "BU18FA22",
           "A",
           "ff2",
           "fi03",
           4
          ],
          [
           "BU18FA22",
           "A",
           "ff2",
           "fi04",
           5
          ],
          [
           "BU18FA22",
           "A",
           "ff2",
           "fi04",
           6
          ],
          [
           "BU18FA22",
           "A",
           "ff2",
           "fi05",
           7
          ],
          [
           "BU18FA22",
           "A",
           "ff3b",
           "fi01",
           8
          ],
          [
           "BU18FA22",
           "A",
           "ff3b",
           "fi02",
           9
          ],
          [
           "BU18FA22",
           "A",
           "ff3b",
           "fi03",
           10
          ],
          [
           "BU18FA22",
           "A",
           "ff3b",
           "fi04",
           11
          ],
          [
           "BU18FA22",
           "A",
           "ff3b",
           "fi05",
           12
          ],
          [
           "BU18FA22",
           "A",
           "ff3a",
           "fi01",
           13
          ],
          [
           "BU18FA22",
           "A",
           "ff3a",
           "fi02",
           14
          ],
          [
           "BU18FA22",
           "A",
           "ff3a",
           "fi03",
           15
          ],
          [
           "BU18FA22",
           "A",
           "ff3a",
           "fi04",
           16
          ],
          [
           "BU18FA22",
           "A",
           "ff3a",
           "fi05",
           17
          ],
          [
           "BU18FA22",
           "B",
           "ff1b",
           "fi01",
           23
          ],
          [
           "BU18FA22",
           "B",
           "ff1b",
           "fi02",
           24
          ],
          [
           "BU18FA22",
           "B",
           "ff1b",
           "fi03",
           25
          ],
          [
           "BU18FA22",
           "B",
           "ff1b",
           "fi04",
           26
          ],
          [
           "BU18FA22",
           "B",
           "ff1b",
           "fi05",
           27
          ],
          [
           "BU18FA19",
           "D",
           "ffore2",
           "fi01",
           147
          ],
          [
           "BU18FA19",
           "D",
           "ffore2",
           "fi02",
           148
          ],
          [
           "BU18FA19",
           "D",
           "ffore2",
           "fi03",
           149
          ],
          [
           "BU18FA19",
           "D",
           "ffore2",
           "fi04",
           150
          ],
          [
           "BU18FA19",
           "D",
           "ffore2",
           "fi05",
           151
          ],
          [
           "BU18FA19",
           "D",
           "ffore2",
           "fi07",
           153
          ],
          [
           "BU18FA19",
           "D",
           "ffore2",
           "fi08",
           154
          ],
          [
           "BU18FA19",
           "D",
           "ffore2",
           "fi09",
           155
          ],
          [
           "BU18FA19",
           "D",
           "ffore2",
           "fi011",
           156
          ],
          [
           "BU18FA19",
           "D",
           "ffore2",
           "fi012",
           157
          ],
          [
           "BU18FA19",
           "D",
           "ffore2",
           "fi013",
           158
          ],
          [
           "BU18FA19",
           "E",
           "ff11b",
           "fi01",
           169
          ],
          [
           "BU18FA19",
           "E",
           "ff11b",
           "fi02",
           170
          ],
          [
           "BU18FA19",
           "E",
           "ff11b",
           "fi03",
           171
          ],
          [
           "BU18FA19",
           "E",
           "ff11b",
           "fi04",
           172
          ],
          [
           "BU18FA19",
           "E",
           "ff11b",
           "fi05",
           173
          ],
          [
           "BU18FA19",
           "E",
           "ff11b",
           "fi06",
           174
          ],
          [
           "BU18FA19",
           "E",
           "ff11b",
           "fi07",
           175
          ],
          [
           "BU18FA19",
           "E",
           "ff11b",
           "fi08",
           176
          ],
          [
           "BU18FA19",
           "E",
           "ff11b",
           "fi09",
           177
          ],
          [
           "BU18FA19",
           "E",
           "ff11b",
           "fi010",
           178
          ]
         ],
         "hovertemplate": "Host=quartz<br>type=type2A<br>Na=%{a}<br>K=%{b}<br>Li=%{c}<br>sample=%{customdata[0]}<br>piece=%{customdata[1]}<br>field=%{customdata[2]}<br>analysis=%{customdata[3]}<br>index=%{customdata[4]}<extra></extra>",
         "legendgroup": "quartz, type2A",
         "marker": {
          "color": "rgb(240,228,66)",
          "line": {
           "color": "DarkSlateGrey",
           "width": 0.7
          },
          "size": 10,
          "symbol": "circle"
         },
         "mode": "markers",
         "name": "quartz, type2A",
         "opacity": 0.85,
         "showlegend": true,
         "subplot": "ternary",
         "type": "scatterternary"
        },
        {
         "a": [
          null
         ],
         "b": [
          null
         ],
         "c": [
          null
         ],
         "customdata": [
          [
           "BU18FA19",
           "D",
           "ffore2",
           "fi06",
           152
          ]
         ],
         "hovertemplate": "Host=quartz<br>type=type2B<br>Na=%{a}<br>K=%{b}<br>Li=%{c}<br>sample=%{customdata[0]}<br>piece=%{customdata[1]}<br>field=%{customdata[2]}<br>analysis=%{customdata[3]}<br>index=%{customdata[4]}<extra></extra>",
         "legendgroup": "quartz, type2B",
         "marker": {
          "color": "rgb(240,228,66)",
          "line": {
           "color": "DarkSlateGrey",
           "width": 0.7
          },
          "size": 10,
          "symbol": "x"
         },
         "mode": "markers",
         "name": "quartz, type2B",
         "opacity": 0.85,
         "showlegend": true,
         "subplot": "ternary",
         "type": "scatterternary"
        },
        {
         "a": [
          null,
          null,
          null,
          null,
          33322.4828666083,
          null,
          null,
          null,
          null,
          39371.67963639483,
          null,
          null,
          null,
          null,
          null,
          17671.80283897026,
          38627.64892368645,
          35670.35744269739,
          null,
          33885.69867912132,
          null,
          null,
          null,
          null,
          null,
          null,
          null,
          null,
          null,
          null,
          null,
          19547.675849617197,
          30226.172516382077,
          42425.30909996068,
          25510.131587559023,
          19672.84112066972,
          48343.525617520594
         ],
         "b": [
          null,
          null,
          null,
          null,
          27345.32585733204,
          null,
          null,
          null,
          null,
          28778.902933913632,
          null,
          null,
          null,
          null,
          null,
          12801.93861151128,
          27464.530572061565,
          22158.07633051344,
          null,
          27261.521974538515,
          null,
          null,
          null,
          null,
          null,
          null,
          null,
          null,
          null,
          null,
          null,
          19683.5641050631,
          28334.042392601288,
          13989.369515443648,
          43421.77608621131,
          46602.1420108521,
          5404.915037851938
         ],
         "c": [
          null,
          null,
          null,
          null,
          258.9599155389129,
          null,
          null,
          null,
          null,
          3510.430041663033,
          null,
          null,
          null,
          null,
          null,
          168.0624282691266,
          null,
          1130.086569860423,
          null,
          930.2537023561785,
          null,
          null,
          null,
          null,
          null,
          null,
          null,
          null,
          null,
          null,
          null,
          5962.225742699109,
          1189.4998896316426,
          386.55220478797554,
          249.7200574747703,
          1402.5998729294693,
          94.88914305565032
         ],
         "customdata": [
          [
           "BU18FA22",
           "B",
           "ff1",
           "fi01",
           18
          ],
          [
           "BU18FA22",
           "B",
           "ff1",
           "fi02",
           19
          ],
          [
           "BU18FA22",
           "B",
           "ff1",
           "fi03",
           20
          ],
          [
           "BU18FA22",
           "B",
           "ff1",
           "fi04",
           21
          ],
          [
           "BU18FA20",
           "E",
           "ff1",
           "fi04",
           49
          ],
          [
           "BU18FA20",
           "A",
           "ff2",
           "fi01",
           50
          ],
          [
           "BU18FA20",
           "A",
           "ff2",
           "fi02",
           51
          ],
          [
           "BU18FA20",
           "A",
           "ff2",
           "fi03",
           52
          ],
          [
           "BU18FA20",
           "F",
           "ff2",
           "fi01",
           57
          ],
          [
           "BU18FA20",
           "E",
           "ff1",
           "fi07",
           80
          ],
          [
           "BU18FA20",
           "H",
           "ff1",
           "fi01",
           85
          ],
          [
           "BU18FA20",
           "H",
           "ff1",
           "fi02",
           86
          ],
          [
           "BU18FA20",
           "H",
           "ff1",
           "fi03",
           87
          ],
          [
           "BU18FA20",
           "H",
           "ff1",
           "fi04",
           88
          ],
          [
           "BU18FA20",
           "H",
           "ff1",
           "fi05",
           89
          ],
          [
           "BU18FA19",
           "A",
           "ff7b",
           "fi01",
           119
          ],
          [
           "BU18FA19",
           "A",
           "ff7b",
           "fi02",
           120
          ],
          [
           "BU18FA19",
           "A",
           "ff7b",
           "fi09",
           127
          ],
          [
           "BU18FA19",
           "A",
           "ff7b",
           "fi010",
           128
          ],
          [
           "BU18FA19",
           "B",
           "ff1",
           "fi05",
           133
          ],
          [
           "BU18FA19",
           "B",
           "ff1",
           "fi010",
           138
          ],
          [
           "BU18FA19",
           "C",
           "ffore1",
           "fi02",
           141
          ],
          [
           "BU18FA19",
           "C",
           "ffore1",
           "fi04",
           143
          ],
          [
           "BU18FA19",
           "C",
           "ffore1",
           "fi07",
           146
          ],
          [
           "BU18FA19",
           "D",
           "ff2",
           "fi02",
           180
          ],
          [
           "BU18FA19",
           "D",
           "ff2",
           "fi05",
           183
          ],
          [
           "BU18FA19",
           "D",
           "ff2",
           "fi06",
           184
          ],
          [
           "BU18FA19",
           "D",
           "ff2",
           "fi07",
           185
          ],
          [
           "BU18FA19",
           "D",
           "ff2",
           "fi08",
           186
          ],
          [
           "BU18FA19",
           "D",
           "ff2",
           "fi09",
           187
          ],
          [
           "BU18FA19",
           "D",
           "ff2",
           "fi010",
           188
          ],
          [
           "BU18FA19",
           "A",
           "ff7b",
           "fi011",
           228
          ],
          [
           "BU18FA19",
           "A",
           "ff7b",
           "fi012",
           229
          ],
          [
           "BU18FA20",
           "E",
           "ff1",
           "fi08",
           231
          ],
          [
           "BU18FA04",
           "C",
           "ff8",
           "fi01",
           270
          ],
          [
           "BU18FA04",
           "C",
           "ff8",
           "fi03",
           271
          ],
          [
           "BU18FA04",
           "C",
           "ff8",
           "fi05",
           273
          ]
         ],
         "hovertemplate": "Host=trolleite<br>type=type2A<br>Na=%{a}<br>K=%{b}<br>Li=%{c}<br>sample=%{customdata[0]}<br>piece=%{customdata[1]}<br>field=%{customdata[2]}<br>analysis=%{customdata[3]}<br>index=%{customdata[4]}<extra></extra>",
         "legendgroup": "trolleite, type2A",
         "marker": {
          "color": "rgb(0,158,115)",
          "line": {
           "color": "DarkSlateGrey",
           "width": 0.7
          },
          "size": 10,
          "symbol": "circle"
         },
         "mode": "markers",
         "name": "trolleite, type2A",
         "opacity": 0.85,
         "showlegend": true,
         "subplot": "ternary",
         "type": "scatterternary"
        },
        {
         "a": [
          null,
          53604.423216477066,
          27139.18017733634,
          null,
          null,
          null,
          null,
          null,
          32403.549770165093,
          31016.38505188453,
          28764.866234089728,
          null,
          null,
          null,
          37944.87072825938,
          24116.30015270437,
          32202.232200473965,
          null,
          34429.195666228385,
          36467.32565260112,
          29473.27820362729,
          21410.14551386844,
          28506.65461309456,
          null,
          null,
          null,
          null,
          null,
          null,
          null,
          null,
          null,
          null,
          25516.55778658757,
          22106.38362428181
         ],
         "b": [
          null,
          20378.324613035595,
          30452.77471087691,
          null,
          null,
          null,
          null,
          null,
          27398.405002810923,
          30730.819993270437,
          31137.152872609167,
          null,
          null,
          null,
          17098.577599736866,
          39233.55186235351,
          25047.18625242871,
          null,
          28764.755372113374,
          31013.225899740413,
          27624.940077078823,
          51498.34601946571,
          32166.80040999705,
          null,
          null,
          null,
          null,
          null,
          null,
          null,
          null,
          null,
          null,
          43533.392484054646,
          34274.76703158064
         ],
         "c": [
          null,
          2587.218451642259,
          972.8055007649824,
          null,
          null,
          null,
          null,
          null,
          372.4943286004099,
          150.46958889928624,
          273.1063613640318,
          null,
          null,
          null,
          null,
          1430.3982788696326,
          600.5264309312015,
          null,
          1022.9446572059524,
          514.0989236793511,
          1538.2012412478728,
          1297.039966796524,
          539.7533128578258,
          null,
          null,
          null,
          null,
          null,
          null,
          null,
          null,
          null,
          null,
          null,
          2377.498607057153
         ],
         "customdata": [
          [
           "BU18FA22",
           "B",
           "ff1",
           "fi05",
           22
          ],
          [
           "BU18FA20",
           "E",
           "ff1",
           "fi03",
           48
          ],
          [
           "BU18FA20",
           "E",
           "ff1",
           "fi05",
           78
          ],
          [
           "BU18FA20",
           "E",
           "ff1",
           "fi06",
           79
          ],
          [
           "BU18FA20",
           "G",
           "ff1",
           "fi01",
           81
          ],
          [
           "BU18FA20",
           "G",
           "ff1",
           "fi02",
           82
          ],
          [
           "BU18FA20",
           "G",
           "ff1",
           "fi03",
           83
          ],
          [
           "BU18FA20",
           "H",
           "ff1",
           "fi07",
           90
          ],
          [
           "BU18FA20",
           "J",
           "ff1",
           "fi01",
           116
          ],
          [
           "BU18FA20",
           "J",
           "ff1",
           "fi02",
           117
          ],
          [
           "BU18FA20",
           "J",
           "ff1",
           "fi03",
           118
          ],
          [
           "BU18FA19",
           "A",
           "ff7b",
           "fi03",
           121
          ],
          [
           "BU18FA19",
           "A",
           "ff7b",
           "fi04",
           122
          ],
          [
           "BU18FA19",
           "A",
           "ff7b",
           "fi05",
           123
          ],
          [
           "BU18FA19",
           "A",
           "ff7b",
           "fi06",
           124
          ],
          [
           "BU18FA19",
           "A",
           "ff7b",
           "fi07",
           125
          ],
          [
           "BU18FA19",
           "A",
           "ff7b",
           "fi08",
           126
          ],
          [
           "BU18FA19",
           "B",
           "ff1",
           "fi01",
           129
          ],
          [
           "BU18FA19",
           "B",
           "ff1",
           "fi02",
           130
          ],
          [
           "BU18FA19",
           "B",
           "ff1",
           "fi03",
           131
          ],
          [
           "BU18FA19",
           "B",
           "ff1",
           "fi04",
           132
          ],
          [
           "BU18FA19",
           "B",
           "ff1",
           "fi06",
           134
          ],
          [
           "BU18FA19",
           "B",
           "ff1",
           "fi07",
           135
          ],
          [
           "BU18FA19",
           "B",
           "ff1",
           "fi08",
           136
          ],
          [
           "BU18FA19",
           "B",
           "ff1",
           "fi09",
           137
          ],
          [
           "BU18FA19",
           "B",
           "ff1",
           "fi0MI",
           139
          ],
          [
           "BU18FA19",
           "C",
           "ffore1",
           "fi01",
           140
          ],
          [
           "BU18FA19",
           "C",
           "ffore1",
           "fi03",
           142
          ],
          [
           "BU18FA19",
           "C",
           "ffore1",
           "fi05",
           144
          ],
          [
           "BU18FA19",
           "C",
           "ffore1",
           "fi06",
           145
          ],
          [
           "BU18FA19",
           "D",
           "ff2",
           "fi01",
           179
          ],
          [
           "BU18FA19",
           "D",
           "ff2",
           "fi03",
           181
          ],
          [
           "BU18FA19",
           "D",
           "ff2",
           "fi04",
           182
          ],
          [
           "BU18FA04",
           "B",
           "ff5",
           "fi01",
           230
          ],
          [
           "BU18FA04",
           "C",
           "ff8",
           "fi04",
           272
          ]
         ],
         "hovertemplate": "Host=trolleite<br>type=type1<br>Na=%{a}<br>K=%{b}<br>Li=%{c}<br>sample=%{customdata[0]}<br>piece=%{customdata[1]}<br>field=%{customdata[2]}<br>analysis=%{customdata[3]}<br>index=%{customdata[4]}<extra></extra>",
         "legendgroup": "trolleite, type1",
         "marker": {
          "color": "rgb(0,158,115)",
          "line": {
           "color": "DarkSlateGrey",
           "width": 0.7
          },
          "size": 10,
          "symbol": "diamond"
         },
         "mode": "markers",
         "name": "trolleite, type1",
         "opacity": 0.85,
         "showlegend": true,
         "subplot": "ternary",
         "type": "scatterternary"
        },
        {
         "a": [
          21811.12089623902,
          22166.648171131408,
          null
         ],
         "b": [
          21110.61672617701,
          10452.564081812554,
          null
         ],
         "c": [
          null,
          529.8326376913315,
          null
         ],
         "customdata": [
          [
           "BU18FA20",
           "E",
           "ff1",
           "fi01",
           46
          ],
          [
           "BU18FA20",
           "E",
           "ff1",
           "fi02",
           47
          ],
          [
           "BU18FA20",
           "G",
           "ff1",
           "fi04",
           84
          ]
         ],
         "hovertemplate": "Host=trolleite<br>type=type2B<br>Na=%{a}<br>K=%{b}<br>Li=%{c}<br>sample=%{customdata[0]}<br>piece=%{customdata[1]}<br>field=%{customdata[2]}<br>analysis=%{customdata[3]}<br>index=%{customdata[4]}<extra></extra>",
         "legendgroup": "trolleite, type2B",
         "marker": {
          "color": "rgb(0,158,115)",
          "line": {
           "color": "DarkSlateGrey",
           "width": 0.7
          },
          "size": 10,
          "symbol": "x"
         },
         "mode": "markers",
         "name": "trolleite, type2B",
         "opacity": 0.85,
         "showlegend": true,
         "subplot": "ternary",
         "type": "scatterternary"
        },
        {
         "a": [
          null,
          null,
          null,
          null,
          null,
          null,
          null,
          null,
          null,
          null,
          null,
          null
         ],
         "b": [
          null,
          null,
          null,
          null,
          null,
          null,
          null,
          null,
          null,
          null,
          null,
          null
         ],
         "c": [
          null,
          null,
          null,
          null,
          null,
          null,
          null,
          null,
          null,
          null,
          null,
          null
         ],
         "customdata": [
          [
           "BU18FA22",
           "B",
           "ff2",
           "fi01",
           28
          ],
          [
           "BU18FA22",
           "B",
           "ff2",
           "fi02",
           29
          ],
          [
           "BU18FA22",
           "B",
           "ff2",
           "fi03",
           30
          ],
          [
           "BU18FA22",
           "B",
           "ff2",
           "fi04",
           31
          ],
          [
           "BU18FA22",
           "B",
           "ff2",
           "fi05",
           32
          ],
          [
           "BU18FA22",
           "B",
           "ff2",
           "fi06",
           33
          ],
          [
           "BU18FA20",
           "A",
           "ff1",
           "fi01",
           91
          ],
          [
           "BU18FA20",
           "A",
           "ff4",
           "fi01",
           92
          ],
          [
           "BU18FA20",
           "I",
           "ff1",
           "fi01",
           93
          ],
          [
           "BU18FA22",
           "D",
           "ff1",
           "fi01",
           94
          ],
          [
           "BU18FA22",
           "D",
           "ff1",
           "fi02",
           95
          ],
          [
           "BU18FA22",
           "D",
           "ff1",
           "fi03",
           96
          ]
         ],
         "hovertemplate": "Host=scorzalite<br>type=type2A<br>Na=%{a}<br>K=%{b}<br>Li=%{c}<br>sample=%{customdata[0]}<br>piece=%{customdata[1]}<br>field=%{customdata[2]}<br>analysis=%{customdata[3]}<br>index=%{customdata[4]}<extra></extra>",
         "legendgroup": "scorzalite, type2A",
         "marker": {
          "color": "rgb(0,0,255)",
          "line": {
           "color": "DarkSlateGrey",
           "width": 0.7
          },
          "size": 10,
          "symbol": "circle"
         },
         "mode": "markers",
         "name": "scorzalite, type2A",
         "opacity": 0.85,
         "showlegend": true,
         "subplot": "ternary",
         "type": "scatterternary"
        },
        {
         "a": [
          35387.507794096404,
          15574.203589099703,
          27189.799492513117,
          null,
          null,
          null,
          42918.43077548296,
          null,
          null,
          null,
          null,
          null,
          36377.19398808589,
          null,
          null,
          null,
          null,
          null,
          null,
          27607.86986135627,
          39737.5232646305,
          null,
          18031.237823402946,
          39457.03166248759,
          13875.652736496328,
          26357.155421299056,
          29488.28947566378,
          9144.7563603761,
          35830.41599843137,
          null,
          20024.231766357345,
          null,
          35275.575624158126,
          37294.72331693793,
          38227.11083425127,
          27584.74391295574,
          27602.37154029352,
          12960.768692554198,
          32261.63132761112,
          25753.853930649668,
          19667.541598359578,
          39832.568262172674,
          30110.82288340545,
          35200.45700257831
         ],
         "b": [
          10613.789024066797,
          11154.246228529146,
          8106.33378174283,
          null,
          null,
          null,
          null,
          null,
          null,
          null,
          null,
          null,
          13623.442859590274,
          null,
          null,
          null,
          null,
          null,
          null,
          36074.76873742385,
          26111.238201917426,
          null,
          15712.335743603902,
          17069.823623776396,
          8702.949115995707,
          8391.543983033622,
          11694.924475300835,
          1199.9567174045364,
          12357.361939065086,
          null,
          4796.886021073348,
          null,
          10222.112264356749,
          10774.04174818678,
          12991.726565827106,
          5177.952619398556,
          30580.97346521091,
          1635.8235133973703,
          8260.404627160884,
          7693.931747903259,
          15653.52079792739,
          10164.517321374877,
          7376.312413727304,
          9743.39444128928
         ],
         "c": [
          null,
          6381.077272750415,
          1139.1954217014725,
          null,
          null,
          null,
          4949.593571500132,
          null,
          null,
          null,
          null,
          null,
          null,
          null,
          null,
          null,
          null,
          null,
          null,
          null,
          null,
          null,
          6912.878661204161,
          1393.457803765637,
          7161.568192823691,
          3586.10299704713,
          1689.021158259264,
          9967.103789026583,
          null,
          null,
          5681.386667146339,
          null,
          1400.689136651927,
          659.8602851206546,
          null,
          4611.23457025096,
          null,
          9681.556913002758,
          2671.2825426675786,
          4665.963761349424,
          5103.994647196414,
          null,
          4996.942197375311,
          3033.081512705146
         ],
         "customdata": [
          [
           "BU18FA20",
           "B",
           "ff2",
           "fi01",
           38
          ],
          [
           "BU18FA20",
           "B",
           "ff2",
           "fi02",
           39
          ],
          [
           "BU18FA20",
           "B",
           "ff2",
           "fi03",
           40
          ],
          [
           "BU18FA22",
           "C",
           "ff1",
           "fi01",
           42
          ],
          [
           "BU18FA22",
           "C",
           "ff1",
           "fi02",
           43
          ],
          [
           "BU18FA22",
           "C",
           "ff1",
           "fi03",
           44
          ],
          [
           "BU18FA22",
           "C",
           "ff1",
           "fi04",
           45
          ],
          [
           "BU18FA20",
           "F",
           "ff1",
           "fi01",
           53
          ],
          [
           "BU18FA20",
           "F",
           "ff1",
           "fi01",
           54
          ],
          [
           "BU18FA20",
           "F",
           "ff1",
           "fi02",
           55
          ],
          [
           "BU18FA20",
           "F",
           "ff1",
           "fi03",
           56
          ],
          [
           "BU18FA20",
           "C",
           "ff1",
           "fi05",
           97
          ],
          [
           "BU18FA20",
           "B",
           "ff2",
           "fi05",
           103
          ],
          [
           "BU18FA20",
           "F",
           "ff1",
           "fi04",
           104
          ],
          [
           "BU18FA19",
           "E",
           "ff11",
           "fi01",
           159
          ],
          [
           "BU18FA19",
           "E",
           "ff11",
           "fi02",
           160
          ],
          [
           "BU18FA19",
           "E",
           "ff11",
           "fi03",
           161
          ],
          [
           "BU18FA19",
           "E",
           "ff11",
           "fi04",
           162
          ],
          [
           "BU18FA19",
           "E",
           "ff11",
           "fi05",
           163
          ],
          [
           "BU18FA19",
           "E",
           "ff11",
           "fi06",
           164
          ],
          [
           "BU18FA19",
           "E",
           "ff11",
           "fi07",
           165
          ],
          [
           "BU18FA19",
           "E",
           "ff11",
           "fi08",
           166
          ],
          [
           "BU18FA19",
           "E",
           "ff11",
           "fi09",
           167
          ],
          [
           "BU18FA19",
           "E",
           "ff11",
           "fi010",
           168
          ],
          [
           "BU18FA04",
           "A",
           "ff3",
           "fi01",
           194
          ],
          [
           "BU18FA04",
           "A",
           "ff3",
           "fi02",
           195
          ],
          [
           "BU18FA04",
           "A",
           "ff3",
           "fi03",
           196
          ],
          [
           "BU18FA04",
           "A",
           "ff3",
           "fi05",
           198
          ],
          [
           "BU18FA04",
           "A",
           "ff3",
           "fi06",
           199
          ],
          [
           "BU18FA04",
           "A",
           "ff3",
           "fi07",
           200
          ],
          [
           "BU18FA04",
           "A",
           "ff3",
           "fi08",
           201
          ],
          [
           "BU18FA04",
           "A",
           "ff3",
           "fi09",
           202
          ],
          [
           "BU18FA04",
           "B",
           "ff6",
           "fi01",
           232
          ],
          [
           "BU18FA04",
           "B",
           "ff6",
           "fi06",
           233
          ],
          [
           "BU18FA04",
           "B",
           "ff6",
           "fi09",
           234
          ],
          [
           "BU18FA04",
           "B",
           "ff7",
           "fi01",
           235
          ],
          [
           "BU18FA04",
           "B",
           "ff7",
           "fi02",
           236
          ],
          [
           "BU18FA04",
           "B",
           "ff7",
           "fi03",
           237
          ],
          [
           "BU18FA20",
           "B",
           "ff2",
           "fi07",
           239
          ],
          [
           "BU18FA20",
           "B",
           "ff4",
           "fi06",
           240
          ],
          [
           "BU18FA20",
           "B",
           "ff4",
           "fi07",
           241
          ],
          [
           "BU18FA20",
           "B",
           "ff4",
           "fi09",
           242
          ],
          [
           "BU18FA22",
           "C",
           "ff2",
           "fi01",
           243
          ],
          [
           "BU18FA22",
           "C",
           "ff2",
           "fi03",
           245
          ]
         ],
         "hovertemplate": "Host=bertossaite<br>type=type2A<br>Na=%{a}<br>K=%{b}<br>Li=%{c}<br>sample=%{customdata[0]}<br>piece=%{customdata[1]}<br>field=%{customdata[2]}<br>analysis=%{customdata[3]}<br>index=%{customdata[4]}<extra></extra>",
         "legendgroup": "bertossaite, type2A",
         "marker": {
          "color": "rgb(204,121,167)",
          "line": {
           "color": "DarkSlateGrey",
           "width": 0.7
          },
          "size": 10,
          "symbol": "circle"
         },
         "mode": "markers",
         "name": "bertossaite, type2A",
         "opacity": 0.85,
         "showlegend": true,
         "subplot": "ternary",
         "type": "scatterternary"
        },
        {
         "a": [
          null,
          null,
          41483.45441322946
         ],
         "b": [
          null,
          null,
          2813.937714428489
         ],
         "c": [
          null,
          null,
          null
         ],
         "customdata": [
          [
           "BU18FA20",
           "F",
           "ff1",
           "fi05",
           105
          ],
          [
           "BU18FA20",
           "B",
           "ff4",
           "fi05",
           115
          ],
          [
           "BU18FA22",
           "C",
           "ff2",
           "fi02",
           244
          ]
         ],
         "hovertemplate": "Host=bertossaite<br>type=type1<br>Na=%{a}<br>K=%{b}<br>Li=%{c}<br>sample=%{customdata[0]}<br>piece=%{customdata[1]}<br>field=%{customdata[2]}<br>analysis=%{customdata[3]}<br>index=%{customdata[4]}<extra></extra>",
         "legendgroup": "bertossaite, type1",
         "marker": {
          "color": "rgb(204,121,167)",
          "line": {
           "color": "DarkSlateGrey",
           "width": 0.7
          },
          "size": 10,
          "symbol": "diamond"
         },
         "mode": "markers",
         "name": "bertossaite, type1",
         "opacity": 0.85,
         "showlegend": true,
         "subplot": "ternary",
         "type": "scatterternary"
        },
        {
         "a": [
          45152.27706352507,
          31922.519991273944,
          null,
          52091.55947042685,
          null,
          null,
          31013.19162767405,
          47045.90753679304,
          null,
          73748.32921702722,
          58457.447453581,
          48341.835455765584,
          null,
          47791.67462207581
         ],
         "b": [
          15579.987549518632,
          10984.64824796971,
          null,
          10877.32543461859,
          null,
          null,
          9643.545672437946,
          32706.46199726168,
          null,
          28906.57390537243,
          18339.52229270202,
          25384.75497878483,
          null,
          11288.571676952608
         ],
         "c": [
          4261.345724625666,
          9317.186372473334,
          null,
          3411.082036997829,
          null,
          null,
          9006.634103080527,
          null,
          null,
          null,
          6268.782610753122,
          8689.632681364934,
          null,
          9409.884022848868
         ],
         "customdata": [
          [
           "BU18FA20",
           "C",
           "ff1",
           "fi01",
           34
          ],
          [
           "BU18FA20",
           "C",
           "ff1",
           "fi02",
           35
          ],
          [
           "BU18FA20",
           "C",
           "ff1",
           "fi03",
           36
          ],
          [
           "BU18FA20",
           "C",
           "ff1",
           "fi04",
           37
          ],
          [
           "BU18FA20",
           "C",
           "ff1",
           "fi06",
           98
          ],
          [
           "BU18FA20",
           "C",
           "ff1",
           "fi07",
           99
          ],
          [
           "BU18FA20",
           "C",
           "ff1",
           "fi08",
           100
          ],
          [
           "BU18FA20",
           "C",
           "ff1",
           "fi09",
           101
          ],
          [
           "BU18FA20",
           "C",
           "ff1",
           "fi010",
           102
          ],
          [
           "BU18FA20",
           "B",
           "ff4",
           "fi01",
           111
          ],
          [
           "BU18FA20",
           "B",
           "ff4",
           "fi02",
           112
          ],
          [
           "BU18FA20",
           "B",
           "ff4",
           "fi03",
           113
          ],
          [
           "BU18FA20",
           "B",
           "ff4",
           "fi04",
           114
          ],
          [
           "BU18FA04",
           "A",
           "ff3",
           "fi04",
           197
          ]
         ],
         "hovertemplate": "Host=bertossaite<br>type=type3<br>Na=%{a}<br>K=%{b}<br>Li=%{c}<br>sample=%{customdata[0]}<br>piece=%{customdata[1]}<br>field=%{customdata[2]}<br>analysis=%{customdata[3]}<br>index=%{customdata[4]}<extra></extra>",
         "legendgroup": "bertossaite, type3",
         "marker": {
          "color": "rgb(204,121,167)",
          "line": {
           "color": "DarkSlateGrey",
           "width": 0.7
          },
          "size": 10,
          "symbol": "square"
         },
         "mode": "markers",
         "name": "bertossaite, type3",
         "opacity": 0.85,
         "showlegend": true,
         "subplot": "ternary",
         "type": "scatterternary"
        },
        {
         "a": [
          3807.243258186179,
          11865.788909500308
         ],
         "b": [
          757.1652342164516,
          6370.599434884992
         ],
         "c": [
          3463.3649830218837,
          null
         ],
         "customdata": [
          [
           "BU18FA20",
           "B",
           "ff2",
           "fi04",
           41
          ],
          [
           "BU18FA04",
           "B",
           "ff7",
           "fi05",
           238
          ]
         ],
         "hovertemplate": "Host=bertossaite<br>type=type2B<br>Na=%{a}<br>K=%{b}<br>Li=%{c}<br>sample=%{customdata[0]}<br>piece=%{customdata[1]}<br>field=%{customdata[2]}<br>analysis=%{customdata[3]}<br>index=%{customdata[4]}<extra></extra>",
         "legendgroup": "bertossaite, type2B",
         "marker": {
          "color": "rgb(204,121,167)",
          "line": {
           "color": "DarkSlateGrey",
           "width": 0.7
          },
          "size": 10,
          "symbol": "x"
         },
         "mode": "markers",
         "name": "bertossaite, type2B",
         "opacity": 0.85,
         "showlegend": true,
         "subplot": "ternary",
         "type": "scatterternary"
        },
        {
         "a": [
          null,
          34651.67470173566,
          null,
          null,
          33609.942754657175,
          null,
          null,
          null,
          null,
          null,
          null,
          null,
          null,
          null,
          null,
          null,
          null,
          null,
          42093.25804243669,
          35783.57811767537,
          3768.520300008269,
          33827.86923284285,
          34539.24989787089,
          47207.39219712526,
          47207.39219712526,
          35109.65130400835,
          27168.60330196248,
          42093.25804243669,
          42093.25804243669,
          42093.25804243669,
          31011.52253189985,
          33790.40751983343,
          34620.9713364783,
          42093.25804243669,
          39226.204834219854
         ],
         "b": [
          null,
          8239.227562978329,
          null,
          null,
          8387.831713254944,
          null,
          null,
          null,
          null,
          null,
          null,
          null,
          null,
          null,
          null,
          null,
          null,
          null,
          null,
          17672.46846262141,
          67818.25716583946,
          20986.559113349154,
          6119.156571356811,
          null,
          null,
          7982.725101677254,
          18350.546117817743,
          null,
          null,
          null,
          8224.810341057424,
          9062.737035770198,
          9020.715887337654,
          null,
          3046.940502971356
         ],
         "c": [
          null,
          739.1791290509918,
          null,
          null,
          902.6975207476128,
          null,
          null,
          null,
          null,
          null,
          null,
          null,
          null,
          null,
          null,
          null,
          null,
          null,
          null,
          257.2684207949907,
          770.7494547649299,
          265.8727496090759,
          2693.5024587021303,
          null,
          null,
          653.6521397828201,
          1183.5109409365837,
          null,
          null,
          null,
          1813.7683244497327,
          862.9396194361733,
          614.3111303032441,
          null,
          313.672057255279
         ],
         "customdata": [
          [
           "BU18FA32",
           "A",
           "ff1",
           "fi05",
           62
          ],
          [
           "BU18FA32",
           "A",
           "ff1",
           "fi06",
           63
          ],
          [
           "BU18FA32",
           "A",
           "ff1",
           "fi07",
           64
          ],
          [
           "BU18FA32",
           "A",
           "ff1",
           "fi08",
           65
          ],
          [
           "BU18FA32",
           "A",
           "ff1",
           "fi09",
           66
          ],
          [
           "BU18FA32",
           "A",
           "ff1",
           "fi010",
           67
          ],
          [
           "BU18FA32",
           "C",
           "ff1",
           "fi01",
           68
          ],
          [
           "BU18FA32",
           "C",
           "ff1",
           "fi02",
           69
          ],
          [
           "BU18FA32",
           "C",
           "ff1",
           "fi06",
           73
          ],
          [
           "BU18FA32",
           "C",
           "ff1",
           "fi07",
           74
          ],
          [
           "BU18FA32",
           "C",
           "ff1",
           "fi08",
           75
          ],
          [
           "BU18FA32",
           "C",
           "ff1",
           "fi09",
           76
          ],
          [
           "BU18FA32",
           "C",
           "ff1",
           "fi010",
           77
          ],
          [
           "BU18FA32",
           "B",
           "ff2",
           "fi02",
           107
          ],
          [
           "BU18FA32",
           "B",
           "ff2",
           "fi04",
           109
          ],
          [
           "BU18FA02a",
           "A",
           "ff1",
           "fi02",
           190
          ],
          [
           "BU18FA02a",
           "A",
           "ff1",
           "fi03",
           191
          ],
          [
           "BU18FA02a",
           "A",
           "ff1",
           "fi05",
           193
          ],
          [
           "BU18FA32",
           "A",
           "ff1",
           "fi011",
           246
          ],
          [
           "BU18FA02a",
           "B",
           "ff3",
           "fi01",
           247
          ],
          [
           "BU18FA02a",
           "B",
           "ff3",
           "fi02",
           248
          ],
          [
           "BU18FA02a",
           "B",
           "ff3",
           "fi03",
           249
          ],
          [
           "BU18FA02a",
           "B",
           "ff3",
           "fi04",
           250
          ],
          [
           "BU18FA02a",
           "B",
           "ff3",
           "fi05",
           251
          ],
          [
           "BU18FA02a",
           "B",
           "ff3",
           "fi06",
           252
          ],
          [
           "BU18FA32",
           "B",
           "ff1",
           "fi01",
           254
          ],
          [
           "BU18FA32",
           "B",
           "ff1",
           "fi02",
           255
          ],
          [
           "BU18FA32",
           "B",
           "ff1",
           "fi03",
           256
          ],
          [
           "BU18FA32",
           "B",
           "ff1",
           "fi04",
           257
          ],
          [
           "BU18FA32",
           "B",
           "ff1",
           "fi05",
           258
          ],
          [
           "BU18FA32",
           "B",
           "ff1",
           "fi06",
           259
          ],
          [
           "BU18FA32",
           "B",
           "ff2",
           "fi06",
           260
          ],
          [
           "BU18FA32",
           "B",
           "ff2",
           "fi07",
           261
          ],
          [
           "BU18FA32",
           "B",
           "ff2",
           "fi08",
           262
          ],
          [
           "BU18FA32",
           "B",
           "ff2",
           "fi09",
           263
          ]
         ],
         "hovertemplate": "Host=brazilianite<br>type=type2A<br>Na=%{a}<br>K=%{b}<br>Li=%{c}<br>sample=%{customdata[0]}<br>piece=%{customdata[1]}<br>field=%{customdata[2]}<br>analysis=%{customdata[3]}<br>index=%{customdata[4]}<extra></extra>",
         "legendgroup": "brazilianite, type2A",
         "marker": {
          "color": "rgb(250,120,10)",
          "line": {
           "color": "DarkSlateGrey",
           "width": 0.7
          },
          "size": 10,
          "symbol": "circle"
         },
         "mode": "markers",
         "name": "brazilianite, type2A",
         "opacity": 0.85,
         "showlegend": true,
         "subplot": "ternary",
         "type": "scatterternary"
        },
        {
         "a": [
          35679.313847940546,
          null,
          null,
          null,
          null,
          null,
          40055.18623302876
         ],
         "b": [
          1526.3535853629596,
          null,
          null,
          null,
          null,
          null,
          11155.577940492429
         ],
         "c": [
          113.23312563674716,
          null,
          null,
          null,
          null,
          null,
          140.1219951173715
         ],
         "customdata": [
          [
           "BU18FA32",
           "A",
           "ff1",
           "fi01",
           58
          ],
          [
           "BU18FA32",
           "B",
           "ff2",
           "fi01",
           106
          ],
          [
           "BU18FA32",
           "B",
           "ff2",
           "fi03",
           108
          ],
          [
           "BU18FA32",
           "B",
           "ff2",
           "fi05",
           110
          ],
          [
           "BU18FA02a",
           "A",
           "ff1",
           "fi01",
           189
          ],
          [
           "BU18FA02a",
           "A",
           "ff1",
           "fi04",
           192
          ],
          [
           "BU18FA02a",
           "B",
           "ff4",
           "fi01",
           253
          ]
         ],
         "hovertemplate": "Host=brazilianite<br>type=type1<br>Na=%{a}<br>K=%{b}<br>Li=%{c}<br>sample=%{customdata[0]}<br>piece=%{customdata[1]}<br>field=%{customdata[2]}<br>analysis=%{customdata[3]}<br>index=%{customdata[4]}<extra></extra>",
         "legendgroup": "brazilianite, type1",
         "marker": {
          "color": "rgb(250,120,10)",
          "line": {
           "color": "DarkSlateGrey",
           "width": 0.7
          },
          "size": 10,
          "symbol": "diamond"
         },
         "mode": "markers",
         "name": "brazilianite, type1",
         "opacity": 0.85,
         "showlegend": true,
         "subplot": "ternary",
         "type": "scatterternary"
        },
        {
         "a": [
          null,
          57544.17653085996,
          null,
          null,
          null,
          null
         ],
         "b": [
          null,
          11302.942108899271,
          null,
          null,
          null,
          null
         ],
         "c": [
          null,
          1081.5223631702686,
          null,
          null,
          null,
          null
         ],
         "customdata": [
          [
           "BU18FA32",
           "A",
           "ff1",
           "fi02",
           59
          ],
          [
           "BU18FA32",
           "A",
           "ff1",
           "fi03",
           60
          ],
          [
           "BU18FA32",
           "A",
           "ff1",
           "fi04",
           61
          ],
          [
           "BU18FA32",
           "C",
           "ff1",
           "fi03",
           70
          ],
          [
           "BU18FA32",
           "C",
           "ff1",
           "fi04",
           71
          ],
          [
           "BU18FA32",
           "C",
           "ff1",
           "fi05",
           72
          ]
         ],
         "hovertemplate": "Host=brazilianite<br>type=type3<br>Na=%{a}<br>K=%{b}<br>Li=%{c}<br>sample=%{customdata[0]}<br>piece=%{customdata[1]}<br>field=%{customdata[2]}<br>analysis=%{customdata[3]}<br>index=%{customdata[4]}<extra></extra>",
         "legendgroup": "brazilianite, type3",
         "marker": {
          "color": "rgb(250,120,10)",
          "line": {
           "color": "DarkSlateGrey",
           "width": 0.7
          },
          "size": 10,
          "symbol": "square"
         },
         "mode": "markers",
         "name": "brazilianite, type3",
         "opacity": 0.85,
         "showlegend": true,
         "subplot": "ternary",
         "type": "scatterternary"
        },
        {
         "a": [
          null,
          null,
          null,
          null,
          null,
          45334.51752861258,
          41756.75084989727,
          null,
          null,
          45346.51500826994,
          50600.93538149018,
          43387.71509927157,
          40132.17057497637,
          null,
          null,
          44099.35461307099,
          35306.513503012095,
          36149.07968215837
         ],
         "b": [
          null,
          null,
          null,
          null,
          null,
          18399.457793639787,
          24813.774283304327,
          null,
          null,
          27039.13159880587,
          11079.174910474829,
          19343.11922119344,
          27079.74284209169,
          null,
          null,
          21150.19494509996,
          37610.933170036194,
          34711.336597268535
         ],
         "c": [
          null,
          null,
          null,
          null,
          null,
          461.0191918868832,
          null,
          null,
          null,
          441.3428191957608,
          null,
          504.3641981440253,
          524.5380869351035,
          null,
          null,
          null,
          null,
          null
         ],
         "customdata": [
          [
           "BU18FA19(2)",
           "A",
           "ff1",
           "fi02",
           205
          ],
          [
           "BU18FA19(2)",
           "A",
           "ff1",
           "fi03",
           206
          ],
          [
           "BU18FA19(2)",
           "A",
           "ff1",
           "fi04",
           207
          ],
          [
           "BU18FA19(2)",
           "A",
           "ff1",
           "fi05",
           208
          ],
          [
           "BU18FA19(2)",
           "A",
           "ff1",
           "fi06",
           209
          ],
          [
           "BU18FA19(2)",
           "A",
           "ff1",
           "fi07",
           210
          ],
          [
           "BU18FA19(2)",
           "A",
           "ff1",
           "fi08",
           211
          ],
          [
           "BU18FA19(2)",
           "A",
           "ff2",
           "fi01",
           213
          ],
          [
           "BU18FA19(2)",
           "A",
           "ff2",
           "fi02",
           214
          ],
          [
           "BU18FA19(2)",
           "A",
           "ff2",
           "fi03",
           215
          ],
          [
           "BU18FA19(2)",
           "A",
           "ff2",
           "fi04",
           216
          ],
          [
           "BU18FA19(2)",
           "A",
           "ff2",
           "fi05",
           217
          ],
          [
           "BU18FA19(2)",
           "A",
           "ff2b",
           "fi01",
           218
          ],
          [
           "BU18FA19(2)",
           "A",
           "ff2b",
           "fi02",
           219
          ],
          [
           "BU18FA19(2)",
           "A",
           "ff2b",
           "fi04",
           221
          ],
          [
           "BU18FA19(2)",
           "A",
           "ff2",
           "fi06",
           264
          ],
          [
           "BU18FA19(2)",
           "A",
           "ff2",
           "fi07",
           265
          ],
          [
           "BU18FA19(2)",
           "A",
           "ff1",
           "fi010",
           269
          ]
         ],
         "hovertemplate": "Host=augelite<br>type=type2A<br>Na=%{a}<br>K=%{b}<br>Li=%{c}<br>sample=%{customdata[0]}<br>piece=%{customdata[1]}<br>field=%{customdata[2]}<br>analysis=%{customdata[3]}<br>index=%{customdata[4]}<extra></extra>",
         "legendgroup": "augelite, type2A",
         "marker": {
          "color": "rgb(51,255,51)",
          "line": {
           "color": "DarkSlateGrey",
           "width": 0.7
          },
          "size": 10,
          "symbol": "circle"
         },
         "mode": "markers",
         "name": "augelite, type2A",
         "opacity": 0.85,
         "showlegend": true,
         "subplot": "ternary",
         "type": "scatterternary"
        },
        {
         "a": [
          31200.121469313577
         ],
         "b": [
          37352.219900431184
         ],
         "c": [
          395.90587897448455
         ],
         "customdata": [
          [
           "BU18FA19(2)",
           "A",
           "ff1",
           "fi01",
           204
          ]
         ],
         "hovertemplate": "Host=augelite<br>type=type1<br>Na=%{a}<br>K=%{b}<br>Li=%{c}<br>sample=%{customdata[0]}<br>piece=%{customdata[1]}<br>field=%{customdata[2]}<br>analysis=%{customdata[3]}<br>index=%{customdata[4]}<extra></extra>",
         "legendgroup": "augelite, type1",
         "marker": {
          "color": "rgb(51,255,51)",
          "line": {
           "color": "DarkSlateGrey",
           "width": 0.7
          },
          "size": 10,
          "symbol": "diamond"
         },
         "mode": "markers",
         "name": "augelite, type1",
         "opacity": 0.85,
         "showlegend": true,
         "subplot": "ternary",
         "type": "scatterternary"
        },
        {
         "a": [
          43475.86574923563,
          null,
          null
         ],
         "b": [
          19703.08030015897,
          null,
          null
         ],
         "c": [
          null,
          null,
          null
         ],
         "customdata": [
          [
           "BU18FA19(2)",
           "A",
           "ff1b",
           "fi01",
           203
          ],
          [
           "BU18FA19(2)",
           "A",
           "ff2b",
           "fi03",
           220
          ],
          [
           "BU18FA19(2)",
           "A",
           "ff2b",
           "fi05",
           222
          ]
         ],
         "hovertemplate": "Host=augelite<br>type=type3<br>Na=%{a}<br>K=%{b}<br>Li=%{c}<br>sample=%{customdata[0]}<br>piece=%{customdata[1]}<br>field=%{customdata[2]}<br>analysis=%{customdata[3]}<br>index=%{customdata[4]}<extra></extra>",
         "legendgroup": "augelite, type3",
         "marker": {
          "color": "rgb(51,255,51)",
          "line": {
           "color": "DarkSlateGrey",
           "width": 0.7
          },
          "size": 10,
          "symbol": "square"
         },
         "mode": "markers",
         "name": "augelite, type3",
         "opacity": 0.85,
         "showlegend": true,
         "subplot": "ternary",
         "type": "scatterternary"
        },
        {
         "a": [
          39412.13771223256
         ],
         "b": [
          17377.345506521116
         ],
         "c": [
          null
         ],
         "customdata": [
          [
           "BU18FA19(2)",
           "A",
           "ff1",
           "fi09",
           212
          ]
         ],
         "hovertemplate": "Host=augelite<br>type=type2B<br>Na=%{a}<br>K=%{b}<br>Li=%{c}<br>sample=%{customdata[0]}<br>piece=%{customdata[1]}<br>field=%{customdata[2]}<br>analysis=%{customdata[3]}<br>index=%{customdata[4]}<extra></extra>",
         "legendgroup": "augelite, type2B",
         "marker": {
          "color": "rgb(51,255,51)",
          "line": {
           "color": "DarkSlateGrey",
           "width": 0.7
          },
          "size": 10,
          "symbol": "x"
         },
         "mode": "markers",
         "name": "augelite, type2B",
         "opacity": 0.85,
         "showlegend": true,
         "subplot": "ternary",
         "type": "scatterternary"
        },
        {
         "a": [
          26058.34020831483,
          48894.041223031294,
          null,
          36217.07928139091,
          52855.86157057731,
          48198.52871048443,
          47916.06056072283,
          46601.23331615013
         ],
         "b": [
          16511.252190163024,
          3115.5842676531947,
          null,
          11358.443784244198,
          12.320057934818925,
          3298.3968691781765,
          4817.103672711319,
          4810.447345652107
         ],
         "c": [
          5266.452235291134,
          1060.731362140738,
          null,
          3385.413107682413,
          74.0218495788715,
          1229.5783768464894,
          1047.3818132117528,
          1439.359635341866
         ],
         "customdata": [
          [
           "BU18FA32",
           "AII",
           "incC",
           "fi01",
           223
          ],
          [
           "BU18FA32",
           "AII",
           "incC",
           "fi02",
           224
          ],
          [
           "BU18FA32",
           "AII",
           "incC",
           "fi03",
           225
          ],
          [
           "BU18FA32",
           "AII",
           "incC",
           "fi04",
           226
          ],
          [
           "BU18FA32",
           "AII",
           "incC",
           "fi05",
           227
          ],
          [
           "BU18FA32",
           "AII",
           "incC",
           "fi06",
           266
          ],
          [
           "BU18FA32",
           "AII",
           "incC",
           "fi07",
           267
          ],
          [
           "BU18FA32",
           "AII",
           "incC",
           "fi08",
           268
          ]
         ],
         "hovertemplate": "Host=wyllieite<br>type=type1<br>Na=%{a}<br>K=%{b}<br>Li=%{c}<br>sample=%{customdata[0]}<br>piece=%{customdata[1]}<br>field=%{customdata[2]}<br>analysis=%{customdata[3]}<br>index=%{customdata[4]}<extra></extra>",
         "legendgroup": "wyllieite, type1",
         "marker": {
          "color": "rgb(0,170,250)",
          "line": {
           "color": "DarkSlateGrey",
           "width": 0.7
          },
          "size": 10,
          "symbol": "diamond"
         },
         "mode": "markers",
         "name": "wyllieite, type1",
         "opacity": 0.85,
         "showlegend": true,
         "subplot": "ternary",
         "type": "scatterternary"
        }
       ],
       "layout": {
        "legend": {
         "title": {
          "text": "Host, type"
         },
         "tracegroupgap": 0
        },
        "margin": {
         "t": 60
        },
        "template": {
         "data": {
          "bar": [
           {
            "error_x": {
             "color": "#2a3f5f"
            },
            "error_y": {
             "color": "#2a3f5f"
            },
            "marker": {
             "line": {
              "color": "white",
              "width": 0.5
             },
             "pattern": {
              "fillmode": "overlay",
              "size": 10,
              "solidity": 0.2
             }
            },
            "type": "bar"
           }
          ],
          "barpolar": [
           {
            "marker": {
             "line": {
              "color": "white",
              "width": 0.5
             },
             "pattern": {
              "fillmode": "overlay",
              "size": 10,
              "solidity": 0.2
             }
            },
            "type": "barpolar"
           }
          ],
          "carpet": [
           {
            "aaxis": {
             "endlinecolor": "#2a3f5f",
             "gridcolor": "#C8D4E3",
             "linecolor": "#C8D4E3",
             "minorgridcolor": "#C8D4E3",
             "startlinecolor": "#2a3f5f"
            },
            "baxis": {
             "endlinecolor": "#2a3f5f",
             "gridcolor": "#C8D4E3",
             "linecolor": "#C8D4E3",
             "minorgridcolor": "#C8D4E3",
             "startlinecolor": "#2a3f5f"
            },
            "type": "carpet"
           }
          ],
          "choropleth": [
           {
            "colorbar": {
             "outlinewidth": 0,
             "ticks": ""
            },
            "type": "choropleth"
           }
          ],
          "contour": [
           {
            "colorbar": {
             "outlinewidth": 0,
             "ticks": ""
            },
            "colorscale": [
             [
              0,
              "#0d0887"
             ],
             [
              0.1111111111111111,
              "#46039f"
             ],
             [
              0.2222222222222222,
              "#7201a8"
             ],
             [
              0.3333333333333333,
              "#9c179e"
             ],
             [
              0.4444444444444444,
              "#bd3786"
             ],
             [
              0.5555555555555556,
              "#d8576b"
             ],
             [
              0.6666666666666666,
              "#ed7953"
             ],
             [
              0.7777777777777778,
              "#fb9f3a"
             ],
             [
              0.8888888888888888,
              "#fdca26"
             ],
             [
              1,
              "#f0f921"
             ]
            ],
            "type": "contour"
           }
          ],
          "contourcarpet": [
           {
            "colorbar": {
             "outlinewidth": 0,
             "ticks": ""
            },
            "type": "contourcarpet"
           }
          ],
          "heatmap": [
           {
            "colorbar": {
             "outlinewidth": 0,
             "ticks": ""
            },
            "colorscale": [
             [
              0,
              "#0d0887"
             ],
             [
              0.1111111111111111,
              "#46039f"
             ],
             [
              0.2222222222222222,
              "#7201a8"
             ],
             [
              0.3333333333333333,
              "#9c179e"
             ],
             [
              0.4444444444444444,
              "#bd3786"
             ],
             [
              0.5555555555555556,
              "#d8576b"
             ],
             [
              0.6666666666666666,
              "#ed7953"
             ],
             [
              0.7777777777777778,
              "#fb9f3a"
             ],
             [
              0.8888888888888888,
              "#fdca26"
             ],
             [
              1,
              "#f0f921"
             ]
            ],
            "type": "heatmap"
           }
          ],
          "heatmapgl": [
           {
            "colorbar": {
             "outlinewidth": 0,
             "ticks": ""
            },
            "colorscale": [
             [
              0,
              "#0d0887"
             ],
             [
              0.1111111111111111,
              "#46039f"
             ],
             [
              0.2222222222222222,
              "#7201a8"
             ],
             [
              0.3333333333333333,
              "#9c179e"
             ],
             [
              0.4444444444444444,
              "#bd3786"
             ],
             [
              0.5555555555555556,
              "#d8576b"
             ],
             [
              0.6666666666666666,
              "#ed7953"
             ],
             [
              0.7777777777777778,
              "#fb9f3a"
             ],
             [
              0.8888888888888888,
              "#fdca26"
             ],
             [
              1,
              "#f0f921"
             ]
            ],
            "type": "heatmapgl"
           }
          ],
          "histogram": [
           {
            "marker": {
             "pattern": {
              "fillmode": "overlay",
              "size": 10,
              "solidity": 0.2
             }
            },
            "type": "histogram"
           }
          ],
          "histogram2d": [
           {
            "colorbar": {
             "outlinewidth": 0,
             "ticks": ""
            },
            "colorscale": [
             [
              0,
              "#0d0887"
             ],
             [
              0.1111111111111111,
              "#46039f"
             ],
             [
              0.2222222222222222,
              "#7201a8"
             ],
             [
              0.3333333333333333,
              "#9c179e"
             ],
             [
              0.4444444444444444,
              "#bd3786"
             ],
             [
              0.5555555555555556,
              "#d8576b"
             ],
             [
              0.6666666666666666,
              "#ed7953"
             ],
             [
              0.7777777777777778,
              "#fb9f3a"
             ],
             [
              0.8888888888888888,
              "#fdca26"
             ],
             [
              1,
              "#f0f921"
             ]
            ],
            "type": "histogram2d"
           }
          ],
          "histogram2dcontour": [
           {
            "colorbar": {
             "outlinewidth": 0,
             "ticks": ""
            },
            "colorscale": [
             [
              0,
              "#0d0887"
             ],
             [
              0.1111111111111111,
              "#46039f"
             ],
             [
              0.2222222222222222,
              "#7201a8"
             ],
             [
              0.3333333333333333,
              "#9c179e"
             ],
             [
              0.4444444444444444,
              "#bd3786"
             ],
             [
              0.5555555555555556,
              "#d8576b"
             ],
             [
              0.6666666666666666,
              "#ed7953"
             ],
             [
              0.7777777777777778,
              "#fb9f3a"
             ],
             [
              0.8888888888888888,
              "#fdca26"
             ],
             [
              1,
              "#f0f921"
             ]
            ],
            "type": "histogram2dcontour"
           }
          ],
          "mesh3d": [
           {
            "colorbar": {
             "outlinewidth": 0,
             "ticks": ""
            },
            "type": "mesh3d"
           }
          ],
          "parcoords": [
           {
            "line": {
             "colorbar": {
              "outlinewidth": 0,
              "ticks": ""
             }
            },
            "type": "parcoords"
           }
          ],
          "pie": [
           {
            "automargin": true,
            "type": "pie"
           }
          ],
          "scatter": [
           {
            "marker": {
             "colorbar": {
              "outlinewidth": 0,
              "ticks": ""
             }
            },
            "type": "scatter"
           }
          ],
          "scatter3d": [
           {
            "line": {
             "colorbar": {
              "outlinewidth": 0,
              "ticks": ""
             }
            },
            "marker": {
             "colorbar": {
              "outlinewidth": 0,
              "ticks": ""
             }
            },
            "type": "scatter3d"
           }
          ],
          "scattercarpet": [
           {
            "marker": {
             "colorbar": {
              "outlinewidth": 0,
              "ticks": ""
             }
            },
            "type": "scattercarpet"
           }
          ],
          "scattergeo": [
           {
            "marker": {
             "colorbar": {
              "outlinewidth": 0,
              "ticks": ""
             }
            },
            "type": "scattergeo"
           }
          ],
          "scattergl": [
           {
            "marker": {
             "colorbar": {
              "outlinewidth": 0,
              "ticks": ""
             }
            },
            "type": "scattergl"
           }
          ],
          "scattermapbox": [
           {
            "marker": {
             "colorbar": {
              "outlinewidth": 0,
              "ticks": ""
             }
            },
            "type": "scattermapbox"
           }
          ],
          "scatterpolar": [
           {
            "marker": {
             "colorbar": {
              "outlinewidth": 0,
              "ticks": ""
             }
            },
            "type": "scatterpolar"
           }
          ],
          "scatterpolargl": [
           {
            "marker": {
             "colorbar": {
              "outlinewidth": 0,
              "ticks": ""
             }
            },
            "type": "scatterpolargl"
           }
          ],
          "scatterternary": [
           {
            "marker": {
             "colorbar": {
              "outlinewidth": 0,
              "ticks": ""
             }
            },
            "type": "scatterternary"
           }
          ],
          "surface": [
           {
            "colorbar": {
             "outlinewidth": 0,
             "ticks": ""
            },
            "colorscale": [
             [
              0,
              "#0d0887"
             ],
             [
              0.1111111111111111,
              "#46039f"
             ],
             [
              0.2222222222222222,
              "#7201a8"
             ],
             [
              0.3333333333333333,
              "#9c179e"
             ],
             [
              0.4444444444444444,
              "#bd3786"
             ],
             [
              0.5555555555555556,
              "#d8576b"
             ],
             [
              0.6666666666666666,
              "#ed7953"
             ],
             [
              0.7777777777777778,
              "#fb9f3a"
             ],
             [
              0.8888888888888888,
              "#fdca26"
             ],
             [
              1,
              "#f0f921"
             ]
            ],
            "type": "surface"
           }
          ],
          "table": [
           {
            "cells": {
             "fill": {
              "color": "#EBF0F8"
             },
             "line": {
              "color": "white"
             }
            },
            "header": {
             "fill": {
              "color": "#C8D4E3"
             },
             "line": {
              "color": "white"
             }
            },
            "type": "table"
           }
          ]
         },
         "layout": {
          "annotationdefaults": {
           "arrowcolor": "#2a3f5f",
           "arrowhead": 0,
           "arrowwidth": 1
          },
          "autotypenumbers": "strict",
          "coloraxis": {
           "colorbar": {
            "outlinewidth": 0,
            "ticks": ""
           }
          },
          "colorscale": {
           "diverging": [
            [
             0,
             "#8e0152"
            ],
            [
             0.1,
             "#c51b7d"
            ],
            [
             0.2,
             "#de77ae"
            ],
            [
             0.3,
             "#f1b6da"
            ],
            [
             0.4,
             "#fde0ef"
            ],
            [
             0.5,
             "#f7f7f7"
            ],
            [
             0.6,
             "#e6f5d0"
            ],
            [
             0.7,
             "#b8e186"
            ],
            [
             0.8,
             "#7fbc41"
            ],
            [
             0.9,
             "#4d9221"
            ],
            [
             1,
             "#276419"
            ]
           ],
           "sequential": [
            [
             0,
             "#0d0887"
            ],
            [
             0.1111111111111111,
             "#46039f"
            ],
            [
             0.2222222222222222,
             "#7201a8"
            ],
            [
             0.3333333333333333,
             "#9c179e"
            ],
            [
             0.4444444444444444,
             "#bd3786"
            ],
            [
             0.5555555555555556,
             "#d8576b"
            ],
            [
             0.6666666666666666,
             "#ed7953"
            ],
            [
             0.7777777777777778,
             "#fb9f3a"
            ],
            [
             0.8888888888888888,
             "#fdca26"
            ],
            [
             1,
             "#f0f921"
            ]
           ],
           "sequentialminus": [
            [
             0,
             "#0d0887"
            ],
            [
             0.1111111111111111,
             "#46039f"
            ],
            [
             0.2222222222222222,
             "#7201a8"
            ],
            [
             0.3333333333333333,
             "#9c179e"
            ],
            [
             0.4444444444444444,
             "#bd3786"
            ],
            [
             0.5555555555555556,
             "#d8576b"
            ],
            [
             0.6666666666666666,
             "#ed7953"
            ],
            [
             0.7777777777777778,
             "#fb9f3a"
            ],
            [
             0.8888888888888888,
             "#fdca26"
            ],
            [
             1,
             "#f0f921"
            ]
           ]
          },
          "colorway": [
           "#636efa",
           "#EF553B",
           "#00cc96",
           "#ab63fa",
           "#FFA15A",
           "#19d3f3",
           "#FF6692",
           "#B6E880",
           "#FF97FF",
           "#FECB52"
          ],
          "font": {
           "color": "#2a3f5f"
          },
          "geo": {
           "bgcolor": "white",
           "lakecolor": "white",
           "landcolor": "white",
           "showlakes": true,
           "showland": true,
           "subunitcolor": "#C8D4E3"
          },
          "hoverlabel": {
           "align": "left"
          },
          "hovermode": "closest",
          "mapbox": {
           "style": "light"
          },
          "paper_bgcolor": "white",
          "plot_bgcolor": "white",
          "polar": {
           "angularaxis": {
            "gridcolor": "#EBF0F8",
            "linecolor": "#EBF0F8",
            "ticks": ""
           },
           "bgcolor": "white",
           "radialaxis": {
            "gridcolor": "#EBF0F8",
            "linecolor": "#EBF0F8",
            "ticks": ""
           }
          },
          "scene": {
           "xaxis": {
            "backgroundcolor": "white",
            "gridcolor": "#DFE8F3",
            "gridwidth": 2,
            "linecolor": "#EBF0F8",
            "showbackground": true,
            "ticks": "",
            "zerolinecolor": "#EBF0F8"
           },
           "yaxis": {
            "backgroundcolor": "white",
            "gridcolor": "#DFE8F3",
            "gridwidth": 2,
            "linecolor": "#EBF0F8",
            "showbackground": true,
            "ticks": "",
            "zerolinecolor": "#EBF0F8"
           },
           "zaxis": {
            "backgroundcolor": "white",
            "gridcolor": "#DFE8F3",
            "gridwidth": 2,
            "linecolor": "#EBF0F8",
            "showbackground": true,
            "ticks": "",
            "zerolinecolor": "#EBF0F8"
           }
          },
          "shapedefaults": {
           "line": {
            "color": "#2a3f5f"
           }
          },
          "ternary": {
           "aaxis": {
            "gridcolor": "#DFE8F3",
            "linecolor": "#A2B1C6",
            "ticks": ""
           },
           "baxis": {
            "gridcolor": "#DFE8F3",
            "linecolor": "#A2B1C6",
            "ticks": ""
           },
           "bgcolor": "white",
           "caxis": {
            "gridcolor": "#DFE8F3",
            "linecolor": "#A2B1C6",
            "ticks": ""
           }
          },
          "title": {
           "x": 0.05
          },
          "xaxis": {
           "automargin": true,
           "gridcolor": "#EBF0F8",
           "linecolor": "#EBF0F8",
           "ticks": "",
           "title": {
            "standoff": 15
           },
           "zerolinecolor": "#EBF0F8",
           "zerolinewidth": 2
          },
          "yaxis": {
           "automargin": true,
           "gridcolor": "#EBF0F8",
           "linecolor": "#EBF0F8",
           "ticks": "",
           "title": {
            "standoff": 15
           },
           "zerolinecolor": "#EBF0F8",
           "zerolinewidth": 2
          }
         }
        },
        "ternary": {
         "aaxis": {
          "min": 0.2,
          "title": {
           "text": "Na"
          }
         },
         "baxis": {
          "title": {
           "text": "K"
          }
         },
         "caxis": {
          "title": {
           "text": "Li"
          }
         },
         "domain": {
          "x": [
           0,
           1
          ],
          "y": [
           0,
           1
          ]
         }
        }
       }
      },
      "text/html": [
       "<div>                            <div id=\"8bd859e9-f9e2-44c9-b9fb-4a38ef5d43a8\" class=\"plotly-graph-div\" style=\"height:525px; width:100%;\"></div>            <script type=\"text/javascript\">                require([\"plotly\"], function(Plotly) {                    window.PLOTLYENV=window.PLOTLYENV || {};                                    if (document.getElementById(\"8bd859e9-f9e2-44c9-b9fb-4a38ef5d43a8\")) {                    Plotly.newPlot(                        \"8bd859e9-f9e2-44c9-b9fb-4a38ef5d43a8\",                        [{\"a\":[null,null,45421.87384235462,39987.01996064383,null,null,null,null,55484.415414939416,68387.40184167911,null,null,null,42742.61303486873,null,null,50872.93568908897,42103.81649748016,54459.768288466665,null,null,null,null,null,null,null,null,null,null,null,null,null,null,null,null,29104.57115343444,30244.154308925004,47119.49432641707,null,null,null,null,null,null],\"b\":[null,null,18597.376943428742,39042.46336446092,null,null,null,null,11635.377435291291,null,null,null,null,33088.35170750849,null,null,17135.4048902086,50128.35876199015,28997.16852877294,null,null,null,null,null,null,null,null,null,null,null,null,null,null,null,null,52977.738869734254,17512.519194139284,32719.616440325768,null,null,null,null,null,null],\"c\":[null,null,273.6804111592496,null,null,null,null,null,138.16339933229904,null,null,null,null,1256.1556140864525,null,null,546.218778292211,null,818.3803037884809,null,null,null,null,null,null,null,null,null,null,null,null,null,null,null,null,null,6671.636617375858,null,null,null,null,null,null,null],\"customdata\":[[\"BU18FA22\",\"A\",\"ff1\",\"fi01\",0],[\"BU18FA22\",\"A\",\"ff1\",\"fi02\",1],[\"BU18FA22\",\"A\",\"ff2\",\"fi01\",2],[\"BU18FA22\",\"A\",\"ff2\",\"fi02\",3],[\"BU18FA22\",\"A\",\"ff2\",\"fi03\",4],[\"BU18FA22\",\"A\",\"ff2\",\"fi04\",5],[\"BU18FA22\",\"A\",\"ff2\",\"fi04\",6],[\"BU18FA22\",\"A\",\"ff2\",\"fi05\",7],[\"BU18FA22\",\"A\",\"ff3b\",\"fi01\",8],[\"BU18FA22\",\"A\",\"ff3b\",\"fi02\",9],[\"BU18FA22\",\"A\",\"ff3b\",\"fi03\",10],[\"BU18FA22\",\"A\",\"ff3b\",\"fi04\",11],[\"BU18FA22\",\"A\",\"ff3b\",\"fi05\",12],[\"BU18FA22\",\"A\",\"ff3a\",\"fi01\",13],[\"BU18FA22\",\"A\",\"ff3a\",\"fi02\",14],[\"BU18FA22\",\"A\",\"ff3a\",\"fi03\",15],[\"BU18FA22\",\"A\",\"ff3a\",\"fi04\",16],[\"BU18FA22\",\"A\",\"ff3a\",\"fi05\",17],[\"BU18FA22\",\"B\",\"ff1b\",\"fi01\",23],[\"BU18FA22\",\"B\",\"ff1b\",\"fi02\",24],[\"BU18FA22\",\"B\",\"ff1b\",\"fi03\",25],[\"BU18FA22\",\"B\",\"ff1b\",\"fi04\",26],[\"BU18FA22\",\"B\",\"ff1b\",\"fi05\",27],[\"BU18FA19\",\"D\",\"ffore2\",\"fi01\",147],[\"BU18FA19\",\"D\",\"ffore2\",\"fi02\",148],[\"BU18FA19\",\"D\",\"ffore2\",\"fi03\",149],[\"BU18FA19\",\"D\",\"ffore2\",\"fi04\",150],[\"BU18FA19\",\"D\",\"ffore2\",\"fi05\",151],[\"BU18FA19\",\"D\",\"ffore2\",\"fi07\",153],[\"BU18FA19\",\"D\",\"ffore2\",\"fi08\",154],[\"BU18FA19\",\"D\",\"ffore2\",\"fi09\",155],[\"BU18FA19\",\"D\",\"ffore2\",\"fi011\",156],[\"BU18FA19\",\"D\",\"ffore2\",\"fi012\",157],[\"BU18FA19\",\"D\",\"ffore2\",\"fi013\",158],[\"BU18FA19\",\"E\",\"ff11b\",\"fi01\",169],[\"BU18FA19\",\"E\",\"ff11b\",\"fi02\",170],[\"BU18FA19\",\"E\",\"ff11b\",\"fi03\",171],[\"BU18FA19\",\"E\",\"ff11b\",\"fi04\",172],[\"BU18FA19\",\"E\",\"ff11b\",\"fi05\",173],[\"BU18FA19\",\"E\",\"ff11b\",\"fi06\",174],[\"BU18FA19\",\"E\",\"ff11b\",\"fi07\",175],[\"BU18FA19\",\"E\",\"ff11b\",\"fi08\",176],[\"BU18FA19\",\"E\",\"ff11b\",\"fi09\",177],[\"BU18FA19\",\"E\",\"ff11b\",\"fi010\",178]],\"hovertemplate\":\"Host=quartz<br>type=type2A<br>Na=%{a}<br>K=%{b}<br>Li=%{c}<br>sample=%{customdata[0]}<br>piece=%{customdata[1]}<br>field=%{customdata[2]}<br>analysis=%{customdata[3]}<br>index=%{customdata[4]}<extra></extra>\",\"legendgroup\":\"quartz, type2A\",\"marker\":{\"color\":\"rgb(240,228,66)\",\"symbol\":\"circle\",\"line\":{\"color\":\"DarkSlateGrey\",\"width\":0.7},\"size\":10},\"mode\":\"markers\",\"name\":\"quartz, type2A\",\"showlegend\":true,\"subplot\":\"ternary\",\"type\":\"scatterternary\",\"opacity\":0.85},{\"a\":[null],\"b\":[null],\"c\":[null],\"customdata\":[[\"BU18FA19\",\"D\",\"ffore2\",\"fi06\",152]],\"hovertemplate\":\"Host=quartz<br>type=type2B<br>Na=%{a}<br>K=%{b}<br>Li=%{c}<br>sample=%{customdata[0]}<br>piece=%{customdata[1]}<br>field=%{customdata[2]}<br>analysis=%{customdata[3]}<br>index=%{customdata[4]}<extra></extra>\",\"legendgroup\":\"quartz, type2B\",\"marker\":{\"color\":\"rgb(240,228,66)\",\"symbol\":\"x\",\"line\":{\"color\":\"DarkSlateGrey\",\"width\":0.7},\"size\":10},\"mode\":\"markers\",\"name\":\"quartz, type2B\",\"showlegend\":true,\"subplot\":\"ternary\",\"type\":\"scatterternary\",\"opacity\":0.85},{\"a\":[null,null,null,null,33322.4828666083,null,null,null,null,39371.67963639483,null,null,null,null,null,17671.80283897026,38627.64892368645,35670.35744269739,null,33885.69867912132,null,null,null,null,null,null,null,null,null,null,null,19547.675849617197,30226.172516382077,42425.30909996068,25510.131587559023,19672.84112066972,48343.525617520594],\"b\":[null,null,null,null,27345.32585733204,null,null,null,null,28778.902933913632,null,null,null,null,null,12801.93861151128,27464.530572061565,22158.07633051344,null,27261.521974538515,null,null,null,null,null,null,null,null,null,null,null,19683.5641050631,28334.042392601288,13989.369515443648,43421.77608621131,46602.1420108521,5404.915037851938],\"c\":[null,null,null,null,258.9599155389129,null,null,null,null,3510.430041663033,null,null,null,null,null,168.0624282691266,null,1130.086569860423,null,930.2537023561785,null,null,null,null,null,null,null,null,null,null,null,5962.225742699109,1189.4998896316426,386.55220478797554,249.7200574747703,1402.5998729294693,94.88914305565032],\"customdata\":[[\"BU18FA22\",\"B\",\"ff1\",\"fi01\",18],[\"BU18FA22\",\"B\",\"ff1\",\"fi02\",19],[\"BU18FA22\",\"B\",\"ff1\",\"fi03\",20],[\"BU18FA22\",\"B\",\"ff1\",\"fi04\",21],[\"BU18FA20\",\"E\",\"ff1\",\"fi04\",49],[\"BU18FA20\",\"A\",\"ff2\",\"fi01\",50],[\"BU18FA20\",\"A\",\"ff2\",\"fi02\",51],[\"BU18FA20\",\"A\",\"ff2\",\"fi03\",52],[\"BU18FA20\",\"F\",\"ff2\",\"fi01\",57],[\"BU18FA20\",\"E\",\"ff1\",\"fi07\",80],[\"BU18FA20\",\"H\",\"ff1\",\"fi01\",85],[\"BU18FA20\",\"H\",\"ff1\",\"fi02\",86],[\"BU18FA20\",\"H\",\"ff1\",\"fi03\",87],[\"BU18FA20\",\"H\",\"ff1\",\"fi04\",88],[\"BU18FA20\",\"H\",\"ff1\",\"fi05\",89],[\"BU18FA19\",\"A\",\"ff7b\",\"fi01\",119],[\"BU18FA19\",\"A\",\"ff7b\",\"fi02\",120],[\"BU18FA19\",\"A\",\"ff7b\",\"fi09\",127],[\"BU18FA19\",\"A\",\"ff7b\",\"fi010\",128],[\"BU18FA19\",\"B\",\"ff1\",\"fi05\",133],[\"BU18FA19\",\"B\",\"ff1\",\"fi010\",138],[\"BU18FA19\",\"C\",\"ffore1\",\"fi02\",141],[\"BU18FA19\",\"C\",\"ffore1\",\"fi04\",143],[\"BU18FA19\",\"C\",\"ffore1\",\"fi07\",146],[\"BU18FA19\",\"D\",\"ff2\",\"fi02\",180],[\"BU18FA19\",\"D\",\"ff2\",\"fi05\",183],[\"BU18FA19\",\"D\",\"ff2\",\"fi06\",184],[\"BU18FA19\",\"D\",\"ff2\",\"fi07\",185],[\"BU18FA19\",\"D\",\"ff2\",\"fi08\",186],[\"BU18FA19\",\"D\",\"ff2\",\"fi09\",187],[\"BU18FA19\",\"D\",\"ff2\",\"fi010\",188],[\"BU18FA19\",\"A\",\"ff7b\",\"fi011\",228],[\"BU18FA19\",\"A\",\"ff7b\",\"fi012\",229],[\"BU18FA20\",\"E\",\"ff1\",\"fi08\",231],[\"BU18FA04\",\"C\",\"ff8\",\"fi01\",270],[\"BU18FA04\",\"C\",\"ff8\",\"fi03\",271],[\"BU18FA04\",\"C\",\"ff8\",\"fi05\",273]],\"hovertemplate\":\"Host=trolleite<br>type=type2A<br>Na=%{a}<br>K=%{b}<br>Li=%{c}<br>sample=%{customdata[0]}<br>piece=%{customdata[1]}<br>field=%{customdata[2]}<br>analysis=%{customdata[3]}<br>index=%{customdata[4]}<extra></extra>\",\"legendgroup\":\"trolleite, type2A\",\"marker\":{\"color\":\"rgb(0,158,115)\",\"symbol\":\"circle\",\"line\":{\"color\":\"DarkSlateGrey\",\"width\":0.7},\"size\":10},\"mode\":\"markers\",\"name\":\"trolleite, type2A\",\"showlegend\":true,\"subplot\":\"ternary\",\"type\":\"scatterternary\",\"opacity\":0.85},{\"a\":[null,53604.423216477066,27139.18017733634,null,null,null,null,null,32403.549770165093,31016.38505188453,28764.866234089728,null,null,null,37944.87072825938,24116.30015270437,32202.232200473965,null,34429.195666228385,36467.32565260112,29473.27820362729,21410.14551386844,28506.65461309456,null,null,null,null,null,null,null,null,null,null,25516.55778658757,22106.38362428181],\"b\":[null,20378.324613035595,30452.77471087691,null,null,null,null,null,27398.405002810923,30730.819993270437,31137.152872609167,null,null,null,17098.577599736866,39233.55186235351,25047.18625242871,null,28764.755372113374,31013.225899740413,27624.940077078823,51498.34601946571,32166.80040999705,null,null,null,null,null,null,null,null,null,null,43533.392484054646,34274.76703158064],\"c\":[null,2587.218451642259,972.8055007649824,null,null,null,null,null,372.4943286004099,150.46958889928624,273.1063613640318,null,null,null,null,1430.3982788696326,600.5264309312015,null,1022.9446572059524,514.0989236793511,1538.2012412478728,1297.039966796524,539.7533128578258,null,null,null,null,null,null,null,null,null,null,null,2377.498607057153],\"customdata\":[[\"BU18FA22\",\"B\",\"ff1\",\"fi05\",22],[\"BU18FA20\",\"E\",\"ff1\",\"fi03\",48],[\"BU18FA20\",\"E\",\"ff1\",\"fi05\",78],[\"BU18FA20\",\"E\",\"ff1\",\"fi06\",79],[\"BU18FA20\",\"G\",\"ff1\",\"fi01\",81],[\"BU18FA20\",\"G\",\"ff1\",\"fi02\",82],[\"BU18FA20\",\"G\",\"ff1\",\"fi03\",83],[\"BU18FA20\",\"H\",\"ff1\",\"fi07\",90],[\"BU18FA20\",\"J\",\"ff1\",\"fi01\",116],[\"BU18FA20\",\"J\",\"ff1\",\"fi02\",117],[\"BU18FA20\",\"J\",\"ff1\",\"fi03\",118],[\"BU18FA19\",\"A\",\"ff7b\",\"fi03\",121],[\"BU18FA19\",\"A\",\"ff7b\",\"fi04\",122],[\"BU18FA19\",\"A\",\"ff7b\",\"fi05\",123],[\"BU18FA19\",\"A\",\"ff7b\",\"fi06\",124],[\"BU18FA19\",\"A\",\"ff7b\",\"fi07\",125],[\"BU18FA19\",\"A\",\"ff7b\",\"fi08\",126],[\"BU18FA19\",\"B\",\"ff1\",\"fi01\",129],[\"BU18FA19\",\"B\",\"ff1\",\"fi02\",130],[\"BU18FA19\",\"B\",\"ff1\",\"fi03\",131],[\"BU18FA19\",\"B\",\"ff1\",\"fi04\",132],[\"BU18FA19\",\"B\",\"ff1\",\"fi06\",134],[\"BU18FA19\",\"B\",\"ff1\",\"fi07\",135],[\"BU18FA19\",\"B\",\"ff1\",\"fi08\",136],[\"BU18FA19\",\"B\",\"ff1\",\"fi09\",137],[\"BU18FA19\",\"B\",\"ff1\",\"fi0MI\",139],[\"BU18FA19\",\"C\",\"ffore1\",\"fi01\",140],[\"BU18FA19\",\"C\",\"ffore1\",\"fi03\",142],[\"BU18FA19\",\"C\",\"ffore1\",\"fi05\",144],[\"BU18FA19\",\"C\",\"ffore1\",\"fi06\",145],[\"BU18FA19\",\"D\",\"ff2\",\"fi01\",179],[\"BU18FA19\",\"D\",\"ff2\",\"fi03\",181],[\"BU18FA19\",\"D\",\"ff2\",\"fi04\",182],[\"BU18FA04\",\"B\",\"ff5\",\"fi01\",230],[\"BU18FA04\",\"C\",\"ff8\",\"fi04\",272]],\"hovertemplate\":\"Host=trolleite<br>type=type1<br>Na=%{a}<br>K=%{b}<br>Li=%{c}<br>sample=%{customdata[0]}<br>piece=%{customdata[1]}<br>field=%{customdata[2]}<br>analysis=%{customdata[3]}<br>index=%{customdata[4]}<extra></extra>\",\"legendgroup\":\"trolleite, type1\",\"marker\":{\"color\":\"rgb(0,158,115)\",\"symbol\":\"diamond\",\"line\":{\"color\":\"DarkSlateGrey\",\"width\":0.7},\"size\":10},\"mode\":\"markers\",\"name\":\"trolleite, type1\",\"showlegend\":true,\"subplot\":\"ternary\",\"type\":\"scatterternary\",\"opacity\":0.85},{\"a\":[21811.12089623902,22166.648171131408,null],\"b\":[21110.61672617701,10452.564081812554,null],\"c\":[null,529.8326376913315,null],\"customdata\":[[\"BU18FA20\",\"E\",\"ff1\",\"fi01\",46],[\"BU18FA20\",\"E\",\"ff1\",\"fi02\",47],[\"BU18FA20\",\"G\",\"ff1\",\"fi04\",84]],\"hovertemplate\":\"Host=trolleite<br>type=type2B<br>Na=%{a}<br>K=%{b}<br>Li=%{c}<br>sample=%{customdata[0]}<br>piece=%{customdata[1]}<br>field=%{customdata[2]}<br>analysis=%{customdata[3]}<br>index=%{customdata[4]}<extra></extra>\",\"legendgroup\":\"trolleite, type2B\",\"marker\":{\"color\":\"rgb(0,158,115)\",\"symbol\":\"x\",\"line\":{\"color\":\"DarkSlateGrey\",\"width\":0.7},\"size\":10},\"mode\":\"markers\",\"name\":\"trolleite, type2B\",\"showlegend\":true,\"subplot\":\"ternary\",\"type\":\"scatterternary\",\"opacity\":0.85},{\"a\":[null,null,null,null,null,null,null,null,null,null,null,null],\"b\":[null,null,null,null,null,null,null,null,null,null,null,null],\"c\":[null,null,null,null,null,null,null,null,null,null,null,null],\"customdata\":[[\"BU18FA22\",\"B\",\"ff2\",\"fi01\",28],[\"BU18FA22\",\"B\",\"ff2\",\"fi02\",29],[\"BU18FA22\",\"B\",\"ff2\",\"fi03\",30],[\"BU18FA22\",\"B\",\"ff2\",\"fi04\",31],[\"BU18FA22\",\"B\",\"ff2\",\"fi05\",32],[\"BU18FA22\",\"B\",\"ff2\",\"fi06\",33],[\"BU18FA20\",\"A\",\"ff1\",\"fi01\",91],[\"BU18FA20\",\"A\",\"ff4\",\"fi01\",92],[\"BU18FA20\",\"I\",\"ff1\",\"fi01\",93],[\"BU18FA22\",\"D\",\"ff1\",\"fi01\",94],[\"BU18FA22\",\"D\",\"ff1\",\"fi02\",95],[\"BU18FA22\",\"D\",\"ff1\",\"fi03\",96]],\"hovertemplate\":\"Host=scorzalite<br>type=type2A<br>Na=%{a}<br>K=%{b}<br>Li=%{c}<br>sample=%{customdata[0]}<br>piece=%{customdata[1]}<br>field=%{customdata[2]}<br>analysis=%{customdata[3]}<br>index=%{customdata[4]}<extra></extra>\",\"legendgroup\":\"scorzalite, type2A\",\"marker\":{\"color\":\"rgb(0,0,255)\",\"symbol\":\"circle\",\"line\":{\"color\":\"DarkSlateGrey\",\"width\":0.7},\"size\":10},\"mode\":\"markers\",\"name\":\"scorzalite, type2A\",\"showlegend\":true,\"subplot\":\"ternary\",\"type\":\"scatterternary\",\"opacity\":0.85},{\"a\":[35387.507794096404,15574.203589099703,27189.799492513117,null,null,null,42918.43077548296,null,null,null,null,null,36377.19398808589,null,null,null,null,null,null,27607.86986135627,39737.5232646305,null,18031.237823402946,39457.03166248759,13875.652736496328,26357.155421299056,29488.28947566378,9144.7563603761,35830.41599843137,null,20024.231766357345,null,35275.575624158126,37294.72331693793,38227.11083425127,27584.74391295574,27602.37154029352,12960.768692554198,32261.63132761112,25753.853930649668,19667.541598359578,39832.568262172674,30110.82288340545,35200.45700257831],\"b\":[10613.789024066797,11154.246228529146,8106.33378174283,null,null,null,null,null,null,null,null,null,13623.442859590274,null,null,null,null,null,null,36074.76873742385,26111.238201917426,null,15712.335743603902,17069.823623776396,8702.949115995707,8391.543983033622,11694.924475300835,1199.9567174045364,12357.361939065086,null,4796.886021073348,null,10222.112264356749,10774.04174818678,12991.726565827106,5177.952619398556,30580.97346521091,1635.8235133973703,8260.404627160884,7693.931747903259,15653.52079792739,10164.517321374877,7376.312413727304,9743.39444128928],\"c\":[null,6381.077272750415,1139.1954217014725,null,null,null,4949.593571500132,null,null,null,null,null,null,null,null,null,null,null,null,null,null,null,6912.878661204161,1393.457803765637,7161.568192823691,3586.10299704713,1689.021158259264,9967.103789026583,null,null,5681.386667146339,null,1400.689136651927,659.8602851206546,null,4611.23457025096,null,9681.556913002758,2671.2825426675786,4665.963761349424,5103.994647196414,null,4996.942197375311,3033.081512705146],\"customdata\":[[\"BU18FA20\",\"B\",\"ff2\",\"fi01\",38],[\"BU18FA20\",\"B\",\"ff2\",\"fi02\",39],[\"BU18FA20\",\"B\",\"ff2\",\"fi03\",40],[\"BU18FA22\",\"C\",\"ff1\",\"fi01\",42],[\"BU18FA22\",\"C\",\"ff1\",\"fi02\",43],[\"BU18FA22\",\"C\",\"ff1\",\"fi03\",44],[\"BU18FA22\",\"C\",\"ff1\",\"fi04\",45],[\"BU18FA20\",\"F\",\"ff1\",\"fi01\",53],[\"BU18FA20\",\"F\",\"ff1\",\"fi01\",54],[\"BU18FA20\",\"F\",\"ff1\",\"fi02\",55],[\"BU18FA20\",\"F\",\"ff1\",\"fi03\",56],[\"BU18FA20\",\"C\",\"ff1\",\"fi05\",97],[\"BU18FA20\",\"B\",\"ff2\",\"fi05\",103],[\"BU18FA20\",\"F\",\"ff1\",\"fi04\",104],[\"BU18FA19\",\"E\",\"ff11\",\"fi01\",159],[\"BU18FA19\",\"E\",\"ff11\",\"fi02\",160],[\"BU18FA19\",\"E\",\"ff11\",\"fi03\",161],[\"BU18FA19\",\"E\",\"ff11\",\"fi04\",162],[\"BU18FA19\",\"E\",\"ff11\",\"fi05\",163],[\"BU18FA19\",\"E\",\"ff11\",\"fi06\",164],[\"BU18FA19\",\"E\",\"ff11\",\"fi07\",165],[\"BU18FA19\",\"E\",\"ff11\",\"fi08\",166],[\"BU18FA19\",\"E\",\"ff11\",\"fi09\",167],[\"BU18FA19\",\"E\",\"ff11\",\"fi010\",168],[\"BU18FA04\",\"A\",\"ff3\",\"fi01\",194],[\"BU18FA04\",\"A\",\"ff3\",\"fi02\",195],[\"BU18FA04\",\"A\",\"ff3\",\"fi03\",196],[\"BU18FA04\",\"A\",\"ff3\",\"fi05\",198],[\"BU18FA04\",\"A\",\"ff3\",\"fi06\",199],[\"BU18FA04\",\"A\",\"ff3\",\"fi07\",200],[\"BU18FA04\",\"A\",\"ff3\",\"fi08\",201],[\"BU18FA04\",\"A\",\"ff3\",\"fi09\",202],[\"BU18FA04\",\"B\",\"ff6\",\"fi01\",232],[\"BU18FA04\",\"B\",\"ff6\",\"fi06\",233],[\"BU18FA04\",\"B\",\"ff6\",\"fi09\",234],[\"BU18FA04\",\"B\",\"ff7\",\"fi01\",235],[\"BU18FA04\",\"B\",\"ff7\",\"fi02\",236],[\"BU18FA04\",\"B\",\"ff7\",\"fi03\",237],[\"BU18FA20\",\"B\",\"ff2\",\"fi07\",239],[\"BU18FA20\",\"B\",\"ff4\",\"fi06\",240],[\"BU18FA20\",\"B\",\"ff4\",\"fi07\",241],[\"BU18FA20\",\"B\",\"ff4\",\"fi09\",242],[\"BU18FA22\",\"C\",\"ff2\",\"fi01\",243],[\"BU18FA22\",\"C\",\"ff2\",\"fi03\",245]],\"hovertemplate\":\"Host=bertossaite<br>type=type2A<br>Na=%{a}<br>K=%{b}<br>Li=%{c}<br>sample=%{customdata[0]}<br>piece=%{customdata[1]}<br>field=%{customdata[2]}<br>analysis=%{customdata[3]}<br>index=%{customdata[4]}<extra></extra>\",\"legendgroup\":\"bertossaite, type2A\",\"marker\":{\"color\":\"rgb(204,121,167)\",\"symbol\":\"circle\",\"line\":{\"color\":\"DarkSlateGrey\",\"width\":0.7},\"size\":10},\"mode\":\"markers\",\"name\":\"bertossaite, type2A\",\"showlegend\":true,\"subplot\":\"ternary\",\"type\":\"scatterternary\",\"opacity\":0.85},{\"a\":[null,null,41483.45441322946],\"b\":[null,null,2813.937714428489],\"c\":[null,null,null],\"customdata\":[[\"BU18FA20\",\"F\",\"ff1\",\"fi05\",105],[\"BU18FA20\",\"B\",\"ff4\",\"fi05\",115],[\"BU18FA22\",\"C\",\"ff2\",\"fi02\",244]],\"hovertemplate\":\"Host=bertossaite<br>type=type1<br>Na=%{a}<br>K=%{b}<br>Li=%{c}<br>sample=%{customdata[0]}<br>piece=%{customdata[1]}<br>field=%{customdata[2]}<br>analysis=%{customdata[3]}<br>index=%{customdata[4]}<extra></extra>\",\"legendgroup\":\"bertossaite, type1\",\"marker\":{\"color\":\"rgb(204,121,167)\",\"symbol\":\"diamond\",\"line\":{\"color\":\"DarkSlateGrey\",\"width\":0.7},\"size\":10},\"mode\":\"markers\",\"name\":\"bertossaite, type1\",\"showlegend\":true,\"subplot\":\"ternary\",\"type\":\"scatterternary\",\"opacity\":0.85},{\"a\":[45152.27706352507,31922.519991273944,null,52091.55947042685,null,null,31013.19162767405,47045.90753679304,null,73748.32921702722,58457.447453581,48341.835455765584,null,47791.67462207581],\"b\":[15579.987549518632,10984.64824796971,null,10877.32543461859,null,null,9643.545672437946,32706.46199726168,null,28906.57390537243,18339.52229270202,25384.75497878483,null,11288.571676952608],\"c\":[4261.345724625666,9317.186372473334,null,3411.082036997829,null,null,9006.634103080527,null,null,null,6268.782610753122,8689.632681364934,null,9409.884022848868],\"customdata\":[[\"BU18FA20\",\"C\",\"ff1\",\"fi01\",34],[\"BU18FA20\",\"C\",\"ff1\",\"fi02\",35],[\"BU18FA20\",\"C\",\"ff1\",\"fi03\",36],[\"BU18FA20\",\"C\",\"ff1\",\"fi04\",37],[\"BU18FA20\",\"C\",\"ff1\",\"fi06\",98],[\"BU18FA20\",\"C\",\"ff1\",\"fi07\",99],[\"BU18FA20\",\"C\",\"ff1\",\"fi08\",100],[\"BU18FA20\",\"C\",\"ff1\",\"fi09\",101],[\"BU18FA20\",\"C\",\"ff1\",\"fi010\",102],[\"BU18FA20\",\"B\",\"ff4\",\"fi01\",111],[\"BU18FA20\",\"B\",\"ff4\",\"fi02\",112],[\"BU18FA20\",\"B\",\"ff4\",\"fi03\",113],[\"BU18FA20\",\"B\",\"ff4\",\"fi04\",114],[\"BU18FA04\",\"A\",\"ff3\",\"fi04\",197]],\"hovertemplate\":\"Host=bertossaite<br>type=type3<br>Na=%{a}<br>K=%{b}<br>Li=%{c}<br>sample=%{customdata[0]}<br>piece=%{customdata[1]}<br>field=%{customdata[2]}<br>analysis=%{customdata[3]}<br>index=%{customdata[4]}<extra></extra>\",\"legendgroup\":\"bertossaite, type3\",\"marker\":{\"color\":\"rgb(204,121,167)\",\"symbol\":\"square\",\"line\":{\"color\":\"DarkSlateGrey\",\"width\":0.7},\"size\":10},\"mode\":\"markers\",\"name\":\"bertossaite, type3\",\"showlegend\":true,\"subplot\":\"ternary\",\"type\":\"scatterternary\",\"opacity\":0.85},{\"a\":[3807.243258186179,11865.788909500308],\"b\":[757.1652342164516,6370.599434884992],\"c\":[3463.3649830218837,null],\"customdata\":[[\"BU18FA20\",\"B\",\"ff2\",\"fi04\",41],[\"BU18FA04\",\"B\",\"ff7\",\"fi05\",238]],\"hovertemplate\":\"Host=bertossaite<br>type=type2B<br>Na=%{a}<br>K=%{b}<br>Li=%{c}<br>sample=%{customdata[0]}<br>piece=%{customdata[1]}<br>field=%{customdata[2]}<br>analysis=%{customdata[3]}<br>index=%{customdata[4]}<extra></extra>\",\"legendgroup\":\"bertossaite, type2B\",\"marker\":{\"color\":\"rgb(204,121,167)\",\"symbol\":\"x\",\"line\":{\"color\":\"DarkSlateGrey\",\"width\":0.7},\"size\":10},\"mode\":\"markers\",\"name\":\"bertossaite, type2B\",\"showlegend\":true,\"subplot\":\"ternary\",\"type\":\"scatterternary\",\"opacity\":0.85},{\"a\":[null,34651.67470173566,null,null,33609.942754657175,null,null,null,null,null,null,null,null,null,null,null,null,null,42093.25804243669,35783.57811767537,3768.520300008269,33827.86923284285,34539.24989787089,47207.39219712526,47207.39219712526,35109.65130400835,27168.60330196248,42093.25804243669,42093.25804243669,42093.25804243669,31011.52253189985,33790.40751983343,34620.9713364783,42093.25804243669,39226.204834219854],\"b\":[null,8239.227562978329,null,null,8387.831713254944,null,null,null,null,null,null,null,null,null,null,null,null,null,null,17672.46846262141,67818.25716583946,20986.559113349154,6119.156571356811,null,null,7982.725101677254,18350.546117817743,null,null,null,8224.810341057424,9062.737035770198,9020.715887337654,null,3046.940502971356],\"c\":[null,739.1791290509918,null,null,902.6975207476128,null,null,null,null,null,null,null,null,null,null,null,null,null,null,257.2684207949907,770.7494547649299,265.8727496090759,2693.5024587021303,null,null,653.6521397828201,1183.5109409365837,null,null,null,1813.7683244497327,862.9396194361733,614.3111303032441,null,313.672057255279],\"customdata\":[[\"BU18FA32\",\"A\",\"ff1\",\"fi05\",62],[\"BU18FA32\",\"A\",\"ff1\",\"fi06\",63],[\"BU18FA32\",\"A\",\"ff1\",\"fi07\",64],[\"BU18FA32\",\"A\",\"ff1\",\"fi08\",65],[\"BU18FA32\",\"A\",\"ff1\",\"fi09\",66],[\"BU18FA32\",\"A\",\"ff1\",\"fi010\",67],[\"BU18FA32\",\"C\",\"ff1\",\"fi01\",68],[\"BU18FA32\",\"C\",\"ff1\",\"fi02\",69],[\"BU18FA32\",\"C\",\"ff1\",\"fi06\",73],[\"BU18FA32\",\"C\",\"ff1\",\"fi07\",74],[\"BU18FA32\",\"C\",\"ff1\",\"fi08\",75],[\"BU18FA32\",\"C\",\"ff1\",\"fi09\",76],[\"BU18FA32\",\"C\",\"ff1\",\"fi010\",77],[\"BU18FA32\",\"B\",\"ff2\",\"fi02\",107],[\"BU18FA32\",\"B\",\"ff2\",\"fi04\",109],[\"BU18FA02a\",\"A\",\"ff1\",\"fi02\",190],[\"BU18FA02a\",\"A\",\"ff1\",\"fi03\",191],[\"BU18FA02a\",\"A\",\"ff1\",\"fi05\",193],[\"BU18FA32\",\"A\",\"ff1\",\"fi011\",246],[\"BU18FA02a\",\"B\",\"ff3\",\"fi01\",247],[\"BU18FA02a\",\"B\",\"ff3\",\"fi02\",248],[\"BU18FA02a\",\"B\",\"ff3\",\"fi03\",249],[\"BU18FA02a\",\"B\",\"ff3\",\"fi04\",250],[\"BU18FA02a\",\"B\",\"ff3\",\"fi05\",251],[\"BU18FA02a\",\"B\",\"ff3\",\"fi06\",252],[\"BU18FA32\",\"B\",\"ff1\",\"fi01\",254],[\"BU18FA32\",\"B\",\"ff1\",\"fi02\",255],[\"BU18FA32\",\"B\",\"ff1\",\"fi03\",256],[\"BU18FA32\",\"B\",\"ff1\",\"fi04\",257],[\"BU18FA32\",\"B\",\"ff1\",\"fi05\",258],[\"BU18FA32\",\"B\",\"ff1\",\"fi06\",259],[\"BU18FA32\",\"B\",\"ff2\",\"fi06\",260],[\"BU18FA32\",\"B\",\"ff2\",\"fi07\",261],[\"BU18FA32\",\"B\",\"ff2\",\"fi08\",262],[\"BU18FA32\",\"B\",\"ff2\",\"fi09\",263]],\"hovertemplate\":\"Host=brazilianite<br>type=type2A<br>Na=%{a}<br>K=%{b}<br>Li=%{c}<br>sample=%{customdata[0]}<br>piece=%{customdata[1]}<br>field=%{customdata[2]}<br>analysis=%{customdata[3]}<br>index=%{customdata[4]}<extra></extra>\",\"legendgroup\":\"brazilianite, type2A\",\"marker\":{\"color\":\"rgb(250,120,10)\",\"symbol\":\"circle\",\"line\":{\"color\":\"DarkSlateGrey\",\"width\":0.7},\"size\":10},\"mode\":\"markers\",\"name\":\"brazilianite, type2A\",\"showlegend\":true,\"subplot\":\"ternary\",\"type\":\"scatterternary\",\"opacity\":0.85},{\"a\":[35679.313847940546,null,null,null,null,null,40055.18623302876],\"b\":[1526.3535853629596,null,null,null,null,null,11155.577940492429],\"c\":[113.23312563674716,null,null,null,null,null,140.1219951173715],\"customdata\":[[\"BU18FA32\",\"A\",\"ff1\",\"fi01\",58],[\"BU18FA32\",\"B\",\"ff2\",\"fi01\",106],[\"BU18FA32\",\"B\",\"ff2\",\"fi03\",108],[\"BU18FA32\",\"B\",\"ff2\",\"fi05\",110],[\"BU18FA02a\",\"A\",\"ff1\",\"fi01\",189],[\"BU18FA02a\",\"A\",\"ff1\",\"fi04\",192],[\"BU18FA02a\",\"B\",\"ff4\",\"fi01\",253]],\"hovertemplate\":\"Host=brazilianite<br>type=type1<br>Na=%{a}<br>K=%{b}<br>Li=%{c}<br>sample=%{customdata[0]}<br>piece=%{customdata[1]}<br>field=%{customdata[2]}<br>analysis=%{customdata[3]}<br>index=%{customdata[4]}<extra></extra>\",\"legendgroup\":\"brazilianite, type1\",\"marker\":{\"color\":\"rgb(250,120,10)\",\"symbol\":\"diamond\",\"line\":{\"color\":\"DarkSlateGrey\",\"width\":0.7},\"size\":10},\"mode\":\"markers\",\"name\":\"brazilianite, type1\",\"showlegend\":true,\"subplot\":\"ternary\",\"type\":\"scatterternary\",\"opacity\":0.85},{\"a\":[null,57544.17653085996,null,null,null,null],\"b\":[null,11302.942108899271,null,null,null,null],\"c\":[null,1081.5223631702686,null,null,null,null],\"customdata\":[[\"BU18FA32\",\"A\",\"ff1\",\"fi02\",59],[\"BU18FA32\",\"A\",\"ff1\",\"fi03\",60],[\"BU18FA32\",\"A\",\"ff1\",\"fi04\",61],[\"BU18FA32\",\"C\",\"ff1\",\"fi03\",70],[\"BU18FA32\",\"C\",\"ff1\",\"fi04\",71],[\"BU18FA32\",\"C\",\"ff1\",\"fi05\",72]],\"hovertemplate\":\"Host=brazilianite<br>type=type3<br>Na=%{a}<br>K=%{b}<br>Li=%{c}<br>sample=%{customdata[0]}<br>piece=%{customdata[1]}<br>field=%{customdata[2]}<br>analysis=%{customdata[3]}<br>index=%{customdata[4]}<extra></extra>\",\"legendgroup\":\"brazilianite, type3\",\"marker\":{\"color\":\"rgb(250,120,10)\",\"symbol\":\"square\",\"line\":{\"color\":\"DarkSlateGrey\",\"width\":0.7},\"size\":10},\"mode\":\"markers\",\"name\":\"brazilianite, type3\",\"showlegend\":true,\"subplot\":\"ternary\",\"type\":\"scatterternary\",\"opacity\":0.85},{\"a\":[null,null,null,null,null,45334.51752861258,41756.75084989727,null,null,45346.51500826994,50600.93538149018,43387.71509927157,40132.17057497637,null,null,44099.35461307099,35306.513503012095,36149.07968215837],\"b\":[null,null,null,null,null,18399.457793639787,24813.774283304327,null,null,27039.13159880587,11079.174910474829,19343.11922119344,27079.74284209169,null,null,21150.19494509996,37610.933170036194,34711.336597268535],\"c\":[null,null,null,null,null,461.0191918868832,null,null,null,441.3428191957608,null,504.3641981440253,524.5380869351035,null,null,null,null,null],\"customdata\":[[\"BU18FA19(2)\",\"A\",\"ff1\",\"fi02\",205],[\"BU18FA19(2)\",\"A\",\"ff1\",\"fi03\",206],[\"BU18FA19(2)\",\"A\",\"ff1\",\"fi04\",207],[\"BU18FA19(2)\",\"A\",\"ff1\",\"fi05\",208],[\"BU18FA19(2)\",\"A\",\"ff1\",\"fi06\",209],[\"BU18FA19(2)\",\"A\",\"ff1\",\"fi07\",210],[\"BU18FA19(2)\",\"A\",\"ff1\",\"fi08\",211],[\"BU18FA19(2)\",\"A\",\"ff2\",\"fi01\",213],[\"BU18FA19(2)\",\"A\",\"ff2\",\"fi02\",214],[\"BU18FA19(2)\",\"A\",\"ff2\",\"fi03\",215],[\"BU18FA19(2)\",\"A\",\"ff2\",\"fi04\",216],[\"BU18FA19(2)\",\"A\",\"ff2\",\"fi05\",217],[\"BU18FA19(2)\",\"A\",\"ff2b\",\"fi01\",218],[\"BU18FA19(2)\",\"A\",\"ff2b\",\"fi02\",219],[\"BU18FA19(2)\",\"A\",\"ff2b\",\"fi04\",221],[\"BU18FA19(2)\",\"A\",\"ff2\",\"fi06\",264],[\"BU18FA19(2)\",\"A\",\"ff2\",\"fi07\",265],[\"BU18FA19(2)\",\"A\",\"ff1\",\"fi010\",269]],\"hovertemplate\":\"Host=augelite<br>type=type2A<br>Na=%{a}<br>K=%{b}<br>Li=%{c}<br>sample=%{customdata[0]}<br>piece=%{customdata[1]}<br>field=%{customdata[2]}<br>analysis=%{customdata[3]}<br>index=%{customdata[4]}<extra></extra>\",\"legendgroup\":\"augelite, type2A\",\"marker\":{\"color\":\"rgb(51,255,51)\",\"symbol\":\"circle\",\"line\":{\"color\":\"DarkSlateGrey\",\"width\":0.7},\"size\":10},\"mode\":\"markers\",\"name\":\"augelite, type2A\",\"showlegend\":true,\"subplot\":\"ternary\",\"type\":\"scatterternary\",\"opacity\":0.85},{\"a\":[31200.121469313577],\"b\":[37352.219900431184],\"c\":[395.90587897448455],\"customdata\":[[\"BU18FA19(2)\",\"A\",\"ff1\",\"fi01\",204]],\"hovertemplate\":\"Host=augelite<br>type=type1<br>Na=%{a}<br>K=%{b}<br>Li=%{c}<br>sample=%{customdata[0]}<br>piece=%{customdata[1]}<br>field=%{customdata[2]}<br>analysis=%{customdata[3]}<br>index=%{customdata[4]}<extra></extra>\",\"legendgroup\":\"augelite, type1\",\"marker\":{\"color\":\"rgb(51,255,51)\",\"symbol\":\"diamond\",\"line\":{\"color\":\"DarkSlateGrey\",\"width\":0.7},\"size\":10},\"mode\":\"markers\",\"name\":\"augelite, type1\",\"showlegend\":true,\"subplot\":\"ternary\",\"type\":\"scatterternary\",\"opacity\":0.85},{\"a\":[43475.86574923563,null,null],\"b\":[19703.08030015897,null,null],\"c\":[null,null,null],\"customdata\":[[\"BU18FA19(2)\",\"A\",\"ff1b\",\"fi01\",203],[\"BU18FA19(2)\",\"A\",\"ff2b\",\"fi03\",220],[\"BU18FA19(2)\",\"A\",\"ff2b\",\"fi05\",222]],\"hovertemplate\":\"Host=augelite<br>type=type3<br>Na=%{a}<br>K=%{b}<br>Li=%{c}<br>sample=%{customdata[0]}<br>piece=%{customdata[1]}<br>field=%{customdata[2]}<br>analysis=%{customdata[3]}<br>index=%{customdata[4]}<extra></extra>\",\"legendgroup\":\"augelite, type3\",\"marker\":{\"color\":\"rgb(51,255,51)\",\"symbol\":\"square\",\"line\":{\"color\":\"DarkSlateGrey\",\"width\":0.7},\"size\":10},\"mode\":\"markers\",\"name\":\"augelite, type3\",\"showlegend\":true,\"subplot\":\"ternary\",\"type\":\"scatterternary\",\"opacity\":0.85},{\"a\":[39412.13771223256],\"b\":[17377.345506521116],\"c\":[null],\"customdata\":[[\"BU18FA19(2)\",\"A\",\"ff1\",\"fi09\",212]],\"hovertemplate\":\"Host=augelite<br>type=type2B<br>Na=%{a}<br>K=%{b}<br>Li=%{c}<br>sample=%{customdata[0]}<br>piece=%{customdata[1]}<br>field=%{customdata[2]}<br>analysis=%{customdata[3]}<br>index=%{customdata[4]}<extra></extra>\",\"legendgroup\":\"augelite, type2B\",\"marker\":{\"color\":\"rgb(51,255,51)\",\"symbol\":\"x\",\"line\":{\"color\":\"DarkSlateGrey\",\"width\":0.7},\"size\":10},\"mode\":\"markers\",\"name\":\"augelite, type2B\",\"showlegend\":true,\"subplot\":\"ternary\",\"type\":\"scatterternary\",\"opacity\":0.85},{\"a\":[26058.34020831483,48894.041223031294,null,36217.07928139091,52855.86157057731,48198.52871048443,47916.06056072283,46601.23331615013],\"b\":[16511.252190163024,3115.5842676531947,null,11358.443784244198,12.320057934818925,3298.3968691781765,4817.103672711319,4810.447345652107],\"c\":[5266.452235291134,1060.731362140738,null,3385.413107682413,74.0218495788715,1229.5783768464894,1047.3818132117528,1439.359635341866],\"customdata\":[[\"BU18FA32\",\"AII\",\"incC\",\"fi01\",223],[\"BU18FA32\",\"AII\",\"incC\",\"fi02\",224],[\"BU18FA32\",\"AII\",\"incC\",\"fi03\",225],[\"BU18FA32\",\"AII\",\"incC\",\"fi04\",226],[\"BU18FA32\",\"AII\",\"incC\",\"fi05\",227],[\"BU18FA32\",\"AII\",\"incC\",\"fi06\",266],[\"BU18FA32\",\"AII\",\"incC\",\"fi07\",267],[\"BU18FA32\",\"AII\",\"incC\",\"fi08\",268]],\"hovertemplate\":\"Host=wyllieite<br>type=type1<br>Na=%{a}<br>K=%{b}<br>Li=%{c}<br>sample=%{customdata[0]}<br>piece=%{customdata[1]}<br>field=%{customdata[2]}<br>analysis=%{customdata[3]}<br>index=%{customdata[4]}<extra></extra>\",\"legendgroup\":\"wyllieite, type1\",\"marker\":{\"color\":\"rgb(0,170,250)\",\"symbol\":\"diamond\",\"line\":{\"color\":\"DarkSlateGrey\",\"width\":0.7},\"size\":10},\"mode\":\"markers\",\"name\":\"wyllieite, type1\",\"showlegend\":true,\"subplot\":\"ternary\",\"type\":\"scatterternary\",\"opacity\":0.85}],                        {\"template\":{\"data\":{\"barpolar\":[{\"marker\":{\"line\":{\"color\":\"white\",\"width\":0.5},\"pattern\":{\"fillmode\":\"overlay\",\"size\":10,\"solidity\":0.2}},\"type\":\"barpolar\"}],\"bar\":[{\"error_x\":{\"color\":\"#2a3f5f\"},\"error_y\":{\"color\":\"#2a3f5f\"},\"marker\":{\"line\":{\"color\":\"white\",\"width\":0.5},\"pattern\":{\"fillmode\":\"overlay\",\"size\":10,\"solidity\":0.2}},\"type\":\"bar\"}],\"carpet\":[{\"aaxis\":{\"endlinecolor\":\"#2a3f5f\",\"gridcolor\":\"#C8D4E3\",\"linecolor\":\"#C8D4E3\",\"minorgridcolor\":\"#C8D4E3\",\"startlinecolor\":\"#2a3f5f\"},\"baxis\":{\"endlinecolor\":\"#2a3f5f\",\"gridcolor\":\"#C8D4E3\",\"linecolor\":\"#C8D4E3\",\"minorgridcolor\":\"#C8D4E3\",\"startlinecolor\":\"#2a3f5f\"},\"type\":\"carpet\"}],\"choropleth\":[{\"colorbar\":{\"outlinewidth\":0,\"ticks\":\"\"},\"type\":\"choropleth\"}],\"contourcarpet\":[{\"colorbar\":{\"outlinewidth\":0,\"ticks\":\"\"},\"type\":\"contourcarpet\"}],\"contour\":[{\"colorbar\":{\"outlinewidth\":0,\"ticks\":\"\"},\"colorscale\":[[0.0,\"#0d0887\"],[0.1111111111111111,\"#46039f\"],[0.2222222222222222,\"#7201a8\"],[0.3333333333333333,\"#9c179e\"],[0.4444444444444444,\"#bd3786\"],[0.5555555555555556,\"#d8576b\"],[0.6666666666666666,\"#ed7953\"],[0.7777777777777778,\"#fb9f3a\"],[0.8888888888888888,\"#fdca26\"],[1.0,\"#f0f921\"]],\"type\":\"contour\"}],\"heatmapgl\":[{\"colorbar\":{\"outlinewidth\":0,\"ticks\":\"\"},\"colorscale\":[[0.0,\"#0d0887\"],[0.1111111111111111,\"#46039f\"],[0.2222222222222222,\"#7201a8\"],[0.3333333333333333,\"#9c179e\"],[0.4444444444444444,\"#bd3786\"],[0.5555555555555556,\"#d8576b\"],[0.6666666666666666,\"#ed7953\"],[0.7777777777777778,\"#fb9f3a\"],[0.8888888888888888,\"#fdca26\"],[1.0,\"#f0f921\"]],\"type\":\"heatmapgl\"}],\"heatmap\":[{\"colorbar\":{\"outlinewidth\":0,\"ticks\":\"\"},\"colorscale\":[[0.0,\"#0d0887\"],[0.1111111111111111,\"#46039f\"],[0.2222222222222222,\"#7201a8\"],[0.3333333333333333,\"#9c179e\"],[0.4444444444444444,\"#bd3786\"],[0.5555555555555556,\"#d8576b\"],[0.6666666666666666,\"#ed7953\"],[0.7777777777777778,\"#fb9f3a\"],[0.8888888888888888,\"#fdca26\"],[1.0,\"#f0f921\"]],\"type\":\"heatmap\"}],\"histogram2dcontour\":[{\"colorbar\":{\"outlinewidth\":0,\"ticks\":\"\"},\"colorscale\":[[0.0,\"#0d0887\"],[0.1111111111111111,\"#46039f\"],[0.2222222222222222,\"#7201a8\"],[0.3333333333333333,\"#9c179e\"],[0.4444444444444444,\"#bd3786\"],[0.5555555555555556,\"#d8576b\"],[0.6666666666666666,\"#ed7953\"],[0.7777777777777778,\"#fb9f3a\"],[0.8888888888888888,\"#fdca26\"],[1.0,\"#f0f921\"]],\"type\":\"histogram2dcontour\"}],\"histogram2d\":[{\"colorbar\":{\"outlinewidth\":0,\"ticks\":\"\"},\"colorscale\":[[0.0,\"#0d0887\"],[0.1111111111111111,\"#46039f\"],[0.2222222222222222,\"#7201a8\"],[0.3333333333333333,\"#9c179e\"],[0.4444444444444444,\"#bd3786\"],[0.5555555555555556,\"#d8576b\"],[0.6666666666666666,\"#ed7953\"],[0.7777777777777778,\"#fb9f3a\"],[0.8888888888888888,\"#fdca26\"],[1.0,\"#f0f921\"]],\"type\":\"histogram2d\"}],\"histogram\":[{\"marker\":{\"pattern\":{\"fillmode\":\"overlay\",\"size\":10,\"solidity\":0.2}},\"type\":\"histogram\"}],\"mesh3d\":[{\"colorbar\":{\"outlinewidth\":0,\"ticks\":\"\"},\"type\":\"mesh3d\"}],\"parcoords\":[{\"line\":{\"colorbar\":{\"outlinewidth\":0,\"ticks\":\"\"}},\"type\":\"parcoords\"}],\"pie\":[{\"automargin\":true,\"type\":\"pie\"}],\"scatter3d\":[{\"line\":{\"colorbar\":{\"outlinewidth\":0,\"ticks\":\"\"}},\"marker\":{\"colorbar\":{\"outlinewidth\":0,\"ticks\":\"\"}},\"type\":\"scatter3d\"}],\"scattercarpet\":[{\"marker\":{\"colorbar\":{\"outlinewidth\":0,\"ticks\":\"\"}},\"type\":\"scattercarpet\"}],\"scattergeo\":[{\"marker\":{\"colorbar\":{\"outlinewidth\":0,\"ticks\":\"\"}},\"type\":\"scattergeo\"}],\"scattergl\":[{\"marker\":{\"colorbar\":{\"outlinewidth\":0,\"ticks\":\"\"}},\"type\":\"scattergl\"}],\"scattermapbox\":[{\"marker\":{\"colorbar\":{\"outlinewidth\":0,\"ticks\":\"\"}},\"type\":\"scattermapbox\"}],\"scatterpolargl\":[{\"marker\":{\"colorbar\":{\"outlinewidth\":0,\"ticks\":\"\"}},\"type\":\"scatterpolargl\"}],\"scatterpolar\":[{\"marker\":{\"colorbar\":{\"outlinewidth\":0,\"ticks\":\"\"}},\"type\":\"scatterpolar\"}],\"scatter\":[{\"marker\":{\"colorbar\":{\"outlinewidth\":0,\"ticks\":\"\"}},\"type\":\"scatter\"}],\"scatterternary\":[{\"marker\":{\"colorbar\":{\"outlinewidth\":0,\"ticks\":\"\"}},\"type\":\"scatterternary\"}],\"surface\":[{\"colorbar\":{\"outlinewidth\":0,\"ticks\":\"\"},\"colorscale\":[[0.0,\"#0d0887\"],[0.1111111111111111,\"#46039f\"],[0.2222222222222222,\"#7201a8\"],[0.3333333333333333,\"#9c179e\"],[0.4444444444444444,\"#bd3786\"],[0.5555555555555556,\"#d8576b\"],[0.6666666666666666,\"#ed7953\"],[0.7777777777777778,\"#fb9f3a\"],[0.8888888888888888,\"#fdca26\"],[1.0,\"#f0f921\"]],\"type\":\"surface\"}],\"table\":[{\"cells\":{\"fill\":{\"color\":\"#EBF0F8\"},\"line\":{\"color\":\"white\"}},\"header\":{\"fill\":{\"color\":\"#C8D4E3\"},\"line\":{\"color\":\"white\"}},\"type\":\"table\"}]},\"layout\":{\"annotationdefaults\":{\"arrowcolor\":\"#2a3f5f\",\"arrowhead\":0,\"arrowwidth\":1},\"autotypenumbers\":\"strict\",\"coloraxis\":{\"colorbar\":{\"outlinewidth\":0,\"ticks\":\"\"}},\"colorscale\":{\"diverging\":[[0,\"#8e0152\"],[0.1,\"#c51b7d\"],[0.2,\"#de77ae\"],[0.3,\"#f1b6da\"],[0.4,\"#fde0ef\"],[0.5,\"#f7f7f7\"],[0.6,\"#e6f5d0\"],[0.7,\"#b8e186\"],[0.8,\"#7fbc41\"],[0.9,\"#4d9221\"],[1,\"#276419\"]],\"sequential\":[[0.0,\"#0d0887\"],[0.1111111111111111,\"#46039f\"],[0.2222222222222222,\"#7201a8\"],[0.3333333333333333,\"#9c179e\"],[0.4444444444444444,\"#bd3786\"],[0.5555555555555556,\"#d8576b\"],[0.6666666666666666,\"#ed7953\"],[0.7777777777777778,\"#fb9f3a\"],[0.8888888888888888,\"#fdca26\"],[1.0,\"#f0f921\"]],\"sequentialminus\":[[0.0,\"#0d0887\"],[0.1111111111111111,\"#46039f\"],[0.2222222222222222,\"#7201a8\"],[0.3333333333333333,\"#9c179e\"],[0.4444444444444444,\"#bd3786\"],[0.5555555555555556,\"#d8576b\"],[0.6666666666666666,\"#ed7953\"],[0.7777777777777778,\"#fb9f3a\"],[0.8888888888888888,\"#fdca26\"],[1.0,\"#f0f921\"]]},\"colorway\":[\"#636efa\",\"#EF553B\",\"#00cc96\",\"#ab63fa\",\"#FFA15A\",\"#19d3f3\",\"#FF6692\",\"#B6E880\",\"#FF97FF\",\"#FECB52\"],\"font\":{\"color\":\"#2a3f5f\"},\"geo\":{\"bgcolor\":\"white\",\"lakecolor\":\"white\",\"landcolor\":\"white\",\"showlakes\":true,\"showland\":true,\"subunitcolor\":\"#C8D4E3\"},\"hoverlabel\":{\"align\":\"left\"},\"hovermode\":\"closest\",\"mapbox\":{\"style\":\"light\"},\"paper_bgcolor\":\"white\",\"plot_bgcolor\":\"white\",\"polar\":{\"angularaxis\":{\"gridcolor\":\"#EBF0F8\",\"linecolor\":\"#EBF0F8\",\"ticks\":\"\"},\"bgcolor\":\"white\",\"radialaxis\":{\"gridcolor\":\"#EBF0F8\",\"linecolor\":\"#EBF0F8\",\"ticks\":\"\"}},\"scene\":{\"xaxis\":{\"backgroundcolor\":\"white\",\"gridcolor\":\"#DFE8F3\",\"gridwidth\":2,\"linecolor\":\"#EBF0F8\",\"showbackground\":true,\"ticks\":\"\",\"zerolinecolor\":\"#EBF0F8\"},\"yaxis\":{\"backgroundcolor\":\"white\",\"gridcolor\":\"#DFE8F3\",\"gridwidth\":2,\"linecolor\":\"#EBF0F8\",\"showbackground\":true,\"ticks\":\"\",\"zerolinecolor\":\"#EBF0F8\"},\"zaxis\":{\"backgroundcolor\":\"white\",\"gridcolor\":\"#DFE8F3\",\"gridwidth\":2,\"linecolor\":\"#EBF0F8\",\"showbackground\":true,\"ticks\":\"\",\"zerolinecolor\":\"#EBF0F8\"}},\"shapedefaults\":{\"line\":{\"color\":\"#2a3f5f\"}},\"ternary\":{\"aaxis\":{\"gridcolor\":\"#DFE8F3\",\"linecolor\":\"#A2B1C6\",\"ticks\":\"\"},\"baxis\":{\"gridcolor\":\"#DFE8F3\",\"linecolor\":\"#A2B1C6\",\"ticks\":\"\"},\"bgcolor\":\"white\",\"caxis\":{\"gridcolor\":\"#DFE8F3\",\"linecolor\":\"#A2B1C6\",\"ticks\":\"\"}},\"title\":{\"x\":0.05},\"xaxis\":{\"automargin\":true,\"gridcolor\":\"#EBF0F8\",\"linecolor\":\"#EBF0F8\",\"ticks\":\"\",\"title\":{\"standoff\":15},\"zerolinecolor\":\"#EBF0F8\",\"zerolinewidth\":2},\"yaxis\":{\"automargin\":true,\"gridcolor\":\"#EBF0F8\",\"linecolor\":\"#EBF0F8\",\"ticks\":\"\",\"title\":{\"standoff\":15},\"zerolinecolor\":\"#EBF0F8\",\"zerolinewidth\":2}}},\"ternary\":{\"domain\":{\"x\":[0.0,1.0],\"y\":[0.0,1.0]},\"aaxis\":{\"title\":{\"text\":\"Na\"},\"min\":0.2},\"baxis\":{\"title\":{\"text\":\"K\"}},\"caxis\":{\"title\":{\"text\":\"Li\"}}},\"legend\":{\"title\":{\"text\":\"Host, type\"},\"tracegroupgap\":0},\"margin\":{\"t\":60}},                        {\"responsive\": true}                    ).then(function(){\n",
       "                            \n",
       "var gd = document.getElementById('8bd859e9-f9e2-44c9-b9fb-4a38ef5d43a8');\n",
       "var x = new MutationObserver(function (mutations, observer) {{\n",
       "        var display = window.getComputedStyle(gd).display;\n",
       "        if (!display || display === 'none') {{\n",
       "            console.log([gd, 'removed!']);\n",
       "            Plotly.purge(gd);\n",
       "            observer.disconnect();\n",
       "        }}\n",
       "}});\n",
       "\n",
       "// Listen for the removal of the full notebook cells\n",
       "var notebookContainer = gd.closest('#notebook-container');\n",
       "if (notebookContainer) {{\n",
       "    x.observe(notebookContainer, {childList: true});\n",
       "}}\n",
       "\n",
       "// Listen for the clearing of the current output cell\n",
       "var outputEl = gd.closest('.output');\n",
       "if (outputEl) {{\n",
       "    x.observe(outputEl, {childList: true});\n",
       "}}\n",
       "\n",
       "                        })                };                });            </script>        </div>"
      ]
     },
     "metadata": {},
     "output_type": "display_data"
    }
   ],
   "source": [
    "A = 'Na'\n",
    "B = 'K'\n",
    "C = 'Li'\n",
    "\n",
    "#define subset within dataset\n",
    "df_subset = df_FI.loc[:, [A, B, C]]\n",
    "\n",
    "#combine calculated data with metadata\n",
    "df_subset[['sample', 'piece', 'field', 'analysis', 'Host', 'Phases','type']] = df_FI[['sample', 'piece', 'field', 'analysis', 'Host', 'Phases','type']]\n",
    "\n",
    "\n",
    "#ternary plot of normalized subset\n",
    "fig2 = px.scatter_ternary(df_subset, a=A, b=B, c=C,\n",
    "                          hover_data=['sample',\"piece\",'field','analysis',df_subset.index],\n",
    "                          symbol = \"type\", color=\"Host\",\n",
    "                          template='plotly_white',\n",
    "                          color_discrete_map=colors_map,\n",
    "#                           labels={A: 'CO<sub>2</sub>',\n",
    "#                                   B: 'N<sub>2</sub>', \n",
    "#                                   C: 'CH<sub>4</sub>'}\n",
    "                         )\n",
    "\n",
    "fig2.update_traces(marker=dict(size=10, \n",
    "                              line=dict(width=0.7,\n",
    "                                        color='DarkSlateGrey')),\n",
    "                  selector=dict(mode='markers'),\n",
    "                  opacity=0.85)\n",
    "\n",
    "fig2.update_ternaries(aaxis_min=0.2)\n",
    "\n",
    "# fig2.update_layout(title_x=0.2, \n",
    "#                   title_text=\"Vapor composition FI - \" #+ df_subset.iloc[0][7], \n",
    "#                  )\n",
    "\n",
    "# fig2.write_image(data_dir+\"figures/plot_ternary_NaKLi_mol.pdf\")# + df_subset.iloc[0][7] + \".pdf\")\n",
    "\n",
    "# print(df_subset.loc[79])\n",
    "\n",
    "fig2.show()"
   ]
  },
  {
   "cell_type": "markdown",
   "id": "ef69b6f3",
   "metadata": {},
   "source": [
    "# Histogram"
   ]
  },
  {
   "cell_type": "code",
   "execution_count": 22,
   "id": "66a8ae0e",
   "metadata": {},
   "outputs": [
    {
     "data": {
      "application/vnd.plotly.v1+json": {
       "config": {
        "plotlyServerURL": "https://plot.ly"
       },
       "data": [
        {
         "alignmentgroup": "True",
         "bingroup": "x",
         "hovertemplate": "Host=quartz<br>type=type2A<br>XCO2(mol%) (<sup>o</sup>C)=%{x}<br>count=%{y}<extra></extra>",
         "legendgroup": "quartz, type2A",
         "marker": {
          "color": "rgb(240,228,66)",
          "line": {
           "color": "DarkSlateGrey",
           "width": 0.8
          },
          "pattern": {
           "shape": ""
          }
         },
         "name": "quartz, type2A",
         "offsetgroup": "quartz, type2A",
         "orientation": "v",
         "showlegend": true,
         "type": "histogram",
         "x": [
          0.959,
          0.937,
          0.908,
          0.86,
          0.826,
          0.956,
          0.859,
          0.933,
          0.859,
          0.852,
          0.855,
          0.852,
          0.857,
          0.853,
          0.863,
          0.858,
          0.866,
          null,
          null,
          null,
          null,
          null,
          null,
          0.999,
          0.996,
          0.982,
          0.994,
          1,
          0.968,
          0.962,
          0.949,
          0.946,
          0.956,
          null,
          0.967,
          0.939,
          0.933,
          0.927,
          0.929,
          0.94,
          0.94,
          0.935,
          0.939,
          0.936
         ],
         "xaxis": "x",
         "xbins": {
          "size": 0.01
         },
         "yaxis": "y"
        },
        {
         "alignmentgroup": "True",
         "bingroup": "x",
         "hovertemplate": "Host=quartz<br>type=type2B<br>XCO2(mol%) (<sup>o</sup>C)=%{x}<br>count=%{y}<extra></extra>",
         "legendgroup": "quartz, type2B",
         "marker": {
          "color": "rgb(240,228,66)",
          "line": {
           "color": "DarkSlateGrey",
           "width": 0.8
          },
          "pattern": {
           "shape": "x"
          }
         },
         "name": "quartz, type2B",
         "offsetgroup": "quartz, type2B",
         "orientation": "v",
         "showlegend": true,
         "type": "histogram",
         "x": [
          null
         ],
         "xaxis": "x",
         "xbins": {
          "size": 0.01
         },
         "yaxis": "y"
        },
        {
         "alignmentgroup": "True",
         "bingroup": "x",
         "hovertemplate": "Host=trolleite<br>type=type2A<br>XCO2(mol%) (<sup>o</sup>C)=%{x}<br>count=%{y}<extra></extra>",
         "legendgroup": "trolleite, type2A",
         "marker": {
          "color": "rgb(0,158,115)",
          "line": {
           "color": "DarkSlateGrey",
           "width": 0.8
          },
          "pattern": {
           "shape": ""
          }
         },
         "name": "trolleite, type2A",
         "offsetgroup": "trolleite, type2A",
         "orientation": "v",
         "showlegend": true,
         "type": "histogram",
         "x": [
          0.881,
          0.94,
          0.871,
          null,
          0.773,
          null,
          null,
          null,
          null,
          0.864,
          0.938,
          0.954,
          0.954,
          0.949,
          0.9,
          0.94,
          0.966,
          0.932,
          0.91,
          0.923,
          1,
          0.719,
          0.932,
          0.85,
          0.838,
          0.853,
          0.895,
          0.931,
          0.908,
          0.917,
          0.888,
          0.864,
          null,
          null,
          null,
          null,
          null
         ],
         "xaxis": "x",
         "xbins": {
          "size": 0.01
         },
         "yaxis": "y"
        },
        {
         "alignmentgroup": "True",
         "bingroup": "x",
         "hovertemplate": "Host=trolleite<br>type=type1<br>XCO2(mol%) (<sup>o</sup>C)=%{x}<br>count=%{y}<extra></extra>",
         "legendgroup": "trolleite, type1",
         "marker": {
          "color": "rgb(0,158,115)",
          "line": {
           "color": "DarkSlateGrey",
           "width": 0.8
          },
          "pattern": {
           "shape": "/"
          }
         },
         "name": "trolleite, type1",
         "offsetgroup": "trolleite, type1",
         "orientation": "v",
         "showlegend": true,
         "type": "histogram",
         "x": [
          null,
          0.944,
          0.932,
          0.985,
          null,
          0.957,
          null,
          0.944,
          0.92,
          0.914,
          0.909,
          0.926,
          0.925,
          0.94,
          0.937,
          0.931,
          0.906,
          1,
          1,
          0.9,
          0.91,
          0.878,
          0.871,
          0.781,
          0.851,
          null,
          0.862,
          0.895,
          0.885,
          0.859,
          0.851,
          0.755,
          0.834,
          null,
          null
         ],
         "xaxis": "x",
         "xbins": {
          "size": 0.01
         },
         "yaxis": "y"
        },
        {
         "alignmentgroup": "True",
         "bingroup": "x",
         "hovertemplate": "Host=trolleite<br>type=type2B<br>XCO2(mol%) (<sup>o</sup>C)=%{x}<br>count=%{y}<extra></extra>",
         "legendgroup": "trolleite, type2B",
         "marker": {
          "color": "rgb(0,158,115)",
          "line": {
           "color": "DarkSlateGrey",
           "width": 0.8
          },
          "pattern": {
           "shape": "x"
          }
         },
         "name": "trolleite, type2B",
         "offsetgroup": "trolleite, type2B",
         "orientation": "v",
         "showlegend": true,
         "type": "histogram",
         "x": [
          0.953,
          0.951,
          0.991
         ],
         "xaxis": "x",
         "xbins": {
          "size": 0.01
         },
         "yaxis": "y"
        },
        {
         "alignmentgroup": "True",
         "bingroup": "x",
         "hovertemplate": "Host=scorzalite<br>type=type2A<br>XCO2(mol%) (<sup>o</sup>C)=%{x}<br>count=%{y}<extra></extra>",
         "legendgroup": "scorzalite, type2A",
         "marker": {
          "color": "rgb(0,0,255)",
          "line": {
           "color": "DarkSlateGrey",
           "width": 0.8
          },
          "pattern": {
           "shape": ""
          }
         },
         "name": "scorzalite, type2A",
         "offsetgroup": "scorzalite, type2A",
         "orientation": "v",
         "showlegend": true,
         "type": "histogram",
         "x": [
          0.961,
          null,
          null,
          null,
          0.901,
          1,
          null,
          null,
          0.967,
          0.977,
          0.928,
          0.937
         ],
         "xaxis": "x",
         "xbins": {
          "size": 0.01
         },
         "yaxis": "y"
        },
        {
         "alignmentgroup": "True",
         "bingroup": "x",
         "hovertemplate": "Host=bertossaite<br>type=type2A<br>XCO2(mol%) (<sup>o</sup>C)=%{x}<br>count=%{y}<extra></extra>",
         "legendgroup": "bertossaite, type2A",
         "marker": {
          "color": "rgb(204,121,167)",
          "line": {
           "color": "DarkSlateGrey",
           "width": 0.8
          },
          "pattern": {
           "shape": ""
          }
         },
         "name": "bertossaite, type2A",
         "offsetgroup": "bertossaite, type2A",
         "orientation": "v",
         "showlegend": true,
         "type": "histogram",
         "x": [
          0.934,
          null,
          0.974,
          0.981,
          null,
          null,
          null,
          0.915,
          0.984,
          0.989,
          1,
          0.994,
          0.966,
          0.988,
          0.816,
          0.867,
          0.898,
          0.847,
          0.94,
          0.776,
          0.943,
          0.948,
          0.97,
          1,
          0.97,
          0.963,
          0.976,
          1,
          0.994,
          0.941,
          0.914,
          0.884,
          null,
          null,
          null,
          null,
          null,
          null,
          null,
          null,
          null,
          null,
          0.963,
          null
         ],
         "xaxis": "x",
         "xbins": {
          "size": 0.01
         },
         "yaxis": "y"
        },
        {
         "alignmentgroup": "True",
         "bingroup": "x",
         "hovertemplate": "Host=bertossaite<br>type=type1<br>XCO2(mol%) (<sup>o</sup>C)=%{x}<br>count=%{y}<extra></extra>",
         "legendgroup": "bertossaite, type1",
         "marker": {
          "color": "rgb(204,121,167)",
          "line": {
           "color": "DarkSlateGrey",
           "width": 0.8
          },
          "pattern": {
           "shape": "/"
          }
         },
         "name": "bertossaite, type1",
         "offsetgroup": "bertossaite, type1",
         "orientation": "v",
         "showlegend": true,
         "type": "histogram",
         "x": [
          0.998,
          null,
          null
         ],
         "xaxis": "x",
         "xbins": {
          "size": 0.01
         },
         "yaxis": "y"
        },
        {
         "alignmentgroup": "True",
         "bingroup": "x",
         "hovertemplate": "Host=bertossaite<br>type=type3<br>XCO2(mol%) (<sup>o</sup>C)=%{x}<br>count=%{y}<extra></extra>",
         "legendgroup": "bertossaite, type3",
         "marker": {
          "color": "rgb(204,121,167)",
          "line": {
           "color": "DarkSlateGrey",
           "width": 0.8
          },
          "pattern": {
           "shape": "\\"
          }
         },
         "name": "bertossaite, type3",
         "offsetgroup": "bertossaite, type3",
         "orientation": "v",
         "showlegend": true,
         "type": "histogram",
         "x": [
          0.993,
          0.995,
          1,
          1,
          0.978,
          0.999,
          0.999,
          0.982,
          1,
          1,
          1,
          1,
          null,
          0.878
         ],
         "xaxis": "x",
         "xbins": {
          "size": 0.01
         },
         "yaxis": "y"
        },
        {
         "alignmentgroup": "True",
         "bingroup": "x",
         "hovertemplate": "Host=bertossaite<br>type=type2B<br>XCO2(mol%) (<sup>o</sup>C)=%{x}<br>count=%{y}<extra></extra>",
         "legendgroup": "bertossaite, type2B",
         "marker": {
          "color": "rgb(204,121,167)",
          "line": {
           "color": "DarkSlateGrey",
           "width": 0.8
          },
          "pattern": {
           "shape": "x"
          }
         },
         "name": "bertossaite, type2B",
         "offsetgroup": "bertossaite, type2B",
         "orientation": "v",
         "showlegend": true,
         "type": "histogram",
         "x": [
          1,
          null
         ],
         "xaxis": "x",
         "xbins": {
          "size": 0.01
         },
         "yaxis": "y"
        },
        {
         "alignmentgroup": "True",
         "bingroup": "x",
         "hovertemplate": "Host=brazilianite<br>type=type2A<br>XCO2(mol%) (<sup>o</sup>C)=%{x}<br>count=%{y}<extra></extra>",
         "legendgroup": "brazilianite, type2A",
         "marker": {
          "color": "rgb(250,120,10)",
          "line": {
           "color": "DarkSlateGrey",
           "width": 0.8
          },
          "pattern": {
           "shape": ""
          }
         },
         "name": "brazilianite, type2A",
         "offsetgroup": "brazilianite, type2A",
         "orientation": "v",
         "showlegend": true,
         "type": "histogram",
         "x": [
          0.944,
          0.944,
          null,
          0.977,
          0.938,
          0.935,
          0.866,
          0.875,
          0.864,
          0.87,
          0.885,
          0.869,
          0.864,
          0.933,
          0.948,
          0.95,
          0.947,
          0.952,
          null,
          null,
          null,
          null,
          null,
          null,
          null,
          null,
          null,
          null,
          null,
          null,
          null,
          null,
          null,
          null,
          null
         ],
         "xaxis": "x",
         "xbins": {
          "size": 0.01
         },
         "yaxis": "y"
        },
        {
         "alignmentgroup": "True",
         "bingroup": "x",
         "hovertemplate": "Host=brazilianite<br>type=type1<br>XCO2(mol%) (<sup>o</sup>C)=%{x}<br>count=%{y}<extra></extra>",
         "legendgroup": "brazilianite, type1",
         "marker": {
          "color": "rgb(250,120,10)",
          "line": {
           "color": "DarkSlateGrey",
           "width": 0.8
          },
          "pattern": {
           "shape": "/"
          }
         },
         "name": "brazilianite, type1",
         "offsetgroup": "brazilianite, type1",
         "orientation": "v",
         "showlegend": true,
         "type": "histogram",
         "x": [
          0.955,
          0.883,
          0.945,
          0.959,
          0.963,
          0.948,
          null
         ],
         "xaxis": "x",
         "xbins": {
          "size": 0.01
         },
         "yaxis": "y"
        },
        {
         "alignmentgroup": "True",
         "bingroup": "x",
         "hovertemplate": "Host=brazilianite<br>type=type3<br>XCO2(mol%) (<sup>o</sup>C)=%{x}<br>count=%{y}<extra></extra>",
         "legendgroup": "brazilianite, type3",
         "marker": {
          "color": "rgb(250,120,10)",
          "line": {
           "color": "DarkSlateGrey",
           "width": 0.8
          },
          "pattern": {
           "shape": "\\"
          }
         },
         "name": "brazilianite, type3",
         "offsetgroup": "brazilianite, type3",
         "orientation": "v",
         "showlegend": true,
         "type": "histogram",
         "x": [
          0.982,
          0.99,
          0.992,
          0.967,
          0.957,
          0.961
         ],
         "xaxis": "x",
         "xbins": {
          "size": 0.01
         },
         "yaxis": "y"
        },
        {
         "alignmentgroup": "True",
         "bingroup": "x",
         "hovertemplate": "Host=augelite<br>type=type2A<br>XCO2(mol%) (<sup>o</sup>C)=%{x}<br>count=%{y}<extra></extra>",
         "legendgroup": "augelite, type2A",
         "marker": {
          "color": "rgb(51,255,51)",
          "line": {
           "color": "DarkSlateGrey",
           "width": 0.8
          },
          "pattern": {
           "shape": ""
          }
         },
         "name": "augelite, type2A",
         "offsetgroup": "augelite, type2A",
         "orientation": "v",
         "showlegend": true,
         "type": "histogram",
         "x": [
          0.956,
          0.975,
          0.975,
          0.972,
          0.949,
          0.958,
          0.964,
          0.961,
          0.963,
          0.97,
          null,
          0.958,
          0.954,
          0.947,
          0.944,
          null,
          null,
          null
         ],
         "xaxis": "x",
         "xbins": {
          "size": 0.01
         },
         "yaxis": "y"
        },
        {
         "alignmentgroup": "True",
         "bingroup": "x",
         "hovertemplate": "Host=augelite<br>type=type1<br>XCO2(mol%) (<sup>o</sup>C)=%{x}<br>count=%{y}<extra></extra>",
         "legendgroup": "augelite, type1",
         "marker": {
          "color": "rgb(51,255,51)",
          "line": {
           "color": "DarkSlateGrey",
           "width": 0.8
          },
          "pattern": {
           "shape": "/"
          }
         },
         "name": "augelite, type1",
         "offsetgroup": "augelite, type1",
         "orientation": "v",
         "showlegend": true,
         "type": "histogram",
         "x": [
          0.96
         ],
         "xaxis": "x",
         "xbins": {
          "size": 0.01
         },
         "yaxis": "y"
        },
        {
         "alignmentgroup": "True",
         "bingroup": "x",
         "hovertemplate": "Host=augelite<br>type=type3<br>XCO2(mol%) (<sup>o</sup>C)=%{x}<br>count=%{y}<extra></extra>",
         "legendgroup": "augelite, type3",
         "marker": {
          "color": "rgb(51,255,51)",
          "line": {
           "color": "DarkSlateGrey",
           "width": 0.8
          },
          "pattern": {
           "shape": "\\"
          }
         },
         "name": "augelite, type3",
         "offsetgroup": "augelite, type3",
         "orientation": "v",
         "showlegend": true,
         "type": "histogram",
         "x": [
          0.975,
          0.962,
          0.971
         ],
         "xaxis": "x",
         "xbins": {
          "size": 0.01
         },
         "yaxis": "y"
        },
        {
         "alignmentgroup": "True",
         "bingroup": "x",
         "hovertemplate": "Host=augelite<br>type=type2B<br>XCO2(mol%) (<sup>o</sup>C)=%{x}<br>count=%{y}<extra></extra>",
         "legendgroup": "augelite, type2B",
         "marker": {
          "color": "rgb(51,255,51)",
          "line": {
           "color": "DarkSlateGrey",
           "width": 0.8
          },
          "pattern": {
           "shape": "x"
          }
         },
         "name": "augelite, type2B",
         "offsetgroup": "augelite, type2B",
         "orientation": "v",
         "showlegend": true,
         "type": "histogram",
         "x": [
          0.954
         ],
         "xaxis": "x",
         "xbins": {
          "size": 0.01
         },
         "yaxis": "y"
        },
        {
         "alignmentgroup": "True",
         "bingroup": "x",
         "hovertemplate": "Host=wyllieite<br>type=type1<br>XCO2(mol%) (<sup>o</sup>C)=%{x}<br>count=%{y}<extra></extra>",
         "legendgroup": "wyllieite, type1",
         "marker": {
          "color": "rgb(0,170,250)",
          "line": {
           "color": "DarkSlateGrey",
           "width": 0.8
          },
          "pattern": {
           "shape": "/"
          }
         },
         "name": "wyllieite, type1",
         "offsetgroup": "wyllieite, type1",
         "orientation": "v",
         "showlegend": true,
         "type": "histogram",
         "x": [
          0.949,
          0.918,
          0.917,
          0.916,
          0.917,
          null,
          null,
          null
         ],
         "xaxis": "x",
         "xbins": {
          "size": 0.01
         },
         "yaxis": "y"
        }
       ],
       "layout": {
        "barmode": "stack",
        "height": 600,
        "legend": {
         "title": {
          "text": "Host, type"
         },
         "tracegroupgap": 0
        },
        "margin": {
         "t": 60
        },
        "template": {
         "data": {
          "bar": [
           {
            "error_x": {
             "color": "rgb(36,36,36)"
            },
            "error_y": {
             "color": "rgb(36,36,36)"
            },
            "marker": {
             "line": {
              "color": "white",
              "width": 0.5
             },
             "pattern": {
              "fillmode": "overlay",
              "size": 10,
              "solidity": 0.2
             }
            },
            "type": "bar"
           }
          ],
          "barpolar": [
           {
            "marker": {
             "line": {
              "color": "white",
              "width": 0.5
             },
             "pattern": {
              "fillmode": "overlay",
              "size": 10,
              "solidity": 0.2
             }
            },
            "type": "barpolar"
           }
          ],
          "carpet": [
           {
            "aaxis": {
             "endlinecolor": "rgb(36,36,36)",
             "gridcolor": "white",
             "linecolor": "white",
             "minorgridcolor": "white",
             "startlinecolor": "rgb(36,36,36)"
            },
            "baxis": {
             "endlinecolor": "rgb(36,36,36)",
             "gridcolor": "white",
             "linecolor": "white",
             "minorgridcolor": "white",
             "startlinecolor": "rgb(36,36,36)"
            },
            "type": "carpet"
           }
          ],
          "choropleth": [
           {
            "colorbar": {
             "outlinewidth": 1,
             "tickcolor": "rgb(36,36,36)",
             "ticks": "outside"
            },
            "type": "choropleth"
           }
          ],
          "contour": [
           {
            "colorbar": {
             "outlinewidth": 1,
             "tickcolor": "rgb(36,36,36)",
             "ticks": "outside"
            },
            "colorscale": [
             [
              0,
              "#440154"
             ],
             [
              0.1111111111111111,
              "#482878"
             ],
             [
              0.2222222222222222,
              "#3e4989"
             ],
             [
              0.3333333333333333,
              "#31688e"
             ],
             [
              0.4444444444444444,
              "#26828e"
             ],
             [
              0.5555555555555556,
              "#1f9e89"
             ],
             [
              0.6666666666666666,
              "#35b779"
             ],
             [
              0.7777777777777778,
              "#6ece58"
             ],
             [
              0.8888888888888888,
              "#b5de2b"
             ],
             [
              1,
              "#fde725"
             ]
            ],
            "type": "contour"
           }
          ],
          "contourcarpet": [
           {
            "colorbar": {
             "outlinewidth": 1,
             "tickcolor": "rgb(36,36,36)",
             "ticks": "outside"
            },
            "type": "contourcarpet"
           }
          ],
          "heatmap": [
           {
            "colorbar": {
             "outlinewidth": 1,
             "tickcolor": "rgb(36,36,36)",
             "ticks": "outside"
            },
            "colorscale": [
             [
              0,
              "#440154"
             ],
             [
              0.1111111111111111,
              "#482878"
             ],
             [
              0.2222222222222222,
              "#3e4989"
             ],
             [
              0.3333333333333333,
              "#31688e"
             ],
             [
              0.4444444444444444,
              "#26828e"
             ],
             [
              0.5555555555555556,
              "#1f9e89"
             ],
             [
              0.6666666666666666,
              "#35b779"
             ],
             [
              0.7777777777777778,
              "#6ece58"
             ],
             [
              0.8888888888888888,
              "#b5de2b"
             ],
             [
              1,
              "#fde725"
             ]
            ],
            "type": "heatmap"
           }
          ],
          "heatmapgl": [
           {
            "colorbar": {
             "outlinewidth": 1,
             "tickcolor": "rgb(36,36,36)",
             "ticks": "outside"
            },
            "colorscale": [
             [
              0,
              "#440154"
             ],
             [
              0.1111111111111111,
              "#482878"
             ],
             [
              0.2222222222222222,
              "#3e4989"
             ],
             [
              0.3333333333333333,
              "#31688e"
             ],
             [
              0.4444444444444444,
              "#26828e"
             ],
             [
              0.5555555555555556,
              "#1f9e89"
             ],
             [
              0.6666666666666666,
              "#35b779"
             ],
             [
              0.7777777777777778,
              "#6ece58"
             ],
             [
              0.8888888888888888,
              "#b5de2b"
             ],
             [
              1,
              "#fde725"
             ]
            ],
            "type": "heatmapgl"
           }
          ],
          "histogram": [
           {
            "marker": {
             "line": {
              "color": "white",
              "width": 0.6
             }
            },
            "type": "histogram"
           }
          ],
          "histogram2d": [
           {
            "colorbar": {
             "outlinewidth": 1,
             "tickcolor": "rgb(36,36,36)",
             "ticks": "outside"
            },
            "colorscale": [
             [
              0,
              "#440154"
             ],
             [
              0.1111111111111111,
              "#482878"
             ],
             [
              0.2222222222222222,
              "#3e4989"
             ],
             [
              0.3333333333333333,
              "#31688e"
             ],
             [
              0.4444444444444444,
              "#26828e"
             ],
             [
              0.5555555555555556,
              "#1f9e89"
             ],
             [
              0.6666666666666666,
              "#35b779"
             ],
             [
              0.7777777777777778,
              "#6ece58"
             ],
             [
              0.8888888888888888,
              "#b5de2b"
             ],
             [
              1,
              "#fde725"
             ]
            ],
            "type": "histogram2d"
           }
          ],
          "histogram2dcontour": [
           {
            "colorbar": {
             "outlinewidth": 1,
             "tickcolor": "rgb(36,36,36)",
             "ticks": "outside"
            },
            "colorscale": [
             [
              0,
              "#440154"
             ],
             [
              0.1111111111111111,
              "#482878"
             ],
             [
              0.2222222222222222,
              "#3e4989"
             ],
             [
              0.3333333333333333,
              "#31688e"
             ],
             [
              0.4444444444444444,
              "#26828e"
             ],
             [
              0.5555555555555556,
              "#1f9e89"
             ],
             [
              0.6666666666666666,
              "#35b779"
             ],
             [
              0.7777777777777778,
              "#6ece58"
             ],
             [
              0.8888888888888888,
              "#b5de2b"
             ],
             [
              1,
              "#fde725"
             ]
            ],
            "type": "histogram2dcontour"
           }
          ],
          "mesh3d": [
           {
            "colorbar": {
             "outlinewidth": 1,
             "tickcolor": "rgb(36,36,36)",
             "ticks": "outside"
            },
            "type": "mesh3d"
           }
          ],
          "parcoords": [
           {
            "line": {
             "colorbar": {
              "outlinewidth": 1,
              "tickcolor": "rgb(36,36,36)",
              "ticks": "outside"
             }
            },
            "type": "parcoords"
           }
          ],
          "pie": [
           {
            "automargin": true,
            "type": "pie"
           }
          ],
          "scatter": [
           {
            "marker": {
             "colorbar": {
              "outlinewidth": 1,
              "tickcolor": "rgb(36,36,36)",
              "ticks": "outside"
             }
            },
            "type": "scatter"
           }
          ],
          "scatter3d": [
           {
            "line": {
             "colorbar": {
              "outlinewidth": 1,
              "tickcolor": "rgb(36,36,36)",
              "ticks": "outside"
             }
            },
            "marker": {
             "colorbar": {
              "outlinewidth": 1,
              "tickcolor": "rgb(36,36,36)",
              "ticks": "outside"
             }
            },
            "type": "scatter3d"
           }
          ],
          "scattercarpet": [
           {
            "marker": {
             "colorbar": {
              "outlinewidth": 1,
              "tickcolor": "rgb(36,36,36)",
              "ticks": "outside"
             }
            },
            "type": "scattercarpet"
           }
          ],
          "scattergeo": [
           {
            "marker": {
             "colorbar": {
              "outlinewidth": 1,
              "tickcolor": "rgb(36,36,36)",
              "ticks": "outside"
             }
            },
            "type": "scattergeo"
           }
          ],
          "scattergl": [
           {
            "marker": {
             "colorbar": {
              "outlinewidth": 1,
              "tickcolor": "rgb(36,36,36)",
              "ticks": "outside"
             }
            },
            "type": "scattergl"
           }
          ],
          "scattermapbox": [
           {
            "marker": {
             "colorbar": {
              "outlinewidth": 1,
              "tickcolor": "rgb(36,36,36)",
              "ticks": "outside"
             }
            },
            "type": "scattermapbox"
           }
          ],
          "scatterpolar": [
           {
            "marker": {
             "colorbar": {
              "outlinewidth": 1,
              "tickcolor": "rgb(36,36,36)",
              "ticks": "outside"
             }
            },
            "type": "scatterpolar"
           }
          ],
          "scatterpolargl": [
           {
            "marker": {
             "colorbar": {
              "outlinewidth": 1,
              "tickcolor": "rgb(36,36,36)",
              "ticks": "outside"
             }
            },
            "type": "scatterpolargl"
           }
          ],
          "scatterternary": [
           {
            "marker": {
             "colorbar": {
              "outlinewidth": 1,
              "tickcolor": "rgb(36,36,36)",
              "ticks": "outside"
             }
            },
            "type": "scatterternary"
           }
          ],
          "surface": [
           {
            "colorbar": {
             "outlinewidth": 1,
             "tickcolor": "rgb(36,36,36)",
             "ticks": "outside"
            },
            "colorscale": [
             [
              0,
              "#440154"
             ],
             [
              0.1111111111111111,
              "#482878"
             ],
             [
              0.2222222222222222,
              "#3e4989"
             ],
             [
              0.3333333333333333,
              "#31688e"
             ],
             [
              0.4444444444444444,
              "#26828e"
             ],
             [
              0.5555555555555556,
              "#1f9e89"
             ],
             [
              0.6666666666666666,
              "#35b779"
             ],
             [
              0.7777777777777778,
              "#6ece58"
             ],
             [
              0.8888888888888888,
              "#b5de2b"
             ],
             [
              1,
              "#fde725"
             ]
            ],
            "type": "surface"
           }
          ],
          "table": [
           {
            "cells": {
             "fill": {
              "color": "rgb(237,237,237)"
             },
             "line": {
              "color": "white"
             }
            },
            "header": {
             "fill": {
              "color": "rgb(217,217,217)"
             },
             "line": {
              "color": "white"
             }
            },
            "type": "table"
           }
          ]
         },
         "layout": {
          "annotationdefaults": {
           "arrowhead": 0,
           "arrowwidth": 1
          },
          "autotypenumbers": "strict",
          "coloraxis": {
           "colorbar": {
            "outlinewidth": 1,
            "tickcolor": "rgb(36,36,36)",
            "ticks": "outside"
           }
          },
          "colorscale": {
           "diverging": [
            [
             0,
             "rgb(103,0,31)"
            ],
            [
             0.1,
             "rgb(178,24,43)"
            ],
            [
             0.2,
             "rgb(214,96,77)"
            ],
            [
             0.3,
             "rgb(244,165,130)"
            ],
            [
             0.4,
             "rgb(253,219,199)"
            ],
            [
             0.5,
             "rgb(247,247,247)"
            ],
            [
             0.6,
             "rgb(209,229,240)"
            ],
            [
             0.7,
             "rgb(146,197,222)"
            ],
            [
             0.8,
             "rgb(67,147,195)"
            ],
            [
             0.9,
             "rgb(33,102,172)"
            ],
            [
             1,
             "rgb(5,48,97)"
            ]
           ],
           "sequential": [
            [
             0,
             "#440154"
            ],
            [
             0.1111111111111111,
             "#482878"
            ],
            [
             0.2222222222222222,
             "#3e4989"
            ],
            [
             0.3333333333333333,
             "#31688e"
            ],
            [
             0.4444444444444444,
             "#26828e"
            ],
            [
             0.5555555555555556,
             "#1f9e89"
            ],
            [
             0.6666666666666666,
             "#35b779"
            ],
            [
             0.7777777777777778,
             "#6ece58"
            ],
            [
             0.8888888888888888,
             "#b5de2b"
            ],
            [
             1,
             "#fde725"
            ]
           ],
           "sequentialminus": [
            [
             0,
             "#440154"
            ],
            [
             0.1111111111111111,
             "#482878"
            ],
            [
             0.2222222222222222,
             "#3e4989"
            ],
            [
             0.3333333333333333,
             "#31688e"
            ],
            [
             0.4444444444444444,
             "#26828e"
            ],
            [
             0.5555555555555556,
             "#1f9e89"
            ],
            [
             0.6666666666666666,
             "#35b779"
            ],
            [
             0.7777777777777778,
             "#6ece58"
            ],
            [
             0.8888888888888888,
             "#b5de2b"
            ],
            [
             1,
             "#fde725"
            ]
           ]
          },
          "colorway": [
           "#1F77B4",
           "#FF7F0E",
           "#2CA02C",
           "#D62728",
           "#9467BD",
           "#8C564B",
           "#E377C2",
           "#7F7F7F",
           "#BCBD22",
           "#17BECF"
          ],
          "font": {
           "color": "rgb(36,36,36)"
          },
          "geo": {
           "bgcolor": "white",
           "lakecolor": "white",
           "landcolor": "white",
           "showlakes": true,
           "showland": true,
           "subunitcolor": "white"
          },
          "hoverlabel": {
           "align": "left"
          },
          "hovermode": "closest",
          "mapbox": {
           "style": "light"
          },
          "paper_bgcolor": "white",
          "plot_bgcolor": "white",
          "polar": {
           "angularaxis": {
            "gridcolor": "rgb(232,232,232)",
            "linecolor": "rgb(36,36,36)",
            "showgrid": false,
            "showline": true,
            "ticks": "outside"
           },
           "bgcolor": "white",
           "radialaxis": {
            "gridcolor": "rgb(232,232,232)",
            "linecolor": "rgb(36,36,36)",
            "showgrid": false,
            "showline": true,
            "ticks": "outside"
           }
          },
          "scene": {
           "xaxis": {
            "backgroundcolor": "white",
            "gridcolor": "rgb(232,232,232)",
            "gridwidth": 2,
            "linecolor": "rgb(36,36,36)",
            "showbackground": true,
            "showgrid": false,
            "showline": true,
            "ticks": "outside",
            "zeroline": false,
            "zerolinecolor": "rgb(36,36,36)"
           },
           "yaxis": {
            "backgroundcolor": "white",
            "gridcolor": "rgb(232,232,232)",
            "gridwidth": 2,
            "linecolor": "rgb(36,36,36)",
            "showbackground": true,
            "showgrid": false,
            "showline": true,
            "ticks": "outside",
            "zeroline": false,
            "zerolinecolor": "rgb(36,36,36)"
           },
           "zaxis": {
            "backgroundcolor": "white",
            "gridcolor": "rgb(232,232,232)",
            "gridwidth": 2,
            "linecolor": "rgb(36,36,36)",
            "showbackground": true,
            "showgrid": false,
            "showline": true,
            "ticks": "outside",
            "zeroline": false,
            "zerolinecolor": "rgb(36,36,36)"
           }
          },
          "shapedefaults": {
           "fillcolor": "black",
           "line": {
            "width": 0
           },
           "opacity": 0.3
          },
          "ternary": {
           "aaxis": {
            "gridcolor": "rgb(232,232,232)",
            "linecolor": "rgb(36,36,36)",
            "showgrid": false,
            "showline": true,
            "ticks": "outside"
           },
           "baxis": {
            "gridcolor": "rgb(232,232,232)",
            "linecolor": "rgb(36,36,36)",
            "showgrid": false,
            "showline": true,
            "ticks": "outside"
           },
           "bgcolor": "white",
           "caxis": {
            "gridcolor": "rgb(232,232,232)",
            "linecolor": "rgb(36,36,36)",
            "showgrid": false,
            "showline": true,
            "ticks": "outside"
           }
          },
          "title": {
           "x": 0.05
          },
          "xaxis": {
           "automargin": true,
           "gridcolor": "rgb(232,232,232)",
           "linecolor": "rgb(36,36,36)",
           "showgrid": false,
           "showline": true,
           "ticks": "outside",
           "title": {
            "standoff": 15
           },
           "zeroline": false,
           "zerolinecolor": "rgb(36,36,36)"
          },
          "yaxis": {
           "automargin": true,
           "gridcolor": "rgb(232,232,232)",
           "linecolor": "rgb(36,36,36)",
           "showgrid": false,
           "showline": true,
           "ticks": "outside",
           "title": {
            "standoff": 15
           },
           "zeroline": false,
           "zerolinecolor": "rgb(36,36,36)"
          }
         }
        },
        "width": 600,
        "xaxis": {
         "anchor": "y",
         "domain": [
          0,
          1
         ],
         "linecolor": "black",
         "mirror": "allticks",
         "range": [
          0.7,
          1.01
         ],
         "showgrid": false,
         "ticks": "inside",
         "title": {
          "text": "XCO2(mol%) (<sup>o</sup>C)"
         },
         "zeroline": false
        },
        "yaxis": {
         "anchor": "x",
         "domain": [
          0,
          1
         ],
         "linecolor": "black",
         "mirror": "allticks",
         "showgrid": false,
         "ticks": "inside",
         "title": {
          "text": "count"
         },
         "zeroline": false
        }
       }
      },
      "text/html": [
       "<div>                            <div id=\"b5a2e4fe-21c0-4d35-9e92-e02b247a2c5f\" class=\"plotly-graph-div\" style=\"height:600px; width:600px;\"></div>            <script type=\"text/javascript\">                require([\"plotly\"], function(Plotly) {                    window.PLOTLYENV=window.PLOTLYENV || {};                                    if (document.getElementById(\"b5a2e4fe-21c0-4d35-9e92-e02b247a2c5f\")) {                    Plotly.newPlot(                        \"b5a2e4fe-21c0-4d35-9e92-e02b247a2c5f\",                        [{\"alignmentgroup\":\"True\",\"bingroup\":\"x\",\"hovertemplate\":\"Host=quartz<br>type=type2A<br>XCO2(mol%) (<sup>o</sup>C)=%{x}<br>count=%{y}<extra></extra>\",\"legendgroup\":\"quartz, type2A\",\"marker\":{\"color\":\"rgb(240,228,66)\",\"pattern\":{\"shape\":\"\"},\"line\":{\"color\":\"DarkSlateGrey\",\"width\":0.8}},\"name\":\"quartz, type2A\",\"offsetgroup\":\"quartz, type2A\",\"orientation\":\"v\",\"showlegend\":true,\"x\":[0.959,0.937,0.908,0.86,0.826,0.956,0.859,0.933,0.859,0.852,0.855,0.852,0.857,0.853,0.863,0.858,0.866,null,null,null,null,null,null,0.999,0.996,0.982,0.994,1.0,0.968,0.962,0.949,0.946,0.956,null,0.967,0.939,0.933,0.927,0.929,0.94,0.94,0.935,0.939,0.936],\"xaxis\":\"x\",\"yaxis\":\"y\",\"type\":\"histogram\",\"xbins\":{\"size\":0.01}},{\"alignmentgroup\":\"True\",\"bingroup\":\"x\",\"hovertemplate\":\"Host=quartz<br>type=type2B<br>XCO2(mol%) (<sup>o</sup>C)=%{x}<br>count=%{y}<extra></extra>\",\"legendgroup\":\"quartz, type2B\",\"marker\":{\"color\":\"rgb(240,228,66)\",\"pattern\":{\"shape\":\"x\"},\"line\":{\"color\":\"DarkSlateGrey\",\"width\":0.8}},\"name\":\"quartz, type2B\",\"offsetgroup\":\"quartz, type2B\",\"orientation\":\"v\",\"showlegend\":true,\"x\":[null],\"xaxis\":\"x\",\"yaxis\":\"y\",\"type\":\"histogram\",\"xbins\":{\"size\":0.01}},{\"alignmentgroup\":\"True\",\"bingroup\":\"x\",\"hovertemplate\":\"Host=trolleite<br>type=type2A<br>XCO2(mol%) (<sup>o</sup>C)=%{x}<br>count=%{y}<extra></extra>\",\"legendgroup\":\"trolleite, type2A\",\"marker\":{\"color\":\"rgb(0,158,115)\",\"pattern\":{\"shape\":\"\"},\"line\":{\"color\":\"DarkSlateGrey\",\"width\":0.8}},\"name\":\"trolleite, type2A\",\"offsetgroup\":\"trolleite, type2A\",\"orientation\":\"v\",\"showlegend\":true,\"x\":[0.881,0.94,0.871,null,0.773,null,null,null,null,0.864,0.938,0.954,0.954,0.949,0.9,0.94,0.966,0.932,0.91,0.923,1.0,0.719,0.932,0.85,0.838,0.853,0.895,0.931,0.908,0.917,0.888,0.864,null,null,null,null,null],\"xaxis\":\"x\",\"yaxis\":\"y\",\"type\":\"histogram\",\"xbins\":{\"size\":0.01}},{\"alignmentgroup\":\"True\",\"bingroup\":\"x\",\"hovertemplate\":\"Host=trolleite<br>type=type1<br>XCO2(mol%) (<sup>o</sup>C)=%{x}<br>count=%{y}<extra></extra>\",\"legendgroup\":\"trolleite, type1\",\"marker\":{\"color\":\"rgb(0,158,115)\",\"pattern\":{\"shape\":\"/\"},\"line\":{\"color\":\"DarkSlateGrey\",\"width\":0.8}},\"name\":\"trolleite, type1\",\"offsetgroup\":\"trolleite, type1\",\"orientation\":\"v\",\"showlegend\":true,\"x\":[null,0.944,0.932,0.985,null,0.957,null,0.944,0.92,0.914,0.909,0.926,0.925,0.94,0.937,0.931,0.906,1.0,1.0,0.9,0.91,0.878,0.871,0.781,0.851,null,0.862,0.895,0.885,0.859,0.851,0.755,0.834,null,null],\"xaxis\":\"x\",\"yaxis\":\"y\",\"type\":\"histogram\",\"xbins\":{\"size\":0.01}},{\"alignmentgroup\":\"True\",\"bingroup\":\"x\",\"hovertemplate\":\"Host=trolleite<br>type=type2B<br>XCO2(mol%) (<sup>o</sup>C)=%{x}<br>count=%{y}<extra></extra>\",\"legendgroup\":\"trolleite, type2B\",\"marker\":{\"color\":\"rgb(0,158,115)\",\"pattern\":{\"shape\":\"x\"},\"line\":{\"color\":\"DarkSlateGrey\",\"width\":0.8}},\"name\":\"trolleite, type2B\",\"offsetgroup\":\"trolleite, type2B\",\"orientation\":\"v\",\"showlegend\":true,\"x\":[0.953,0.951,0.991],\"xaxis\":\"x\",\"yaxis\":\"y\",\"type\":\"histogram\",\"xbins\":{\"size\":0.01}},{\"alignmentgroup\":\"True\",\"bingroup\":\"x\",\"hovertemplate\":\"Host=scorzalite<br>type=type2A<br>XCO2(mol%) (<sup>o</sup>C)=%{x}<br>count=%{y}<extra></extra>\",\"legendgroup\":\"scorzalite, type2A\",\"marker\":{\"color\":\"rgb(0,0,255)\",\"pattern\":{\"shape\":\"\"},\"line\":{\"color\":\"DarkSlateGrey\",\"width\":0.8}},\"name\":\"scorzalite, type2A\",\"offsetgroup\":\"scorzalite, type2A\",\"orientation\":\"v\",\"showlegend\":true,\"x\":[0.961,null,null,null,0.901,1.0,null,null,0.967,0.977,0.928,0.937],\"xaxis\":\"x\",\"yaxis\":\"y\",\"type\":\"histogram\",\"xbins\":{\"size\":0.01}},{\"alignmentgroup\":\"True\",\"bingroup\":\"x\",\"hovertemplate\":\"Host=bertossaite<br>type=type2A<br>XCO2(mol%) (<sup>o</sup>C)=%{x}<br>count=%{y}<extra></extra>\",\"legendgroup\":\"bertossaite, type2A\",\"marker\":{\"color\":\"rgb(204,121,167)\",\"pattern\":{\"shape\":\"\"},\"line\":{\"color\":\"DarkSlateGrey\",\"width\":0.8}},\"name\":\"bertossaite, type2A\",\"offsetgroup\":\"bertossaite, type2A\",\"orientation\":\"v\",\"showlegend\":true,\"x\":[0.934,null,0.974,0.981,null,null,null,0.915,0.984,0.989,1.0,0.994,0.966,0.988,0.816,0.867,0.898,0.847,0.94,0.776,0.943,0.948,0.97,1.0,0.97,0.963,0.976,1.0,0.994,0.941,0.914,0.884,null,null,null,null,null,null,null,null,null,null,0.963,null],\"xaxis\":\"x\",\"yaxis\":\"y\",\"type\":\"histogram\",\"xbins\":{\"size\":0.01}},{\"alignmentgroup\":\"True\",\"bingroup\":\"x\",\"hovertemplate\":\"Host=bertossaite<br>type=type1<br>XCO2(mol%) (<sup>o</sup>C)=%{x}<br>count=%{y}<extra></extra>\",\"legendgroup\":\"bertossaite, type1\",\"marker\":{\"color\":\"rgb(204,121,167)\",\"pattern\":{\"shape\":\"/\"},\"line\":{\"color\":\"DarkSlateGrey\",\"width\":0.8}},\"name\":\"bertossaite, type1\",\"offsetgroup\":\"bertossaite, type1\",\"orientation\":\"v\",\"showlegend\":true,\"x\":[0.998,null,null],\"xaxis\":\"x\",\"yaxis\":\"y\",\"type\":\"histogram\",\"xbins\":{\"size\":0.01}},{\"alignmentgroup\":\"True\",\"bingroup\":\"x\",\"hovertemplate\":\"Host=bertossaite<br>type=type3<br>XCO2(mol%) (<sup>o</sup>C)=%{x}<br>count=%{y}<extra></extra>\",\"legendgroup\":\"bertossaite, type3\",\"marker\":{\"color\":\"rgb(204,121,167)\",\"pattern\":{\"shape\":\"\\\\\"},\"line\":{\"color\":\"DarkSlateGrey\",\"width\":0.8}},\"name\":\"bertossaite, type3\",\"offsetgroup\":\"bertossaite, type3\",\"orientation\":\"v\",\"showlegend\":true,\"x\":[0.993,0.995,1.0,1.0,0.978,0.999,0.999,0.982,1.0,1.0,1.0,1.0,null,0.878],\"xaxis\":\"x\",\"yaxis\":\"y\",\"type\":\"histogram\",\"xbins\":{\"size\":0.01}},{\"alignmentgroup\":\"True\",\"bingroup\":\"x\",\"hovertemplate\":\"Host=bertossaite<br>type=type2B<br>XCO2(mol%) (<sup>o</sup>C)=%{x}<br>count=%{y}<extra></extra>\",\"legendgroup\":\"bertossaite, type2B\",\"marker\":{\"color\":\"rgb(204,121,167)\",\"pattern\":{\"shape\":\"x\"},\"line\":{\"color\":\"DarkSlateGrey\",\"width\":0.8}},\"name\":\"bertossaite, type2B\",\"offsetgroup\":\"bertossaite, type2B\",\"orientation\":\"v\",\"showlegend\":true,\"x\":[1.0,null],\"xaxis\":\"x\",\"yaxis\":\"y\",\"type\":\"histogram\",\"xbins\":{\"size\":0.01}},{\"alignmentgroup\":\"True\",\"bingroup\":\"x\",\"hovertemplate\":\"Host=brazilianite<br>type=type2A<br>XCO2(mol%) (<sup>o</sup>C)=%{x}<br>count=%{y}<extra></extra>\",\"legendgroup\":\"brazilianite, type2A\",\"marker\":{\"color\":\"rgb(250,120,10)\",\"pattern\":{\"shape\":\"\"},\"line\":{\"color\":\"DarkSlateGrey\",\"width\":0.8}},\"name\":\"brazilianite, type2A\",\"offsetgroup\":\"brazilianite, type2A\",\"orientation\":\"v\",\"showlegend\":true,\"x\":[0.944,0.944,null,0.977,0.938,0.935,0.866,0.875,0.864,0.87,0.885,0.869,0.864,0.933,0.948,0.95,0.947,0.952,null,null,null,null,null,null,null,null,null,null,null,null,null,null,null,null,null],\"xaxis\":\"x\",\"yaxis\":\"y\",\"type\":\"histogram\",\"xbins\":{\"size\":0.01}},{\"alignmentgroup\":\"True\",\"bingroup\":\"x\",\"hovertemplate\":\"Host=brazilianite<br>type=type1<br>XCO2(mol%) (<sup>o</sup>C)=%{x}<br>count=%{y}<extra></extra>\",\"legendgroup\":\"brazilianite, type1\",\"marker\":{\"color\":\"rgb(250,120,10)\",\"pattern\":{\"shape\":\"/\"},\"line\":{\"color\":\"DarkSlateGrey\",\"width\":0.8}},\"name\":\"brazilianite, type1\",\"offsetgroup\":\"brazilianite, type1\",\"orientation\":\"v\",\"showlegend\":true,\"x\":[0.955,0.883,0.945,0.959,0.963,0.948,null],\"xaxis\":\"x\",\"yaxis\":\"y\",\"type\":\"histogram\",\"xbins\":{\"size\":0.01}},{\"alignmentgroup\":\"True\",\"bingroup\":\"x\",\"hovertemplate\":\"Host=brazilianite<br>type=type3<br>XCO2(mol%) (<sup>o</sup>C)=%{x}<br>count=%{y}<extra></extra>\",\"legendgroup\":\"brazilianite, type3\",\"marker\":{\"color\":\"rgb(250,120,10)\",\"pattern\":{\"shape\":\"\\\\\"},\"line\":{\"color\":\"DarkSlateGrey\",\"width\":0.8}},\"name\":\"brazilianite, type3\",\"offsetgroup\":\"brazilianite, type3\",\"orientation\":\"v\",\"showlegend\":true,\"x\":[0.982,0.99,0.992,0.967,0.957,0.961],\"xaxis\":\"x\",\"yaxis\":\"y\",\"type\":\"histogram\",\"xbins\":{\"size\":0.01}},{\"alignmentgroup\":\"True\",\"bingroup\":\"x\",\"hovertemplate\":\"Host=augelite<br>type=type2A<br>XCO2(mol%) (<sup>o</sup>C)=%{x}<br>count=%{y}<extra></extra>\",\"legendgroup\":\"augelite, type2A\",\"marker\":{\"color\":\"rgb(51,255,51)\",\"pattern\":{\"shape\":\"\"},\"line\":{\"color\":\"DarkSlateGrey\",\"width\":0.8}},\"name\":\"augelite, type2A\",\"offsetgroup\":\"augelite, type2A\",\"orientation\":\"v\",\"showlegend\":true,\"x\":[0.956,0.975,0.975,0.972,0.949,0.958,0.964,0.961,0.963,0.97,null,0.958,0.954,0.947,0.944,null,null,null],\"xaxis\":\"x\",\"yaxis\":\"y\",\"type\":\"histogram\",\"xbins\":{\"size\":0.01}},{\"alignmentgroup\":\"True\",\"bingroup\":\"x\",\"hovertemplate\":\"Host=augelite<br>type=type1<br>XCO2(mol%) (<sup>o</sup>C)=%{x}<br>count=%{y}<extra></extra>\",\"legendgroup\":\"augelite, type1\",\"marker\":{\"color\":\"rgb(51,255,51)\",\"pattern\":{\"shape\":\"/\"},\"line\":{\"color\":\"DarkSlateGrey\",\"width\":0.8}},\"name\":\"augelite, type1\",\"offsetgroup\":\"augelite, type1\",\"orientation\":\"v\",\"showlegend\":true,\"x\":[0.96],\"xaxis\":\"x\",\"yaxis\":\"y\",\"type\":\"histogram\",\"xbins\":{\"size\":0.01}},{\"alignmentgroup\":\"True\",\"bingroup\":\"x\",\"hovertemplate\":\"Host=augelite<br>type=type3<br>XCO2(mol%) (<sup>o</sup>C)=%{x}<br>count=%{y}<extra></extra>\",\"legendgroup\":\"augelite, type3\",\"marker\":{\"color\":\"rgb(51,255,51)\",\"pattern\":{\"shape\":\"\\\\\"},\"line\":{\"color\":\"DarkSlateGrey\",\"width\":0.8}},\"name\":\"augelite, type3\",\"offsetgroup\":\"augelite, type3\",\"orientation\":\"v\",\"showlegend\":true,\"x\":[0.975,0.962,0.971],\"xaxis\":\"x\",\"yaxis\":\"y\",\"type\":\"histogram\",\"xbins\":{\"size\":0.01}},{\"alignmentgroup\":\"True\",\"bingroup\":\"x\",\"hovertemplate\":\"Host=augelite<br>type=type2B<br>XCO2(mol%) (<sup>o</sup>C)=%{x}<br>count=%{y}<extra></extra>\",\"legendgroup\":\"augelite, type2B\",\"marker\":{\"color\":\"rgb(51,255,51)\",\"pattern\":{\"shape\":\"x\"},\"line\":{\"color\":\"DarkSlateGrey\",\"width\":0.8}},\"name\":\"augelite, type2B\",\"offsetgroup\":\"augelite, type2B\",\"orientation\":\"v\",\"showlegend\":true,\"x\":[0.954],\"xaxis\":\"x\",\"yaxis\":\"y\",\"type\":\"histogram\",\"xbins\":{\"size\":0.01}},{\"alignmentgroup\":\"True\",\"bingroup\":\"x\",\"hovertemplate\":\"Host=wyllieite<br>type=type1<br>XCO2(mol%) (<sup>o</sup>C)=%{x}<br>count=%{y}<extra></extra>\",\"legendgroup\":\"wyllieite, type1\",\"marker\":{\"color\":\"rgb(0,170,250)\",\"pattern\":{\"shape\":\"/\"},\"line\":{\"color\":\"DarkSlateGrey\",\"width\":0.8}},\"name\":\"wyllieite, type1\",\"offsetgroup\":\"wyllieite, type1\",\"orientation\":\"v\",\"showlegend\":true,\"x\":[0.949,0.918,0.917,0.916,0.917,null,null,null],\"xaxis\":\"x\",\"yaxis\":\"y\",\"type\":\"histogram\",\"xbins\":{\"size\":0.01}}],                        {\"template\":{\"data\":{\"barpolar\":[{\"marker\":{\"line\":{\"color\":\"white\",\"width\":0.5},\"pattern\":{\"fillmode\":\"overlay\",\"size\":10,\"solidity\":0.2}},\"type\":\"barpolar\"}],\"bar\":[{\"error_x\":{\"color\":\"rgb(36,36,36)\"},\"error_y\":{\"color\":\"rgb(36,36,36)\"},\"marker\":{\"line\":{\"color\":\"white\",\"width\":0.5},\"pattern\":{\"fillmode\":\"overlay\",\"size\":10,\"solidity\":0.2}},\"type\":\"bar\"}],\"carpet\":[{\"aaxis\":{\"endlinecolor\":\"rgb(36,36,36)\",\"gridcolor\":\"white\",\"linecolor\":\"white\",\"minorgridcolor\":\"white\",\"startlinecolor\":\"rgb(36,36,36)\"},\"baxis\":{\"endlinecolor\":\"rgb(36,36,36)\",\"gridcolor\":\"white\",\"linecolor\":\"white\",\"minorgridcolor\":\"white\",\"startlinecolor\":\"rgb(36,36,36)\"},\"type\":\"carpet\"}],\"choropleth\":[{\"colorbar\":{\"outlinewidth\":1,\"tickcolor\":\"rgb(36,36,36)\",\"ticks\":\"outside\"},\"type\":\"choropleth\"}],\"contourcarpet\":[{\"colorbar\":{\"outlinewidth\":1,\"tickcolor\":\"rgb(36,36,36)\",\"ticks\":\"outside\"},\"type\":\"contourcarpet\"}],\"contour\":[{\"colorbar\":{\"outlinewidth\":1,\"tickcolor\":\"rgb(36,36,36)\",\"ticks\":\"outside\"},\"colorscale\":[[0.0,\"#440154\"],[0.1111111111111111,\"#482878\"],[0.2222222222222222,\"#3e4989\"],[0.3333333333333333,\"#31688e\"],[0.4444444444444444,\"#26828e\"],[0.5555555555555556,\"#1f9e89\"],[0.6666666666666666,\"#35b779\"],[0.7777777777777778,\"#6ece58\"],[0.8888888888888888,\"#b5de2b\"],[1.0,\"#fde725\"]],\"type\":\"contour\"}],\"heatmapgl\":[{\"colorbar\":{\"outlinewidth\":1,\"tickcolor\":\"rgb(36,36,36)\",\"ticks\":\"outside\"},\"colorscale\":[[0.0,\"#440154\"],[0.1111111111111111,\"#482878\"],[0.2222222222222222,\"#3e4989\"],[0.3333333333333333,\"#31688e\"],[0.4444444444444444,\"#26828e\"],[0.5555555555555556,\"#1f9e89\"],[0.6666666666666666,\"#35b779\"],[0.7777777777777778,\"#6ece58\"],[0.8888888888888888,\"#b5de2b\"],[1.0,\"#fde725\"]],\"type\":\"heatmapgl\"}],\"heatmap\":[{\"colorbar\":{\"outlinewidth\":1,\"tickcolor\":\"rgb(36,36,36)\",\"ticks\":\"outside\"},\"colorscale\":[[0.0,\"#440154\"],[0.1111111111111111,\"#482878\"],[0.2222222222222222,\"#3e4989\"],[0.3333333333333333,\"#31688e\"],[0.4444444444444444,\"#26828e\"],[0.5555555555555556,\"#1f9e89\"],[0.6666666666666666,\"#35b779\"],[0.7777777777777778,\"#6ece58\"],[0.8888888888888888,\"#b5de2b\"],[1.0,\"#fde725\"]],\"type\":\"heatmap\"}],\"histogram2dcontour\":[{\"colorbar\":{\"outlinewidth\":1,\"tickcolor\":\"rgb(36,36,36)\",\"ticks\":\"outside\"},\"colorscale\":[[0.0,\"#440154\"],[0.1111111111111111,\"#482878\"],[0.2222222222222222,\"#3e4989\"],[0.3333333333333333,\"#31688e\"],[0.4444444444444444,\"#26828e\"],[0.5555555555555556,\"#1f9e89\"],[0.6666666666666666,\"#35b779\"],[0.7777777777777778,\"#6ece58\"],[0.8888888888888888,\"#b5de2b\"],[1.0,\"#fde725\"]],\"type\":\"histogram2dcontour\"}],\"histogram2d\":[{\"colorbar\":{\"outlinewidth\":1,\"tickcolor\":\"rgb(36,36,36)\",\"ticks\":\"outside\"},\"colorscale\":[[0.0,\"#440154\"],[0.1111111111111111,\"#482878\"],[0.2222222222222222,\"#3e4989\"],[0.3333333333333333,\"#31688e\"],[0.4444444444444444,\"#26828e\"],[0.5555555555555556,\"#1f9e89\"],[0.6666666666666666,\"#35b779\"],[0.7777777777777778,\"#6ece58\"],[0.8888888888888888,\"#b5de2b\"],[1.0,\"#fde725\"]],\"type\":\"histogram2d\"}],\"histogram\":[{\"marker\":{\"line\":{\"color\":\"white\",\"width\":0.6}},\"type\":\"histogram\"}],\"mesh3d\":[{\"colorbar\":{\"outlinewidth\":1,\"tickcolor\":\"rgb(36,36,36)\",\"ticks\":\"outside\"},\"type\":\"mesh3d\"}],\"parcoords\":[{\"line\":{\"colorbar\":{\"outlinewidth\":1,\"tickcolor\":\"rgb(36,36,36)\",\"ticks\":\"outside\"}},\"type\":\"parcoords\"}],\"pie\":[{\"automargin\":true,\"type\":\"pie\"}],\"scatter3d\":[{\"line\":{\"colorbar\":{\"outlinewidth\":1,\"tickcolor\":\"rgb(36,36,36)\",\"ticks\":\"outside\"}},\"marker\":{\"colorbar\":{\"outlinewidth\":1,\"tickcolor\":\"rgb(36,36,36)\",\"ticks\":\"outside\"}},\"type\":\"scatter3d\"}],\"scattercarpet\":[{\"marker\":{\"colorbar\":{\"outlinewidth\":1,\"tickcolor\":\"rgb(36,36,36)\",\"ticks\":\"outside\"}},\"type\":\"scattercarpet\"}],\"scattergeo\":[{\"marker\":{\"colorbar\":{\"outlinewidth\":1,\"tickcolor\":\"rgb(36,36,36)\",\"ticks\":\"outside\"}},\"type\":\"scattergeo\"}],\"scattergl\":[{\"marker\":{\"colorbar\":{\"outlinewidth\":1,\"tickcolor\":\"rgb(36,36,36)\",\"ticks\":\"outside\"}},\"type\":\"scattergl\"}],\"scattermapbox\":[{\"marker\":{\"colorbar\":{\"outlinewidth\":1,\"tickcolor\":\"rgb(36,36,36)\",\"ticks\":\"outside\"}},\"type\":\"scattermapbox\"}],\"scatterpolargl\":[{\"marker\":{\"colorbar\":{\"outlinewidth\":1,\"tickcolor\":\"rgb(36,36,36)\",\"ticks\":\"outside\"}},\"type\":\"scatterpolargl\"}],\"scatterpolar\":[{\"marker\":{\"colorbar\":{\"outlinewidth\":1,\"tickcolor\":\"rgb(36,36,36)\",\"ticks\":\"outside\"}},\"type\":\"scatterpolar\"}],\"scatter\":[{\"marker\":{\"colorbar\":{\"outlinewidth\":1,\"tickcolor\":\"rgb(36,36,36)\",\"ticks\":\"outside\"}},\"type\":\"scatter\"}],\"scatterternary\":[{\"marker\":{\"colorbar\":{\"outlinewidth\":1,\"tickcolor\":\"rgb(36,36,36)\",\"ticks\":\"outside\"}},\"type\":\"scatterternary\"}],\"surface\":[{\"colorbar\":{\"outlinewidth\":1,\"tickcolor\":\"rgb(36,36,36)\",\"ticks\":\"outside\"},\"colorscale\":[[0.0,\"#440154\"],[0.1111111111111111,\"#482878\"],[0.2222222222222222,\"#3e4989\"],[0.3333333333333333,\"#31688e\"],[0.4444444444444444,\"#26828e\"],[0.5555555555555556,\"#1f9e89\"],[0.6666666666666666,\"#35b779\"],[0.7777777777777778,\"#6ece58\"],[0.8888888888888888,\"#b5de2b\"],[1.0,\"#fde725\"]],\"type\":\"surface\"}],\"table\":[{\"cells\":{\"fill\":{\"color\":\"rgb(237,237,237)\"},\"line\":{\"color\":\"white\"}},\"header\":{\"fill\":{\"color\":\"rgb(217,217,217)\"},\"line\":{\"color\":\"white\"}},\"type\":\"table\"}]},\"layout\":{\"annotationdefaults\":{\"arrowhead\":0,\"arrowwidth\":1},\"autotypenumbers\":\"strict\",\"coloraxis\":{\"colorbar\":{\"outlinewidth\":1,\"tickcolor\":\"rgb(36,36,36)\",\"ticks\":\"outside\"}},\"colorscale\":{\"diverging\":[[0.0,\"rgb(103,0,31)\"],[0.1,\"rgb(178,24,43)\"],[0.2,\"rgb(214,96,77)\"],[0.3,\"rgb(244,165,130)\"],[0.4,\"rgb(253,219,199)\"],[0.5,\"rgb(247,247,247)\"],[0.6,\"rgb(209,229,240)\"],[0.7,\"rgb(146,197,222)\"],[0.8,\"rgb(67,147,195)\"],[0.9,\"rgb(33,102,172)\"],[1.0,\"rgb(5,48,97)\"]],\"sequential\":[[0.0,\"#440154\"],[0.1111111111111111,\"#482878\"],[0.2222222222222222,\"#3e4989\"],[0.3333333333333333,\"#31688e\"],[0.4444444444444444,\"#26828e\"],[0.5555555555555556,\"#1f9e89\"],[0.6666666666666666,\"#35b779\"],[0.7777777777777778,\"#6ece58\"],[0.8888888888888888,\"#b5de2b\"],[1.0,\"#fde725\"]],\"sequentialminus\":[[0.0,\"#440154\"],[0.1111111111111111,\"#482878\"],[0.2222222222222222,\"#3e4989\"],[0.3333333333333333,\"#31688e\"],[0.4444444444444444,\"#26828e\"],[0.5555555555555556,\"#1f9e89\"],[0.6666666666666666,\"#35b779\"],[0.7777777777777778,\"#6ece58\"],[0.8888888888888888,\"#b5de2b\"],[1.0,\"#fde725\"]]},\"colorway\":[\"#1F77B4\",\"#FF7F0E\",\"#2CA02C\",\"#D62728\",\"#9467BD\",\"#8C564B\",\"#E377C2\",\"#7F7F7F\",\"#BCBD22\",\"#17BECF\"],\"font\":{\"color\":\"rgb(36,36,36)\"},\"geo\":{\"bgcolor\":\"white\",\"lakecolor\":\"white\",\"landcolor\":\"white\",\"showlakes\":true,\"showland\":true,\"subunitcolor\":\"white\"},\"hoverlabel\":{\"align\":\"left\"},\"hovermode\":\"closest\",\"mapbox\":{\"style\":\"light\"},\"paper_bgcolor\":\"white\",\"plot_bgcolor\":\"white\",\"polar\":{\"angularaxis\":{\"gridcolor\":\"rgb(232,232,232)\",\"linecolor\":\"rgb(36,36,36)\",\"showgrid\":false,\"showline\":true,\"ticks\":\"outside\"},\"bgcolor\":\"white\",\"radialaxis\":{\"gridcolor\":\"rgb(232,232,232)\",\"linecolor\":\"rgb(36,36,36)\",\"showgrid\":false,\"showline\":true,\"ticks\":\"outside\"}},\"scene\":{\"xaxis\":{\"backgroundcolor\":\"white\",\"gridcolor\":\"rgb(232,232,232)\",\"gridwidth\":2,\"linecolor\":\"rgb(36,36,36)\",\"showbackground\":true,\"showgrid\":false,\"showline\":true,\"ticks\":\"outside\",\"zeroline\":false,\"zerolinecolor\":\"rgb(36,36,36)\"},\"yaxis\":{\"backgroundcolor\":\"white\",\"gridcolor\":\"rgb(232,232,232)\",\"gridwidth\":2,\"linecolor\":\"rgb(36,36,36)\",\"showbackground\":true,\"showgrid\":false,\"showline\":true,\"ticks\":\"outside\",\"zeroline\":false,\"zerolinecolor\":\"rgb(36,36,36)\"},\"zaxis\":{\"backgroundcolor\":\"white\",\"gridcolor\":\"rgb(232,232,232)\",\"gridwidth\":2,\"linecolor\":\"rgb(36,36,36)\",\"showbackground\":true,\"showgrid\":false,\"showline\":true,\"ticks\":\"outside\",\"zeroline\":false,\"zerolinecolor\":\"rgb(36,36,36)\"}},\"shapedefaults\":{\"fillcolor\":\"black\",\"line\":{\"width\":0},\"opacity\":0.3},\"ternary\":{\"aaxis\":{\"gridcolor\":\"rgb(232,232,232)\",\"linecolor\":\"rgb(36,36,36)\",\"showgrid\":false,\"showline\":true,\"ticks\":\"outside\"},\"baxis\":{\"gridcolor\":\"rgb(232,232,232)\",\"linecolor\":\"rgb(36,36,36)\",\"showgrid\":false,\"showline\":true,\"ticks\":\"outside\"},\"bgcolor\":\"white\",\"caxis\":{\"gridcolor\":\"rgb(232,232,232)\",\"linecolor\":\"rgb(36,36,36)\",\"showgrid\":false,\"showline\":true,\"ticks\":\"outside\"}},\"title\":{\"x\":0.05},\"xaxis\":{\"automargin\":true,\"gridcolor\":\"rgb(232,232,232)\",\"linecolor\":\"rgb(36,36,36)\",\"showgrid\":false,\"showline\":true,\"ticks\":\"outside\",\"title\":{\"standoff\":15},\"zeroline\":false,\"zerolinecolor\":\"rgb(36,36,36)\"},\"yaxis\":{\"automargin\":true,\"gridcolor\":\"rgb(232,232,232)\",\"linecolor\":\"rgb(36,36,36)\",\"showgrid\":false,\"showline\":true,\"ticks\":\"outside\",\"title\":{\"standoff\":15},\"zeroline\":false,\"zerolinecolor\":\"rgb(36,36,36)\"}}},\"xaxis\":{\"anchor\":\"y\",\"domain\":[0.0,1.0],\"title\":{\"text\":\"XCO2(mol%) (<sup>o</sup>C)\"},\"range\":[0.7,1.01],\"ticks\":\"inside\",\"zeroline\":false,\"linecolor\":\"black\",\"showgrid\":false,\"mirror\":\"allticks\"},\"yaxis\":{\"anchor\":\"x\",\"domain\":[0.0,1.0],\"title\":{\"text\":\"count\"},\"ticks\":\"inside\",\"zeroline\":false,\"linecolor\":\"black\",\"showgrid\":false,\"mirror\":\"allticks\"},\"legend\":{\"title\":{\"text\":\"Host, type\"},\"tracegroupgap\":0},\"margin\":{\"t\":60},\"barmode\":\"stack\",\"height\":600,\"width\":600},                        {\"responsive\": true}                    ).then(function(){\n",
       "                            \n",
       "var gd = document.getElementById('b5a2e4fe-21c0-4d35-9e92-e02b247a2c5f');\n",
       "var x = new MutationObserver(function (mutations, observer) {{\n",
       "        var display = window.getComputedStyle(gd).display;\n",
       "        if (!display || display === 'none') {{\n",
       "            console.log([gd, 'removed!']);\n",
       "            Plotly.purge(gd);\n",
       "            observer.disconnect();\n",
       "        }}\n",
       "}});\n",
       "\n",
       "// Listen for the removal of the full notebook cells\n",
       "var notebookContainer = gd.closest('#notebook-container');\n",
       "if (notebookContainer) {{\n",
       "    x.observe(notebookContainer, {childList: true});\n",
       "}}\n",
       "\n",
       "// Listen for the clearing of the current output cell\n",
       "var outputEl = gd.closest('.output');\n",
       "if (outputEl) {{\n",
       "    x.observe(outputEl, {childList: true});\n",
       "}}\n",
       "\n",
       "                        })                };                });            </script>        </div>"
      ]
     },
     "metadata": {},
     "output_type": "display_data"
    }
   ],
   "source": [
    "to_plot = df_FI\n",
    "\n",
    "x = 'XCO2(mol%)'\n",
    "\n",
    "fig = px.histogram(to_plot, x=x, \n",
    "                       color=\"Host\",\n",
    "                       pattern_shape=\"type\",\n",
    "                       labels={x: x+\" (<sup>o</sup>C)\"},\n",
    "                       color_discrete_map=colors_map,\n",
    "                       hover_data=[\"sample\",'piece','field',\"analysis\",\"Phases\",\"Host\"])\n",
    "\n",
    "\n",
    "\n",
    "# -------------------------------------------------------------------------------------------------\n",
    "\n",
    "fig.update_xaxes(range=[to_plot[x].min()-1, to_plot[x].max()+1])\n",
    "\n",
    "fig.update_layout(template=\"simple_white\", \n",
    "                  barmode='stack',\n",
    "                 height=600, width=600)\n",
    "\n",
    "fig.update_xaxes(ticks='inside',zeroline=False,linecolor=\"black\",showgrid=False,mirror= \"allticks\")\n",
    "fig.update_yaxes(ticks='inside',zeroline=False,linecolor=\"black\",showgrid=False,mirror= \"allticks\")\n",
    "\n",
    "# x_tick = np.arange(to_plot[x].min()-1,to_plot[x].max()+1,1, dtype=int)\n",
    "# fig.update_xaxes(tickvals=np.arange(-30,35,1))\n",
    "\n",
    "fig.update_traces(marker=dict(line=dict(width=0.8,\n",
    "                                        color='DarkSlateGrey')),\n",
    "                 xbins=dict(size=0.01)\n",
    "                 )\n",
    "\n",
    "\n",
    "fig.update_xaxes(range=(0.7,1.01))\n",
    "\n",
    "# fig.write_image(data_dir+\"figures/plot_hists_TmCL.pdf\")\n",
    "\n",
    "fig.show()"
   ]
  },
  {
   "cell_type": "code",
   "execution_count": 21,
   "id": "39f6fc3d",
   "metadata": {},
   "outputs": [
    {
     "data": {
      "application/vnd.plotly.v1+json": {
       "config": {
        "plotlyServerURL": "https://plot.ly"
       },
       "data": [
        {
         "alignmentgroup": "True",
         "bingroup": "x",
         "hovertemplate": "Host=quartz<br>type=type2A<br>Tm Hh=%{x}<br>count=%{y}<extra></extra>",
         "legendgroup": "quartz, type2A",
         "marker": {
          "color": "rgb(240,228,66)",
          "line": {
           "color": "DarkSlateGrey",
           "width": 0.8
          },
          "pattern": {
           "shape": ""
          }
         },
         "name": "quartz, type2A",
         "offsetgroup": "quartz, type2A",
         "orientation": "v",
         "showlegend": true,
         "type": "histogram",
         "x": [
          null,
          null,
          -25.43785238088688,
          -24.592817005317904,
          -26.66508341895611,
          -24.73965957105031,
          -24.73965957105031,
          -25.57961053562181,
          -25.776969241682597,
          -27.257159537138453,
          -25.18489312350025,
          -24.88885506440908,
          -25.57961053562181,
          -25.776969241682597,
          -27.257159537138453,
          -25.480931182591423,
          -27.158480184108065,
          -25.6782898886522,
          null,
          null,
          null,
          -25.6782898886522,
          null,
          -23.056145390736862,
          -22.75895993743984,
          -23.65051629733092,
          -23.848639932862262,
          -24.542072657221997,
          -23.947701750627942,
          -24.44301083945632,
          -24.04676356839361,
          -24.00701768445799,
          -23.608490498833508,
          -23.807754091645744,
          -23.49715012622934,
          -23.99440834869687,
          -23.69605341521635,
          -23.69605341521635,
          -23.795505059709857,
          -24.09385999319037,
          -24.4916665711644,
          -24.09385999319037,
          -23.99440834869687,
          -22.701536970281293
         ],
         "xaxis": "x",
         "xbins": {
          "size": 1
         },
         "yaxis": "y"
        },
        {
         "alignmentgroup": "True",
         "bingroup": "x",
         "hovertemplate": "Host=quartz<br>type=type2B<br>Tm Hh=%{x}<br>count=%{y}<extra></extra>",
         "legendgroup": "quartz, type2B",
         "marker": {
          "color": "rgb(240,228,66)",
          "line": {
           "color": "DarkSlateGrey",
           "width": 0.8
          },
          "pattern": {
           "shape": "x"
          }
         },
         "name": "quartz, type2B",
         "offsetgroup": "quartz, type2B",
         "orientation": "v",
         "showlegend": true,
         "type": "histogram",
         "x": [
          null
         ],
         "xaxis": "x",
         "xbins": {
          "size": 1
         },
         "yaxis": "y"
        },
        {
         "alignmentgroup": "True",
         "bingroup": "x",
         "hovertemplate": "Host=trolleite<br>type=type2A<br>Tm Hh=%{x}<br>count=%{y}<extra></extra>",
         "legendgroup": "trolleite, type2A",
         "marker": {
          "color": "rgb(0,158,115)",
          "line": {
           "color": "DarkSlateGrey",
           "width": 0.8
          },
          "pattern": {
           "shape": ""
          }
         },
         "name": "trolleite, type2A",
         "offsetgroup": "trolleite, type2A",
         "orientation": "v",
         "showlegend": true,
         "type": "histogram",
         "x": [
          -27.033721660513308,
          null,
          null,
          null,
          -21.68829724342198,
          -26.021529381282384,
          -24.134880019872917,
          -22.54612266289651,
          -21.844856788120005,
          -21.753932364420617,
          -24.53138550397141,
          -23.837022219083718,
          -23.53943795413184,
          -23.737827464099755,
          -23.6386327091158,
          -23.707840633897703,
          -21.54320816632576,
          -21.248031011656856,
          -19.870537623201987,
          -24.27930381653434,
          -23.40668857107342,
          -24.006303564169503,
          null,
          -24.206175228534864,
          -23.075412555455,
          -23.37427437423031,
          -22.87617134293812,
          -23.67313619300563,
          -22.87617134293812,
          -21.282241642803097,
          -21.78034467409529,
          null,
          null,
          null,
          null,
          null,
          null
         ],
         "xaxis": "x",
         "xbins": {
          "size": 1
         },
         "yaxis": "y"
        },
        {
         "alignmentgroup": "True",
         "bingroup": "x",
         "hovertemplate": "Host=trolleite<br>type=type1<br>Tm Hh=%{x}<br>count=%{y}<extra></extra>",
         "legendgroup": "trolleite, type1",
         "marker": {
          "color": "rgb(0,158,115)",
          "line": {
           "color": "DarkSlateGrey",
           "width": 0.8
          },
          "pattern": {
           "shape": "/"
          }
         },
         "name": "trolleite, type1",
         "offsetgroup": "trolleite, type1",
         "orientation": "v",
         "showlegend": true,
         "type": "histogram",
         "x": [
          null,
          -21.887647684432874,
          -20.563595304613138,
          -23.93621697406767,
          null,
          -24.63058025895537,
          null,
          -22.745879914260183,
          -23.819213719691813,
          -23.229591857362344,
          -23.72094340930357,
          -19.67375285342272,
          -20.460891932539784,
          -19.870537623201987,
          -20.460891932539784,
          -20.85446147209832,
          -20.65767670231905,
          -25.655895921290952,
          -24.57892599574085,
          -24.17942975679884,
          -23.97968163732783,
          -24.905726053813623,
          -23.606560235438785,
          -24.206175228534864,
          -24.106239396352187,
          -22.807073577977345,
          null,
          -23.606560235438785,
          -23.70649606762146,
          -24.505982725082905,
          -23.872377405522503,
          -22.67693013042124,
          -23.772756799264062,
          null,
          null
         ],
         "xaxis": "x",
         "xbins": {
          "size": 1
         },
         "yaxis": "y"
        },
        {
         "alignmentgroup": "True",
         "bingroup": "x",
         "hovertemplate": "Host=trolleite<br>type=type2B<br>Tm Hh=%{x}<br>count=%{y}<extra></extra>",
         "legendgroup": "trolleite, type2B",
         "marker": {
          "color": "rgb(0,158,115)",
          "line": {
           "color": "DarkSlateGrey",
           "width": 0.8
          },
          "pattern": {
           "shape": "x"
          }
         },
         "name": "trolleite, type2B",
         "offsetgroup": "trolleite, type2B",
         "orientation": "v",
         "showlegend": true,
         "type": "histogram",
         "x": [
          -25.47595562262897,
          -25.27660518161807,
          -23.737827464099755
         ],
         "xaxis": "x",
         "xbins": {
          "size": 1
         },
         "yaxis": "y"
        },
        {
         "alignmentgroup": "True",
         "bingroup": "x",
         "hovertemplate": "Host=scorzalite<br>type=type2A<br>Tm Hh=%{x}<br>count=%{y}<extra></extra>",
         "legendgroup": "scorzalite, type2A",
         "marker": {
          "color": "rgb(0,0,255)",
          "line": {
           "color": "DarkSlateGrey",
           "width": 0.8
          },
          "pattern": {
           "shape": ""
          }
         },
         "name": "scorzalite, type2A",
         "offsetgroup": "scorzalite, type2A",
         "orientation": "v",
         "showlegend": true,
         "type": "histogram",
         "x": [
          -23.507344121983607,
          null,
          null,
          null,
          -26.03630336074679,
          -28.529849110163088,
          -21.753932364420617,
          null,
          -24.92816452390724,
          -23.341048444163928,
          -22.547490404292272,
          -22.9442694242281
         ],
         "xaxis": "x",
         "xbins": {
          "size": 1
         },
         "yaxis": "y"
        },
        {
         "alignmentgroup": "True",
         "bingroup": "x",
         "hovertemplate": "Host=bertossaite<br>type=type2A<br>Tm Hh=%{x}<br>count=%{y}<extra></extra>",
         "legendgroup": "bertossaite, type2A",
         "marker": {
          "color": "rgb(204,121,167)",
          "line": {
           "color": "DarkSlateGrey",
           "width": 0.8
          },
          "pattern": {
           "shape": ""
          }
         },
         "name": "bertossaite, type2A",
         "offsetgroup": "bertossaite, type2A",
         "orientation": "v",
         "showlegend": true,
         "type": "histogram",
         "x": [
          -19.47573354138161,
          -22.868641338576243,
          -19.27615072978193,
          -27.15967178796944,
          -26.06196632417118,
          null,
          -25.06405226617276,
          -24.733461397541475,
          -24.733461397541475,
          -24.03621200906043,
          -23.637783787071264,
          -23.737827464099755,
          -20.761984814581048,
          -21.257958589500834,
          -21.416590977898885,
          -22.31327714555396,
          -22.21364534914784,
          -22.911067923990675,
          -23.807754091645744,
          -20.818800199462167,
          -23.807754091645744,
          -22.104827103320257,
          -22.701536970281293,
          -23.99440834869687,
          -21.395571177195404,
          -21.494563161418785,
          -20.70262728763174,
          -22.08851506675907,
          -20.603635303408357,
          -20.30665935073821,
          -21.593555145642163,
          -20.207667366514837,
          null,
          null,
          null,
          null,
          null,
          null,
          null,
          null,
          null,
          null,
          null,
          null
         ],
         "xaxis": "x",
         "xbins": {
          "size": 1
         },
         "yaxis": "y"
        },
        {
         "alignmentgroup": "True",
         "bingroup": "x",
         "hovertemplate": "Host=bertossaite<br>type=type1<br>Tm Hh=%{x}<br>count=%{y}<extra></extra>",
         "legendgroup": "bertossaite, type1",
         "marker": {
          "color": "rgb(204,121,167)",
          "line": {
           "color": "DarkSlateGrey",
           "width": 0.8
          },
          "pattern": {
           "shape": "/"
          }
         },
         "name": "bertossaite, type1",
         "offsetgroup": "bertossaite, type1",
         "orientation": "v",
         "showlegend": true,
         "type": "histogram",
         "x": [
          -22.34910089432436,
          -25.981160548233213,
          null
         ],
         "xaxis": "x",
         "xbins": {
          "size": 1
         },
         "yaxis": "y"
        },
        {
         "alignmentgroup": "True",
         "bingroup": "x",
         "hovertemplate": "Host=bertossaite<br>type=type3<br>Tm Hh=%{x}<br>count=%{y}<extra></extra>",
         "legendgroup": "bertossaite, type3",
         "marker": {
          "color": "rgb(204,121,167)",
          "line": {
           "color": "DarkSlateGrey",
           "width": 0.8
          },
          "pattern": {
           "shape": "\\"
          }
         },
         "name": "bertossaite, type3",
         "offsetgroup": "bertossaite, type3",
         "orientation": "v",
         "showlegend": true,
         "type": "histogram",
         "x": [
          -24.565095237173555,
          -25.862383512571498,
          -26.161757729971026,
          -25.06405226617276,
          -23.241853689179973,
          -22.646685159276227,
          -23.14265893419601,
          -22.9442694242281,
          -25.0273592788912,
          -25.981160548233213,
          -26.37424178978619,
          -26.57078241056268,
          -25.981160548233213,
          -24.06835475122669
         ],
         "xaxis": "x",
         "xbins": {
          "size": 1
         },
         "yaxis": "y"
        },
        {
         "alignmentgroup": "True",
         "bingroup": "x",
         "hovertemplate": "Host=bertossaite<br>type=type2B<br>Tm Hh=%{x}<br>count=%{y}<extra></extra>",
         "legendgroup": "bertossaite, type2B",
         "marker": {
          "color": "rgb(204,121,167)",
          "line": {
           "color": "DarkSlateGrey",
           "width": 0.8
          },
          "pattern": {
           "shape": "x"
          }
         },
         "name": "bertossaite, type2B",
         "offsetgroup": "bertossaite, type2B",
         "orientation": "v",
         "showlegend": true,
         "type": "histogram",
         "x": [
          null,
          null
         ],
         "xaxis": "x",
         "xbins": {
          "size": 1
         },
         "yaxis": "y"
        },
        {
         "alignmentgroup": "True",
         "bingroup": "x",
         "hovertemplate": "Host=brazilianite<br>type=type2A<br>Tm Hh=%{x}<br>count=%{y}<extra></extra>",
         "legendgroup": "brazilianite, type2A",
         "marker": {
          "color": "rgb(250,120,10)",
          "line": {
           "color": "DarkSlateGrey",
           "width": 0.8
          },
          "pattern": {
           "shape": ""
          }
         },
         "name": "brazilianite, type2A",
         "offsetgroup": "brazilianite, type2A",
         "orientation": "v",
         "showlegend": true,
         "type": "histogram",
         "x": [
          -25.95005374961156,
          -26.94729936080337,
          -26.2492274329691,
          -26.14950287184992,
          -24.05528708834711,
          -25.152257260658104,
          -24.15501164946629,
          -24.15501164946629,
          -26.747850238565007,
          -25.55115550513483,
          -26.34895199408828,
          -26.049778310730737,
          -25.750604627373196,
          -24.60537620279777,
          -23.622673098915325,
          -22.178827099129048,
          -22.477688917904363,
          -22.079206492870608,
          null,
          null,
          null,
          null,
          null,
          null,
          null,
          null,
          null,
          null,
          null,
          null,
          null,
          null,
          null,
          null,
          null
         ],
         "xaxis": "x",
         "xbins": {
          "size": 1
         },
         "yaxis": "y"
        },
        {
         "alignmentgroup": "True",
         "bingroup": "x",
         "hovertemplate": "Host=brazilianite<br>type=type1<br>Tm Hh=%{x}<br>count=%{y}<extra></extra>",
         "legendgroup": "brazilianite, type1",
         "marker": {
          "color": "rgb(250,120,10)",
          "line": {
           "color": "DarkSlateGrey",
           "width": 0.8
          },
          "pattern": {
           "shape": "/"
          }
         },
         "name": "brazilianite, type1",
         "offsetgroup": "brazilianite, type1",
         "orientation": "v",
         "showlegend": true,
         "type": "histogram",
         "x": [
          -26.94729936080337,
          -24.015754340468305,
          -23.91748403008006,
          -24.50710589240953,
          -23.573515586747188,
          -23.37427437423031,
          null
         ],
         "xaxis": "x",
         "xbins": {
          "size": 1
         },
         "yaxis": "y"
        },
        {
         "alignmentgroup": "True",
         "bingroup": "x",
         "hovertemplate": "Host=brazilianite<br>type=type3<br>Tm Hh=%{x}<br>count=%{y}<extra></extra>",
         "legendgroup": "brazilianite, type3",
         "marker": {
          "color": "rgb(250,120,10)",
          "line": {
           "color": "DarkSlateGrey",
           "width": 0.8
          },
          "pattern": {
           "shape": "\\"
          }
         },
         "name": "brazilianite, type3",
         "offsetgroup": "brazilianite, type3",
         "orientation": "v",
         "showlegend": true,
         "type": "histogram",
         "x": [
          -22.260244988201844,
          -24.15501164946629,
          -25.152257260658104,
          -29.041515144306175,
          -28.44316777759109,
          -28.44316777759109
         ],
         "xaxis": "x",
         "xbins": {
          "size": 1
         },
         "yaxis": "y"
        },
        {
         "alignmentgroup": "True",
         "bingroup": "x",
         "hovertemplate": "Host=augelite<br>type=type2A<br>Tm Hh=%{x}<br>count=%{y}<extra></extra>",
         "legendgroup": "augelite, type2A",
         "marker": {
          "color": "rgb(51,255,51)",
          "line": {
           "color": "DarkSlateGrey",
           "width": 0.8
          },
          "pattern": {
           "shape": ""
          }
         },
         "name": "augelite, type2A",
         "offsetgroup": "augelite, type2A",
         "orientation": "v",
         "showlegend": true,
         "type": "histogram",
         "x": [
          -22.78145895632274,
          -22.4844830036526,
          -23.07843490899288,
          -23.177426893216264,
          -22.583474987875974,
          -23.27641887743965,
          -22.583474987875974,
          -24.95928260923712,
          -24.563314672343594,
          -23.87037078277993,
          null,
          -22.4844830036526,
          -22.78145895632274,
          -23.67238681433317,
          -24.06835475122669,
          null,
          null,
          null
         ],
         "xaxis": "x",
         "xbins": {
          "size": 1
         },
         "yaxis": "y"
        },
        {
         "alignmentgroup": "True",
         "bingroup": "x",
         "hovertemplate": "Host=augelite<br>type=type1<br>Tm Hh=%{x}<br>count=%{y}<extra></extra>",
         "legendgroup": "augelite, type1",
         "marker": {
          "color": "rgb(51,255,51)",
          "line": {
           "color": "DarkSlateGrey",
           "width": 0.8
          },
          "pattern": {
           "shape": "/"
          }
         },
         "name": "augelite, type1",
         "offsetgroup": "augelite, type1",
         "orientation": "v",
         "showlegend": true,
         "type": "histogram",
         "x": [
          -22.88045094054612
         ],
         "xaxis": "x",
         "xbins": {
          "size": 1
         },
         "yaxis": "y"
        },
        {
         "alignmentgroup": "True",
         "bingroup": "x",
         "hovertemplate": "Host=augelite<br>type=type3<br>Tm Hh=%{x}<br>count=%{y}<extra></extra>",
         "legendgroup": "augelite, type3",
         "marker": {
          "color": "rgb(51,255,51)",
          "line": {
           "color": "DarkSlateGrey",
           "width": 0.8
          },
          "pattern": {
           "shape": "\\"
          }
         },
         "name": "augelite, type3",
         "offsetgroup": "augelite, type3",
         "orientation": "v",
         "showlegend": true,
         "type": "histogram",
         "x": [
          -22.78145895632274,
          -22.9794429247695,
          -18.326819666270595
         ],
         "xaxis": "x",
         "xbins": {
          "size": 1
         },
         "yaxis": "y"
        },
        {
         "alignmentgroup": "True",
         "bingroup": "x",
         "hovertemplate": "Host=augelite<br>type=type2B<br>Tm Hh=%{x}<br>count=%{y}<extra></extra>",
         "legendgroup": "augelite, type2B",
         "marker": {
          "color": "rgb(51,255,51)",
          "line": {
           "color": "DarkSlateGrey",
           "width": 0.8
          },
          "pattern": {
           "shape": "x"
          }
         },
         "name": "augelite, type2B",
         "offsetgroup": "augelite, type2B",
         "orientation": "v",
         "showlegend": true,
         "type": "histogram",
         "x": [
          null
         ],
         "xaxis": "x",
         "xbins": {
          "size": 1
         },
         "yaxis": "y"
        },
        {
         "alignmentgroup": "True",
         "bingroup": "x",
         "hovertemplate": "Host=wyllieite<br>type=type1<br>Tm Hh=%{x}<br>count=%{y}<extra></extra>",
         "legendgroup": "wyllieite, type1",
         "marker": {
          "color": "rgb(0,170,250)",
          "line": {
           "color": "DarkSlateGrey",
           "width": 0.8
          },
          "pattern": {
           "shape": "/"
          }
         },
         "name": "wyllieite, type1",
         "offsetgroup": "wyllieite, type1",
         "orientation": "v",
         "showlegend": true,
         "type": "histogram",
         "x": [
          -20.50464331918497,
          -20.99960324030188,
          -21.395571177195404,
          -21.98952308253569,
          -23.07843490899288,
          null,
          null,
          null
         ],
         "xaxis": "x",
         "xbins": {
          "size": 1
         },
         "yaxis": "y"
        },
        {
         "alignmentgroup": "True",
         "bingroup": "x",
         "hovertemplate": "Host=quartz<br>type=type2A<br>Tm H2O=%{x}<br>count=%{y}<extra></extra>",
         "legendgroup": "quartz, type2A",
         "marker": {
          "color": "rgb(240,228,66)",
          "line": {
           "color": "DarkSlateGrey",
           "width": 0.8
          },
          "pattern": {
           "shape": ""
          }
         },
         "name": "quartz, type2A",
         "offsetgroup": "quartz, type2A",
         "orientation": "v",
         "showlegend": true,
         "type": "histogram",
         "x": [
          null,
          null,
          -18.95463343240449,
          -16.00771329167391,
          -16.698468762886645,
          -11.075028864248978,
          -11.075028864248978,
          -14.527522996218048,
          -15.514316526521956,
          -13.047332700762189,
          -15.711675232582737,
          -14.527522996218048,
          -17.882620999251333,
          -15.711675232582737,
          -16.1063926447043,
          -14.132805584096484,
          -18.376017764403286,
          -15.81035458561313,
          -16.00771329167391,
          -20.05356676591993,
          -19.066773235616026,
          null,
          -19.95488741288954,
          -18.99461086234418,
          -16.71618905373365,
          -18.1030545024531,
          -19.09367268010985,
          -16.220879964905272,
          -18.30117813798445,
          -18.1030545024531,
          -21.768341759783087,
          -20.71916840305605,
          -18.02910990009083,
          -17.929478103684712,
          -17.430599812125482,
          -20.314697502437152,
          -19.61853599098261,
          -19.519084346489105,
          -14.844857055294328,
          -15.242663633268352,
          -11.562952787008632,
          -13.55198567687875,
          -11.165146209034612,
          -15.143211988774846
         ],
         "xaxis": "x2",
         "xbins": {
          "size": 1
         },
         "yaxis": "y2"
        },
        {
         "alignmentgroup": "True",
         "bingroup": "x",
         "hovertemplate": "Host=quartz<br>type=type2B<br>Tm H2O=%{x}<br>count=%{y}<extra></extra>",
         "legendgroup": "quartz, type2B",
         "marker": {
          "color": "rgb(240,228,66)",
          "line": {
           "color": "DarkSlateGrey",
           "width": 0.8
          },
          "pattern": {
           "shape": "x"
          }
         },
         "name": "quartz, type2B",
         "offsetgroup": "quartz, type2B",
         "orientation": "v",
         "showlegend": true,
         "type": "histogram",
         "x": [
          null
         ],
         "xaxis": "x2",
         "xbins": {
          "size": 1
         },
         "yaxis": "y2"
        },
        {
         "alignmentgroup": "True",
         "bingroup": "x",
         "hovertemplate": "Host=trolleite<br>type=type2A<br>Tm H2O=%{x}<br>count=%{y}<extra></extra>",
         "legendgroup": "trolleite, type2A",
         "marker": {
          "color": "rgb(0,158,115)",
          "line": {
           "color": "DarkSlateGrey",
           "width": 0.8
          },
          "pattern": {
           "shape": ""
          }
         },
         "name": "trolleite, type2A",
         "offsetgroup": "trolleite, type2A",
         "orientation": "v",
         "showlegend": true,
         "type": "histogram",
         "x": [
          -16.062120363081583,
          -10.7777075810632,
          -16.797148115917036,
          null,
          -14.312330926018909,
          -17.87914792677834,
          -12.020605172927874,
          -14.403741208392471,
          -9.692796017450364,
          -13.322378190784285,
          -14.71110476055968,
          -14.909494270527594,
          -13.818351965704068,
          -13.223183435800328,
          -13.123988680816373,
          -8.161843821335562,
          -8.752198130673365,
          -15.442880303168463,
          -16.033234612506263,
          -23.879807577592327,
          null,
          -15.811565325189736,
          null,
          -14.612335338997571,
          -13.312593142127993,
          -14.906522842263012,
          -15.9027289048474,
          -17.297417392465544,
          -16.301211329881156,
          -16.600073148656474,
          -16.20159072362272,
          null,
          null,
          null,
          null,
          null,
          null
         ],
         "xaxis": "x2",
         "xbins": {
          "size": 1
         },
         "yaxis": "y2"
        },
        {
         "alignmentgroup": "True",
         "bingroup": "x",
         "hovertemplate": "Host=trolleite<br>type=type1<br>Tm H2O=%{x}<br>count=%{y}<extra></extra>",
         "legendgroup": "trolleite, type1",
         "marker": {
          "color": "rgb(0,158,115)",
          "line": {
           "color": "DarkSlateGrey",
           "width": 0.8
          },
          "pattern": {
           "shape": "/"
          }
         },
         "name": "trolleite, type1",
         "offsetgroup": "trolleite, type1",
         "orientation": "v",
         "showlegend": true,
         "type": "histogram",
         "x": [
          -22.224512532588527,
          -14.412006146524355,
          -16.00063657535112,
          -12.429625395928673,
          null,
          -15.10788378049551,
          null,
          -13.619962455736156,
          -14.286993612032022,
          -15.073156095137984,
          -12.812938956208342,
          -8.457020976004463,
          -15.836449842727,
          -16.033234612506263,
          -15.934842227616633,
          -17.0171584614026,
          -16.721981306733703,
          -23.06474768252215,
          -23.58018539838582,
          -23.080815099708303,
          -17.78748993372664,
          -22.807073577977345,
          -17.610410304477977,
          -16.710987814833857,
          -14.012720345901494,
          null,
          null,
          -15.511757828641697,
          -22.40733024924662,
          -17.810281968843338,
          -18.393244061308373,
          -15.80310829858896,
          -15.20538466103833,
          null,
          null
         ],
         "xaxis": "x2",
         "xbins": {
          "size": 1
         },
         "yaxis": "y2"
        },
        {
         "alignmentgroup": "True",
         "bingroup": "x",
         "hovertemplate": "Host=trolleite<br>type=type2B<br>Tm H2O=%{x}<br>count=%{y}<extra></extra>",
         "legendgroup": "trolleite, type2B",
         "marker": {
          "color": "rgb(0,158,115)",
          "line": {
           "color": "DarkSlateGrey",
           "width": 0.8
          },
          "pattern": {
           "shape": "x"
          }
         },
         "name": "trolleite, type2B",
         "offsetgroup": "trolleite, type2B",
         "orientation": "v",
         "showlegend": true,
         "type": "histogram",
         "x": [
          -15.109732690062485,
          -14.611356587535248,
          -13.322378190784285
         ],
         "xaxis": "x2",
         "xbins": {
          "size": 1
         },
         "yaxis": "y2"
        },
        {
         "alignmentgroup": "True",
         "bingroup": "x",
         "hovertemplate": "Host=scorzalite<br>type=type2A<br>Tm H2O=%{x}<br>count=%{y}<extra></extra>",
         "legendgroup": "scorzalite, type2A",
         "marker": {
          "color": "rgb(0,0,255)",
          "line": {
           "color": "DarkSlateGrey",
           "width": 0.8
          },
          "pattern": {
           "shape": ""
          }
         },
         "name": "scorzalite, type2A",
         "offsetgroup": "scorzalite, type2A",
         "orientation": "v",
         "showlegend": true,
         "type": "histogram",
         "x": [
          -18.178659058342504,
          -20.448284178041494,
          -21.23771900228462,
          -20.448284178041494,
          -15.363927553245016,
          -14.466251083455148,
          -13.818351965704068,
          null,
          -15.802247065383206,
          -13.322378190784285,
          -10.842509316185362,
          -11.437677846089104
         ],
         "xaxis": "x2",
         "xbins": {
          "size": 1
         },
         "yaxis": "y2"
        },
        {
         "alignmentgroup": "True",
         "bingroup": "x",
         "hovertemplate": "Host=bertossaite<br>type=type2A<br>Tm H2O=%{x}<br>count=%{y}<extra></extra>",
         "legendgroup": "bertossaite, type2A",
         "marker": {
          "color": "rgb(204,121,167)",
          "line": {
           "color": "DarkSlateGrey",
           "width": 0.8
          },
          "pattern": {
           "shape": ""
          }
         },
         "name": "bertossaite, type2A",
         "offsetgroup": "bertossaite, type2A",
         "orientation": "v",
         "showlegend": true,
         "type": "histogram",
         "x": [
          -10.69408983099553,
          -10.494507019395844,
          -10.09534139619648,
          -22.66905852697656,
          -22.569267121176715,
          -23.46738977337529,
          -21.870727280577825,
          -10.788473627920578,
          -10.788473627920578,
          -8.59711840698015,
          -10.390045405931408,
          -11.933651621008888,
          -9.65217225637788,
          -6.577134851875218,
          -16.136105768374563,
          -16.235737564780685,
          -17.232055528841876,
          -16.335369361186803,
          -16.335369361186803,
          -15.339051397125612,
          -18.925796067745903,
          -17.430599812125482,
          -17.728954745605996,
          -17.132244878644965,
          -11.991332675974208,
          -11.298388786410545,
          -11.298388786410545,
          -11.001412833740398,
          -11.397380770633925,
          -12.288308628644351,
          -10.803428865293638,
          -14.367140297335354,
          null,
          null,
          null,
          null,
          null,
          null,
          null,
          null,
          null,
          null,
          null,
          null
         ],
         "xaxis": "x2",
         "xbins": {
          "size": 1
         },
         "yaxis": "y2"
        },
        {
         "alignmentgroup": "True",
         "bingroup": "x",
         "hovertemplate": "Host=bertossaite<br>type=type1<br>Tm H2O=%{x}<br>count=%{y}<extra></extra>",
         "legendgroup": "bertossaite, type1",
         "marker": {
          "color": "rgb(204,121,167)",
          "line": {
           "color": "DarkSlateGrey",
           "width": 0.8
          },
          "pattern": {
           "shape": "/"
          }
         },
         "name": "bertossaite, type1",
         "offsetgroup": "bertossaite, type1",
         "orientation": "v",
         "showlegend": true,
         "type": "histogram",
         "x": [
          -12.032846375992843,
          -12.125046783490626,
          null
         ],
         "xaxis": "x2",
         "xbins": {
          "size": 1
         },
         "yaxis": "y2"
        },
        {
         "alignmentgroup": "True",
         "bingroup": "x",
         "hovertemplate": "Host=bertossaite<br>type=type3<br>Tm H2O=%{x}<br>count=%{y}<extra></extra>",
         "legendgroup": "bertossaite, type3",
         "marker": {
          "color": "rgb(204,121,167)",
          "line": {
           "color": "DarkSlateGrey",
           "width": 0.8
          },
          "pattern": {
           "shape": "\\"
          }
         },
         "name": "bertossaite, type3",
         "offsetgroup": "bertossaite, type3",
         "orientation": "v",
         "showlegend": true,
         "type": "histogram",
         "x": [
          -12.390543729592842,
          -12.889500758592051,
          -11.891586700593631,
          -13.089083570191736,
          -15.207078535479464,
          -11.735262111040974,
          -11.23928833612119,
          -11.834456866024931,
          -11.53687260107306,
          -12.22331709387887,
          -11.731965541937646,
          -11.535424921161155,
          -11.731965541937646,
          -10.605444896846876
         ],
         "xaxis": "x2",
         "xbins": {
          "size": 1
         },
         "yaxis": "y2"
        },
        {
         "alignmentgroup": "True",
         "bingroup": "x",
         "hovertemplate": "Host=bertossaite<br>type=type2B<br>Tm H2O=%{x}<br>count=%{y}<extra></extra>",
         "legendgroup": "bertossaite, type2B",
         "marker": {
          "color": "rgb(204,121,167)",
          "line": {
           "color": "DarkSlateGrey",
           "width": 0.8
          },
          "pattern": {
           "shape": "x"
          }
         },
         "name": "bertossaite, type2B",
         "offsetgroup": "bertossaite, type2B",
         "orientation": "v",
         "showlegend": true,
         "type": "histogram",
         "x": [
          -2.610985961208336,
          null
         ],
         "xaxis": "x2",
         "xbins": {
          "size": 1
         },
         "yaxis": "y2"
        },
        {
         "alignmentgroup": "True",
         "bingroup": "x",
         "hovertemplate": "Host=brazilianite<br>type=type2A<br>Tm H2O=%{x}<br>count=%{y}<extra></extra>",
         "legendgroup": "brazilianite, type2A",
         "marker": {
          "color": "rgb(250,120,10)",
          "line": {
           "color": "DarkSlateGrey",
           "width": 0.8
          },
          "pattern": {
           "shape": ""
          }
         },
         "name": "brazilianite, type2A",
         "offsetgroup": "brazilianite, type2A",
         "orientation": "v",
         "showlegend": true,
         "type": "histogram",
         "x": [
          -12.387513437402887,
          -12.387513437402887,
          -11.888890631806982,
          -11.489992387330256,
          -11.589716948449436,
          -11.888890631806982,
          -12.58696255964125,
          -11.489992387330256,
          -11.689441509568615,
          -12.387513437402887,
          -10.692195898376804,
          -12.786411681879612,
          -11.09109414285353,
          -10.15964057572572,
          -10.15964057572572,
          -16.79931436117335,
          -16.600073148656474,
          -16.79931436117335,
          null,
          null,
          null,
          null,
          null,
          null,
          null,
          null,
          null,
          null,
          null,
          null,
          null,
          null,
          null,
          null,
          null
         ],
         "xaxis": "x2",
         "xbins": {
          "size": 1
         },
         "yaxis": "y2"
        },
        {
         "alignmentgroup": "True",
         "bingroup": "x",
         "hovertemplate": "Host=brazilianite<br>type=type1<br>Tm H2O=%{x}<br>count=%{y}<extra></extra>",
         "legendgroup": "brazilianite, type1",
         "marker": {
          "color": "rgb(250,120,10)",
          "line": {
           "color": "DarkSlateGrey",
           "width": 0.8
          },
          "pattern": {
           "shape": "/"
          }
         },
         "name": "brazilianite, type1",
         "offsetgroup": "brazilianite, type1",
         "orientation": "v",
         "showlegend": true,
         "type": "histogram",
         "x": [
          -11.489992387330256,
          -9.96309995494923,
          -9.96309995494923,
          -9.96309995494923,
          -16.79931436117335,
          -17.496658604982425,
          null
         ],
         "xaxis": "x2",
         "xbins": {
          "size": 1
         },
         "yaxis": "y2"
        },
        {
         "alignmentgroup": "True",
         "bingroup": "x",
         "hovertemplate": "Host=brazilianite<br>type=type3<br>Tm H2O=%{x}<br>count=%{y}<extra></extra>",
         "legendgroup": "brazilianite, type3",
         "marker": {
          "color": "rgb(250,120,10)",
          "line": {
           "color": "DarkSlateGrey",
           "width": 0.8
          },
          "pattern": {
           "shape": "\\"
          }
         },
         "name": "brazilianite, type3",
         "offsetgroup": "brazilianite, type3",
         "orientation": "v",
         "showlegend": true,
         "type": "histogram",
         "x": [
          -12.985860804117976,
          -10.791920459495987,
          -10.991369581734348,
          -14.382004659786515,
          -14.880627465382425,
          -12.387513437402887
         ],
         "xaxis": "x2",
         "xbins": {
          "size": 1
         },
         "yaxis": "y2"
        },
        {
         "alignmentgroup": "True",
         "bingroup": "x",
         "hovertemplate": "Host=augelite<br>type=type2A<br>Tm H2O=%{x}<br>count=%{y}<extra></extra>",
         "legendgroup": "augelite, type2A",
         "marker": {
          "color": "rgb(51,255,51)",
          "line": {
           "color": "DarkSlateGrey",
           "width": 0.8
          },
          "pattern": {
           "shape": ""
          }
         },
         "name": "augelite, type2A",
         "offsetgroup": "augelite, type2A",
         "orientation": "v",
         "showlegend": true,
         "type": "histogram",
         "x": [
          -13.476212439324923,
          -15.753028076462687,
          -15.753028076462687,
          -18.12883569782383,
          -14.169156328888592,
          -11.793348707527446,
          -11.595364739080686,
          -16.84193990291988,
          -17.237907839813403,
          -16.544963950249738,
          null,
          -13.971172360441829,
          -15.357060139569162,
          -17.534883792483544,
          -15.951012044909447,
          null,
          null,
          null
         ],
         "xaxis": "x2",
         "xbins": {
          "size": 1
         },
         "yaxis": "y2"
        },
        {
         "alignmentgroup": "True",
         "bingroup": "x",
         "hovertemplate": "Host=augelite<br>type=type1<br>Tm H2O=%{x}<br>count=%{y}<extra></extra>",
         "legendgroup": "augelite, type1",
         "marker": {
          "color": "rgb(51,255,51)",
          "line": {
           "color": "DarkSlateGrey",
           "width": 0.8
          },
          "pattern": {
           "shape": "/"
          }
         },
         "name": "augelite, type1",
         "offsetgroup": "augelite, type1",
         "orientation": "v",
         "showlegend": true,
         "type": "histogram",
         "x": [
          -13.971172360441829
         ],
         "xaxis": "x2",
         "xbins": {
          "size": 1
         },
         "yaxis": "y2"
        },
        {
         "alignmentgroup": "True",
         "bingroup": "x",
         "hovertemplate": "Host=augelite<br>type=type3<br>Tm H2O=%{x}<br>count=%{y}<extra></extra>",
         "legendgroup": "augelite, type3",
         "marker": {
          "color": "rgb(51,255,51)",
          "line": {
           "color": "DarkSlateGrey",
           "width": 0.8
          },
          "pattern": {
           "shape": "\\"
          }
         },
         "name": "augelite, type3",
         "offsetgroup": "augelite, type3",
         "orientation": "v",
         "showlegend": true,
         "type": "histogram",
         "x": [
          -17.13891585559002,
          -12.684276565537877,
          -16.940931887143257
         ],
         "xaxis": "x2",
         "xbins": {
          "size": 1
         },
         "yaxis": "y2"
        },
        {
         "alignmentgroup": "True",
         "bingroup": "x",
         "hovertemplate": "Host=augelite<br>type=type2B<br>Tm H2O=%{x}<br>count=%{y}<extra></extra>",
         "legendgroup": "augelite, type2B",
         "marker": {
          "color": "rgb(51,255,51)",
          "line": {
           "color": "DarkSlateGrey",
           "width": 0.8
          },
          "pattern": {
           "shape": "x"
          }
         },
         "name": "augelite, type2B",
         "offsetgroup": "augelite, type2B",
         "orientation": "v",
         "showlegend": true,
         "type": "histogram",
         "x": [
          -11.397380770633925
         ],
         "xaxis": "x2",
         "xbins": {
          "size": 1
         },
         "yaxis": "y2"
        },
        {
         "alignmentgroup": "True",
         "bingroup": "x",
         "hovertemplate": "Host=wyllieite<br>type=type1<br>Tm H2O=%{x}<br>count=%{y}<extra></extra>",
         "legendgroup": "wyllieite, type1",
         "marker": {
          "color": "rgb(0,170,250)",
          "line": {
           "color": "DarkSlateGrey",
           "width": 0.8
          },
          "pattern": {
           "shape": "/"
          }
         },
         "name": "wyllieite, type1",
         "offsetgroup": "wyllieite, type1",
         "orientation": "v",
         "showlegend": true,
         "type": "histogram",
         "x": [
          -12.882260533984638,
          -11.10040481796378,
          -11.10040481796378,
          -11.595364739080686,
          -10.902420849517018,
          null,
          null,
          null
         ],
         "xaxis": "x2",
         "xbins": {
          "size": 1
         },
         "yaxis": "y2"
        },
        {
         "alignmentgroup": "True",
         "bingroup": "x",
         "hovertemplate": "Host=quartz<br>type=type2A<br>Tm CL=%{x}<br>count=%{y}<extra></extra>",
         "legendgroup": "quartz, type2A",
         "marker": {
          "color": "rgb(240,228,66)",
          "line": {
           "color": "DarkSlateGrey",
           "width": 0.8
          },
          "pattern": {
           "shape": ""
          }
         },
         "name": "quartz, type2A",
         "offsetgroup": "quartz, type2A",
         "orientation": "v",
         "showlegend": true,
         "type": "histogram",
         "x": [
          null,
          null,
          0.7942489029726162,
          null,
          0.3730593113709553,
          0.49502341304266,
          0.49502341304266,
          1.5572115477356443,
          null,
          -1.6992071022672504,
          1.5572115477356443,
          0.1757006053101737,
          0.3730593113709553,
          -1.3044896901456875,
          -0.8110929249937338,
          -0.5150548659025616,
          null,
          -2.4886419265103763,
          -3.3767561037838933,
          -1.4031690431760782,
          -2.1926038674192045,
          -3.179397397723112,
          -1.008451631054515,
          1.4121235973849202,
          2.2046181395103224,
          0.2233817841968173,
          -1.262545482288311,
          -0.5691127579285846,
          1.0158763263222192,
          1.2139999618535695,
          3.0961744994013998,
          -1.091704511050558,
          0.2035088422289922,
          0.2035088422289922,
          0.9679544191731072,
          0.1723412632250601,
          -0.3249169592424693,
          -1.3194334041775282,
          -0.2254653147489634,
          -3.5073695830346576,
          0.8685027746796014,
          -0.4243686037359752,
          -4.800240961450235,
          -0.3249169592424693
         ],
         "xaxis": "x3",
         "xbins": {
          "size": 1
         },
         "yaxis": "y3"
        },
        {
         "alignmentgroup": "True",
         "bingroup": "x",
         "hovertemplate": "Host=quartz<br>type=type2B<br>Tm CL=%{x}<br>count=%{y}<extra></extra>",
         "legendgroup": "quartz, type2B",
         "marker": {
          "color": "rgb(240,228,66)",
          "line": {
           "color": "DarkSlateGrey",
           "width": 0.8
          },
          "pattern": {
           "shape": "x"
          }
         },
         "name": "quartz, type2B",
         "offsetgroup": "quartz, type2B",
         "orientation": "v",
         "showlegend": true,
         "type": "histogram",
         "x": [
          null
         ],
         "xaxis": "x3",
         "xbins": {
          "size": 1
         },
         "yaxis": "y3"
        },
        {
         "alignmentgroup": "True",
         "bingroup": "x",
         "hovertemplate": "Host=trolleite<br>type=type2A<br>Tm CL=%{x}<br>count=%{y}<extra></extra>",
         "legendgroup": "trolleite, type2A",
         "marker": {
          "color": "rgb(0,158,115)",
          "line": {
           "color": "DarkSlateGrey",
           "width": 0.8
          },
          "pattern": {
           "shape": ""
          }
         },
         "name": "trolleite, type2A",
         "offsetgroup": "trolleite, type2A",
         "orientation": "v",
         "showlegend": true,
         "type": "histogram",
         "x": [
          -4.891035405696552,
          -2.686000632571158,
          -1.9952451613584223,
          null,
          2.233755677885284,
          1.0866430221274177,
          4.065563066458165,
          4.3634550708912405,
          0.5667306987707291,
          -1.7165918576613317,
          1.854419321761116,
          2.251198341696944,
          2.449587851664857,
          2.9455616265846416,
          2.3503930966809,
          6.498621527219875,
          1.382217512958917,
          1.874179437407086,
          2.366141361855255,
          1.6879517146964589,
          1.977012803327324,
          1.877076971144644,
          1.277461978048563,
          1.977012803327324,
          1.730118402896265,
          2.6267038592222143,
          2.2282214341884594,
          0.5346711277949997,
          1.9293596154131427,
          2.1286008279300206,
          2.2282214341884594,
          null,
          null,
          null,
          null,
          null,
          null
         ],
         "xaxis": "x3",
         "xbins": {
          "size": 1
         },
         "yaxis": "y3"
        },
        {
         "alignmentgroup": "True",
         "bingroup": "x",
         "hovertemplate": "Host=trolleite<br>type=type1<br>Tm CL=%{x}<br>count=%{y}<extra></extra>",
         "legendgroup": "trolleite, type1",
         "marker": {
          "color": "rgb(0,158,115)",
          "line": {
           "color": "DarkSlateGrey",
           "width": 0.8
          },
          "pattern": {
           "shape": "/"
          }
         },
         "name": "trolleite, type1",
         "offsetgroup": "trolleite, type1",
         "orientation": "v",
         "showlegend": true,
         "type": "histogram",
         "x": [
          -1.5018483962064688,
          -3.3480566704197448,
          2.6479773616327718,
          -2.311760387565072,
          null,
          -2.7085394075009,
          null,
          1.6560298117932022,
          2.320688843581427,
          2.418959153969672,
          2.713770085134408,
          4.03881190497903,
          2.2677489769656214,
          2.464533746744889,
          2.562926131634523,
          1.97257182229672,
          2.562926131634523,
          0.2555864663970833,
          1.3883295354899494,
          1.0887073562834404,
          2.1873220133739744,
          1.0775903136832028,
          2.4766919642407244,
          2.7764994607887643,
          2.5766277964234043,
          null,
          null,
          2.176884467692684,
          2.376756132058044,
          2.4766919642407244,
          1.6304977966378265,
          2.2282214341884594,
          2.5270832529637755,
          null,
          null
         ],
         "xaxis": "x3",
         "xbins": {
          "size": 1
         },
         "yaxis": "y3"
        },
        {
         "alignmentgroup": "True",
         "bingroup": "x",
         "hovertemplate": "Host=trolleite<br>type=type2B<br>Tm CL=%{x}<br>count=%{y}<extra></extra>",
         "legendgroup": "trolleite, type2B",
         "marker": {
          "color": "rgb(0,158,115)",
          "line": {
           "color": "DarkSlateGrey",
           "width": 0.8
          },
          "pattern": {
           "shape": "x"
          }
         },
         "name": "trolleite, type2B",
         "offsetgroup": "trolleite, type2B",
         "orientation": "v",
         "showlegend": true,
         "type": "histogram",
         "x": [
          5.224012293048692,
          5.8220636160813735,
          2.5487826066488144
         ],
         "xaxis": "x3",
         "xbins": {
          "size": 1
         },
         "yaxis": "y3"
        },
        {
         "alignmentgroup": "True",
         "bingroup": "x",
         "hovertemplate": "Host=scorzalite<br>type=type2A<br>Tm CL=%{x}<br>count=%{y}<extra></extra>",
         "legendgroup": "scorzalite, type2A",
         "marker": {
          "color": "rgb(0,0,255)",
          "line": {
           "color": "DarkSlateGrey",
           "width": 0.8
          },
          "pattern": {
           "shape": ""
          }
         },
         "name": "scorzalite, type2A",
         "offsetgroup": "scorzalite, type2A",
         "orientation": "v",
         "showlegend": true,
         "type": "histogram",
         "x": [
          null,
          -1.6992071022672504,
          -0.0216581007506077,
          -2.9820386916623303,
          1.691925372762485,
          0.6945070729959641,
          -3.799681712324425,
          null,
          -5.386797792067736,
          2.251198341696944,
          2.8463668716006847,
          1.060861281889461
         ],
         "xaxis": "x3",
         "xbins": {
          "size": 1
         },
         "yaxis": "y3"
        },
        {
         "alignmentgroup": "True",
         "bingroup": "x",
         "hovertemplate": "Host=bertossaite<br>type=type2A<br>Tm CL=%{x}<br>count=%{y}<extra></extra>",
         "legendgroup": "bertossaite, type2A",
         "marker": {
          "color": "rgb(204,121,167)",
          "line": {
           "color": "DarkSlateGrey",
           "width": 0.8
          },
          "pattern": {
           "shape": ""
          }
         },
         "name": "bertossaite, type2A",
         "offsetgroup": "bertossaite, type2A",
         "orientation": "v",
         "showlegend": true,
         "type": "histogram",
         "x": [
          3.9752468215812287,
          3.675872604181703,
          4.973160879579647,
          -0.2159922220121308,
          -0.1162008162122889,
          null,
          0.4825476185867624,
          4.750227029657,
          4.750227029657,
          5.646690529132629,
          4.451405863165124,
          -1.4190075927094608,
          3.4415354015044257,
          4.135898686392124,
          2.495040159569736,
          2.395408363163616,
          2.1961447703513777,
          1.598353991914662,
          2.395408363163616,
          2.594671955975855,
          1.2994586026963042,
          null,
          2.360277442082189,
          1.5646642861341424,
          3.74839281554337,
          3.649400831319989,
          3.847384799766751,
          3.74839281554337,
          3.649400831319989,
          3.154440910203084,
          3.946376783990132,
          3.154440910203084,
          null,
          null,
          null,
          null,
          null,
          null,
          null,
          null,
          null,
          null,
          null,
          null
         ],
         "xaxis": "x3",
         "xbins": {
          "size": 1
         },
         "yaxis": "y3"
        },
        {
         "alignmentgroup": "True",
         "bingroup": "x",
         "hovertemplate": "Host=bertossaite<br>type=type1<br>Tm CL=%{x}<br>count=%{y}<extra></extra>",
         "legendgroup": "bertossaite, type1",
         "marker": {
          "color": "rgb(204,121,167)",
          "line": {
           "color": "DarkSlateGrey",
           "width": 0.8
          },
          "pattern": {
           "shape": "/"
          }
         },
         "name": "bertossaite, type1",
         "offsetgroup": "bertossaite, type1",
         "orientation": "v",
         "showlegend": true,
         "type": "histogram",
         "x": [
          3.838314421440253,
          5.6618793967817655,
          null
         ],
         "xaxis": "x3",
         "xbins": {
          "size": 1
         },
         "yaxis": "y3"
        },
        {
         "alignmentgroup": "True",
         "bingroup": "x",
         "hovertemplate": "Host=bertossaite<br>type=type3<br>Tm CL=%{x}<br>count=%{y}<extra></extra>",
         "legendgroup": "bertossaite, type3",
         "marker": {
          "color": "rgb(204,121,167)",
          "line": {
           "color": "DarkSlateGrey",
           "width": 0.8
          },
          "pattern": {
           "shape": "\\"
          }
         },
         "name": "bertossaite, type3",
         "offsetgroup": "bertossaite, type3",
         "orientation": "v",
         "showlegend": true,
         "type": "histogram",
         "x": [
          -1.812654714809601,
          -2.012237526409285,
          -1.812654714809601,
          -2.2118203380089687,
          -1.5182023476934177,
          -2.5101498975329863,
          -1.3198128377255038,
          -1.4190075927094608,
          -1.4190075927094608,
          -8.587315609513798,
          -8.194234367960815,
          -8.882126540678533,
          -8.783856230290287,
          -6.744757512135016
         ],
         "xaxis": "x3",
         "xbins": {
          "size": 1
         },
         "yaxis": "y3"
        },
        {
         "alignmentgroup": "True",
         "bingroup": "x",
         "hovertemplate": "Host=bertossaite<br>type=type2B<br>Tm CL=%{x}<br>count=%{y}<extra></extra>",
         "legendgroup": "bertossaite, type2B",
         "marker": {
          "color": "rgb(204,121,167)",
          "line": {
           "color": "DarkSlateGrey",
           "width": 0.8
          },
          "pattern": {
           "shape": "x"
          }
         },
         "name": "bertossaite, type2B",
         "offsetgroup": "bertossaite, type2B",
         "orientation": "v",
         "showlegend": true,
         "type": "histogram",
         "x": [
          7.966903053574904,
          null
         ],
         "xaxis": "x3",
         "xbins": {
          "size": 1
         },
         "yaxis": "y3"
        },
        {
         "alignmentgroup": "True",
         "bingroup": "x",
         "hovertemplate": "Host=brazilianite<br>type=type2A<br>Tm CL=%{x}<br>count=%{y}<extra></extra>",
         "legendgroup": "brazilianite, type2A",
         "marker": {
          "color": "rgb(250,120,10)",
          "line": {
           "color": "DarkSlateGrey",
           "width": 0.8
          },
          "pattern": {
           "shape": ""
          }
         },
         "name": "brazilianite, type2A",
         "offsetgroup": "brazilianite, type2A",
         "orientation": "v",
         "showlegend": true,
         "type": "histogram",
         "x": [
          3.8675900250236768,
          3.8675900250236768,
          4.067039147262039,
          null,
          3.967314586142858,
          4.366212830619585,
          4.665386513977128,
          3.7678654639044953,
          3.7678654639044953,
          4.067039147262039,
          3.8675900250236768,
          -0.8194643475778476,
          4.665386513977128,
          5.072257534452294,
          4.777446603287558,
          2.327842040446898,
          2.4274626467053366,
          2.1286008279300206,
          null,
          null,
          null,
          null,
          null,
          null,
          null,
          null,
          null,
          null,
          null,
          null,
          null,
          null,
          null,
          null,
          null
         ],
         "xaxis": "x3",
         "xbins": {
          "size": 1
         },
         "yaxis": "y3"
        },
        {
         "alignmentgroup": "True",
         "bingroup": "x",
         "hovertemplate": "Host=brazilianite<br>type=type1<br>Tm CL=%{x}<br>count=%{y}<extra></extra>",
         "legendgroup": "brazilianite, type1",
         "marker": {
          "color": "rgb(250,120,10)",
          "line": {
           "color": "DarkSlateGrey",
           "width": 0.8
          },
          "pattern": {
           "shape": "/"
          }
         },
         "name": "brazilianite, type1",
         "offsetgroup": "brazilianite, type1",
         "orientation": "v",
         "showlegend": true,
         "type": "histogram",
         "x": [
          4.76511107509631,
          4.97398722406405,
          4.875716913675804,
          4.97398722406405,
          2.5270832529637755,
          2.327842040446898,
          null
         ],
         "xaxis": "x3",
         "xbins": {
          "size": 1
         },
         "yaxis": "y3"
        },
        {
         "alignmentgroup": "True",
         "bingroup": "x",
         "hovertemplate": "Host=brazilianite<br>type=type3<br>Tm CL=%{x}<br>count=%{y}<extra></extra>",
         "legendgroup": "brazilianite, type3",
         "marker": {
          "color": "rgb(250,120,10)",
          "line": {
           "color": "DarkSlateGrey",
           "width": 0.8
          },
          "pattern": {
           "shape": "\\"
          }
         },
         "name": "brazilianite, type3",
         "offsetgroup": "brazilianite, type3",
         "orientation": "v",
         "showlegend": true,
         "type": "histogram",
         "x": [
          5.164009319573036,
          -1.6172608365312986,
          -3.512027497795745,
          1.075302313686599,
          0.8758531914482358,
          1.3744759970441427
         ],
         "xaxis": "x3",
         "xbins": {
          "size": 1
         },
         "yaxis": "y3"
        },
        {
         "alignmentgroup": "True",
         "bingroup": "x",
         "hovertemplate": "Host=augelite<br>type=type2A<br>Tm CL=%{x}<br>count=%{y}<extra></extra>",
         "legendgroup": "augelite, type2A",
         "marker": {
          "color": "rgb(51,255,51)",
          "line": {
           "color": "DarkSlateGrey",
           "width": 0.8
          },
          "pattern": {
           "shape": ""
          }
         },
         "name": "augelite, type2A",
         "offsetgroup": "augelite, type2A",
         "orientation": "v",
         "showlegend": true,
         "type": "histogram",
         "x": [
          2.362505036416036,
          1.2735932099588447,
          0.6796413046185588,
          0.976617257288702,
          0.6796413046185588,
          0.7786332888419397,
          0.8776252730653209,
          0.6796413046185588,
          1.174601225735464,
          -0.3102785376152512,
          null,
          1.0756092415120828,
          0.6796413046185588,
          0.8776252730653209,
          0.5806493203951778,
          null,
          null,
          null
         ],
         "xaxis": "x3",
         "xbins": {
          "size": 1
         },
         "yaxis": "y3"
        },
        {
         "alignmentgroup": "True",
         "bingroup": "x",
         "hovertemplate": "Host=augelite<br>type=type1<br>Tm CL=%{x}<br>count=%{y}<extra></extra>",
         "legendgroup": "augelite, type1",
         "marker": {
          "color": "rgb(51,255,51)",
          "line": {
           "color": "DarkSlateGrey",
           "width": 0.8
          },
          "pattern": {
           "shape": "/"
          }
         },
         "name": "augelite, type1",
         "offsetgroup": "augelite, type1",
         "orientation": "v",
         "showlegend": true,
         "type": "histogram",
         "x": [
          1.3725851941822258
         ],
         "xaxis": "x3",
         "xbins": {
          "size": 1
         },
         "yaxis": "y3"
        },
        {
         "alignmentgroup": "True",
         "bingroup": "x",
         "hovertemplate": "Host=augelite<br>type=type3<br>Tm CL=%{x}<br>count=%{y}<extra></extra>",
         "legendgroup": "augelite, type3",
         "marker": {
          "color": "rgb(51,255,51)",
          "line": {
           "color": "DarkSlateGrey",
           "width": 0.8
          },
          "pattern": {
           "shape": "\\"
          }
         },
         "name": "augelite, type3",
         "offsetgroup": "augelite, type3",
         "orientation": "v",
         "showlegend": true,
         "type": "histogram",
         "x": [
          1.2735932099588447,
          -0.5082625060620132,
          0.976617257288702
         ],
         "xaxis": "x3",
         "xbins": {
          "size": 1
         },
         "yaxis": "y3"
        },
        {
         "alignmentgroup": "True",
         "bingroup": "x",
         "hovertemplate": "Host=augelite<br>type=type2B<br>Tm CL=%{x}<br>count=%{y}<extra></extra>",
         "legendgroup": "augelite, type2B",
         "marker": {
          "color": "rgb(51,255,51)",
          "line": {
           "color": "DarkSlateGrey",
           "width": 0.8
          },
          "pattern": {
           "shape": "x"
          }
         },
         "name": "augelite, type2B",
         "offsetgroup": "augelite, type2B",
         "orientation": "v",
         "showlegend": true,
         "type": "histogram",
         "x": [
          2.065529083745893
         ],
         "xaxis": "x3",
         "xbins": {
          "size": 1
         },
         "yaxis": "y3"
        },
        {
         "alignmentgroup": "True",
         "bingroup": "x",
         "hovertemplate": "Host=wyllieite<br>type=type1<br>Tm CL=%{x}<br>count=%{y}<extra></extra>",
         "legendgroup": "wyllieite, type1",
         "marker": {
          "color": "rgb(0,170,250)",
          "line": {
           "color": "DarkSlateGrey",
           "width": 0.8
          },
          "pattern": {
           "shape": "/"
          }
         },
         "name": "wyllieite, type1",
         "offsetgroup": "wyllieite, type1",
         "orientation": "v",
         "showlegend": true,
         "type": "histogram",
         "x": [
          1.669561146852369,
          1.5705691626289875,
          1.4715771784056066,
          1.5705691626289875,
          1.76855313107575,
          null,
          null,
          null
         ],
         "xaxis": "x3",
         "xbins": {
          "size": 1
         },
         "yaxis": "y3"
        },
        {
         "alignmentgroup": "True",
         "bingroup": "x",
         "hovertemplate": "Host=quartz<br>type=type2A<br>Th CO2=%{x}<br>count=%{y}<extra></extra>",
         "legendgroup": "quartz, type2A",
         "marker": {
          "color": "rgb(240,228,66)",
          "line": {
           "color": "DarkSlateGrey",
           "width": 0.8
          },
          "pattern": {
           "shape": ""
          }
         },
         "name": "quartz, type2A",
         "offsetgroup": "quartz, type2A",
         "orientation": "v",
         "showlegend": true,
         "type": "histogram",
         "x": [
          null,
          null,
          null,
          null,
          null,
          null,
          null,
          null,
          null,
          null,
          null,
          null,
          null,
          null,
          null,
          null,
          null,
          null,
          null,
          null,
          null,
          null,
          null,
          null,
          null,
          null,
          null,
          14.290159906922703,
          null,
          null,
          13.4976653647973,
          null,
          null,
          null,
          null,
          null,
          null,
          null,
          null,
          null,
          null,
          14.19502313680939,
          19.76431522844572,
          18.869250428004165
         ],
         "xaxis": "x4",
         "xbins": {
          "size": 1
         },
         "yaxis": "y4"
        },
        {
         "alignmentgroup": "True",
         "bingroup": "x",
         "hovertemplate": "Host=quartz<br>type=type2B<br>Th CO2=%{x}<br>count=%{y}<extra></extra>",
         "legendgroup": "quartz, type2B",
         "marker": {
          "color": "rgb(240,228,66)",
          "line": {
           "color": "DarkSlateGrey",
           "width": 0.8
          },
          "pattern": {
           "shape": "x"
          }
         },
         "name": "quartz, type2B",
         "offsetgroup": "quartz, type2B",
         "orientation": "v",
         "showlegend": true,
         "type": "histogram",
         "x": [
          null
         ],
         "xaxis": "x4",
         "xbins": {
          "size": 1
         },
         "yaxis": "y4"
        },
        {
         "alignmentgroup": "True",
         "bingroup": "x",
         "hovertemplate": "Host=trolleite<br>type=type2A<br>Th CO2=%{x}<br>count=%{y}<extra></extra>",
         "legendgroup": "trolleite, type2A",
         "marker": {
          "color": "rgb(0,158,115)",
          "line": {
           "color": "DarkSlateGrey",
           "width": 0.8
          },
          "pattern": {
           "shape": ""
          }
         },
         "name": "trolleite, type2A",
         "offsetgroup": "trolleite, type2A",
         "orientation": "v",
         "showlegend": true,
         "type": "histogram",
         "x": [
          null,
          null,
          null,
          null,
          null,
          null,
          null,
          null,
          null,
          null,
          null,
          null,
          null,
          null,
          null,
          null,
          14.665189473059485,
          null,
          null,
          24.059741095449148,
          23.063473393872822,
          null,
          null,
          null,
          null,
          null,
          null,
          null,
          null,
          null,
          null,
          null,
          null,
          null,
          null,
          null,
          null
         ],
         "xaxis": "x4",
         "xbins": {
          "size": 1
         },
         "yaxis": "y4"
        },
        {
         "alignmentgroup": "True",
         "bingroup": "x",
         "hovertemplate": "Host=trolleite<br>type=type1<br>Th CO2=%{x}<br>count=%{y}<extra></extra>",
         "legendgroup": "trolleite, type1",
         "marker": {
          "color": "rgb(0,158,115)",
          "line": {
           "color": "DarkSlateGrey",
           "width": 0.8
          },
          "pattern": {
           "shape": "/"
          }
         },
         "name": "trolleite, type1",
         "offsetgroup": "trolleite, type1",
         "orientation": "v",
         "showlegend": true,
         "type": "histogram",
         "x": [
          null,
          19.078867943305816,
          null,
          27.44666610762199,
          24.96679723302307,
          null,
          24.96679723302307,
          null,
          null,
          null,
          null,
          13.189303699714976,
          13.386088469494242,
          10.72949407747413,
          null,
          null,
          15.64911332195582,
          22.57932513886678,
          23.76011891624264,
          null,
          22.06225990073909,
          19.46578343529634,
          null,
          null,
          null,
          17.1672592950947,
          null,
          null,
          null,
          null,
          null,
          null,
          null,
          null,
          null
         ],
         "xaxis": "x4",
         "xbins": {
          "size": 1
         },
         "yaxis": "y4"
        },
        {
         "alignmentgroup": "True",
         "bingroup": "x",
         "hovertemplate": "Host=trolleite<br>type=type2B<br>Th CO2=%{x}<br>count=%{y}<extra></extra>",
         "legendgroup": "trolleite, type2B",
         "marker": {
          "color": "rgb(0,158,115)",
          "line": {
           "color": "DarkSlateGrey",
           "width": 0.8
          },
          "pattern": {
           "shape": "x"
          }
         },
         "name": "trolleite, type2B",
         "offsetgroup": "trolleite, type2B",
         "orientation": "v",
         "showlegend": true,
         "type": "histogram",
         "x": [
          23.763603307061825,
          22.966201543018247,
          14.154568939771767
         ],
         "xaxis": "x4",
         "xbins": {
          "size": 1
         },
         "yaxis": "y4"
        },
        {
         "alignmentgroup": "True",
         "bingroup": "x",
         "hovertemplate": "Host=scorzalite<br>type=type2A<br>Th CO2=%{x}<br>count=%{y}<extra></extra>",
         "legendgroup": "scorzalite, type2A",
         "marker": {
          "color": "rgb(0,0,255)",
          "line": {
           "color": "DarkSlateGrey",
           "width": 0.8
          },
          "pattern": {
           "shape": ""
          }
         },
         "name": "scorzalite, type2A",
         "offsetgroup": "scorzalite, type2A",
         "orientation": "v",
         "showlegend": true,
         "type": "histogram",
         "x": [
          null,
          null,
          null,
          null,
          null,
          null,
          null,
          null,
          null,
          null,
          null,
          null
         ],
         "xaxis": "x4",
         "xbins": {
          "size": 1
         },
         "yaxis": "y4"
        },
        {
         "alignmentgroup": "True",
         "bingroup": "x",
         "hovertemplate": "Host=bertossaite<br>type=type2A<br>Th CO2=%{x}<br>count=%{y}<extra></extra>",
         "legendgroup": "bertossaite, type2A",
         "marker": {
          "color": "rgb(204,121,167)",
          "line": {
           "color": "DarkSlateGrey",
           "width": 0.8
          },
          "pattern": {
           "shape": ""
          }
         },
         "name": "bertossaite, type2A",
         "offsetgroup": "bertossaite, type2A",
         "orientation": "v",
         "showlegend": true,
         "type": "histogram",
         "x": [
          null,
          null,
          null,
          null,
          null,
          null,
          null,
          null,
          null,
          null,
          null,
          27.04988708768616,
          null,
          null,
          null,
          null,
          null,
          null,
          null,
          null,
          24.115139979697613,
          null,
          null,
          null,
          null,
          null,
          null,
          null,
          17.40928663836995,
          null,
          null,
          null,
          null,
          null,
          null,
          null,
          null,
          null,
          null,
          null,
          null,
          null,
          null,
          null
         ],
         "xaxis": "x4",
         "xbins": {
          "size": 1
         },
         "yaxis": "y4"
        },
        {
         "alignmentgroup": "True",
         "bingroup": "x",
         "hovertemplate": "Host=bertossaite<br>type=type1<br>Th CO2=%{x}<br>count=%{y}<extra></extra>",
         "legendgroup": "bertossaite, type1",
         "marker": {
          "color": "rgb(204,121,167)",
          "line": {
           "color": "DarkSlateGrey",
           "width": 0.8
          },
          "pattern": {
           "shape": "/"
          }
         },
         "name": "bertossaite, type1",
         "offsetgroup": "bertossaite, type1",
         "orientation": "v",
         "showlegend": true,
         "type": "histogram",
         "x": [
          null,
          29.050213269184137,
          null
         ],
         "xaxis": "x4",
         "xbins": {
          "size": 1
         },
         "yaxis": "y4"
        },
        {
         "alignmentgroup": "True",
         "bingroup": "x",
         "hovertemplate": "Host=bertossaite<br>type=type3<br>Th CO2=%{x}<br>count=%{y}<extra></extra>",
         "legendgroup": "bertossaite, type3",
         "marker": {
          "color": "rgb(204,121,167)",
          "line": {
           "color": "DarkSlateGrey",
           "width": 0.8
          },
          "pattern": {
           "shape": "\\"
          }
         },
         "name": "bertossaite, type3",
         "offsetgroup": "bertossaite, type3",
         "orientation": "v",
         "showlegend": true,
         "type": "histogram",
         "x": [
          27.32643577874423,
          27.426227184544075,
          27.526018590343917,
          27.62580999614376,
          26.950692332702207,
          26.553913312766376,
          26.65310806775033,
          27.248276597654076,
          26.75230282273429,
          29.050213269184137,
          29.050213269184137,
          29.050213269184137,
          29.050213269184137,
          20.37904616507138
         ],
         "xaxis": "x4",
         "xbins": {
          "size": 1
         },
         "yaxis": "y4"
        },
        {
         "alignmentgroup": "True",
         "bingroup": "x",
         "hovertemplate": "Host=bertossaite<br>type=type2B<br>Th CO2=%{x}<br>count=%{y}<extra></extra>",
         "legendgroup": "bertossaite, type2B",
         "marker": {
          "color": "rgb(204,121,167)",
          "line": {
           "color": "DarkSlateGrey",
           "width": 0.8
          },
          "pattern": {
           "shape": "x"
          }
         },
         "name": "bertossaite, type2B",
         "offsetgroup": "bertossaite, type2B",
         "orientation": "v",
         "showlegend": true,
         "type": "histogram",
         "x": [
          20.44082877855514,
          null
         ],
         "xaxis": "x4",
         "xbins": {
          "size": 1
         },
         "yaxis": "y4"
        },
        {
         "alignmentgroup": "True",
         "bingroup": "x",
         "hovertemplate": "Host=brazilianite<br>type=type2A<br>Th CO2=%{x}<br>count=%{y}<extra></extra>",
         "legendgroup": "brazilianite, type2A",
         "marker": {
          "color": "rgb(250,120,10)",
          "line": {
           "color": "DarkSlateGrey",
           "width": 0.8
          },
          "pattern": {
           "shape": ""
          }
         },
         "name": "brazilianite, type2A",
         "offsetgroup": "brazilianite, type2A",
         "orientation": "v",
         "showlegend": true,
         "type": "histogram",
         "x": [
          null,
          null,
          null,
          null,
          null,
          null,
          null,
          null,
          null,
          null,
          null,
          null,
          null,
          null,
          null,
          12.489143878807656,
          null,
          null,
          null,
          null,
          null,
          null,
          null,
          null,
          null,
          null,
          null,
          null,
          null,
          null,
          null,
          null,
          null,
          null,
          null
         ],
         "xaxis": "x4",
         "xbins": {
          "size": 1
         },
         "yaxis": "y4"
        },
        {
         "alignmentgroup": "True",
         "bingroup": "x",
         "hovertemplate": "Host=brazilianite<br>type=type1<br>Th CO2=%{x}<br>count=%{y}<extra></extra>",
         "legendgroup": "brazilianite, type1",
         "marker": {
          "color": "rgb(250,120,10)",
          "line": {
           "color": "DarkSlateGrey",
           "width": 0.8
          },
          "pattern": {
           "shape": "/"
          }
         },
         "name": "brazilianite, type1",
         "offsetgroup": "brazilianite, type1",
         "orientation": "v",
         "showlegend": true,
         "type": "histogram",
         "x": [
          null,
          null,
          null,
          null,
          null,
          null,
          null
         ],
         "xaxis": "x4",
         "xbins": {
          "size": 1
         },
         "yaxis": "y4"
        },
        {
         "alignmentgroup": "True",
         "bingroup": "x",
         "hovertemplate": "Host=brazilianite<br>type=type3<br>Th CO2=%{x}<br>count=%{y}<extra></extra>",
         "legendgroup": "brazilianite, type3",
         "marker": {
          "color": "rgb(250,120,10)",
          "line": {
           "color": "DarkSlateGrey",
           "width": 0.8
          },
          "pattern": {
           "shape": "\\"
          }
         },
         "name": "brazilianite, type3",
         "offsetgroup": "brazilianite, type3",
         "orientation": "v",
         "showlegend": true,
         "type": "histogram",
         "x": [
          25.408095226766854,
          29.49680223265329,
          29.49680223265329,
          27.00368820467376,
          27.00368820467376,
          27.103412765792932
         ],
         "xaxis": "x4",
         "xbins": {
          "size": 1
         },
         "yaxis": "y4"
        },
        {
         "alignmentgroup": "True",
         "bingroup": "x",
         "hovertemplate": "Host=augelite<br>type=type2A<br>Th CO2=%{x}<br>count=%{y}<extra></extra>",
         "legendgroup": "augelite, type2A",
         "marker": {
          "color": "rgb(51,255,51)",
          "line": {
           "color": "DarkSlateGrey",
           "width": 0.8
          },
          "pattern": {
           "shape": ""
          }
         },
         "name": "augelite, type2A",
         "offsetgroup": "augelite, type2A",
         "orientation": "v",
         "showlegend": true,
         "type": "histogram",
         "x": [
          21.46795799152857,
          25.42763736046381,
          null,
          null,
          null,
          null,
          null,
          24.140741565559857,
          23.645781644442952,
          null,
          null,
          null,
          null,
          null,
          20.47803814929476,
          null,
          null,
          null
         ],
         "xaxis": "x4",
         "xbins": {
          "size": 1
         },
         "yaxis": "y4"
        },
        {
         "alignmentgroup": "True",
         "bingroup": "x",
         "hovertemplate": "Host=augelite<br>type=type1<br>Th CO2=%{x}<br>count=%{y}<extra></extra>",
         "legendgroup": "augelite, type1",
         "marker": {
          "color": "rgb(51,255,51)",
          "line": {
           "color": "DarkSlateGrey",
           "width": 0.8
          },
          "pattern": {
           "shape": "/"
          }
         },
         "name": "augelite, type1",
         "offsetgroup": "augelite, type1",
         "orientation": "v",
         "showlegend": true,
         "type": "histogram",
         "x": [
          24.140741565559857
         ],
         "xaxis": "x4",
         "xbins": {
          "size": 1
         },
         "yaxis": "y4"
        },
        {
         "alignmentgroup": "True",
         "bingroup": "x",
         "hovertemplate": "Host=augelite<br>type=type3<br>Th CO2=%{x}<br>count=%{y}<extra></extra>",
         "legendgroup": "augelite, type3",
         "marker": {
          "color": "rgb(51,255,51)",
          "line": {
           "color": "DarkSlateGrey",
           "width": 0.8
          },
          "pattern": {
           "shape": "\\"
          }
         },
         "name": "augelite, type3",
         "offsetgroup": "augelite, type3",
         "orientation": "v",
         "showlegend": true,
         "type": "histogram",
         "x": [
          null,
          25.52662934468719,
          24.73469347090014
         ],
         "xaxis": "x4",
         "xbins": {
          "size": 1
         },
         "yaxis": "y4"
        },
        {
         "alignmentgroup": "True",
         "bingroup": "x",
         "hovertemplate": "Host=augelite<br>type=type2B<br>Th CO2=%{x}<br>count=%{y}<extra></extra>",
         "legendgroup": "augelite, type2B",
         "marker": {
          "color": "rgb(51,255,51)",
          "line": {
           "color": "DarkSlateGrey",
           "width": 0.8
          },
          "pattern": {
           "shape": "x"
          }
         },
         "name": "augelite, type2B",
         "offsetgroup": "augelite, type2B",
         "orientation": "v",
         "showlegend": true,
         "type": "histogram",
         "x": [
          13.944567190551613
         ],
         "xaxis": "x4",
         "xbins": {
          "size": 1
         },
         "yaxis": "y4"
        },
        {
         "alignmentgroup": "True",
         "bingroup": "x",
         "hovertemplate": "Host=wyllieite<br>type=type1<br>Th CO2=%{x}<br>count=%{y}<extra></extra>",
         "legendgroup": "wyllieite, type1",
         "marker": {
          "color": "rgb(0,170,250)",
          "line": {
           "color": "DarkSlateGrey",
           "width": 0.8
          },
          "pattern": {
           "shape": "/"
          }
         },
         "name": "wyllieite, type1",
         "offsetgroup": "wyllieite, type1",
         "orientation": "v",
         "showlegend": true,
         "type": "histogram",
         "x": [
          null,
          null,
          null,
          null,
          null,
          null,
          null,
          null
         ],
         "xaxis": "x4",
         "xbins": {
          "size": 1
         },
         "yaxis": "y4"
        }
       ],
       "layout": {
        "barmode": "stack",
        "height": 900,
        "showlegend": false,
        "template": {
         "data": {
          "bar": [
           {
            "error_x": {
             "color": "rgb(36,36,36)"
            },
            "error_y": {
             "color": "rgb(36,36,36)"
            },
            "marker": {
             "line": {
              "color": "white",
              "width": 0.5
             },
             "pattern": {
              "fillmode": "overlay",
              "size": 10,
              "solidity": 0.2
             }
            },
            "type": "bar"
           }
          ],
          "barpolar": [
           {
            "marker": {
             "line": {
              "color": "white",
              "width": 0.5
             },
             "pattern": {
              "fillmode": "overlay",
              "size": 10,
              "solidity": 0.2
             }
            },
            "type": "barpolar"
           }
          ],
          "carpet": [
           {
            "aaxis": {
             "endlinecolor": "rgb(36,36,36)",
             "gridcolor": "white",
             "linecolor": "white",
             "minorgridcolor": "white",
             "startlinecolor": "rgb(36,36,36)"
            },
            "baxis": {
             "endlinecolor": "rgb(36,36,36)",
             "gridcolor": "white",
             "linecolor": "white",
             "minorgridcolor": "white",
             "startlinecolor": "rgb(36,36,36)"
            },
            "type": "carpet"
           }
          ],
          "choropleth": [
           {
            "colorbar": {
             "outlinewidth": 1,
             "tickcolor": "rgb(36,36,36)",
             "ticks": "outside"
            },
            "type": "choropleth"
           }
          ],
          "contour": [
           {
            "colorbar": {
             "outlinewidth": 1,
             "tickcolor": "rgb(36,36,36)",
             "ticks": "outside"
            },
            "colorscale": [
             [
              0,
              "#440154"
             ],
             [
              0.1111111111111111,
              "#482878"
             ],
             [
              0.2222222222222222,
              "#3e4989"
             ],
             [
              0.3333333333333333,
              "#31688e"
             ],
             [
              0.4444444444444444,
              "#26828e"
             ],
             [
              0.5555555555555556,
              "#1f9e89"
             ],
             [
              0.6666666666666666,
              "#35b779"
             ],
             [
              0.7777777777777778,
              "#6ece58"
             ],
             [
              0.8888888888888888,
              "#b5de2b"
             ],
             [
              1,
              "#fde725"
             ]
            ],
            "type": "contour"
           }
          ],
          "contourcarpet": [
           {
            "colorbar": {
             "outlinewidth": 1,
             "tickcolor": "rgb(36,36,36)",
             "ticks": "outside"
            },
            "type": "contourcarpet"
           }
          ],
          "heatmap": [
           {
            "colorbar": {
             "outlinewidth": 1,
             "tickcolor": "rgb(36,36,36)",
             "ticks": "outside"
            },
            "colorscale": [
             [
              0,
              "#440154"
             ],
             [
              0.1111111111111111,
              "#482878"
             ],
             [
              0.2222222222222222,
              "#3e4989"
             ],
             [
              0.3333333333333333,
              "#31688e"
             ],
             [
              0.4444444444444444,
              "#26828e"
             ],
             [
              0.5555555555555556,
              "#1f9e89"
             ],
             [
              0.6666666666666666,
              "#35b779"
             ],
             [
              0.7777777777777778,
              "#6ece58"
             ],
             [
              0.8888888888888888,
              "#b5de2b"
             ],
             [
              1,
              "#fde725"
             ]
            ],
            "type": "heatmap"
           }
          ],
          "heatmapgl": [
           {
            "colorbar": {
             "outlinewidth": 1,
             "tickcolor": "rgb(36,36,36)",
             "ticks": "outside"
            },
            "colorscale": [
             [
              0,
              "#440154"
             ],
             [
              0.1111111111111111,
              "#482878"
             ],
             [
              0.2222222222222222,
              "#3e4989"
             ],
             [
              0.3333333333333333,
              "#31688e"
             ],
             [
              0.4444444444444444,
              "#26828e"
             ],
             [
              0.5555555555555556,
              "#1f9e89"
             ],
             [
              0.6666666666666666,
              "#35b779"
             ],
             [
              0.7777777777777778,
              "#6ece58"
             ],
             [
              0.8888888888888888,
              "#b5de2b"
             ],
             [
              1,
              "#fde725"
             ]
            ],
            "type": "heatmapgl"
           }
          ],
          "histogram": [
           {
            "marker": {
             "line": {
              "color": "white",
              "width": 0.6
             }
            },
            "type": "histogram"
           }
          ],
          "histogram2d": [
           {
            "colorbar": {
             "outlinewidth": 1,
             "tickcolor": "rgb(36,36,36)",
             "ticks": "outside"
            },
            "colorscale": [
             [
              0,
              "#440154"
             ],
             [
              0.1111111111111111,
              "#482878"
             ],
             [
              0.2222222222222222,
              "#3e4989"
             ],
             [
              0.3333333333333333,
              "#31688e"
             ],
             [
              0.4444444444444444,
              "#26828e"
             ],
             [
              0.5555555555555556,
              "#1f9e89"
             ],
             [
              0.6666666666666666,
              "#35b779"
             ],
             [
              0.7777777777777778,
              "#6ece58"
             ],
             [
              0.8888888888888888,
              "#b5de2b"
             ],
             [
              1,
              "#fde725"
             ]
            ],
            "type": "histogram2d"
           }
          ],
          "histogram2dcontour": [
           {
            "colorbar": {
             "outlinewidth": 1,
             "tickcolor": "rgb(36,36,36)",
             "ticks": "outside"
            },
            "colorscale": [
             [
              0,
              "#440154"
             ],
             [
              0.1111111111111111,
              "#482878"
             ],
             [
              0.2222222222222222,
              "#3e4989"
             ],
             [
              0.3333333333333333,
              "#31688e"
             ],
             [
              0.4444444444444444,
              "#26828e"
             ],
             [
              0.5555555555555556,
              "#1f9e89"
             ],
             [
              0.6666666666666666,
              "#35b779"
             ],
             [
              0.7777777777777778,
              "#6ece58"
             ],
             [
              0.8888888888888888,
              "#b5de2b"
             ],
             [
              1,
              "#fde725"
             ]
            ],
            "type": "histogram2dcontour"
           }
          ],
          "mesh3d": [
           {
            "colorbar": {
             "outlinewidth": 1,
             "tickcolor": "rgb(36,36,36)",
             "ticks": "outside"
            },
            "type": "mesh3d"
           }
          ],
          "parcoords": [
           {
            "line": {
             "colorbar": {
              "outlinewidth": 1,
              "tickcolor": "rgb(36,36,36)",
              "ticks": "outside"
             }
            },
            "type": "parcoords"
           }
          ],
          "pie": [
           {
            "automargin": true,
            "type": "pie"
           }
          ],
          "scatter": [
           {
            "marker": {
             "colorbar": {
              "outlinewidth": 1,
              "tickcolor": "rgb(36,36,36)",
              "ticks": "outside"
             }
            },
            "type": "scatter"
           }
          ],
          "scatter3d": [
           {
            "line": {
             "colorbar": {
              "outlinewidth": 1,
              "tickcolor": "rgb(36,36,36)",
              "ticks": "outside"
             }
            },
            "marker": {
             "colorbar": {
              "outlinewidth": 1,
              "tickcolor": "rgb(36,36,36)",
              "ticks": "outside"
             }
            },
            "type": "scatter3d"
           }
          ],
          "scattercarpet": [
           {
            "marker": {
             "colorbar": {
              "outlinewidth": 1,
              "tickcolor": "rgb(36,36,36)",
              "ticks": "outside"
             }
            },
            "type": "scattercarpet"
           }
          ],
          "scattergeo": [
           {
            "marker": {
             "colorbar": {
              "outlinewidth": 1,
              "tickcolor": "rgb(36,36,36)",
              "ticks": "outside"
             }
            },
            "type": "scattergeo"
           }
          ],
          "scattergl": [
           {
            "marker": {
             "colorbar": {
              "outlinewidth": 1,
              "tickcolor": "rgb(36,36,36)",
              "ticks": "outside"
             }
            },
            "type": "scattergl"
           }
          ],
          "scattermapbox": [
           {
            "marker": {
             "colorbar": {
              "outlinewidth": 1,
              "tickcolor": "rgb(36,36,36)",
              "ticks": "outside"
             }
            },
            "type": "scattermapbox"
           }
          ],
          "scatterpolar": [
           {
            "marker": {
             "colorbar": {
              "outlinewidth": 1,
              "tickcolor": "rgb(36,36,36)",
              "ticks": "outside"
             }
            },
            "type": "scatterpolar"
           }
          ],
          "scatterpolargl": [
           {
            "marker": {
             "colorbar": {
              "outlinewidth": 1,
              "tickcolor": "rgb(36,36,36)",
              "ticks": "outside"
             }
            },
            "type": "scatterpolargl"
           }
          ],
          "scatterternary": [
           {
            "marker": {
             "colorbar": {
              "outlinewidth": 1,
              "tickcolor": "rgb(36,36,36)",
              "ticks": "outside"
             }
            },
            "type": "scatterternary"
           }
          ],
          "surface": [
           {
            "colorbar": {
             "outlinewidth": 1,
             "tickcolor": "rgb(36,36,36)",
             "ticks": "outside"
            },
            "colorscale": [
             [
              0,
              "#440154"
             ],
             [
              0.1111111111111111,
              "#482878"
             ],
             [
              0.2222222222222222,
              "#3e4989"
             ],
             [
              0.3333333333333333,
              "#31688e"
             ],
             [
              0.4444444444444444,
              "#26828e"
             ],
             [
              0.5555555555555556,
              "#1f9e89"
             ],
             [
              0.6666666666666666,
              "#35b779"
             ],
             [
              0.7777777777777778,
              "#6ece58"
             ],
             [
              0.8888888888888888,
              "#b5de2b"
             ],
             [
              1,
              "#fde725"
             ]
            ],
            "type": "surface"
           }
          ],
          "table": [
           {
            "cells": {
             "fill": {
              "color": "rgb(237,237,237)"
             },
             "line": {
              "color": "white"
             }
            },
            "header": {
             "fill": {
              "color": "rgb(217,217,217)"
             },
             "line": {
              "color": "white"
             }
            },
            "type": "table"
           }
          ]
         },
         "layout": {
          "annotationdefaults": {
           "arrowhead": 0,
           "arrowwidth": 1
          },
          "autotypenumbers": "strict",
          "coloraxis": {
           "colorbar": {
            "outlinewidth": 1,
            "tickcolor": "rgb(36,36,36)",
            "ticks": "outside"
           }
          },
          "colorscale": {
           "diverging": [
            [
             0,
             "rgb(103,0,31)"
            ],
            [
             0.1,
             "rgb(178,24,43)"
            ],
            [
             0.2,
             "rgb(214,96,77)"
            ],
            [
             0.3,
             "rgb(244,165,130)"
            ],
            [
             0.4,
             "rgb(253,219,199)"
            ],
            [
             0.5,
             "rgb(247,247,247)"
            ],
            [
             0.6,
             "rgb(209,229,240)"
            ],
            [
             0.7,
             "rgb(146,197,222)"
            ],
            [
             0.8,
             "rgb(67,147,195)"
            ],
            [
             0.9,
             "rgb(33,102,172)"
            ],
            [
             1,
             "rgb(5,48,97)"
            ]
           ],
           "sequential": [
            [
             0,
             "#440154"
            ],
            [
             0.1111111111111111,
             "#482878"
            ],
            [
             0.2222222222222222,
             "#3e4989"
            ],
            [
             0.3333333333333333,
             "#31688e"
            ],
            [
             0.4444444444444444,
             "#26828e"
            ],
            [
             0.5555555555555556,
             "#1f9e89"
            ],
            [
             0.6666666666666666,
             "#35b779"
            ],
            [
             0.7777777777777778,
             "#6ece58"
            ],
            [
             0.8888888888888888,
             "#b5de2b"
            ],
            [
             1,
             "#fde725"
            ]
           ],
           "sequentialminus": [
            [
             0,
             "#440154"
            ],
            [
             0.1111111111111111,
             "#482878"
            ],
            [
             0.2222222222222222,
             "#3e4989"
            ],
            [
             0.3333333333333333,
             "#31688e"
            ],
            [
             0.4444444444444444,
             "#26828e"
            ],
            [
             0.5555555555555556,
             "#1f9e89"
            ],
            [
             0.6666666666666666,
             "#35b779"
            ],
            [
             0.7777777777777778,
             "#6ece58"
            ],
            [
             0.8888888888888888,
             "#b5de2b"
            ],
            [
             1,
             "#fde725"
            ]
           ]
          },
          "colorway": [
           "#1F77B4",
           "#FF7F0E",
           "#2CA02C",
           "#D62728",
           "#9467BD",
           "#8C564B",
           "#E377C2",
           "#7F7F7F",
           "#BCBD22",
           "#17BECF"
          ],
          "font": {
           "color": "rgb(36,36,36)"
          },
          "geo": {
           "bgcolor": "white",
           "lakecolor": "white",
           "landcolor": "white",
           "showlakes": true,
           "showland": true,
           "subunitcolor": "white"
          },
          "hoverlabel": {
           "align": "left"
          },
          "hovermode": "closest",
          "mapbox": {
           "style": "light"
          },
          "paper_bgcolor": "white",
          "plot_bgcolor": "white",
          "polar": {
           "angularaxis": {
            "gridcolor": "rgb(232,232,232)",
            "linecolor": "rgb(36,36,36)",
            "showgrid": false,
            "showline": true,
            "ticks": "outside"
           },
           "bgcolor": "white",
           "radialaxis": {
            "gridcolor": "rgb(232,232,232)",
            "linecolor": "rgb(36,36,36)",
            "showgrid": false,
            "showline": true,
            "ticks": "outside"
           }
          },
          "scene": {
           "xaxis": {
            "backgroundcolor": "white",
            "gridcolor": "rgb(232,232,232)",
            "gridwidth": 2,
            "linecolor": "rgb(36,36,36)",
            "showbackground": true,
            "showgrid": false,
            "showline": true,
            "ticks": "outside",
            "zeroline": false,
            "zerolinecolor": "rgb(36,36,36)"
           },
           "yaxis": {
            "backgroundcolor": "white",
            "gridcolor": "rgb(232,232,232)",
            "gridwidth": 2,
            "linecolor": "rgb(36,36,36)",
            "showbackground": true,
            "showgrid": false,
            "showline": true,
            "ticks": "outside",
            "zeroline": false,
            "zerolinecolor": "rgb(36,36,36)"
           },
           "zaxis": {
            "backgroundcolor": "white",
            "gridcolor": "rgb(232,232,232)",
            "gridwidth": 2,
            "linecolor": "rgb(36,36,36)",
            "showbackground": true,
            "showgrid": false,
            "showline": true,
            "ticks": "outside",
            "zeroline": false,
            "zerolinecolor": "rgb(36,36,36)"
           }
          },
          "shapedefaults": {
           "fillcolor": "black",
           "line": {
            "width": 0
           },
           "opacity": 0.3
          },
          "ternary": {
           "aaxis": {
            "gridcolor": "rgb(232,232,232)",
            "linecolor": "rgb(36,36,36)",
            "showgrid": false,
            "showline": true,
            "ticks": "outside"
           },
           "baxis": {
            "gridcolor": "rgb(232,232,232)",
            "linecolor": "rgb(36,36,36)",
            "showgrid": false,
            "showline": true,
            "ticks": "outside"
           },
           "bgcolor": "white",
           "caxis": {
            "gridcolor": "rgb(232,232,232)",
            "linecolor": "rgb(36,36,36)",
            "showgrid": false,
            "showline": true,
            "ticks": "outside"
           }
          },
          "title": {
           "x": 0.05
          },
          "xaxis": {
           "automargin": true,
           "gridcolor": "rgb(232,232,232)",
           "linecolor": "rgb(36,36,36)",
           "showgrid": false,
           "showline": true,
           "ticks": "outside",
           "title": {
            "standoff": 15
           },
           "zeroline": false,
           "zerolinecolor": "rgb(36,36,36)"
          },
          "yaxis": {
           "automargin": true,
           "gridcolor": "rgb(232,232,232)",
           "linecolor": "rgb(36,36,36)",
           "showgrid": false,
           "showline": true,
           "ticks": "outside",
           "title": {
            "standoff": 15
           },
           "zeroline": false,
           "zerolinecolor": "rgb(36,36,36)"
          }
         }
        },
        "width": 1000,
        "xaxis": {
         "anchor": "y",
         "domain": [
          0,
          0.45
         ],
         "linecolor": "black",
         "mirror": "allticks",
         "range": [
          -30.041515144306175,
          -17.326819666270595
         ],
         "showgrid": false,
         "ticks": "inside",
         "tickvals": [
          -30,
          -29,
          -28,
          -27,
          -26,
          -25,
          -24,
          -23,
          -22,
          -21,
          -20,
          -19,
          -18,
          -17,
          -16,
          -15,
          -14,
          -13,
          -12,
          -11,
          -10,
          -9,
          -8,
          -7,
          -6,
          -5,
          -4,
          -3,
          -2,
          -1,
          0,
          1,
          2,
          3,
          4,
          5,
          6,
          7,
          8,
          9,
          10,
          11,
          12,
          13,
          14,
          15,
          16,
          17,
          18,
          19,
          20,
          21,
          22,
          23,
          24,
          25,
          26,
          27,
          28,
          29,
          30,
          31,
          32,
          33,
          34
         ],
         "title": {
          "text": "Tm Hh (<sup>o</sup>C)"
         },
         "zeroline": false
        },
        "xaxis2": {
         "anchor": "y2",
         "domain": [
          0.55,
          1
         ],
         "linecolor": "black",
         "mirror": "allticks",
         "range": [
          -24.879807577592327,
          -1.610985961208336
         ],
         "showgrid": false,
         "ticks": "inside",
         "tickvals": [
          -30,
          -29,
          -28,
          -27,
          -26,
          -25,
          -24,
          -23,
          -22,
          -21,
          -20,
          -19,
          -18,
          -17,
          -16,
          -15,
          -14,
          -13,
          -12,
          -11,
          -10,
          -9,
          -8,
          -7,
          -6,
          -5,
          -4,
          -3,
          -2,
          -1,
          0,
          1,
          2,
          3,
          4,
          5,
          6,
          7,
          8,
          9,
          10,
          11,
          12,
          13,
          14,
          15,
          16,
          17,
          18,
          19,
          20,
          21,
          22,
          23,
          24,
          25,
          26,
          27,
          28,
          29,
          30,
          31,
          32,
          33,
          34
         ],
         "title": {
          "text": "Tm H2O (<sup>o</sup>C)"
         },
         "zeroline": false
        },
        "xaxis3": {
         "anchor": "y3",
         "domain": [
          0,
          0.45
         ],
         "linecolor": "black",
         "mirror": "allticks",
         "range": [
          -9.882126540678533,
          8.966903053574903
         ],
         "showgrid": false,
         "ticks": "inside",
         "tickvals": [
          -30,
          -29,
          -28,
          -27,
          -26,
          -25,
          -24,
          -23,
          -22,
          -21,
          -20,
          -19,
          -18,
          -17,
          -16,
          -15,
          -14,
          -13,
          -12,
          -11,
          -10,
          -9,
          -8,
          -7,
          -6,
          -5,
          -4,
          -3,
          -2,
          -1,
          0,
          1,
          2,
          3,
          4,
          5,
          6,
          7,
          8,
          9,
          10,
          11,
          12,
          13,
          14,
          15,
          16,
          17,
          18,
          19,
          20,
          21,
          22,
          23,
          24,
          25,
          26,
          27,
          28,
          29,
          30,
          31,
          32,
          33,
          34
         ],
         "title": {
          "text": "Tm CL (<sup>o</sup>C)"
         },
         "zeroline": false
        },
        "xaxis4": {
         "anchor": "y4",
         "domain": [
          0.55,
          1
         ],
         "linecolor": "black",
         "mirror": "allticks",
         "range": [
          9.72949407747413,
          30.49680223265329
         ],
         "showgrid": false,
         "ticks": "inside",
         "tickvals": [
          -30,
          -29,
          -28,
          -27,
          -26,
          -25,
          -24,
          -23,
          -22,
          -21,
          -20,
          -19,
          -18,
          -17,
          -16,
          -15,
          -14,
          -13,
          -12,
          -11,
          -10,
          -9,
          -8,
          -7,
          -6,
          -5,
          -4,
          -3,
          -2,
          -1,
          0,
          1,
          2,
          3,
          4,
          5,
          6,
          7,
          8,
          9,
          10,
          11,
          12,
          13,
          14,
          15,
          16,
          17,
          18,
          19,
          20,
          21,
          22,
          23,
          24,
          25,
          26,
          27,
          28,
          29,
          30,
          31,
          32,
          33,
          34
         ],
         "title": {
          "text": "Th CO2 (<sup>o</sup>C)"
         },
         "zeroline": false
        },
        "yaxis": {
         "anchor": "x",
         "domain": [
          0.575,
          1
         ],
         "linecolor": "black",
         "mirror": "allticks",
         "showgrid": false,
         "ticks": "inside",
         "zeroline": false
        },
        "yaxis2": {
         "anchor": "x2",
         "domain": [
          0.575,
          1
         ],
         "linecolor": "black",
         "mirror": "allticks",
         "showgrid": false,
         "ticks": "inside",
         "zeroline": false
        },
        "yaxis3": {
         "anchor": "x3",
         "domain": [
          0,
          0.425
         ],
         "linecolor": "black",
         "mirror": "allticks",
         "showgrid": false,
         "ticks": "inside",
         "zeroline": false
        },
        "yaxis4": {
         "anchor": "x4",
         "domain": [
          0,
          0.425
         ],
         "linecolor": "black",
         "mirror": "allticks",
         "showgrid": false,
         "ticks": "inside",
         "zeroline": false
        }
       }
      },
      "text/html": [
       "<div>                            <div id=\"6abedc0f-ba2d-4bd0-9641-5199b6948bb7\" class=\"plotly-graph-div\" style=\"height:900px; width:1000px;\"></div>            <script type=\"text/javascript\">                require([\"plotly\"], function(Plotly) {                    window.PLOTLYENV=window.PLOTLYENV || {};                                    if (document.getElementById(\"6abedc0f-ba2d-4bd0-9641-5199b6948bb7\")) {                    Plotly.newPlot(                        \"6abedc0f-ba2d-4bd0-9641-5199b6948bb7\",                        [{\"alignmentgroup\":\"True\",\"bingroup\":\"x\",\"hovertemplate\":\"Host=quartz<br>type=type2A<br>Tm Hh=%{x}<br>count=%{y}<extra></extra>\",\"legendgroup\":\"quartz, type2A\",\"marker\":{\"color\":\"rgb(240,228,66)\",\"pattern\":{\"shape\":\"\"},\"line\":{\"color\":\"DarkSlateGrey\",\"width\":0.8}},\"name\":\"quartz, type2A\",\"offsetgroup\":\"quartz, type2A\",\"orientation\":\"v\",\"showlegend\":true,\"x\":[null,null,-25.43785238088688,-24.592817005317904,-26.66508341895611,-24.73965957105031,-24.73965957105031,-25.57961053562181,-25.776969241682597,-27.257159537138453,-25.18489312350025,-24.88885506440908,-25.57961053562181,-25.776969241682597,-27.257159537138453,-25.480931182591423,-27.158480184108065,-25.6782898886522,null,null,null,-25.6782898886522,null,-23.056145390736862,-22.75895993743984,-23.65051629733092,-23.848639932862262,-24.542072657221997,-23.947701750627942,-24.44301083945632,-24.04676356839361,-24.00701768445799,-23.608490498833508,-23.807754091645744,-23.49715012622934,-23.99440834869687,-23.69605341521635,-23.69605341521635,-23.795505059709857,-24.09385999319037,-24.4916665711644,-24.09385999319037,-23.99440834869687,-22.701536970281293],\"xaxis\":\"x\",\"yaxis\":\"y\",\"type\":\"histogram\",\"xbins\":{\"size\":1}},{\"alignmentgroup\":\"True\",\"bingroup\":\"x\",\"hovertemplate\":\"Host=quartz<br>type=type2B<br>Tm Hh=%{x}<br>count=%{y}<extra></extra>\",\"legendgroup\":\"quartz, type2B\",\"marker\":{\"color\":\"rgb(240,228,66)\",\"pattern\":{\"shape\":\"x\"},\"line\":{\"color\":\"DarkSlateGrey\",\"width\":0.8}},\"name\":\"quartz, type2B\",\"offsetgroup\":\"quartz, type2B\",\"orientation\":\"v\",\"showlegend\":true,\"x\":[null],\"xaxis\":\"x\",\"yaxis\":\"y\",\"type\":\"histogram\",\"xbins\":{\"size\":1}},{\"alignmentgroup\":\"True\",\"bingroup\":\"x\",\"hovertemplate\":\"Host=trolleite<br>type=type2A<br>Tm Hh=%{x}<br>count=%{y}<extra></extra>\",\"legendgroup\":\"trolleite, type2A\",\"marker\":{\"color\":\"rgb(0,158,115)\",\"pattern\":{\"shape\":\"\"},\"line\":{\"color\":\"DarkSlateGrey\",\"width\":0.8}},\"name\":\"trolleite, type2A\",\"offsetgroup\":\"trolleite, type2A\",\"orientation\":\"v\",\"showlegend\":true,\"x\":[-27.033721660513308,null,null,null,-21.68829724342198,-26.021529381282384,-24.134880019872917,-22.54612266289651,-21.844856788120005,-21.753932364420617,-24.53138550397141,-23.837022219083718,-23.53943795413184,-23.737827464099755,-23.6386327091158,-23.707840633897703,-21.54320816632576,-21.248031011656856,-19.870537623201987,-24.27930381653434,-23.40668857107342,-24.006303564169503,null,-24.206175228534864,-23.075412555455,-23.37427437423031,-22.87617134293812,-23.67313619300563,-22.87617134293812,-21.282241642803097,-21.78034467409529,null,null,null,null,null,null],\"xaxis\":\"x\",\"yaxis\":\"y\",\"type\":\"histogram\",\"xbins\":{\"size\":1}},{\"alignmentgroup\":\"True\",\"bingroup\":\"x\",\"hovertemplate\":\"Host=trolleite<br>type=type1<br>Tm Hh=%{x}<br>count=%{y}<extra></extra>\",\"legendgroup\":\"trolleite, type1\",\"marker\":{\"color\":\"rgb(0,158,115)\",\"pattern\":{\"shape\":\"/\"},\"line\":{\"color\":\"DarkSlateGrey\",\"width\":0.8}},\"name\":\"trolleite, type1\",\"offsetgroup\":\"trolleite, type1\",\"orientation\":\"v\",\"showlegend\":true,\"x\":[null,-21.887647684432874,-20.563595304613138,-23.93621697406767,null,-24.63058025895537,null,-22.745879914260183,-23.819213719691813,-23.229591857362344,-23.72094340930357,-19.67375285342272,-20.460891932539784,-19.870537623201987,-20.460891932539784,-20.85446147209832,-20.65767670231905,-25.655895921290952,-24.57892599574085,-24.17942975679884,-23.97968163732783,-24.905726053813623,-23.606560235438785,-24.206175228534864,-24.106239396352187,-22.807073577977345,null,-23.606560235438785,-23.70649606762146,-24.505982725082905,-23.872377405522503,-22.67693013042124,-23.772756799264062,null,null],\"xaxis\":\"x\",\"yaxis\":\"y\",\"type\":\"histogram\",\"xbins\":{\"size\":1}},{\"alignmentgroup\":\"True\",\"bingroup\":\"x\",\"hovertemplate\":\"Host=trolleite<br>type=type2B<br>Tm Hh=%{x}<br>count=%{y}<extra></extra>\",\"legendgroup\":\"trolleite, type2B\",\"marker\":{\"color\":\"rgb(0,158,115)\",\"pattern\":{\"shape\":\"x\"},\"line\":{\"color\":\"DarkSlateGrey\",\"width\":0.8}},\"name\":\"trolleite, type2B\",\"offsetgroup\":\"trolleite, type2B\",\"orientation\":\"v\",\"showlegend\":true,\"x\":[-25.47595562262897,-25.27660518161807,-23.737827464099755],\"xaxis\":\"x\",\"yaxis\":\"y\",\"type\":\"histogram\",\"xbins\":{\"size\":1}},{\"alignmentgroup\":\"True\",\"bingroup\":\"x\",\"hovertemplate\":\"Host=scorzalite<br>type=type2A<br>Tm Hh=%{x}<br>count=%{y}<extra></extra>\",\"legendgroup\":\"scorzalite, type2A\",\"marker\":{\"color\":\"rgb(0,0,255)\",\"pattern\":{\"shape\":\"\"},\"line\":{\"color\":\"DarkSlateGrey\",\"width\":0.8}},\"name\":\"scorzalite, type2A\",\"offsetgroup\":\"scorzalite, type2A\",\"orientation\":\"v\",\"showlegend\":true,\"x\":[-23.507344121983607,null,null,null,-26.03630336074679,-28.529849110163088,-21.753932364420617,null,-24.92816452390724,-23.341048444163928,-22.547490404292272,-22.9442694242281],\"xaxis\":\"x\",\"yaxis\":\"y\",\"type\":\"histogram\",\"xbins\":{\"size\":1}},{\"alignmentgroup\":\"True\",\"bingroup\":\"x\",\"hovertemplate\":\"Host=bertossaite<br>type=type2A<br>Tm Hh=%{x}<br>count=%{y}<extra></extra>\",\"legendgroup\":\"bertossaite, type2A\",\"marker\":{\"color\":\"rgb(204,121,167)\",\"pattern\":{\"shape\":\"\"},\"line\":{\"color\":\"DarkSlateGrey\",\"width\":0.8}},\"name\":\"bertossaite, type2A\",\"offsetgroup\":\"bertossaite, type2A\",\"orientation\":\"v\",\"showlegend\":true,\"x\":[-19.47573354138161,-22.868641338576243,-19.27615072978193,-27.15967178796944,-26.06196632417118,null,-25.06405226617276,-24.733461397541475,-24.733461397541475,-24.03621200906043,-23.637783787071264,-23.737827464099755,-20.761984814581048,-21.257958589500834,-21.416590977898885,-22.31327714555396,-22.21364534914784,-22.911067923990675,-23.807754091645744,-20.818800199462167,-23.807754091645744,-22.104827103320257,-22.701536970281293,-23.99440834869687,-21.395571177195404,-21.494563161418785,-20.70262728763174,-22.08851506675907,-20.603635303408357,-20.30665935073821,-21.593555145642163,-20.207667366514837,null,null,null,null,null,null,null,null,null,null,null,null],\"xaxis\":\"x\",\"yaxis\":\"y\",\"type\":\"histogram\",\"xbins\":{\"size\":1}},{\"alignmentgroup\":\"True\",\"bingroup\":\"x\",\"hovertemplate\":\"Host=bertossaite<br>type=type1<br>Tm Hh=%{x}<br>count=%{y}<extra></extra>\",\"legendgroup\":\"bertossaite, type1\",\"marker\":{\"color\":\"rgb(204,121,167)\",\"pattern\":{\"shape\":\"/\"},\"line\":{\"color\":\"DarkSlateGrey\",\"width\":0.8}},\"name\":\"bertossaite, type1\",\"offsetgroup\":\"bertossaite, type1\",\"orientation\":\"v\",\"showlegend\":true,\"x\":[-22.34910089432436,-25.981160548233213,null],\"xaxis\":\"x\",\"yaxis\":\"y\",\"type\":\"histogram\",\"xbins\":{\"size\":1}},{\"alignmentgroup\":\"True\",\"bingroup\":\"x\",\"hovertemplate\":\"Host=bertossaite<br>type=type3<br>Tm Hh=%{x}<br>count=%{y}<extra></extra>\",\"legendgroup\":\"bertossaite, type3\",\"marker\":{\"color\":\"rgb(204,121,167)\",\"pattern\":{\"shape\":\"\\\\\"},\"line\":{\"color\":\"DarkSlateGrey\",\"width\":0.8}},\"name\":\"bertossaite, type3\",\"offsetgroup\":\"bertossaite, type3\",\"orientation\":\"v\",\"showlegend\":true,\"x\":[-24.565095237173555,-25.862383512571498,-26.161757729971026,-25.06405226617276,-23.241853689179973,-22.646685159276227,-23.14265893419601,-22.9442694242281,-25.0273592788912,-25.981160548233213,-26.37424178978619,-26.57078241056268,-25.981160548233213,-24.06835475122669],\"xaxis\":\"x\",\"yaxis\":\"y\",\"type\":\"histogram\",\"xbins\":{\"size\":1}},{\"alignmentgroup\":\"True\",\"bingroup\":\"x\",\"hovertemplate\":\"Host=bertossaite<br>type=type2B<br>Tm Hh=%{x}<br>count=%{y}<extra></extra>\",\"legendgroup\":\"bertossaite, type2B\",\"marker\":{\"color\":\"rgb(204,121,167)\",\"pattern\":{\"shape\":\"x\"},\"line\":{\"color\":\"DarkSlateGrey\",\"width\":0.8}},\"name\":\"bertossaite, type2B\",\"offsetgroup\":\"bertossaite, type2B\",\"orientation\":\"v\",\"showlegend\":true,\"x\":[null,null],\"xaxis\":\"x\",\"yaxis\":\"y\",\"type\":\"histogram\",\"xbins\":{\"size\":1}},{\"alignmentgroup\":\"True\",\"bingroup\":\"x\",\"hovertemplate\":\"Host=brazilianite<br>type=type2A<br>Tm Hh=%{x}<br>count=%{y}<extra></extra>\",\"legendgroup\":\"brazilianite, type2A\",\"marker\":{\"color\":\"rgb(250,120,10)\",\"pattern\":{\"shape\":\"\"},\"line\":{\"color\":\"DarkSlateGrey\",\"width\":0.8}},\"name\":\"brazilianite, type2A\",\"offsetgroup\":\"brazilianite, type2A\",\"orientation\":\"v\",\"showlegend\":true,\"x\":[-25.95005374961156,-26.94729936080337,-26.2492274329691,-26.14950287184992,-24.05528708834711,-25.152257260658104,-24.15501164946629,-24.15501164946629,-26.747850238565007,-25.55115550513483,-26.34895199408828,-26.049778310730737,-25.750604627373196,-24.60537620279777,-23.622673098915325,-22.178827099129048,-22.477688917904363,-22.079206492870608,null,null,null,null,null,null,null,null,null,null,null,null,null,null,null,null,null],\"xaxis\":\"x\",\"yaxis\":\"y\",\"type\":\"histogram\",\"xbins\":{\"size\":1}},{\"alignmentgroup\":\"True\",\"bingroup\":\"x\",\"hovertemplate\":\"Host=brazilianite<br>type=type1<br>Tm Hh=%{x}<br>count=%{y}<extra></extra>\",\"legendgroup\":\"brazilianite, type1\",\"marker\":{\"color\":\"rgb(250,120,10)\",\"pattern\":{\"shape\":\"/\"},\"line\":{\"color\":\"DarkSlateGrey\",\"width\":0.8}},\"name\":\"brazilianite, type1\",\"offsetgroup\":\"brazilianite, type1\",\"orientation\":\"v\",\"showlegend\":true,\"x\":[-26.94729936080337,-24.015754340468305,-23.91748403008006,-24.50710589240953,-23.573515586747188,-23.37427437423031,null],\"xaxis\":\"x\",\"yaxis\":\"y\",\"type\":\"histogram\",\"xbins\":{\"size\":1}},{\"alignmentgroup\":\"True\",\"bingroup\":\"x\",\"hovertemplate\":\"Host=brazilianite<br>type=type3<br>Tm Hh=%{x}<br>count=%{y}<extra></extra>\",\"legendgroup\":\"brazilianite, type3\",\"marker\":{\"color\":\"rgb(250,120,10)\",\"pattern\":{\"shape\":\"\\\\\"},\"line\":{\"color\":\"DarkSlateGrey\",\"width\":0.8}},\"name\":\"brazilianite, type3\",\"offsetgroup\":\"brazilianite, type3\",\"orientation\":\"v\",\"showlegend\":true,\"x\":[-22.260244988201844,-24.15501164946629,-25.152257260658104,-29.041515144306175,-28.44316777759109,-28.44316777759109],\"xaxis\":\"x\",\"yaxis\":\"y\",\"type\":\"histogram\",\"xbins\":{\"size\":1}},{\"alignmentgroup\":\"True\",\"bingroup\":\"x\",\"hovertemplate\":\"Host=augelite<br>type=type2A<br>Tm Hh=%{x}<br>count=%{y}<extra></extra>\",\"legendgroup\":\"augelite, type2A\",\"marker\":{\"color\":\"rgb(51,255,51)\",\"pattern\":{\"shape\":\"\"},\"line\":{\"color\":\"DarkSlateGrey\",\"width\":0.8}},\"name\":\"augelite, type2A\",\"offsetgroup\":\"augelite, type2A\",\"orientation\":\"v\",\"showlegend\":true,\"x\":[-22.78145895632274,-22.4844830036526,-23.07843490899288,-23.177426893216264,-22.583474987875974,-23.27641887743965,-22.583474987875974,-24.95928260923712,-24.563314672343594,-23.87037078277993,null,-22.4844830036526,-22.78145895632274,-23.67238681433317,-24.06835475122669,null,null,null],\"xaxis\":\"x\",\"yaxis\":\"y\",\"type\":\"histogram\",\"xbins\":{\"size\":1}},{\"alignmentgroup\":\"True\",\"bingroup\":\"x\",\"hovertemplate\":\"Host=augelite<br>type=type1<br>Tm Hh=%{x}<br>count=%{y}<extra></extra>\",\"legendgroup\":\"augelite, type1\",\"marker\":{\"color\":\"rgb(51,255,51)\",\"pattern\":{\"shape\":\"/\"},\"line\":{\"color\":\"DarkSlateGrey\",\"width\":0.8}},\"name\":\"augelite, type1\",\"offsetgroup\":\"augelite, type1\",\"orientation\":\"v\",\"showlegend\":true,\"x\":[-22.88045094054612],\"xaxis\":\"x\",\"yaxis\":\"y\",\"type\":\"histogram\",\"xbins\":{\"size\":1}},{\"alignmentgroup\":\"True\",\"bingroup\":\"x\",\"hovertemplate\":\"Host=augelite<br>type=type3<br>Tm Hh=%{x}<br>count=%{y}<extra></extra>\",\"legendgroup\":\"augelite, type3\",\"marker\":{\"color\":\"rgb(51,255,51)\",\"pattern\":{\"shape\":\"\\\\\"},\"line\":{\"color\":\"DarkSlateGrey\",\"width\":0.8}},\"name\":\"augelite, type3\",\"offsetgroup\":\"augelite, type3\",\"orientation\":\"v\",\"showlegend\":true,\"x\":[-22.78145895632274,-22.9794429247695,-18.326819666270595],\"xaxis\":\"x\",\"yaxis\":\"y\",\"type\":\"histogram\",\"xbins\":{\"size\":1}},{\"alignmentgroup\":\"True\",\"bingroup\":\"x\",\"hovertemplate\":\"Host=augelite<br>type=type2B<br>Tm Hh=%{x}<br>count=%{y}<extra></extra>\",\"legendgroup\":\"augelite, type2B\",\"marker\":{\"color\":\"rgb(51,255,51)\",\"pattern\":{\"shape\":\"x\"},\"line\":{\"color\":\"DarkSlateGrey\",\"width\":0.8}},\"name\":\"augelite, type2B\",\"offsetgroup\":\"augelite, type2B\",\"orientation\":\"v\",\"showlegend\":true,\"x\":[null],\"xaxis\":\"x\",\"yaxis\":\"y\",\"type\":\"histogram\",\"xbins\":{\"size\":1}},{\"alignmentgroup\":\"True\",\"bingroup\":\"x\",\"hovertemplate\":\"Host=wyllieite<br>type=type1<br>Tm Hh=%{x}<br>count=%{y}<extra></extra>\",\"legendgroup\":\"wyllieite, type1\",\"marker\":{\"color\":\"rgb(0,170,250)\",\"pattern\":{\"shape\":\"/\"},\"line\":{\"color\":\"DarkSlateGrey\",\"width\":0.8}},\"name\":\"wyllieite, type1\",\"offsetgroup\":\"wyllieite, type1\",\"orientation\":\"v\",\"showlegend\":true,\"x\":[-20.50464331918497,-20.99960324030188,-21.395571177195404,-21.98952308253569,-23.07843490899288,null,null,null],\"xaxis\":\"x\",\"yaxis\":\"y\",\"type\":\"histogram\",\"xbins\":{\"size\":1}},{\"alignmentgroup\":\"True\",\"bingroup\":\"x\",\"hovertemplate\":\"Host=quartz<br>type=type2A<br>Tm H2O=%{x}<br>count=%{y}<extra></extra>\",\"legendgroup\":\"quartz, type2A\",\"marker\":{\"color\":\"rgb(240,228,66)\",\"pattern\":{\"shape\":\"\"},\"line\":{\"color\":\"DarkSlateGrey\",\"width\":0.8}},\"name\":\"quartz, type2A\",\"offsetgroup\":\"quartz, type2A\",\"orientation\":\"v\",\"showlegend\":true,\"x\":[null,null,-18.95463343240449,-16.00771329167391,-16.698468762886645,-11.075028864248978,-11.075028864248978,-14.527522996218048,-15.514316526521956,-13.047332700762189,-15.711675232582737,-14.527522996218048,-17.882620999251333,-15.711675232582737,-16.1063926447043,-14.132805584096484,-18.376017764403286,-15.81035458561313,-16.00771329167391,-20.05356676591993,-19.066773235616026,null,-19.95488741288954,-18.99461086234418,-16.71618905373365,-18.1030545024531,-19.09367268010985,-16.220879964905272,-18.30117813798445,-18.1030545024531,-21.768341759783087,-20.71916840305605,-18.02910990009083,-17.929478103684712,-17.430599812125482,-20.314697502437152,-19.61853599098261,-19.519084346489105,-14.844857055294328,-15.242663633268352,-11.562952787008632,-13.55198567687875,-11.165146209034612,-15.143211988774846],\"xaxis\":\"x2\",\"yaxis\":\"y2\",\"type\":\"histogram\",\"xbins\":{\"size\":1}},{\"alignmentgroup\":\"True\",\"bingroup\":\"x\",\"hovertemplate\":\"Host=quartz<br>type=type2B<br>Tm H2O=%{x}<br>count=%{y}<extra></extra>\",\"legendgroup\":\"quartz, type2B\",\"marker\":{\"color\":\"rgb(240,228,66)\",\"pattern\":{\"shape\":\"x\"},\"line\":{\"color\":\"DarkSlateGrey\",\"width\":0.8}},\"name\":\"quartz, type2B\",\"offsetgroup\":\"quartz, type2B\",\"orientation\":\"v\",\"showlegend\":true,\"x\":[null],\"xaxis\":\"x2\",\"yaxis\":\"y2\",\"type\":\"histogram\",\"xbins\":{\"size\":1}},{\"alignmentgroup\":\"True\",\"bingroup\":\"x\",\"hovertemplate\":\"Host=trolleite<br>type=type2A<br>Tm H2O=%{x}<br>count=%{y}<extra></extra>\",\"legendgroup\":\"trolleite, type2A\",\"marker\":{\"color\":\"rgb(0,158,115)\",\"pattern\":{\"shape\":\"\"},\"line\":{\"color\":\"DarkSlateGrey\",\"width\":0.8}},\"name\":\"trolleite, type2A\",\"offsetgroup\":\"trolleite, type2A\",\"orientation\":\"v\",\"showlegend\":true,\"x\":[-16.062120363081583,-10.7777075810632,-16.797148115917036,null,-14.312330926018909,-17.87914792677834,-12.020605172927874,-14.403741208392471,-9.692796017450364,-13.322378190784285,-14.71110476055968,-14.909494270527594,-13.818351965704068,-13.223183435800328,-13.123988680816373,-8.161843821335562,-8.752198130673365,-15.442880303168463,-16.033234612506263,-23.879807577592327,null,-15.811565325189736,null,-14.612335338997571,-13.312593142127993,-14.906522842263012,-15.9027289048474,-17.297417392465544,-16.301211329881156,-16.600073148656474,-16.20159072362272,null,null,null,null,null,null],\"xaxis\":\"x2\",\"yaxis\":\"y2\",\"type\":\"histogram\",\"xbins\":{\"size\":1}},{\"alignmentgroup\":\"True\",\"bingroup\":\"x\",\"hovertemplate\":\"Host=trolleite<br>type=type1<br>Tm H2O=%{x}<br>count=%{y}<extra></extra>\",\"legendgroup\":\"trolleite, type1\",\"marker\":{\"color\":\"rgb(0,158,115)\",\"pattern\":{\"shape\":\"/\"},\"line\":{\"color\":\"DarkSlateGrey\",\"width\":0.8}},\"name\":\"trolleite, type1\",\"offsetgroup\":\"trolleite, type1\",\"orientation\":\"v\",\"showlegend\":true,\"x\":[-22.224512532588527,-14.412006146524355,-16.00063657535112,-12.429625395928673,null,-15.10788378049551,null,-13.619962455736156,-14.286993612032022,-15.073156095137984,-12.812938956208342,-8.457020976004463,-15.836449842727,-16.033234612506263,-15.934842227616633,-17.0171584614026,-16.721981306733703,-23.06474768252215,-23.58018539838582,-23.080815099708303,-17.78748993372664,-22.807073577977345,-17.610410304477977,-16.710987814833857,-14.012720345901494,null,null,-15.511757828641697,-22.40733024924662,-17.810281968843338,-18.393244061308373,-15.80310829858896,-15.20538466103833,null,null],\"xaxis\":\"x2\",\"yaxis\":\"y2\",\"type\":\"histogram\",\"xbins\":{\"size\":1}},{\"alignmentgroup\":\"True\",\"bingroup\":\"x\",\"hovertemplate\":\"Host=trolleite<br>type=type2B<br>Tm H2O=%{x}<br>count=%{y}<extra></extra>\",\"legendgroup\":\"trolleite, type2B\",\"marker\":{\"color\":\"rgb(0,158,115)\",\"pattern\":{\"shape\":\"x\"},\"line\":{\"color\":\"DarkSlateGrey\",\"width\":0.8}},\"name\":\"trolleite, type2B\",\"offsetgroup\":\"trolleite, type2B\",\"orientation\":\"v\",\"showlegend\":true,\"x\":[-15.109732690062485,-14.611356587535248,-13.322378190784285],\"xaxis\":\"x2\",\"yaxis\":\"y2\",\"type\":\"histogram\",\"xbins\":{\"size\":1}},{\"alignmentgroup\":\"True\",\"bingroup\":\"x\",\"hovertemplate\":\"Host=scorzalite<br>type=type2A<br>Tm H2O=%{x}<br>count=%{y}<extra></extra>\",\"legendgroup\":\"scorzalite, type2A\",\"marker\":{\"color\":\"rgb(0,0,255)\",\"pattern\":{\"shape\":\"\"},\"line\":{\"color\":\"DarkSlateGrey\",\"width\":0.8}},\"name\":\"scorzalite, type2A\",\"offsetgroup\":\"scorzalite, type2A\",\"orientation\":\"v\",\"showlegend\":true,\"x\":[-18.178659058342504,-20.448284178041494,-21.23771900228462,-20.448284178041494,-15.363927553245016,-14.466251083455148,-13.818351965704068,null,-15.802247065383206,-13.322378190784285,-10.842509316185362,-11.437677846089104],\"xaxis\":\"x2\",\"yaxis\":\"y2\",\"type\":\"histogram\",\"xbins\":{\"size\":1}},{\"alignmentgroup\":\"True\",\"bingroup\":\"x\",\"hovertemplate\":\"Host=bertossaite<br>type=type2A<br>Tm H2O=%{x}<br>count=%{y}<extra></extra>\",\"legendgroup\":\"bertossaite, type2A\",\"marker\":{\"color\":\"rgb(204,121,167)\",\"pattern\":{\"shape\":\"\"},\"line\":{\"color\":\"DarkSlateGrey\",\"width\":0.8}},\"name\":\"bertossaite, type2A\",\"offsetgroup\":\"bertossaite, type2A\",\"orientation\":\"v\",\"showlegend\":true,\"x\":[-10.69408983099553,-10.494507019395844,-10.09534139619648,-22.66905852697656,-22.569267121176715,-23.46738977337529,-21.870727280577825,-10.788473627920578,-10.788473627920578,-8.59711840698015,-10.390045405931408,-11.933651621008888,-9.65217225637788,-6.577134851875218,-16.136105768374563,-16.235737564780685,-17.232055528841876,-16.335369361186803,-16.335369361186803,-15.339051397125612,-18.925796067745903,-17.430599812125482,-17.728954745605996,-17.132244878644965,-11.991332675974208,-11.298388786410545,-11.298388786410545,-11.001412833740398,-11.397380770633925,-12.288308628644351,-10.803428865293638,-14.367140297335354,null,null,null,null,null,null,null,null,null,null,null,null],\"xaxis\":\"x2\",\"yaxis\":\"y2\",\"type\":\"histogram\",\"xbins\":{\"size\":1}},{\"alignmentgroup\":\"True\",\"bingroup\":\"x\",\"hovertemplate\":\"Host=bertossaite<br>type=type1<br>Tm H2O=%{x}<br>count=%{y}<extra></extra>\",\"legendgroup\":\"bertossaite, type1\",\"marker\":{\"color\":\"rgb(204,121,167)\",\"pattern\":{\"shape\":\"/\"},\"line\":{\"color\":\"DarkSlateGrey\",\"width\":0.8}},\"name\":\"bertossaite, type1\",\"offsetgroup\":\"bertossaite, type1\",\"orientation\":\"v\",\"showlegend\":true,\"x\":[-12.032846375992843,-12.125046783490626,null],\"xaxis\":\"x2\",\"yaxis\":\"y2\",\"type\":\"histogram\",\"xbins\":{\"size\":1}},{\"alignmentgroup\":\"True\",\"bingroup\":\"x\",\"hovertemplate\":\"Host=bertossaite<br>type=type3<br>Tm H2O=%{x}<br>count=%{y}<extra></extra>\",\"legendgroup\":\"bertossaite, type3\",\"marker\":{\"color\":\"rgb(204,121,167)\",\"pattern\":{\"shape\":\"\\\\\"},\"line\":{\"color\":\"DarkSlateGrey\",\"width\":0.8}},\"name\":\"bertossaite, type3\",\"offsetgroup\":\"bertossaite, type3\",\"orientation\":\"v\",\"showlegend\":true,\"x\":[-12.390543729592842,-12.889500758592051,-11.891586700593631,-13.089083570191736,-15.207078535479464,-11.735262111040974,-11.23928833612119,-11.834456866024931,-11.53687260107306,-12.22331709387887,-11.731965541937646,-11.535424921161155,-11.731965541937646,-10.605444896846876],\"xaxis\":\"x2\",\"yaxis\":\"y2\",\"type\":\"histogram\",\"xbins\":{\"size\":1}},{\"alignmentgroup\":\"True\",\"bingroup\":\"x\",\"hovertemplate\":\"Host=bertossaite<br>type=type2B<br>Tm H2O=%{x}<br>count=%{y}<extra></extra>\",\"legendgroup\":\"bertossaite, type2B\",\"marker\":{\"color\":\"rgb(204,121,167)\",\"pattern\":{\"shape\":\"x\"},\"line\":{\"color\":\"DarkSlateGrey\",\"width\":0.8}},\"name\":\"bertossaite, type2B\",\"offsetgroup\":\"bertossaite, type2B\",\"orientation\":\"v\",\"showlegend\":true,\"x\":[-2.610985961208336,null],\"xaxis\":\"x2\",\"yaxis\":\"y2\",\"type\":\"histogram\",\"xbins\":{\"size\":1}},{\"alignmentgroup\":\"True\",\"bingroup\":\"x\",\"hovertemplate\":\"Host=brazilianite<br>type=type2A<br>Tm H2O=%{x}<br>count=%{y}<extra></extra>\",\"legendgroup\":\"brazilianite, type2A\",\"marker\":{\"color\":\"rgb(250,120,10)\",\"pattern\":{\"shape\":\"\"},\"line\":{\"color\":\"DarkSlateGrey\",\"width\":0.8}},\"name\":\"brazilianite, type2A\",\"offsetgroup\":\"brazilianite, type2A\",\"orientation\":\"v\",\"showlegend\":true,\"x\":[-12.387513437402887,-12.387513437402887,-11.888890631806982,-11.489992387330256,-11.589716948449436,-11.888890631806982,-12.58696255964125,-11.489992387330256,-11.689441509568615,-12.387513437402887,-10.692195898376804,-12.786411681879612,-11.09109414285353,-10.15964057572572,-10.15964057572572,-16.79931436117335,-16.600073148656474,-16.79931436117335,null,null,null,null,null,null,null,null,null,null,null,null,null,null,null,null,null],\"xaxis\":\"x2\",\"yaxis\":\"y2\",\"type\":\"histogram\",\"xbins\":{\"size\":1}},{\"alignmentgroup\":\"True\",\"bingroup\":\"x\",\"hovertemplate\":\"Host=brazilianite<br>type=type1<br>Tm H2O=%{x}<br>count=%{y}<extra></extra>\",\"legendgroup\":\"brazilianite, type1\",\"marker\":{\"color\":\"rgb(250,120,10)\",\"pattern\":{\"shape\":\"/\"},\"line\":{\"color\":\"DarkSlateGrey\",\"width\":0.8}},\"name\":\"brazilianite, type1\",\"offsetgroup\":\"brazilianite, type1\",\"orientation\":\"v\",\"showlegend\":true,\"x\":[-11.489992387330256,-9.96309995494923,-9.96309995494923,-9.96309995494923,-16.79931436117335,-17.496658604982425,null],\"xaxis\":\"x2\",\"yaxis\":\"y2\",\"type\":\"histogram\",\"xbins\":{\"size\":1}},{\"alignmentgroup\":\"True\",\"bingroup\":\"x\",\"hovertemplate\":\"Host=brazilianite<br>type=type3<br>Tm H2O=%{x}<br>count=%{y}<extra></extra>\",\"legendgroup\":\"brazilianite, type3\",\"marker\":{\"color\":\"rgb(250,120,10)\",\"pattern\":{\"shape\":\"\\\\\"},\"line\":{\"color\":\"DarkSlateGrey\",\"width\":0.8}},\"name\":\"brazilianite, type3\",\"offsetgroup\":\"brazilianite, type3\",\"orientation\":\"v\",\"showlegend\":true,\"x\":[-12.985860804117976,-10.791920459495987,-10.991369581734348,-14.382004659786515,-14.880627465382425,-12.387513437402887],\"xaxis\":\"x2\",\"yaxis\":\"y2\",\"type\":\"histogram\",\"xbins\":{\"size\":1}},{\"alignmentgroup\":\"True\",\"bingroup\":\"x\",\"hovertemplate\":\"Host=augelite<br>type=type2A<br>Tm H2O=%{x}<br>count=%{y}<extra></extra>\",\"legendgroup\":\"augelite, type2A\",\"marker\":{\"color\":\"rgb(51,255,51)\",\"pattern\":{\"shape\":\"\"},\"line\":{\"color\":\"DarkSlateGrey\",\"width\":0.8}},\"name\":\"augelite, type2A\",\"offsetgroup\":\"augelite, type2A\",\"orientation\":\"v\",\"showlegend\":true,\"x\":[-13.476212439324923,-15.753028076462687,-15.753028076462687,-18.12883569782383,-14.169156328888592,-11.793348707527446,-11.595364739080686,-16.84193990291988,-17.237907839813403,-16.544963950249738,null,-13.971172360441829,-15.357060139569162,-17.534883792483544,-15.951012044909447,null,null,null],\"xaxis\":\"x2\",\"yaxis\":\"y2\",\"type\":\"histogram\",\"xbins\":{\"size\":1}},{\"alignmentgroup\":\"True\",\"bingroup\":\"x\",\"hovertemplate\":\"Host=augelite<br>type=type1<br>Tm H2O=%{x}<br>count=%{y}<extra></extra>\",\"legendgroup\":\"augelite, type1\",\"marker\":{\"color\":\"rgb(51,255,51)\",\"pattern\":{\"shape\":\"/\"},\"line\":{\"color\":\"DarkSlateGrey\",\"width\":0.8}},\"name\":\"augelite, type1\",\"offsetgroup\":\"augelite, type1\",\"orientation\":\"v\",\"showlegend\":true,\"x\":[-13.971172360441829],\"xaxis\":\"x2\",\"yaxis\":\"y2\",\"type\":\"histogram\",\"xbins\":{\"size\":1}},{\"alignmentgroup\":\"True\",\"bingroup\":\"x\",\"hovertemplate\":\"Host=augelite<br>type=type3<br>Tm H2O=%{x}<br>count=%{y}<extra></extra>\",\"legendgroup\":\"augelite, type3\",\"marker\":{\"color\":\"rgb(51,255,51)\",\"pattern\":{\"shape\":\"\\\\\"},\"line\":{\"color\":\"DarkSlateGrey\",\"width\":0.8}},\"name\":\"augelite, type3\",\"offsetgroup\":\"augelite, type3\",\"orientation\":\"v\",\"showlegend\":true,\"x\":[-17.13891585559002,-12.684276565537877,-16.940931887143257],\"xaxis\":\"x2\",\"yaxis\":\"y2\",\"type\":\"histogram\",\"xbins\":{\"size\":1}},{\"alignmentgroup\":\"True\",\"bingroup\":\"x\",\"hovertemplate\":\"Host=augelite<br>type=type2B<br>Tm H2O=%{x}<br>count=%{y}<extra></extra>\",\"legendgroup\":\"augelite, type2B\",\"marker\":{\"color\":\"rgb(51,255,51)\",\"pattern\":{\"shape\":\"x\"},\"line\":{\"color\":\"DarkSlateGrey\",\"width\":0.8}},\"name\":\"augelite, type2B\",\"offsetgroup\":\"augelite, type2B\",\"orientation\":\"v\",\"showlegend\":true,\"x\":[-11.397380770633925],\"xaxis\":\"x2\",\"yaxis\":\"y2\",\"type\":\"histogram\",\"xbins\":{\"size\":1}},{\"alignmentgroup\":\"True\",\"bingroup\":\"x\",\"hovertemplate\":\"Host=wyllieite<br>type=type1<br>Tm H2O=%{x}<br>count=%{y}<extra></extra>\",\"legendgroup\":\"wyllieite, type1\",\"marker\":{\"color\":\"rgb(0,170,250)\",\"pattern\":{\"shape\":\"/\"},\"line\":{\"color\":\"DarkSlateGrey\",\"width\":0.8}},\"name\":\"wyllieite, type1\",\"offsetgroup\":\"wyllieite, type1\",\"orientation\":\"v\",\"showlegend\":true,\"x\":[-12.882260533984638,-11.10040481796378,-11.10040481796378,-11.595364739080686,-10.902420849517018,null,null,null],\"xaxis\":\"x2\",\"yaxis\":\"y2\",\"type\":\"histogram\",\"xbins\":{\"size\":1}},{\"alignmentgroup\":\"True\",\"bingroup\":\"x\",\"hovertemplate\":\"Host=quartz<br>type=type2A<br>Tm CL=%{x}<br>count=%{y}<extra></extra>\",\"legendgroup\":\"quartz, type2A\",\"marker\":{\"color\":\"rgb(240,228,66)\",\"pattern\":{\"shape\":\"\"},\"line\":{\"color\":\"DarkSlateGrey\",\"width\":0.8}},\"name\":\"quartz, type2A\",\"offsetgroup\":\"quartz, type2A\",\"orientation\":\"v\",\"showlegend\":true,\"x\":[null,null,0.7942489029726162,null,0.3730593113709553,0.49502341304266,0.49502341304266,1.5572115477356443,null,-1.6992071022672504,1.5572115477356443,0.1757006053101737,0.3730593113709553,-1.3044896901456875,-0.8110929249937338,-0.5150548659025616,null,-2.4886419265103763,-3.3767561037838933,-1.4031690431760782,-2.1926038674192045,-3.179397397723112,-1.008451631054515,1.4121235973849202,2.2046181395103224,0.2233817841968173,-1.262545482288311,-0.5691127579285846,1.0158763263222192,1.2139999618535695,3.0961744994013998,-1.091704511050558,0.2035088422289922,0.2035088422289922,0.9679544191731072,0.1723412632250601,-0.3249169592424693,-1.3194334041775282,-0.2254653147489634,-3.5073695830346576,0.8685027746796014,-0.4243686037359752,-4.800240961450235,-0.3249169592424693],\"xaxis\":\"x3\",\"yaxis\":\"y3\",\"type\":\"histogram\",\"xbins\":{\"size\":1}},{\"alignmentgroup\":\"True\",\"bingroup\":\"x\",\"hovertemplate\":\"Host=quartz<br>type=type2B<br>Tm CL=%{x}<br>count=%{y}<extra></extra>\",\"legendgroup\":\"quartz, type2B\",\"marker\":{\"color\":\"rgb(240,228,66)\",\"pattern\":{\"shape\":\"x\"},\"line\":{\"color\":\"DarkSlateGrey\",\"width\":0.8}},\"name\":\"quartz, type2B\",\"offsetgroup\":\"quartz, type2B\",\"orientation\":\"v\",\"showlegend\":true,\"x\":[null],\"xaxis\":\"x3\",\"yaxis\":\"y3\",\"type\":\"histogram\",\"xbins\":{\"size\":1}},{\"alignmentgroup\":\"True\",\"bingroup\":\"x\",\"hovertemplate\":\"Host=trolleite<br>type=type2A<br>Tm CL=%{x}<br>count=%{y}<extra></extra>\",\"legendgroup\":\"trolleite, type2A\",\"marker\":{\"color\":\"rgb(0,158,115)\",\"pattern\":{\"shape\":\"\"},\"line\":{\"color\":\"DarkSlateGrey\",\"width\":0.8}},\"name\":\"trolleite, type2A\",\"offsetgroup\":\"trolleite, type2A\",\"orientation\":\"v\",\"showlegend\":true,\"x\":[-4.891035405696552,-2.686000632571158,-1.9952451613584223,null,2.233755677885284,1.0866430221274177,4.065563066458165,4.3634550708912405,0.5667306987707291,-1.7165918576613317,1.854419321761116,2.251198341696944,2.449587851664857,2.9455616265846416,2.3503930966809,6.498621527219875,1.382217512958917,1.874179437407086,2.366141361855255,1.6879517146964589,1.977012803327324,1.877076971144644,1.277461978048563,1.977012803327324,1.730118402896265,2.6267038592222143,2.2282214341884594,0.5346711277949997,1.9293596154131427,2.1286008279300206,2.2282214341884594,null,null,null,null,null,null],\"xaxis\":\"x3\",\"yaxis\":\"y3\",\"type\":\"histogram\",\"xbins\":{\"size\":1}},{\"alignmentgroup\":\"True\",\"bingroup\":\"x\",\"hovertemplate\":\"Host=trolleite<br>type=type1<br>Tm CL=%{x}<br>count=%{y}<extra></extra>\",\"legendgroup\":\"trolleite, type1\",\"marker\":{\"color\":\"rgb(0,158,115)\",\"pattern\":{\"shape\":\"/\"},\"line\":{\"color\":\"DarkSlateGrey\",\"width\":0.8}},\"name\":\"trolleite, type1\",\"offsetgroup\":\"trolleite, type1\",\"orientation\":\"v\",\"showlegend\":true,\"x\":[-1.5018483962064688,-3.3480566704197448,2.6479773616327718,-2.311760387565072,null,-2.7085394075009,null,1.6560298117932022,2.320688843581427,2.418959153969672,2.713770085134408,4.03881190497903,2.2677489769656214,2.464533746744889,2.562926131634523,1.97257182229672,2.562926131634523,0.2555864663970833,1.3883295354899494,1.0887073562834404,2.1873220133739744,1.0775903136832028,2.4766919642407244,2.7764994607887643,2.5766277964234043,null,null,2.176884467692684,2.376756132058044,2.4766919642407244,1.6304977966378265,2.2282214341884594,2.5270832529637755,null,null],\"xaxis\":\"x3\",\"yaxis\":\"y3\",\"type\":\"histogram\",\"xbins\":{\"size\":1}},{\"alignmentgroup\":\"True\",\"bingroup\":\"x\",\"hovertemplate\":\"Host=trolleite<br>type=type2B<br>Tm CL=%{x}<br>count=%{y}<extra></extra>\",\"legendgroup\":\"trolleite, type2B\",\"marker\":{\"color\":\"rgb(0,158,115)\",\"pattern\":{\"shape\":\"x\"},\"line\":{\"color\":\"DarkSlateGrey\",\"width\":0.8}},\"name\":\"trolleite, type2B\",\"offsetgroup\":\"trolleite, type2B\",\"orientation\":\"v\",\"showlegend\":true,\"x\":[5.224012293048692,5.8220636160813735,2.5487826066488144],\"xaxis\":\"x3\",\"yaxis\":\"y3\",\"type\":\"histogram\",\"xbins\":{\"size\":1}},{\"alignmentgroup\":\"True\",\"bingroup\":\"x\",\"hovertemplate\":\"Host=scorzalite<br>type=type2A<br>Tm CL=%{x}<br>count=%{y}<extra></extra>\",\"legendgroup\":\"scorzalite, type2A\",\"marker\":{\"color\":\"rgb(0,0,255)\",\"pattern\":{\"shape\":\"\"},\"line\":{\"color\":\"DarkSlateGrey\",\"width\":0.8}},\"name\":\"scorzalite, type2A\",\"offsetgroup\":\"scorzalite, type2A\",\"orientation\":\"v\",\"showlegend\":true,\"x\":[null,-1.6992071022672504,-0.0216581007506077,-2.9820386916623303,1.691925372762485,0.6945070729959641,-3.799681712324425,null,-5.386797792067736,2.251198341696944,2.8463668716006847,1.060861281889461],\"xaxis\":\"x3\",\"yaxis\":\"y3\",\"type\":\"histogram\",\"xbins\":{\"size\":1}},{\"alignmentgroup\":\"True\",\"bingroup\":\"x\",\"hovertemplate\":\"Host=bertossaite<br>type=type2A<br>Tm CL=%{x}<br>count=%{y}<extra></extra>\",\"legendgroup\":\"bertossaite, type2A\",\"marker\":{\"color\":\"rgb(204,121,167)\",\"pattern\":{\"shape\":\"\"},\"line\":{\"color\":\"DarkSlateGrey\",\"width\":0.8}},\"name\":\"bertossaite, type2A\",\"offsetgroup\":\"bertossaite, type2A\",\"orientation\":\"v\",\"showlegend\":true,\"x\":[3.9752468215812287,3.675872604181703,4.973160879579647,-0.2159922220121308,-0.1162008162122889,null,0.4825476185867624,4.750227029657,4.750227029657,5.646690529132629,4.451405863165124,-1.4190075927094608,3.4415354015044257,4.135898686392124,2.495040159569736,2.395408363163616,2.1961447703513777,1.598353991914662,2.395408363163616,2.594671955975855,1.2994586026963042,null,2.360277442082189,1.5646642861341424,3.74839281554337,3.649400831319989,3.847384799766751,3.74839281554337,3.649400831319989,3.154440910203084,3.946376783990132,3.154440910203084,null,null,null,null,null,null,null,null,null,null,null,null],\"xaxis\":\"x3\",\"yaxis\":\"y3\",\"type\":\"histogram\",\"xbins\":{\"size\":1}},{\"alignmentgroup\":\"True\",\"bingroup\":\"x\",\"hovertemplate\":\"Host=bertossaite<br>type=type1<br>Tm CL=%{x}<br>count=%{y}<extra></extra>\",\"legendgroup\":\"bertossaite, type1\",\"marker\":{\"color\":\"rgb(204,121,167)\",\"pattern\":{\"shape\":\"/\"},\"line\":{\"color\":\"DarkSlateGrey\",\"width\":0.8}},\"name\":\"bertossaite, type1\",\"offsetgroup\":\"bertossaite, type1\",\"orientation\":\"v\",\"showlegend\":true,\"x\":[3.838314421440253,5.6618793967817655,null],\"xaxis\":\"x3\",\"yaxis\":\"y3\",\"type\":\"histogram\",\"xbins\":{\"size\":1}},{\"alignmentgroup\":\"True\",\"bingroup\":\"x\",\"hovertemplate\":\"Host=bertossaite<br>type=type3<br>Tm CL=%{x}<br>count=%{y}<extra></extra>\",\"legendgroup\":\"bertossaite, type3\",\"marker\":{\"color\":\"rgb(204,121,167)\",\"pattern\":{\"shape\":\"\\\\\"},\"line\":{\"color\":\"DarkSlateGrey\",\"width\":0.8}},\"name\":\"bertossaite, type3\",\"offsetgroup\":\"bertossaite, type3\",\"orientation\":\"v\",\"showlegend\":true,\"x\":[-1.812654714809601,-2.012237526409285,-1.812654714809601,-2.2118203380089687,-1.5182023476934177,-2.5101498975329863,-1.3198128377255038,-1.4190075927094608,-1.4190075927094608,-8.587315609513798,-8.194234367960815,-8.882126540678533,-8.783856230290287,-6.744757512135016],\"xaxis\":\"x3\",\"yaxis\":\"y3\",\"type\":\"histogram\",\"xbins\":{\"size\":1}},{\"alignmentgroup\":\"True\",\"bingroup\":\"x\",\"hovertemplate\":\"Host=bertossaite<br>type=type2B<br>Tm CL=%{x}<br>count=%{y}<extra></extra>\",\"legendgroup\":\"bertossaite, type2B\",\"marker\":{\"color\":\"rgb(204,121,167)\",\"pattern\":{\"shape\":\"x\"},\"line\":{\"color\":\"DarkSlateGrey\",\"width\":0.8}},\"name\":\"bertossaite, type2B\",\"offsetgroup\":\"bertossaite, type2B\",\"orientation\":\"v\",\"showlegend\":true,\"x\":[7.966903053574904,null],\"xaxis\":\"x3\",\"yaxis\":\"y3\",\"type\":\"histogram\",\"xbins\":{\"size\":1}},{\"alignmentgroup\":\"True\",\"bingroup\":\"x\",\"hovertemplate\":\"Host=brazilianite<br>type=type2A<br>Tm CL=%{x}<br>count=%{y}<extra></extra>\",\"legendgroup\":\"brazilianite, type2A\",\"marker\":{\"color\":\"rgb(250,120,10)\",\"pattern\":{\"shape\":\"\"},\"line\":{\"color\":\"DarkSlateGrey\",\"width\":0.8}},\"name\":\"brazilianite, type2A\",\"offsetgroup\":\"brazilianite, type2A\",\"orientation\":\"v\",\"showlegend\":true,\"x\":[3.8675900250236768,3.8675900250236768,4.067039147262039,null,3.967314586142858,4.366212830619585,4.665386513977128,3.7678654639044953,3.7678654639044953,4.067039147262039,3.8675900250236768,-0.8194643475778476,4.665386513977128,5.072257534452294,4.777446603287558,2.327842040446898,2.4274626467053366,2.1286008279300206,null,null,null,null,null,null,null,null,null,null,null,null,null,null,null,null,null],\"xaxis\":\"x3\",\"yaxis\":\"y3\",\"type\":\"histogram\",\"xbins\":{\"size\":1}},{\"alignmentgroup\":\"True\",\"bingroup\":\"x\",\"hovertemplate\":\"Host=brazilianite<br>type=type1<br>Tm CL=%{x}<br>count=%{y}<extra></extra>\",\"legendgroup\":\"brazilianite, type1\",\"marker\":{\"color\":\"rgb(250,120,10)\",\"pattern\":{\"shape\":\"/\"},\"line\":{\"color\":\"DarkSlateGrey\",\"width\":0.8}},\"name\":\"brazilianite, type1\",\"offsetgroup\":\"brazilianite, type1\",\"orientation\":\"v\",\"showlegend\":true,\"x\":[4.76511107509631,4.97398722406405,4.875716913675804,4.97398722406405,2.5270832529637755,2.327842040446898,null],\"xaxis\":\"x3\",\"yaxis\":\"y3\",\"type\":\"histogram\",\"xbins\":{\"size\":1}},{\"alignmentgroup\":\"True\",\"bingroup\":\"x\",\"hovertemplate\":\"Host=brazilianite<br>type=type3<br>Tm CL=%{x}<br>count=%{y}<extra></extra>\",\"legendgroup\":\"brazilianite, type3\",\"marker\":{\"color\":\"rgb(250,120,10)\",\"pattern\":{\"shape\":\"\\\\\"},\"line\":{\"color\":\"DarkSlateGrey\",\"width\":0.8}},\"name\":\"brazilianite, type3\",\"offsetgroup\":\"brazilianite, type3\",\"orientation\":\"v\",\"showlegend\":true,\"x\":[5.164009319573036,-1.6172608365312986,-3.512027497795745,1.075302313686599,0.8758531914482358,1.3744759970441427],\"xaxis\":\"x3\",\"yaxis\":\"y3\",\"type\":\"histogram\",\"xbins\":{\"size\":1}},{\"alignmentgroup\":\"True\",\"bingroup\":\"x\",\"hovertemplate\":\"Host=augelite<br>type=type2A<br>Tm CL=%{x}<br>count=%{y}<extra></extra>\",\"legendgroup\":\"augelite, type2A\",\"marker\":{\"color\":\"rgb(51,255,51)\",\"pattern\":{\"shape\":\"\"},\"line\":{\"color\":\"DarkSlateGrey\",\"width\":0.8}},\"name\":\"augelite, type2A\",\"offsetgroup\":\"augelite, type2A\",\"orientation\":\"v\",\"showlegend\":true,\"x\":[2.362505036416036,1.2735932099588447,0.6796413046185588,0.976617257288702,0.6796413046185588,0.7786332888419397,0.8776252730653209,0.6796413046185588,1.174601225735464,-0.3102785376152512,null,1.0756092415120828,0.6796413046185588,0.8776252730653209,0.5806493203951778,null,null,null],\"xaxis\":\"x3\",\"yaxis\":\"y3\",\"type\":\"histogram\",\"xbins\":{\"size\":1}},{\"alignmentgroup\":\"True\",\"bingroup\":\"x\",\"hovertemplate\":\"Host=augelite<br>type=type1<br>Tm CL=%{x}<br>count=%{y}<extra></extra>\",\"legendgroup\":\"augelite, type1\",\"marker\":{\"color\":\"rgb(51,255,51)\",\"pattern\":{\"shape\":\"/\"},\"line\":{\"color\":\"DarkSlateGrey\",\"width\":0.8}},\"name\":\"augelite, type1\",\"offsetgroup\":\"augelite, type1\",\"orientation\":\"v\",\"showlegend\":true,\"x\":[1.3725851941822258],\"xaxis\":\"x3\",\"yaxis\":\"y3\",\"type\":\"histogram\",\"xbins\":{\"size\":1}},{\"alignmentgroup\":\"True\",\"bingroup\":\"x\",\"hovertemplate\":\"Host=augelite<br>type=type3<br>Tm CL=%{x}<br>count=%{y}<extra></extra>\",\"legendgroup\":\"augelite, type3\",\"marker\":{\"color\":\"rgb(51,255,51)\",\"pattern\":{\"shape\":\"\\\\\"},\"line\":{\"color\":\"DarkSlateGrey\",\"width\":0.8}},\"name\":\"augelite, type3\",\"offsetgroup\":\"augelite, type3\",\"orientation\":\"v\",\"showlegend\":true,\"x\":[1.2735932099588447,-0.5082625060620132,0.976617257288702],\"xaxis\":\"x3\",\"yaxis\":\"y3\",\"type\":\"histogram\",\"xbins\":{\"size\":1}},{\"alignmentgroup\":\"True\",\"bingroup\":\"x\",\"hovertemplate\":\"Host=augelite<br>type=type2B<br>Tm CL=%{x}<br>count=%{y}<extra></extra>\",\"legendgroup\":\"augelite, type2B\",\"marker\":{\"color\":\"rgb(51,255,51)\",\"pattern\":{\"shape\":\"x\"},\"line\":{\"color\":\"DarkSlateGrey\",\"width\":0.8}},\"name\":\"augelite, type2B\",\"offsetgroup\":\"augelite, type2B\",\"orientation\":\"v\",\"showlegend\":true,\"x\":[2.065529083745893],\"xaxis\":\"x3\",\"yaxis\":\"y3\",\"type\":\"histogram\",\"xbins\":{\"size\":1}},{\"alignmentgroup\":\"True\",\"bingroup\":\"x\",\"hovertemplate\":\"Host=wyllieite<br>type=type1<br>Tm CL=%{x}<br>count=%{y}<extra></extra>\",\"legendgroup\":\"wyllieite, type1\",\"marker\":{\"color\":\"rgb(0,170,250)\",\"pattern\":{\"shape\":\"/\"},\"line\":{\"color\":\"DarkSlateGrey\",\"width\":0.8}},\"name\":\"wyllieite, type1\",\"offsetgroup\":\"wyllieite, type1\",\"orientation\":\"v\",\"showlegend\":true,\"x\":[1.669561146852369,1.5705691626289875,1.4715771784056066,1.5705691626289875,1.76855313107575,null,null,null],\"xaxis\":\"x3\",\"yaxis\":\"y3\",\"type\":\"histogram\",\"xbins\":{\"size\":1}},{\"alignmentgroup\":\"True\",\"bingroup\":\"x\",\"hovertemplate\":\"Host=quartz<br>type=type2A<br>Th CO2=%{x}<br>count=%{y}<extra></extra>\",\"legendgroup\":\"quartz, type2A\",\"marker\":{\"color\":\"rgb(240,228,66)\",\"pattern\":{\"shape\":\"\"},\"line\":{\"color\":\"DarkSlateGrey\",\"width\":0.8}},\"name\":\"quartz, type2A\",\"offsetgroup\":\"quartz, type2A\",\"orientation\":\"v\",\"showlegend\":true,\"x\":[null,null,null,null,null,null,null,null,null,null,null,null,null,null,null,null,null,null,null,null,null,null,null,null,null,null,null,14.290159906922703,null,null,13.4976653647973,null,null,null,null,null,null,null,null,null,null,14.19502313680939,19.76431522844572,18.869250428004165],\"xaxis\":\"x4\",\"yaxis\":\"y4\",\"type\":\"histogram\",\"xbins\":{\"size\":1}},{\"alignmentgroup\":\"True\",\"bingroup\":\"x\",\"hovertemplate\":\"Host=quartz<br>type=type2B<br>Th CO2=%{x}<br>count=%{y}<extra></extra>\",\"legendgroup\":\"quartz, type2B\",\"marker\":{\"color\":\"rgb(240,228,66)\",\"pattern\":{\"shape\":\"x\"},\"line\":{\"color\":\"DarkSlateGrey\",\"width\":0.8}},\"name\":\"quartz, type2B\",\"offsetgroup\":\"quartz, type2B\",\"orientation\":\"v\",\"showlegend\":true,\"x\":[null],\"xaxis\":\"x4\",\"yaxis\":\"y4\",\"type\":\"histogram\",\"xbins\":{\"size\":1}},{\"alignmentgroup\":\"True\",\"bingroup\":\"x\",\"hovertemplate\":\"Host=trolleite<br>type=type2A<br>Th CO2=%{x}<br>count=%{y}<extra></extra>\",\"legendgroup\":\"trolleite, type2A\",\"marker\":{\"color\":\"rgb(0,158,115)\",\"pattern\":{\"shape\":\"\"},\"line\":{\"color\":\"DarkSlateGrey\",\"width\":0.8}},\"name\":\"trolleite, type2A\",\"offsetgroup\":\"trolleite, type2A\",\"orientation\":\"v\",\"showlegend\":true,\"x\":[null,null,null,null,null,null,null,null,null,null,null,null,null,null,null,null,14.665189473059485,null,null,24.059741095449148,23.063473393872822,null,null,null,null,null,null,null,null,null,null,null,null,null,null,null,null],\"xaxis\":\"x4\",\"yaxis\":\"y4\",\"type\":\"histogram\",\"xbins\":{\"size\":1}},{\"alignmentgroup\":\"True\",\"bingroup\":\"x\",\"hovertemplate\":\"Host=trolleite<br>type=type1<br>Th CO2=%{x}<br>count=%{y}<extra></extra>\",\"legendgroup\":\"trolleite, type1\",\"marker\":{\"color\":\"rgb(0,158,115)\",\"pattern\":{\"shape\":\"/\"},\"line\":{\"color\":\"DarkSlateGrey\",\"width\":0.8}},\"name\":\"trolleite, type1\",\"offsetgroup\":\"trolleite, type1\",\"orientation\":\"v\",\"showlegend\":true,\"x\":[null,19.078867943305816,null,27.44666610762199,24.96679723302307,null,24.96679723302307,null,null,null,null,13.189303699714976,13.386088469494242,10.72949407747413,null,null,15.64911332195582,22.57932513886678,23.76011891624264,null,22.06225990073909,19.46578343529634,null,null,null,17.1672592950947,null,null,null,null,null,null,null,null,null],\"xaxis\":\"x4\",\"yaxis\":\"y4\",\"type\":\"histogram\",\"xbins\":{\"size\":1}},{\"alignmentgroup\":\"True\",\"bingroup\":\"x\",\"hovertemplate\":\"Host=trolleite<br>type=type2B<br>Th CO2=%{x}<br>count=%{y}<extra></extra>\",\"legendgroup\":\"trolleite, type2B\",\"marker\":{\"color\":\"rgb(0,158,115)\",\"pattern\":{\"shape\":\"x\"},\"line\":{\"color\":\"DarkSlateGrey\",\"width\":0.8}},\"name\":\"trolleite, type2B\",\"offsetgroup\":\"trolleite, type2B\",\"orientation\":\"v\",\"showlegend\":true,\"x\":[23.763603307061825,22.966201543018247,14.154568939771767],\"xaxis\":\"x4\",\"yaxis\":\"y4\",\"type\":\"histogram\",\"xbins\":{\"size\":1}},{\"alignmentgroup\":\"True\",\"bingroup\":\"x\",\"hovertemplate\":\"Host=scorzalite<br>type=type2A<br>Th CO2=%{x}<br>count=%{y}<extra></extra>\",\"legendgroup\":\"scorzalite, type2A\",\"marker\":{\"color\":\"rgb(0,0,255)\",\"pattern\":{\"shape\":\"\"},\"line\":{\"color\":\"DarkSlateGrey\",\"width\":0.8}},\"name\":\"scorzalite, type2A\",\"offsetgroup\":\"scorzalite, type2A\",\"orientation\":\"v\",\"showlegend\":true,\"x\":[null,null,null,null,null,null,null,null,null,null,null,null],\"xaxis\":\"x4\",\"yaxis\":\"y4\",\"type\":\"histogram\",\"xbins\":{\"size\":1}},{\"alignmentgroup\":\"True\",\"bingroup\":\"x\",\"hovertemplate\":\"Host=bertossaite<br>type=type2A<br>Th CO2=%{x}<br>count=%{y}<extra></extra>\",\"legendgroup\":\"bertossaite, type2A\",\"marker\":{\"color\":\"rgb(204,121,167)\",\"pattern\":{\"shape\":\"\"},\"line\":{\"color\":\"DarkSlateGrey\",\"width\":0.8}},\"name\":\"bertossaite, type2A\",\"offsetgroup\":\"bertossaite, type2A\",\"orientation\":\"v\",\"showlegend\":true,\"x\":[null,null,null,null,null,null,null,null,null,null,null,27.04988708768616,null,null,null,null,null,null,null,null,24.115139979697613,null,null,null,null,null,null,null,17.40928663836995,null,null,null,null,null,null,null,null,null,null,null,null,null,null,null],\"xaxis\":\"x4\",\"yaxis\":\"y4\",\"type\":\"histogram\",\"xbins\":{\"size\":1}},{\"alignmentgroup\":\"True\",\"bingroup\":\"x\",\"hovertemplate\":\"Host=bertossaite<br>type=type1<br>Th CO2=%{x}<br>count=%{y}<extra></extra>\",\"legendgroup\":\"bertossaite, type1\",\"marker\":{\"color\":\"rgb(204,121,167)\",\"pattern\":{\"shape\":\"/\"},\"line\":{\"color\":\"DarkSlateGrey\",\"width\":0.8}},\"name\":\"bertossaite, type1\",\"offsetgroup\":\"bertossaite, type1\",\"orientation\":\"v\",\"showlegend\":true,\"x\":[null,29.050213269184137,null],\"xaxis\":\"x4\",\"yaxis\":\"y4\",\"type\":\"histogram\",\"xbins\":{\"size\":1}},{\"alignmentgroup\":\"True\",\"bingroup\":\"x\",\"hovertemplate\":\"Host=bertossaite<br>type=type3<br>Th CO2=%{x}<br>count=%{y}<extra></extra>\",\"legendgroup\":\"bertossaite, type3\",\"marker\":{\"color\":\"rgb(204,121,167)\",\"pattern\":{\"shape\":\"\\\\\"},\"line\":{\"color\":\"DarkSlateGrey\",\"width\":0.8}},\"name\":\"bertossaite, type3\",\"offsetgroup\":\"bertossaite, type3\",\"orientation\":\"v\",\"showlegend\":true,\"x\":[27.32643577874423,27.426227184544075,27.526018590343917,27.62580999614376,26.950692332702207,26.553913312766376,26.65310806775033,27.248276597654076,26.75230282273429,29.050213269184137,29.050213269184137,29.050213269184137,29.050213269184137,20.37904616507138],\"xaxis\":\"x4\",\"yaxis\":\"y4\",\"type\":\"histogram\",\"xbins\":{\"size\":1}},{\"alignmentgroup\":\"True\",\"bingroup\":\"x\",\"hovertemplate\":\"Host=bertossaite<br>type=type2B<br>Th CO2=%{x}<br>count=%{y}<extra></extra>\",\"legendgroup\":\"bertossaite, type2B\",\"marker\":{\"color\":\"rgb(204,121,167)\",\"pattern\":{\"shape\":\"x\"},\"line\":{\"color\":\"DarkSlateGrey\",\"width\":0.8}},\"name\":\"bertossaite, type2B\",\"offsetgroup\":\"bertossaite, type2B\",\"orientation\":\"v\",\"showlegend\":true,\"x\":[20.44082877855514,null],\"xaxis\":\"x4\",\"yaxis\":\"y4\",\"type\":\"histogram\",\"xbins\":{\"size\":1}},{\"alignmentgroup\":\"True\",\"bingroup\":\"x\",\"hovertemplate\":\"Host=brazilianite<br>type=type2A<br>Th CO2=%{x}<br>count=%{y}<extra></extra>\",\"legendgroup\":\"brazilianite, type2A\",\"marker\":{\"color\":\"rgb(250,120,10)\",\"pattern\":{\"shape\":\"\"},\"line\":{\"color\":\"DarkSlateGrey\",\"width\":0.8}},\"name\":\"brazilianite, type2A\",\"offsetgroup\":\"brazilianite, type2A\",\"orientation\":\"v\",\"showlegend\":true,\"x\":[null,null,null,null,null,null,null,null,null,null,null,null,null,null,null,12.489143878807656,null,null,null,null,null,null,null,null,null,null,null,null,null,null,null,null,null,null,null],\"xaxis\":\"x4\",\"yaxis\":\"y4\",\"type\":\"histogram\",\"xbins\":{\"size\":1}},{\"alignmentgroup\":\"True\",\"bingroup\":\"x\",\"hovertemplate\":\"Host=brazilianite<br>type=type1<br>Th CO2=%{x}<br>count=%{y}<extra></extra>\",\"legendgroup\":\"brazilianite, type1\",\"marker\":{\"color\":\"rgb(250,120,10)\",\"pattern\":{\"shape\":\"/\"},\"line\":{\"color\":\"DarkSlateGrey\",\"width\":0.8}},\"name\":\"brazilianite, type1\",\"offsetgroup\":\"brazilianite, type1\",\"orientation\":\"v\",\"showlegend\":true,\"x\":[null,null,null,null,null,null,null],\"xaxis\":\"x4\",\"yaxis\":\"y4\",\"type\":\"histogram\",\"xbins\":{\"size\":1}},{\"alignmentgroup\":\"True\",\"bingroup\":\"x\",\"hovertemplate\":\"Host=brazilianite<br>type=type3<br>Th CO2=%{x}<br>count=%{y}<extra></extra>\",\"legendgroup\":\"brazilianite, type3\",\"marker\":{\"color\":\"rgb(250,120,10)\",\"pattern\":{\"shape\":\"\\\\\"},\"line\":{\"color\":\"DarkSlateGrey\",\"width\":0.8}},\"name\":\"brazilianite, type3\",\"offsetgroup\":\"brazilianite, type3\",\"orientation\":\"v\",\"showlegend\":true,\"x\":[25.408095226766854,29.49680223265329,29.49680223265329,27.00368820467376,27.00368820467376,27.103412765792932],\"xaxis\":\"x4\",\"yaxis\":\"y4\",\"type\":\"histogram\",\"xbins\":{\"size\":1}},{\"alignmentgroup\":\"True\",\"bingroup\":\"x\",\"hovertemplate\":\"Host=augelite<br>type=type2A<br>Th CO2=%{x}<br>count=%{y}<extra></extra>\",\"legendgroup\":\"augelite, type2A\",\"marker\":{\"color\":\"rgb(51,255,51)\",\"pattern\":{\"shape\":\"\"},\"line\":{\"color\":\"DarkSlateGrey\",\"width\":0.8}},\"name\":\"augelite, type2A\",\"offsetgroup\":\"augelite, type2A\",\"orientation\":\"v\",\"showlegend\":true,\"x\":[21.46795799152857,25.42763736046381,null,null,null,null,null,24.140741565559857,23.645781644442952,null,null,null,null,null,20.47803814929476,null,null,null],\"xaxis\":\"x4\",\"yaxis\":\"y4\",\"type\":\"histogram\",\"xbins\":{\"size\":1}},{\"alignmentgroup\":\"True\",\"bingroup\":\"x\",\"hovertemplate\":\"Host=augelite<br>type=type1<br>Th CO2=%{x}<br>count=%{y}<extra></extra>\",\"legendgroup\":\"augelite, type1\",\"marker\":{\"color\":\"rgb(51,255,51)\",\"pattern\":{\"shape\":\"/\"},\"line\":{\"color\":\"DarkSlateGrey\",\"width\":0.8}},\"name\":\"augelite, type1\",\"offsetgroup\":\"augelite, type1\",\"orientation\":\"v\",\"showlegend\":true,\"x\":[24.140741565559857],\"xaxis\":\"x4\",\"yaxis\":\"y4\",\"type\":\"histogram\",\"xbins\":{\"size\":1}},{\"alignmentgroup\":\"True\",\"bingroup\":\"x\",\"hovertemplate\":\"Host=augelite<br>type=type3<br>Th CO2=%{x}<br>count=%{y}<extra></extra>\",\"legendgroup\":\"augelite, type3\",\"marker\":{\"color\":\"rgb(51,255,51)\",\"pattern\":{\"shape\":\"\\\\\"},\"line\":{\"color\":\"DarkSlateGrey\",\"width\":0.8}},\"name\":\"augelite, type3\",\"offsetgroup\":\"augelite, type3\",\"orientation\":\"v\",\"showlegend\":true,\"x\":[null,25.52662934468719,24.73469347090014],\"xaxis\":\"x4\",\"yaxis\":\"y4\",\"type\":\"histogram\",\"xbins\":{\"size\":1}},{\"alignmentgroup\":\"True\",\"bingroup\":\"x\",\"hovertemplate\":\"Host=augelite<br>type=type2B<br>Th CO2=%{x}<br>count=%{y}<extra></extra>\",\"legendgroup\":\"augelite, type2B\",\"marker\":{\"color\":\"rgb(51,255,51)\",\"pattern\":{\"shape\":\"x\"},\"line\":{\"color\":\"DarkSlateGrey\",\"width\":0.8}},\"name\":\"augelite, type2B\",\"offsetgroup\":\"augelite, type2B\",\"orientation\":\"v\",\"showlegend\":true,\"x\":[13.944567190551613],\"xaxis\":\"x4\",\"yaxis\":\"y4\",\"type\":\"histogram\",\"xbins\":{\"size\":1}},{\"alignmentgroup\":\"True\",\"bingroup\":\"x\",\"hovertemplate\":\"Host=wyllieite<br>type=type1<br>Th CO2=%{x}<br>count=%{y}<extra></extra>\",\"legendgroup\":\"wyllieite, type1\",\"marker\":{\"color\":\"rgb(0,170,250)\",\"pattern\":{\"shape\":\"/\"},\"line\":{\"color\":\"DarkSlateGrey\",\"width\":0.8}},\"name\":\"wyllieite, type1\",\"offsetgroup\":\"wyllieite, type1\",\"orientation\":\"v\",\"showlegend\":true,\"x\":[null,null,null,null,null,null,null,null],\"xaxis\":\"x4\",\"yaxis\":\"y4\",\"type\":\"histogram\",\"xbins\":{\"size\":1}}],                        {\"template\":{\"data\":{\"barpolar\":[{\"marker\":{\"line\":{\"color\":\"white\",\"width\":0.5},\"pattern\":{\"fillmode\":\"overlay\",\"size\":10,\"solidity\":0.2}},\"type\":\"barpolar\"}],\"bar\":[{\"error_x\":{\"color\":\"rgb(36,36,36)\"},\"error_y\":{\"color\":\"rgb(36,36,36)\"},\"marker\":{\"line\":{\"color\":\"white\",\"width\":0.5},\"pattern\":{\"fillmode\":\"overlay\",\"size\":10,\"solidity\":0.2}},\"type\":\"bar\"}],\"carpet\":[{\"aaxis\":{\"endlinecolor\":\"rgb(36,36,36)\",\"gridcolor\":\"white\",\"linecolor\":\"white\",\"minorgridcolor\":\"white\",\"startlinecolor\":\"rgb(36,36,36)\"},\"baxis\":{\"endlinecolor\":\"rgb(36,36,36)\",\"gridcolor\":\"white\",\"linecolor\":\"white\",\"minorgridcolor\":\"white\",\"startlinecolor\":\"rgb(36,36,36)\"},\"type\":\"carpet\"}],\"choropleth\":[{\"colorbar\":{\"outlinewidth\":1,\"tickcolor\":\"rgb(36,36,36)\",\"ticks\":\"outside\"},\"type\":\"choropleth\"}],\"contourcarpet\":[{\"colorbar\":{\"outlinewidth\":1,\"tickcolor\":\"rgb(36,36,36)\",\"ticks\":\"outside\"},\"type\":\"contourcarpet\"}],\"contour\":[{\"colorbar\":{\"outlinewidth\":1,\"tickcolor\":\"rgb(36,36,36)\",\"ticks\":\"outside\"},\"colorscale\":[[0.0,\"#440154\"],[0.1111111111111111,\"#482878\"],[0.2222222222222222,\"#3e4989\"],[0.3333333333333333,\"#31688e\"],[0.4444444444444444,\"#26828e\"],[0.5555555555555556,\"#1f9e89\"],[0.6666666666666666,\"#35b779\"],[0.7777777777777778,\"#6ece58\"],[0.8888888888888888,\"#b5de2b\"],[1.0,\"#fde725\"]],\"type\":\"contour\"}],\"heatmapgl\":[{\"colorbar\":{\"outlinewidth\":1,\"tickcolor\":\"rgb(36,36,36)\",\"ticks\":\"outside\"},\"colorscale\":[[0.0,\"#440154\"],[0.1111111111111111,\"#482878\"],[0.2222222222222222,\"#3e4989\"],[0.3333333333333333,\"#31688e\"],[0.4444444444444444,\"#26828e\"],[0.5555555555555556,\"#1f9e89\"],[0.6666666666666666,\"#35b779\"],[0.7777777777777778,\"#6ece58\"],[0.8888888888888888,\"#b5de2b\"],[1.0,\"#fde725\"]],\"type\":\"heatmapgl\"}],\"heatmap\":[{\"colorbar\":{\"outlinewidth\":1,\"tickcolor\":\"rgb(36,36,36)\",\"ticks\":\"outside\"},\"colorscale\":[[0.0,\"#440154\"],[0.1111111111111111,\"#482878\"],[0.2222222222222222,\"#3e4989\"],[0.3333333333333333,\"#31688e\"],[0.4444444444444444,\"#26828e\"],[0.5555555555555556,\"#1f9e89\"],[0.6666666666666666,\"#35b779\"],[0.7777777777777778,\"#6ece58\"],[0.8888888888888888,\"#b5de2b\"],[1.0,\"#fde725\"]],\"type\":\"heatmap\"}],\"histogram2dcontour\":[{\"colorbar\":{\"outlinewidth\":1,\"tickcolor\":\"rgb(36,36,36)\",\"ticks\":\"outside\"},\"colorscale\":[[0.0,\"#440154\"],[0.1111111111111111,\"#482878\"],[0.2222222222222222,\"#3e4989\"],[0.3333333333333333,\"#31688e\"],[0.4444444444444444,\"#26828e\"],[0.5555555555555556,\"#1f9e89\"],[0.6666666666666666,\"#35b779\"],[0.7777777777777778,\"#6ece58\"],[0.8888888888888888,\"#b5de2b\"],[1.0,\"#fde725\"]],\"type\":\"histogram2dcontour\"}],\"histogram2d\":[{\"colorbar\":{\"outlinewidth\":1,\"tickcolor\":\"rgb(36,36,36)\",\"ticks\":\"outside\"},\"colorscale\":[[0.0,\"#440154\"],[0.1111111111111111,\"#482878\"],[0.2222222222222222,\"#3e4989\"],[0.3333333333333333,\"#31688e\"],[0.4444444444444444,\"#26828e\"],[0.5555555555555556,\"#1f9e89\"],[0.6666666666666666,\"#35b779\"],[0.7777777777777778,\"#6ece58\"],[0.8888888888888888,\"#b5de2b\"],[1.0,\"#fde725\"]],\"type\":\"histogram2d\"}],\"histogram\":[{\"marker\":{\"line\":{\"color\":\"white\",\"width\":0.6}},\"type\":\"histogram\"}],\"mesh3d\":[{\"colorbar\":{\"outlinewidth\":1,\"tickcolor\":\"rgb(36,36,36)\",\"ticks\":\"outside\"},\"type\":\"mesh3d\"}],\"parcoords\":[{\"line\":{\"colorbar\":{\"outlinewidth\":1,\"tickcolor\":\"rgb(36,36,36)\",\"ticks\":\"outside\"}},\"type\":\"parcoords\"}],\"pie\":[{\"automargin\":true,\"type\":\"pie\"}],\"scatter3d\":[{\"line\":{\"colorbar\":{\"outlinewidth\":1,\"tickcolor\":\"rgb(36,36,36)\",\"ticks\":\"outside\"}},\"marker\":{\"colorbar\":{\"outlinewidth\":1,\"tickcolor\":\"rgb(36,36,36)\",\"ticks\":\"outside\"}},\"type\":\"scatter3d\"}],\"scattercarpet\":[{\"marker\":{\"colorbar\":{\"outlinewidth\":1,\"tickcolor\":\"rgb(36,36,36)\",\"ticks\":\"outside\"}},\"type\":\"scattercarpet\"}],\"scattergeo\":[{\"marker\":{\"colorbar\":{\"outlinewidth\":1,\"tickcolor\":\"rgb(36,36,36)\",\"ticks\":\"outside\"}},\"type\":\"scattergeo\"}],\"scattergl\":[{\"marker\":{\"colorbar\":{\"outlinewidth\":1,\"tickcolor\":\"rgb(36,36,36)\",\"ticks\":\"outside\"}},\"type\":\"scattergl\"}],\"scattermapbox\":[{\"marker\":{\"colorbar\":{\"outlinewidth\":1,\"tickcolor\":\"rgb(36,36,36)\",\"ticks\":\"outside\"}},\"type\":\"scattermapbox\"}],\"scatterpolargl\":[{\"marker\":{\"colorbar\":{\"outlinewidth\":1,\"tickcolor\":\"rgb(36,36,36)\",\"ticks\":\"outside\"}},\"type\":\"scatterpolargl\"}],\"scatterpolar\":[{\"marker\":{\"colorbar\":{\"outlinewidth\":1,\"tickcolor\":\"rgb(36,36,36)\",\"ticks\":\"outside\"}},\"type\":\"scatterpolar\"}],\"scatter\":[{\"marker\":{\"colorbar\":{\"outlinewidth\":1,\"tickcolor\":\"rgb(36,36,36)\",\"ticks\":\"outside\"}},\"type\":\"scatter\"}],\"scatterternary\":[{\"marker\":{\"colorbar\":{\"outlinewidth\":1,\"tickcolor\":\"rgb(36,36,36)\",\"ticks\":\"outside\"}},\"type\":\"scatterternary\"}],\"surface\":[{\"colorbar\":{\"outlinewidth\":1,\"tickcolor\":\"rgb(36,36,36)\",\"ticks\":\"outside\"},\"colorscale\":[[0.0,\"#440154\"],[0.1111111111111111,\"#482878\"],[0.2222222222222222,\"#3e4989\"],[0.3333333333333333,\"#31688e\"],[0.4444444444444444,\"#26828e\"],[0.5555555555555556,\"#1f9e89\"],[0.6666666666666666,\"#35b779\"],[0.7777777777777778,\"#6ece58\"],[0.8888888888888888,\"#b5de2b\"],[1.0,\"#fde725\"]],\"type\":\"surface\"}],\"table\":[{\"cells\":{\"fill\":{\"color\":\"rgb(237,237,237)\"},\"line\":{\"color\":\"white\"}},\"header\":{\"fill\":{\"color\":\"rgb(217,217,217)\"},\"line\":{\"color\":\"white\"}},\"type\":\"table\"}]},\"layout\":{\"annotationdefaults\":{\"arrowhead\":0,\"arrowwidth\":1},\"autotypenumbers\":\"strict\",\"coloraxis\":{\"colorbar\":{\"outlinewidth\":1,\"tickcolor\":\"rgb(36,36,36)\",\"ticks\":\"outside\"}},\"colorscale\":{\"diverging\":[[0.0,\"rgb(103,0,31)\"],[0.1,\"rgb(178,24,43)\"],[0.2,\"rgb(214,96,77)\"],[0.3,\"rgb(244,165,130)\"],[0.4,\"rgb(253,219,199)\"],[0.5,\"rgb(247,247,247)\"],[0.6,\"rgb(209,229,240)\"],[0.7,\"rgb(146,197,222)\"],[0.8,\"rgb(67,147,195)\"],[0.9,\"rgb(33,102,172)\"],[1.0,\"rgb(5,48,97)\"]],\"sequential\":[[0.0,\"#440154\"],[0.1111111111111111,\"#482878\"],[0.2222222222222222,\"#3e4989\"],[0.3333333333333333,\"#31688e\"],[0.4444444444444444,\"#26828e\"],[0.5555555555555556,\"#1f9e89\"],[0.6666666666666666,\"#35b779\"],[0.7777777777777778,\"#6ece58\"],[0.8888888888888888,\"#b5de2b\"],[1.0,\"#fde725\"]],\"sequentialminus\":[[0.0,\"#440154\"],[0.1111111111111111,\"#482878\"],[0.2222222222222222,\"#3e4989\"],[0.3333333333333333,\"#31688e\"],[0.4444444444444444,\"#26828e\"],[0.5555555555555556,\"#1f9e89\"],[0.6666666666666666,\"#35b779\"],[0.7777777777777778,\"#6ece58\"],[0.8888888888888888,\"#b5de2b\"],[1.0,\"#fde725\"]]},\"colorway\":[\"#1F77B4\",\"#FF7F0E\",\"#2CA02C\",\"#D62728\",\"#9467BD\",\"#8C564B\",\"#E377C2\",\"#7F7F7F\",\"#BCBD22\",\"#17BECF\"],\"font\":{\"color\":\"rgb(36,36,36)\"},\"geo\":{\"bgcolor\":\"white\",\"lakecolor\":\"white\",\"landcolor\":\"white\",\"showlakes\":true,\"showland\":true,\"subunitcolor\":\"white\"},\"hoverlabel\":{\"align\":\"left\"},\"hovermode\":\"closest\",\"mapbox\":{\"style\":\"light\"},\"paper_bgcolor\":\"white\",\"plot_bgcolor\":\"white\",\"polar\":{\"angularaxis\":{\"gridcolor\":\"rgb(232,232,232)\",\"linecolor\":\"rgb(36,36,36)\",\"showgrid\":false,\"showline\":true,\"ticks\":\"outside\"},\"bgcolor\":\"white\",\"radialaxis\":{\"gridcolor\":\"rgb(232,232,232)\",\"linecolor\":\"rgb(36,36,36)\",\"showgrid\":false,\"showline\":true,\"ticks\":\"outside\"}},\"scene\":{\"xaxis\":{\"backgroundcolor\":\"white\",\"gridcolor\":\"rgb(232,232,232)\",\"gridwidth\":2,\"linecolor\":\"rgb(36,36,36)\",\"showbackground\":true,\"showgrid\":false,\"showline\":true,\"ticks\":\"outside\",\"zeroline\":false,\"zerolinecolor\":\"rgb(36,36,36)\"},\"yaxis\":{\"backgroundcolor\":\"white\",\"gridcolor\":\"rgb(232,232,232)\",\"gridwidth\":2,\"linecolor\":\"rgb(36,36,36)\",\"showbackground\":true,\"showgrid\":false,\"showline\":true,\"ticks\":\"outside\",\"zeroline\":false,\"zerolinecolor\":\"rgb(36,36,36)\"},\"zaxis\":{\"backgroundcolor\":\"white\",\"gridcolor\":\"rgb(232,232,232)\",\"gridwidth\":2,\"linecolor\":\"rgb(36,36,36)\",\"showbackground\":true,\"showgrid\":false,\"showline\":true,\"ticks\":\"outside\",\"zeroline\":false,\"zerolinecolor\":\"rgb(36,36,36)\"}},\"shapedefaults\":{\"fillcolor\":\"black\",\"line\":{\"width\":0},\"opacity\":0.3},\"ternary\":{\"aaxis\":{\"gridcolor\":\"rgb(232,232,232)\",\"linecolor\":\"rgb(36,36,36)\",\"showgrid\":false,\"showline\":true,\"ticks\":\"outside\"},\"baxis\":{\"gridcolor\":\"rgb(232,232,232)\",\"linecolor\":\"rgb(36,36,36)\",\"showgrid\":false,\"showline\":true,\"ticks\":\"outside\"},\"bgcolor\":\"white\",\"caxis\":{\"gridcolor\":\"rgb(232,232,232)\",\"linecolor\":\"rgb(36,36,36)\",\"showgrid\":false,\"showline\":true,\"ticks\":\"outside\"}},\"title\":{\"x\":0.05},\"xaxis\":{\"automargin\":true,\"gridcolor\":\"rgb(232,232,232)\",\"linecolor\":\"rgb(36,36,36)\",\"showgrid\":false,\"showline\":true,\"ticks\":\"outside\",\"title\":{\"standoff\":15},\"zeroline\":false,\"zerolinecolor\":\"rgb(36,36,36)\"},\"yaxis\":{\"automargin\":true,\"gridcolor\":\"rgb(232,232,232)\",\"linecolor\":\"rgb(36,36,36)\",\"showgrid\":false,\"showline\":true,\"ticks\":\"outside\",\"title\":{\"standoff\":15},\"zeroline\":false,\"zerolinecolor\":\"rgb(36,36,36)\"}}},\"xaxis\":{\"anchor\":\"y\",\"domain\":[0.0,0.45],\"title\":{\"text\":\"Tm Hh (<sup>o</sup>C)\"},\"range\":[-30.041515144306175,-17.326819666270595],\"ticks\":\"inside\",\"zeroline\":false,\"linecolor\":\"black\",\"showgrid\":false,\"mirror\":\"allticks\",\"tickvals\":[-30,-29,-28,-27,-26,-25,-24,-23,-22,-21,-20,-19,-18,-17,-16,-15,-14,-13,-12,-11,-10,-9,-8,-7,-6,-5,-4,-3,-2,-1,0,1,2,3,4,5,6,7,8,9,10,11,12,13,14,15,16,17,18,19,20,21,22,23,24,25,26,27,28,29,30,31,32,33,34]},\"yaxis\":{\"anchor\":\"x\",\"domain\":[0.575,1.0],\"ticks\":\"inside\",\"zeroline\":false,\"linecolor\":\"black\",\"showgrid\":false,\"mirror\":\"allticks\"},\"xaxis2\":{\"anchor\":\"y2\",\"domain\":[0.55,1.0],\"title\":{\"text\":\"Tm H2O (<sup>o</sup>C)\"},\"range\":[-24.879807577592327,-1.610985961208336],\"ticks\":\"inside\",\"zeroline\":false,\"linecolor\":\"black\",\"showgrid\":false,\"mirror\":\"allticks\",\"tickvals\":[-30,-29,-28,-27,-26,-25,-24,-23,-22,-21,-20,-19,-18,-17,-16,-15,-14,-13,-12,-11,-10,-9,-8,-7,-6,-5,-4,-3,-2,-1,0,1,2,3,4,5,6,7,8,9,10,11,12,13,14,15,16,17,18,19,20,21,22,23,24,25,26,27,28,29,30,31,32,33,34]},\"yaxis2\":{\"anchor\":\"x2\",\"domain\":[0.575,1.0],\"ticks\":\"inside\",\"zeroline\":false,\"linecolor\":\"black\",\"showgrid\":false,\"mirror\":\"allticks\"},\"xaxis3\":{\"anchor\":\"y3\",\"domain\":[0.0,0.45],\"title\":{\"text\":\"Tm CL (<sup>o</sup>C)\"},\"range\":[-9.882126540678533,8.966903053574903],\"ticks\":\"inside\",\"zeroline\":false,\"linecolor\":\"black\",\"showgrid\":false,\"mirror\":\"allticks\",\"tickvals\":[-30,-29,-28,-27,-26,-25,-24,-23,-22,-21,-20,-19,-18,-17,-16,-15,-14,-13,-12,-11,-10,-9,-8,-7,-6,-5,-4,-3,-2,-1,0,1,2,3,4,5,6,7,8,9,10,11,12,13,14,15,16,17,18,19,20,21,22,23,24,25,26,27,28,29,30,31,32,33,34]},\"yaxis3\":{\"anchor\":\"x3\",\"domain\":[0.0,0.425],\"ticks\":\"inside\",\"zeroline\":false,\"linecolor\":\"black\",\"showgrid\":false,\"mirror\":\"allticks\"},\"xaxis4\":{\"anchor\":\"y4\",\"domain\":[0.55,1.0],\"title\":{\"text\":\"Th CO2 (<sup>o</sup>C)\"},\"range\":[9.72949407747413,30.49680223265329],\"ticks\":\"inside\",\"zeroline\":false,\"linecolor\":\"black\",\"showgrid\":false,\"mirror\":\"allticks\",\"tickvals\":[-30,-29,-28,-27,-26,-25,-24,-23,-22,-21,-20,-19,-18,-17,-16,-15,-14,-13,-12,-11,-10,-9,-8,-7,-6,-5,-4,-3,-2,-1,0,1,2,3,4,5,6,7,8,9,10,11,12,13,14,15,16,17,18,19,20,21,22,23,24,25,26,27,28,29,30,31,32,33,34]},\"yaxis4\":{\"anchor\":\"x4\",\"domain\":[0.0,0.425],\"ticks\":\"inside\",\"zeroline\":false,\"linecolor\":\"black\",\"showgrid\":false,\"mirror\":\"allticks\"},\"barmode\":\"stack\",\"showlegend\":false,\"height\":900,\"width\":1000},                        {\"responsive\": true}                    ).then(function(){\n",
       "                            \n",
       "var gd = document.getElementById('6abedc0f-ba2d-4bd0-9641-5199b6948bb7');\n",
       "var x = new MutationObserver(function (mutations, observer) {{\n",
       "        var display = window.getComputedStyle(gd).display;\n",
       "        if (!display || display === 'none') {{\n",
       "            console.log([gd, 'removed!']);\n",
       "            Plotly.purge(gd);\n",
       "            observer.disconnect();\n",
       "        }}\n",
       "}});\n",
       "\n",
       "// Listen for the removal of the full notebook cells\n",
       "var notebookContainer = gd.closest('#notebook-container');\n",
       "if (notebookContainer) {{\n",
       "    x.observe(notebookContainer, {childList: true});\n",
       "}}\n",
       "\n",
       "// Listen for the clearing of the current output cell\n",
       "var outputEl = gd.closest('.output');\n",
       "if (outputEl) {{\n",
       "    x.observe(outputEl, {childList: true});\n",
       "}}\n",
       "\n",
       "                        })                };                });            </script>        </div>"
      ]
     },
     "metadata": {},
     "output_type": "display_data"
    }
   ],
   "source": [
    "# ---------- Create subplots using plotly.express histogram\n",
    "\n",
    "from plotly.subplots import make_subplots\n",
    "import plotly.graph_objects as go\n",
    "\n",
    "to_plot = df_FI\n",
    "\n",
    "#Create a 2x2 subplot\n",
    "fig = make_subplots(rows=2, cols=2)\n",
    "\n",
    "x_list = ('Tm Hh','Tm H2O','Tm CL','Th CO2')\n",
    "\n",
    "       \n",
    "        # Create figures in Express\n",
    "figure1 = px.histogram(to_plot, x=x_list[0], \n",
    "                       color=\"Host\",\n",
    "                       pattern_shape=\"type\",\n",
    "#                        labels={x: x+\" (<sup>o</sup>C)\"},\n",
    "                       color_discrete_map=colors_map,\n",
    "                       hover_data=[\"sample\",'piece','field',\"analysis\",\"Phases\",\"Host\"])\n",
    "\n",
    "figure2 = px.histogram(to_plot, x=x_list[1], \n",
    "                       color=\"Host\",\n",
    "                       pattern_shape=\"type\",\n",
    "#                        labels={x: x+\" (<sup>o</sup>C)\"},\n",
    "                       color_discrete_map=colors_map,\n",
    "                       hover_data=[\"sample\",'piece','field',\"analysis\",\"Phases\",\"Host\"])\n",
    "\n",
    "figure3 = px.histogram(to_plot, x=x_list[2], \n",
    "                       color=\"Host\",\n",
    "                       pattern_shape=\"type\",\n",
    "#                        labels={x: x+\" (<sup>o</sup>C)\"},\n",
    "                       color_discrete_map=colors_map,\n",
    "                       hover_data=[\"sample\",'piece','field',\"analysis\",\"Phases\",\"Host\"])\n",
    "\n",
    "figure4 = px.histogram(to_plot, x=x_list[3], \n",
    "                       color=\"Host\",\n",
    "                       pattern_shape=\"type\",\n",
    "                       color_discrete_map=colors_map,\n",
    "#                        labels={x: x+\" (<sup>o</sup>C)\"},\n",
    "                       hover_data=[\"sample\",'piece','field',\"analysis\",\"Phases\",\"Host\"])\n",
    "\n",
    "\n",
    "# For as many traces that exist per Express figure, get the traces from each plot and store them in an array.\n",
    "# This is essentially breaking down the Express fig into it's traces\n",
    "figure1_traces = []\n",
    "figure2_traces = []\n",
    "figure3_traces = []\n",
    "figure4_traces = []\n",
    "\n",
    "for trace in range(len(figure1[\"data\"])):\n",
    "    figure1_traces.append(figure1[\"data\"][trace])\n",
    "for trace in range(len(figure2[\"data\"])):\n",
    "    figure2_traces.append(figure2[\"data\"][trace])\n",
    "for trace in range(len(figure3[\"data\"])):\n",
    "    figure3_traces.append(figure3[\"data\"][trace])\n",
    "for trace in range(len(figure4[\"data\"])):\n",
    "    figure4_traces.append(figure4[\"data\"][trace])\n",
    "\n",
    "\n",
    "# Get the Express fig broken down as traces and add the traces to the proper plot within in the subplot\n",
    "for traces in figure1_traces:\n",
    "    fig.append_trace(traces, row=1, col=1)\n",
    "for traces in figure2_traces:\n",
    "    fig.append_trace(traces, row=1, col=2)\n",
    "for traces in figure3_traces:\n",
    "    fig.append_trace(traces, row=2, col=1)\n",
    "for traces in figure4_traces:\n",
    "    fig.append_trace(traces, row=2, col=2)\n",
    "\n",
    "\n",
    "# -------------------------------------------------------------------------------------------------\n",
    "\n",
    "fig.update_xaxes(title_text=x_list[0] + \" (<sup>o</sup>C)\", range=[to_plot[x_list[0]].min()-1, to_plot[x_list[0]].max()+1], row=1, col=1)\n",
    "fig.update_xaxes(title_text=x_list[1] + \" (<sup>o</sup>C)\", range=[to_plot[x_list[1]].min()-1, to_plot[x_list[1]].max()+1], row=1, col=2)\n",
    "fig.update_xaxes(title_text=x_list[2] + \" (<sup>o</sup>C)\", range=[to_plot[x_list[2]].min()-1, to_plot[x_list[2]].max()+1], row=2, col=1)\n",
    "fig.update_xaxes(title_text=x_list[3] + \" (<sup>o</sup>C)\", range=[to_plot[x_list[3]].min()-1, to_plot[x_list[3]].max()+1], row=2, col=2)\n",
    "\n",
    "\n",
    "fig.update_layout(template=\"simple_white\", \n",
    "                  barmode='stack',\n",
    "                  showlegend=False,\n",
    "                 height=900, width=1000)\n",
    "\n",
    "fig.update_xaxes(ticks='inside',zeroline=False,linecolor=\"black\",showgrid=False,mirror= \"allticks\")\n",
    "fig.update_yaxes(ticks='inside',zeroline=False,linecolor=\"black\",showgrid=False,mirror= \"allticks\")\n",
    "\n",
    "# x_tick = np.arange(to_plot[x].min()-1,to_plot[x].max()+1,1, dtype=int)\n",
    "fig.update_xaxes(tickvals=np.arange(-30,35,1))\n",
    "\n",
    "fig.update_traces(marker=dict(line=dict(width=0.8,\n",
    "                                        color='DarkSlateGrey')),\n",
    "                 xbins=dict(size=1)\n",
    "                 )\n",
    "\n",
    "# fig.write_image(data_dir+\"figures/plot_hists.pdf\")\n",
    "\n",
    "fig.show()"
   ]
  },
  {
   "cell_type": "markdown",
   "id": "4e6ad45e",
   "metadata": {},
   "source": [
    "# Raman spectra plots"
   ]
  },
  {
   "cell_type": "code",
   "execution_count": 26,
   "id": "a34f3202",
   "metadata": {
    "scrolled": true
   },
   "outputs": [
    {
     "name": "stdout",
     "output_type": "stream",
     "text": [
      "['bu20-g-ff1-fi01_cls_burangaite.txt', 'bu20-G-ff1-FI01_CLS_burangaite_raw.txt', 'bu20-g-ff1-fi01_cls_carbonic phase.txt', 'bu20-G-ff1-FI01_CLS_Carbonic phase_raw.txt', 'bu20-g-ff1-fi01_cls_montebrasite.txt', 'bu20-G-ff1-FI01_CLS_Montebrasite_raw.txt', 'bu20-G-ff1-FI01_CLS_Trolleite (host)_raw.txt', 'bu20-g-ff1-fi01_cls_wardite.txt', 'bu20-G-ff1-FI01_CLS_wardite_raw.txt', 'BU20b-area2-blue_150 (500nm)_633nm_Edge_100%_x50_VIS_LWD_H100um_15sX2.txt', 'burangaite-Ph1_BU22C_150 (500nm)_633nm_Edge_100%_x50_VIS_LWD_H100um_20sX2.txt', 'burangaite2-Ph1_BU22C_150 (500nm)_633nm_Edge_100%_x50_VIS_LWD_H100um_20sX2.txt', 'burangaite_0.txt', 'burangaite_BU20C_150 (500nm)_633nm_Edge_100%_x100_VIS_H100um_20sX2.txt', 'burangaite_buranga_r070408__raman__532__0__unoriented__raman_data_processed__21357.txt', 'burangaite_edit.txt', 'burangaite__r070408__broad_scan__532__0__unoriented__raman_data_raw__15025.txt', 'liquid_0.txt', 'liquid_edit.txt', 'montebrasite_0.txt', 'montebrasite_edit.txt', 'rutile_0.txt', 'rutile_edit.txt', 'trl_0.txt', 'vapor_0.txt', 'vapor_edit.txt']\n"
     ]
    },
    {
     "data": {
      "text/plain": [
       "26"
      ]
     },
     "execution_count": 26,
     "metadata": {},
     "output_type": "execute_result"
    }
   ],
   "source": [
    "# --- look into working directory and create a list with selected files - .txt\n",
    "os.chdir(Raman_dir+'maps/')\n",
    "\n",
    "\n",
    "Raman_files = glob.glob('*.txt')\n",
    "\n",
    "V_files = glob.glob('*-v*.txt')\n",
    "\n",
    "S_files = glob.glob('*-s*.txt')\n",
    "\n",
    "L_files = glob.glob('*-l*.txt')\n",
    "\n",
    "print(Raman_files)\n",
    "len(Raman_files)"
   ]
  },
  {
   "cell_type": "code",
   "execution_count": 27,
   "id": "b36fec2f",
   "metadata": {},
   "outputs": [
    {
     "data": {
      "image/png": "[encoded data removed]",
      "text/plain": [
       "<Figure size 1080x1080 with 1 Axes>"
      ]
     },
     "metadata": {
      "needs_background": "light"
     },
     "output_type": "display_data"
    }
   ],
   "source": [
    "# get the index of spectrum to plot\n",
    "\n",
    "list_to_use = Raman_files\n",
    "\n",
    "\n",
    "file1 = 'bu20-g-ff1-fi01_cls_burangaite.txt'\n",
    "\n",
    "file2 = 'burangaite_edit.txt'\n",
    "\n",
    "file3 = 'BU20b-area2-blue_150 (500nm)_633nm_Edge_100%_x50_VIS_LWD_H100um_15sX2.txt'\n",
    "\n",
    "file4 = 'burangaite-Ph1_BU22C_150 (500nm)_633nm_Edge_100%_x50_VIS_LWD_H100um_20sX2.txt'\n",
    "\n",
    "file5 = 'burangaite2-Ph1_BU22C_150 (500nm)_633nm_Edge_100%_x50_VIS_LWD_H100um_20sX2.txt'\n",
    "\n",
    "file6 = 'burangaite_BU20C_150 (500nm)_633nm_Edge_100%_x100_VIS_H100um_20sX2.txt'\n",
    "\n",
    "file7 = 'burangaite__r070408__broad_scan__532__0__unoriented__raman_data_raw__15025.txt'\n",
    "\n",
    "\n",
    "spectrum1 = np.genfromtxt(list_to_use[list_to_use.index(file1)],comments='#', delimiter='\\t')\n",
    "spectrum2 = np.genfromtxt(list_to_use[list_to_use.index(file2)],comments='#', delimiter='\\t')\n",
    "spectrum3 = np.genfromtxt(list_to_use[list_to_use.index(file3)],comments='#', delimiter='\\t')\n",
    "spectrum4 = np.genfromtxt(list_to_use[list_to_use.index(file4)],comments='#', delimiter='\\t')\n",
    "spectrum5 = np.genfromtxt(list_to_use[list_to_use.index(file5)],comments='#', delimiter='\\t')\n",
    "spectrum6 = np.genfromtxt(list_to_use[list_to_use.index(file6)],comments='#', delimiter='\\t')\n",
    "spectrum7 = np.genfromtxt(list_to_use[list_to_use.index(file7)],comments='#', delimiter='\\t')\n",
    "\n",
    "# create a new plot for showing the spectrum\n",
    "plt.figure(figsize=(15,15)) #code for creating figure\n",
    "\n",
    "plt.plot(spectrum1[:,0],(spectrum1[:,1]/1.5)+300,color=(\"#ff5b5aff\"), linewidth=2,label='Montebrasite')\n",
    "plt.plot(spectrum2[:,0],(spectrum2[:,1]*3)+200,color=(\"#ecc26cff\"), linewidth=2,label='Burangaite')\n",
    "plt.plot(spectrum3[:,0],(spectrum3[:,1]/28)+100,color=(\"#907dbdff\"), linewidth=2,label='Wardite')\n",
    "plt.plot(spectrum4[:,0],(spectrum4[:,1]/25),color=(\"#ff00feff\"), linewidth=2,label='Rutile')\n",
    "plt.plot(spectrum5[:,0],(spectrum5[:,1]/20)-100,color=(\"#0000feff\"), linewidth=2,label='Liquid')\n",
    "plt.plot(spectrum6[:,0],(spectrum6[:,1]/28)-200,color=(\"#872728ff\"), linewidth=2,label='Vapor')\n",
    "plt.plot(spectrum7[:,0],(spectrum7[:,1]/100)-300,color=(\"#00ff01ff\"), linewidth=2,label='Trolleite(Host)')\n",
    "\n",
    "\n",
    "plt.xlabel(\"Raman shift, cm$^{-1}$\", fontsize = 30, fontfamily = 'serif')\n",
    "plt.ylabel(\"intensity, arbitrary units\", fontsize = 30, fontfamily = 'serif')\n",
    "# plt.title(\"Fig. 1: the raw data\",fontsize = 12,fontweight=\"bold\")\n",
    "\n",
    "plt.yticks(fontsize=26, fontfamily = 'serif')\n",
    "plt.xticks(fontsize=26, fontfamily = 'serif')\n",
    "\n",
    "# plt.legend(loc='upper center')\n",
    "\n",
    "plt.xlim(150,3750)\n",
    "plt.ylim(-305,405)\n",
    "\n",
    "# plt.savefig(\"map_spectra_raw.svg\")\n",
    "\n",
    "plt.show()"
   ]
  }
 ],
 "metadata": {
  "kernelspec": {
   "display_name": "Python 3 (ipykernel)",
   "language": "python",
   "name": "python3"
  },
  "language_info": {
   "codemirror_mode": {
    "name": "ipython",
    "version": 3
   },
   "file_extension": ".py",
   "mimetype": "text/x-python",
   "name": "python",
   "nbconvert_exporter": "python",
   "pygments_lexer": "ipython3",
   "version": "3.7.1"
  }
 },
 "nbformat": 4,
 "nbformat_minor": 5
}
